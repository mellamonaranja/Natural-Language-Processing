{
  "nbformat": 4,
  "nbformat_minor": 0,
  "metadata": {
    "colab": {
      "name": "Natural Language Processing",
      "provenance": [],
      "authorship_tag": "ABX9TyOtO1l755tvsHV15a+VwQjf",
      "include_colab_link": true
    },
    "kernelspec": {
      "name": "python3",
      "display_name": "Python 3"
    }
  },
  "cells": [
    {
      "cell_type": "markdown",
      "metadata": {
        "id": "view-in-github",
        "colab_type": "text"
      },
      "source": [
        "<a href=\"https://colab.research.google.com/github/mellamonaranja/Natural-Language-Processing/blob/main/Natural_Language_Processing.ipynb\" target=\"_parent\"><img src=\"https://colab.research.google.com/assets/colab-badge.svg\" alt=\"Open In Colab\"/></a>"
      ]
    },
    {
      "cell_type": "code",
      "metadata": {
        "id": "6yW_rtvvPEa4"
      },
      "source": [
        "import gensim"
      ],
      "execution_count": null,
      "outputs": []
    },
    {
      "cell_type": "code",
      "metadata": {
        "id": "uY1MumM5PKW2"
      },
      "source": [
        "import sklearn"
      ],
      "execution_count": null,
      "outputs": []
    },
    {
      "cell_type": "code",
      "metadata": {
        "id": "8J7gQYa2PPkz"
      },
      "source": [
        "import nltk"
      ],
      "execution_count": 25,
      "outputs": []
    },
    {
      "cell_type": "code",
      "metadata": {
        "id": "wGM0nSHvPYjn",
        "colab": {
          "base_uri": "https://localhost:8080/"
        },
        "outputId": "755c1322-093d-4e4d-fd15-f9f153bd4ddc"
      },
      "source": [
        "nltk.download('popular')"
      ],
      "execution_count": 26,
      "outputs": [
        {
          "output_type": "stream",
          "text": [
            "[nltk_data] Downloading collection 'popular'\n",
            "[nltk_data]    | \n",
            "[nltk_data]    | Downloading package cmudict to /root/nltk_data...\n",
            "[nltk_data]    |   Unzipping corpora/cmudict.zip.\n",
            "[nltk_data]    | Downloading package gazetteers to /root/nltk_data...\n",
            "[nltk_data]    |   Unzipping corpora/gazetteers.zip.\n",
            "[nltk_data]    | Downloading package genesis to /root/nltk_data...\n",
            "[nltk_data]    |   Unzipping corpora/genesis.zip.\n",
            "[nltk_data]    | Downloading package gutenberg to /root/nltk_data...\n",
            "[nltk_data]    |   Unzipping corpora/gutenberg.zip.\n",
            "[nltk_data]    | Downloading package inaugural to /root/nltk_data...\n",
            "[nltk_data]    |   Unzipping corpora/inaugural.zip.\n",
            "[nltk_data]    | Downloading package movie_reviews to\n",
            "[nltk_data]    |     /root/nltk_data...\n",
            "[nltk_data]    |   Unzipping corpora/movie_reviews.zip.\n",
            "[nltk_data]    | Downloading package names to /root/nltk_data...\n",
            "[nltk_data]    |   Unzipping corpora/names.zip.\n",
            "[nltk_data]    | Downloading package shakespeare to /root/nltk_data...\n",
            "[nltk_data]    |   Unzipping corpora/shakespeare.zip.\n",
            "[nltk_data]    | Downloading package stopwords to /root/nltk_data...\n",
            "[nltk_data]    |   Unzipping corpora/stopwords.zip.\n",
            "[nltk_data]    | Downloading package treebank to /root/nltk_data...\n",
            "[nltk_data]    |   Unzipping corpora/treebank.zip.\n",
            "[nltk_data]    | Downloading package twitter_samples to\n",
            "[nltk_data]    |     /root/nltk_data...\n",
            "[nltk_data]    |   Unzipping corpora/twitter_samples.zip.\n",
            "[nltk_data]    | Downloading package omw to /root/nltk_data...\n",
            "[nltk_data]    |   Unzipping corpora/omw.zip.\n",
            "[nltk_data]    | Downloading package wordnet to /root/nltk_data...\n",
            "[nltk_data]    |   Unzipping corpora/wordnet.zip.\n",
            "[nltk_data]    | Downloading package wordnet_ic to /root/nltk_data...\n",
            "[nltk_data]    |   Unzipping corpora/wordnet_ic.zip.\n",
            "[nltk_data]    | Downloading package words to /root/nltk_data...\n",
            "[nltk_data]    |   Unzipping corpora/words.zip.\n",
            "[nltk_data]    | Downloading package maxent_ne_chunker to\n",
            "[nltk_data]    |     /root/nltk_data...\n",
            "[nltk_data]    |   Unzipping chunkers/maxent_ne_chunker.zip.\n",
            "[nltk_data]    | Downloading package punkt to /root/nltk_data...\n",
            "[nltk_data]    |   Unzipping tokenizers/punkt.zip.\n",
            "[nltk_data]    | Downloading package snowball_data to\n",
            "[nltk_data]    |     /root/nltk_data...\n",
            "[nltk_data]    | Downloading package averaged_perceptron_tagger to\n",
            "[nltk_data]    |     /root/nltk_data...\n",
            "[nltk_data]    |   Unzipping taggers/averaged_perceptron_tagger.zip.\n",
            "[nltk_data]    | \n",
            "[nltk_data]  Done downloading collection popular\n"
          ],
          "name": "stdout"
        },
        {
          "output_type": "execute_result",
          "data": {
            "text/plain": [
              "True"
            ]
          },
          "metadata": {
            "tags": []
          },
          "execution_count": 26
        }
      ]
    },
    {
      "cell_type": "code",
      "metadata": {
        "colab": {
          "base_uri": "https://localhost:8080/"
        },
        "id": "FmSjt3CePQ9O",
        "outputId": "d52d845c-7d24-43f0-8991-884c4aa679c1"
      },
      "source": [
        "!pip install konlpy\n",
        "import konlpy"
      ],
      "execution_count": null,
      "outputs": [
        {
          "output_type": "stream",
          "text": [
            "Collecting konlpy\n",
            "\u001b[?25l  Downloading https://files.pythonhosted.org/packages/85/0e/f385566fec837c0b83f216b2da65db9997b35dd675e107752005b7d392b1/konlpy-0.5.2-py2.py3-none-any.whl (19.4MB)\n",
            "\u001b[K     |████████████████████████████████| 19.4MB 1.3MB/s \n",
            "\u001b[?25hRequirement already satisfied: tweepy>=3.7.0 in /usr/local/lib/python3.7/dist-packages (from konlpy) (3.10.0)\n",
            "Collecting JPype1>=0.7.0\n",
            "\u001b[?25l  Downloading https://files.pythonhosted.org/packages/cd/a5/9781e2ef4ca92d09912c4794642c1653aea7607f473e156cf4d423a881a1/JPype1-1.2.1-cp37-cp37m-manylinux2010_x86_64.whl (457kB)\n",
            "\u001b[K     |████████████████████████████████| 460kB 39.8MB/s \n",
            "\u001b[?25hCollecting beautifulsoup4==4.6.0\n",
            "\u001b[?25l  Downloading https://files.pythonhosted.org/packages/9e/d4/10f46e5cfac773e22707237bfcd51bbffeaf0a576b0a847ec7ab15bd7ace/beautifulsoup4-4.6.0-py3-none-any.whl (86kB)\n",
            "\u001b[K     |████████████████████████████████| 92kB 9.6MB/s \n",
            "\u001b[?25hCollecting colorama\n",
            "  Downloading https://files.pythonhosted.org/packages/44/98/5b86278fbbf250d239ae0ecb724f8572af1c91f4a11edf4d36a206189440/colorama-0.4.4-py2.py3-none-any.whl\n",
            "Requirement already satisfied: lxml>=4.1.0 in /usr/local/lib/python3.7/dist-packages (from konlpy) (4.2.6)\n",
            "Requirement already satisfied: numpy>=1.6 in /usr/local/lib/python3.7/dist-packages (from konlpy) (1.19.5)\n",
            "Requirement already satisfied: six>=1.10.0 in /usr/local/lib/python3.7/dist-packages (from tweepy>=3.7.0->konlpy) (1.15.0)\n",
            "Requirement already satisfied: requests-oauthlib>=0.7.0 in /usr/local/lib/python3.7/dist-packages (from tweepy>=3.7.0->konlpy) (1.3.0)\n",
            "Requirement already satisfied: requests[socks]>=2.11.1 in /usr/local/lib/python3.7/dist-packages (from tweepy>=3.7.0->konlpy) (2.23.0)\n",
            "Requirement already satisfied: typing-extensions; python_version < \"3.8\" in /usr/local/lib/python3.7/dist-packages (from JPype1>=0.7.0->konlpy) (3.7.4.3)\n",
            "Requirement already satisfied: oauthlib>=3.0.0 in /usr/local/lib/python3.7/dist-packages (from requests-oauthlib>=0.7.0->tweepy>=3.7.0->konlpy) (3.1.0)\n",
            "Requirement already satisfied: certifi>=2017.4.17 in /usr/local/lib/python3.7/dist-packages (from requests[socks]>=2.11.1->tweepy>=3.7.0->konlpy) (2020.12.5)\n",
            "Requirement already satisfied: idna<3,>=2.5 in /usr/local/lib/python3.7/dist-packages (from requests[socks]>=2.11.1->tweepy>=3.7.0->konlpy) (2.10)\n",
            "Requirement already satisfied: chardet<4,>=3.0.2 in /usr/local/lib/python3.7/dist-packages (from requests[socks]>=2.11.1->tweepy>=3.7.0->konlpy) (3.0.4)\n",
            "Requirement already satisfied: urllib3!=1.25.0,!=1.25.1,<1.26,>=1.21.1 in /usr/local/lib/python3.7/dist-packages (from requests[socks]>=2.11.1->tweepy>=3.7.0->konlpy) (1.24.3)\n",
            "Requirement already satisfied: PySocks!=1.5.7,>=1.5.6; extra == \"socks\" in /usr/local/lib/python3.7/dist-packages (from requests[socks]>=2.11.1->tweepy>=3.7.0->konlpy) (1.7.1)\n",
            "Installing collected packages: JPype1, beautifulsoup4, colorama, konlpy\n",
            "  Found existing installation: beautifulsoup4 4.6.3\n",
            "    Uninstalling beautifulsoup4-4.6.3:\n",
            "      Successfully uninstalled beautifulsoup4-4.6.3\n",
            "Successfully installed JPype1-1.2.1 beautifulsoup4-4.6.0 colorama-0.4.4 konlpy-0.5.2\n"
          ],
          "name": "stdout"
        }
      ]
    },
    {
      "cell_type": "code",
      "metadata": {
        "id": "TsndxfVDPVC9"
      },
      "source": [
        "import pandas as pd\n",
        "import pandas_profiling\n",
        "data=pd.read_csv('./spam.csv', encoding='latin1')"
      ],
      "execution_count": null,
      "outputs": []
    },
    {
      "cell_type": "code",
      "metadata": {
        "id": "FHjcLisOPpjC",
        "colab": {
          "base_uri": "https://localhost:8080/",
          "height": 204
        },
        "outputId": "ec208ed2-ec89-4d35-b69e-ab13225a7965"
      },
      "source": [
        "data[:5]"
      ],
      "execution_count": null,
      "outputs": [
        {
          "output_type": "execute_result",
          "data": {
            "text/html": [
              "<div>\n",
              "<style scoped>\n",
              "    .dataframe tbody tr th:only-of-type {\n",
              "        vertical-align: middle;\n",
              "    }\n",
              "\n",
              "    .dataframe tbody tr th {\n",
              "        vertical-align: top;\n",
              "    }\n",
              "\n",
              "    .dataframe thead th {\n",
              "        text-align: right;\n",
              "    }\n",
              "</style>\n",
              "<table border=\"1\" class=\"dataframe\">\n",
              "  <thead>\n",
              "    <tr style=\"text-align: right;\">\n",
              "      <th></th>\n",
              "      <th>v1</th>\n",
              "      <th>v2</th>\n",
              "      <th>Unnamed: 2</th>\n",
              "      <th>Unnamed: 3</th>\n",
              "      <th>Unnamed: 4</th>\n",
              "    </tr>\n",
              "  </thead>\n",
              "  <tbody>\n",
              "    <tr>\n",
              "      <th>0</th>\n",
              "      <td>ham</td>\n",
              "      <td>Go until jurong point, crazy.. Available only ...</td>\n",
              "      <td>NaN</td>\n",
              "      <td>NaN</td>\n",
              "      <td>NaN</td>\n",
              "    </tr>\n",
              "    <tr>\n",
              "      <th>1</th>\n",
              "      <td>ham</td>\n",
              "      <td>Ok lar... Joking wif u oni...</td>\n",
              "      <td>NaN</td>\n",
              "      <td>NaN</td>\n",
              "      <td>NaN</td>\n",
              "    </tr>\n",
              "    <tr>\n",
              "      <th>2</th>\n",
              "      <td>spam</td>\n",
              "      <td>Free entry in 2 a wkly comp to win FA Cup fina...</td>\n",
              "      <td>NaN</td>\n",
              "      <td>NaN</td>\n",
              "      <td>NaN</td>\n",
              "    </tr>\n",
              "    <tr>\n",
              "      <th>3</th>\n",
              "      <td>ham</td>\n",
              "      <td>U dun say so early hor... U c already then say...</td>\n",
              "      <td>NaN</td>\n",
              "      <td>NaN</td>\n",
              "      <td>NaN</td>\n",
              "    </tr>\n",
              "    <tr>\n",
              "      <th>4</th>\n",
              "      <td>ham</td>\n",
              "      <td>Nah I don't think he goes to usf, he lives aro...</td>\n",
              "      <td>NaN</td>\n",
              "      <td>NaN</td>\n",
              "      <td>NaN</td>\n",
              "    </tr>\n",
              "  </tbody>\n",
              "</table>\n",
              "</div>"
            ],
            "text/plain": [
              "     v1  ... Unnamed: 4\n",
              "0   ham  ...        NaN\n",
              "1   ham  ...        NaN\n",
              "2  spam  ...        NaN\n",
              "3   ham  ...        NaN\n",
              "4   ham  ...        NaN\n",
              "\n",
              "[5 rows x 5 columns]"
            ]
          },
          "metadata": {
            "tags": []
          },
          "execution_count": 7
        }
      ]
    },
    {
      "cell_type": "code",
      "metadata": {
        "id": "TsL0une2QIMi",
        "colab": {
          "base_uri": "https://localhost:8080/"
        },
        "outputId": "ae27fcbe-2ac0-430b-e921-8b4e09e0b79b"
      },
      "source": [
        "from nltk.tokenize import word_tokenize\n",
        "print(word_tokenize(\"Don't be fooled by the dark sounding name, Mr. Jone's Orphanage is as cheery as cheery goes for a pastry shop.\"))"
      ],
      "execution_count": null,
      "outputs": [
        {
          "output_type": "stream",
          "text": [
            "['Do', \"n't\", 'be', 'fooled', 'by', 'the', 'dark', 'sounding', 'name', ',', 'Mr.', 'Jone', \"'s\", 'Orphanage', 'is', 'as', 'cheery', 'as', 'cheery', 'goes', 'for', 'a', 'pastry', 'shop', '.']\n"
          ],
          "name": "stdout"
        }
      ]
    },
    {
      "cell_type": "code",
      "metadata": {
        "id": "uin-5Ii_UN63"
      },
      "source": [
        "from nltk.tokenize import TreebankWordTokenizer"
      ],
      "execution_count": null,
      "outputs": []
    },
    {
      "cell_type": "code",
      "metadata": {
        "colab": {
          "base_uri": "https://localhost:8080/"
        },
        "id": "doSYay3cW2zW",
        "outputId": "8572273f-e204-4675-f8ea-dece287f3cef"
      },
      "source": [
        "s=\"Don't be fooled by the dark sounding name, Mr. Jone's Orphanage is as cheery as cheery goes for a pastry shop.\"\n",
        "t=TreebankWordTokenizer()\n",
        "st=t.tokenize(s)\n",
        "st"
      ],
      "execution_count": null,
      "outputs": [
        {
          "output_type": "execute_result",
          "data": {
            "text/plain": [
              "['Do',\n",
              " \"n't\",\n",
              " 'be',\n",
              " 'fooled',\n",
              " 'by',\n",
              " 'the',\n",
              " 'dark',\n",
              " 'sounding',\n",
              " 'name',\n",
              " ',',\n",
              " 'Mr.',\n",
              " 'Jone',\n",
              " \"'s\",\n",
              " 'Orphanage',\n",
              " 'is',\n",
              " 'as',\n",
              " 'cheery',\n",
              " 'as',\n",
              " 'cheery',\n",
              " 'goes',\n",
              " 'for',\n",
              " 'a',\n",
              " 'pastry',\n",
              " 'shop',\n",
              " '.']"
            ]
          },
          "metadata": {
            "tags": []
          },
          "execution_count": 14
        }
      ]
    },
    {
      "cell_type": "code",
      "metadata": {
        "id": "Ws7V8xZ8Wyxx"
      },
      "source": [
        "from nltk.tokenize import WordPunctTokenizer"
      ],
      "execution_count": null,
      "outputs": []
    },
    {
      "cell_type": "code",
      "metadata": {
        "colab": {
          "base_uri": "https://localhost:8080/"
        },
        "id": "RYpSp8OcYCjy",
        "outputId": "1705e840-0c4c-4fe4-94ac-8ceebc548d81"
      },
      "source": [
        "s=\"Good muffins cost $3.88\\nin New York.  Please buy me\\ntwo of them.\\n\\nThanks.\"\n",
        "print(WordPunctTokenizer().tokenize(s))"
      ],
      "execution_count": null,
      "outputs": [
        {
          "output_type": "stream",
          "text": [
            "['Good', 'muffins', 'cost', '$', '3', '.', '88', 'in', 'New', 'York', '.', 'Please', 'buy', 'me', 'two', 'of', 'them', '.', 'Thanks', '.']\n"
          ],
          "name": "stdout"
        }
      ]
    },
    {
      "cell_type": "code",
      "metadata": {
        "colab": {
          "base_uri": "https://localhost:8080/"
        },
        "id": "hUQDtbhQYQdb",
        "outputId": "08ee5694-23f6-480a-d864-0aea7d43a434"
      },
      "source": [
        "from nltk.tokenize import sent_tokenize\n",
        "text=\"His barber kept his word. But keeping such a huge secret to himself was driving him crazy. Finally, the barber went up a mountain and almost to the edge of a cliff. He dug a hole in the midst of some reeds. He looked about, to make sure no one was near.\"\n",
        "print(sent_tokenize(text))"
      ],
      "execution_count": null,
      "outputs": [
        {
          "output_type": "stream",
          "text": [
            "['His barber kept his word.', 'But keeping such a huge secret to himself was driving him crazy.', 'Finally, the barber went up a mountain and almost to the edge of a cliff.', 'He dug a hole in the midst of some reeds.', 'He looked about, to make sure no one was near.']\n"
          ],
          "name": "stdout"
        }
      ]
    },
    {
      "cell_type": "code",
      "metadata": {
        "colab": {
          "base_uri": "https://localhost:8080/"
        },
        "id": "4VEi2haZZy3z",
        "outputId": "8c6673b1-198f-48bf-f5f4-205efff09d81"
      },
      "source": [
        "text=\"I am actively looking for Ph.D. students. and you are a Ph.D student.\"\n",
        "print(sent_tokenize(text))"
      ],
      "execution_count": null,
      "outputs": [
        {
          "output_type": "stream",
          "text": [
            "['I am actively looking for Ph.D. students.', 'and you are a Ph.D student.']\n"
          ],
          "name": "stdout"
        }
      ]
    },
    {
      "cell_type": "code",
      "metadata": {
        "colab": {
          "base_uri": "https://localhost:8080/"
        },
        "id": "0R_jGzrhaavg",
        "outputId": "44873436-9183-4ecc-befd-051f6c1343d3"
      },
      "source": [
        "from nltk.tokenize import word_tokenize\n",
        "from nltk.tag import pos_tag\n",
        "text=\"I am actively looking for Ph.D. students. and you are a Ph.D. student.\"\n",
        "x=word_tokenize(text)\n",
        "pos_tag(x)"
      ],
      "execution_count": null,
      "outputs": [
        {
          "output_type": "execute_result",
          "data": {
            "text/plain": [
              "[('I', 'PRP'),\n",
              " ('am', 'VBP'),\n",
              " ('actively', 'RB'),\n",
              " ('looking', 'VBG'),\n",
              " ('for', 'IN'),\n",
              " ('Ph.D.', 'NNP'),\n",
              " ('students', 'NNS'),\n",
              " ('.', '.'),\n",
              " ('and', 'CC'),\n",
              " ('you', 'PRP'),\n",
              " ('are', 'VBP'),\n",
              " ('a', 'DT'),\n",
              " ('Ph.D.', 'NNP'),\n",
              " ('student', 'NN'),\n",
              " ('.', '.')]"
            ]
          },
          "metadata": {
            "tags": []
          },
          "execution_count": 20
        }
      ]
    },
    {
      "cell_type": "code",
      "metadata": {
        "colab": {
          "base_uri": "https://localhost:8080/"
        },
        "id": "NjLUf9CmgAt7",
        "outputId": "14122ed1-ecdb-4dee-c85d-40e524a0bb11"
      },
      "source": [
        "import re\n",
        "text=\"I am actively looking for Ph.D. students. and you are a Ph.D. student.\"\n",
        "sw=re.compile(r'\\W*\\b\\w{1,2}\\b')\n",
        "print(sw.sub('',text))"
      ],
      "execution_count": null,
      "outputs": [
        {
          "output_type": "stream",
          "text": [
            " actively looking for. students. and you are. student.\n"
          ],
          "name": "stdout"
        }
      ]
    },
    {
      "cell_type": "code",
      "metadata": {
        "colab": {
          "base_uri": "https://localhost:8080/"
        },
        "id": "6AjHVadnqqMo",
        "outputId": "1cc4e3e0-26e3-4af2-8356-26f081312c18"
      },
      "source": [
        "from nltk.stem import WordNetLemmatizer\n",
        "n=WordNetLemmatizer()\n",
        "words=['policy', 'doing', 'organization', 'have', 'going', 'love', 'lives', 'fly', 'dies', 'watched', 'has', 'starting']\n",
        "print([n.lemmatize(w) for w in words])"
      ],
      "execution_count": null,
      "outputs": [
        {
          "output_type": "stream",
          "text": [
            "['policy', 'doing', 'organization', 'have', 'going', 'love', 'life', 'fly', 'dy', 'watched', 'ha', 'starting']\n"
          ],
          "name": "stdout"
        }
      ]
    },
    {
      "cell_type": "code",
      "metadata": {
        "colab": {
          "base_uri": "https://localhost:8080/",
          "height": 35
        },
        "id": "DY72xY9ktM3G",
        "outputId": "e04db1fb-a43d-48c6-aa1c-55780b4b17f0"
      },
      "source": [
        "n.lemmatize('dies','v')"
      ],
      "execution_count": null,
      "outputs": [
        {
          "output_type": "execute_result",
          "data": {
            "application/vnd.google.colaboratory.intrinsic+json": {
              "type": "string"
            },
            "text/plain": [
              "'die'"
            ]
          },
          "metadata": {
            "tags": []
          },
          "execution_count": 30
        }
      ]
    },
    {
      "cell_type": "code",
      "metadata": {
        "colab": {
          "base_uri": "https://localhost:8080/"
        },
        "id": "9XSpRFL6tWOw",
        "outputId": "ea322c2a-95a5-45ef-aab3-14b1c8b7d99e"
      },
      "source": [
        "from nltk.stem import PorterStemmer\n",
        "from nltk.tokenize import word_tokenize\n",
        "ps=PorterStemmer()\n",
        "text=\"This was not the map we found in Billy Bones's chest, but an accurate copy, complete in all things--names and heights and soundings--with the single exception of the red crosses and the written notes.\"\n",
        "wt=word_tokenize(text)\n",
        "wt"
      ],
      "execution_count": null,
      "outputs": [
        {
          "output_type": "execute_result",
          "data": {
            "text/plain": [
              "['This',\n",
              " 'was',\n",
              " 'not',\n",
              " 'the',\n",
              " 'map',\n",
              " 'we',\n",
              " 'found',\n",
              " 'in',\n",
              " 'Billy',\n",
              " 'Bones',\n",
              " \"'s\",\n",
              " 'chest',\n",
              " ',',\n",
              " 'but',\n",
              " 'an',\n",
              " 'accurate',\n",
              " 'copy',\n",
              " ',',\n",
              " 'complete',\n",
              " 'in',\n",
              " 'all',\n",
              " 'things',\n",
              " '--',\n",
              " 'names',\n",
              " 'and',\n",
              " 'heights',\n",
              " 'and',\n",
              " 'soundings',\n",
              " '--',\n",
              " 'with',\n",
              " 'the',\n",
              " 'single',\n",
              " 'exception',\n",
              " 'of',\n",
              " 'the',\n",
              " 'red',\n",
              " 'crosses',\n",
              " 'and',\n",
              " 'the',\n",
              " 'written',\n",
              " 'notes',\n",
              " '.']"
            ]
          },
          "metadata": {
            "tags": []
          },
          "execution_count": 32
        }
      ]
    },
    {
      "cell_type": "code",
      "metadata": {
        "colab": {
          "base_uri": "https://localhost:8080/"
        },
        "id": "_aeUKsLbuoaW",
        "outputId": "10ca33ad-40f6-4e83-9bac-550227173ae7"
      },
      "source": [
        "print([ps.stem(w) for w in wt])"
      ],
      "execution_count": null,
      "outputs": [
        {
          "output_type": "stream",
          "text": [
            "['thi', 'wa', 'not', 'the', 'map', 'we', 'found', 'in', 'billi', 'bone', \"'s\", 'chest', ',', 'but', 'an', 'accur', 'copi', ',', 'complet', 'in', 'all', 'thing', '--', 'name', 'and', 'height', 'and', 'sound', '--', 'with', 'the', 'singl', 'except', 'of', 'the', 'red', 'cross', 'and', 'the', 'written', 'note', '.']\n"
          ],
          "name": "stdout"
        }
      ]
    },
    {
      "cell_type": "code",
      "metadata": {
        "colab": {
          "base_uri": "https://localhost:8080/"
        },
        "id": "8rvEbAkru61U",
        "outputId": "39d952fa-bd52-4741-cdf7-b5dc9ee86c5f"
      },
      "source": [
        "w=['formalize', 'allowance', 'electricical']\n",
        "print([ps.stem(i) for i in w])"
      ],
      "execution_count": null,
      "outputs": [
        {
          "output_type": "stream",
          "text": [
            "['formal', 'allow', 'electric']\n"
          ],
          "name": "stdout"
        }
      ]
    },
    {
      "cell_type": "code",
      "metadata": {
        "colab": {
          "base_uri": "https://localhost:8080/"
        },
        "id": "u_nXk80IvM6h",
        "outputId": "8940343e-1421-4a41-bef3-cfbddce55b73"
      },
      "source": [
        "from nltk.stem import LancasterStemmer\n",
        "ls=LancasterStemmer()\n",
        "words=['policy', 'doing', 'organization', 'have', 'going', 'love', 'lives', 'fly', 'dies', 'watched', 'has', 'starting']\n",
        "print([ls.stem(w) for w in words])"
      ],
      "execution_count": null,
      "outputs": [
        {
          "output_type": "stream",
          "text": [
            "['policy', 'doing', 'org', 'hav', 'going', 'lov', 'liv', 'fly', 'die', 'watch', 'has', 'start']\n"
          ],
          "name": "stdout"
        }
      ]
    },
    {
      "cell_type": "code",
      "metadata": {
        "colab": {
          "base_uri": "https://localhost:8080/"
        },
        "id": "3ijGLtLzwPSW",
        "outputId": "73964991-5b1d-4169-b0ba-bb3d4cf06443"
      },
      "source": [
        "from nltk.corpus import stopwords\n",
        "stopwords.words('english')[:10]"
      ],
      "execution_count": null,
      "outputs": [
        {
          "output_type": "execute_result",
          "data": {
            "text/plain": [
              "['i', 'me', 'my', 'myself', 'we', 'our', 'ours', 'ourselves', 'you', \"you're\"]"
            ]
          },
          "metadata": {
            "tags": []
          },
          "execution_count": 37
        }
      ]
    },
    {
      "cell_type": "code",
      "metadata": {
        "colab": {
          "base_uri": "https://localhost:8080/"
        },
        "id": "35BlilmHxooS",
        "outputId": "e68091ac-44ac-409f-f6cc-07d3e582ba6a"
      },
      "source": [
        "sentence=\"Family is not an important thing. It's everything.\"\n",
        "sw=set(stopwords.words('english'))\n",
        "wt=word_tokenize(sentence)\n",
        "\n",
        "result=[]\n",
        "for w in wt:\n",
        "  if w not in sw:\n",
        "    result.append(w)\n",
        "print(wt)\n",
        "print(result)"
      ],
      "execution_count": null,
      "outputs": [
        {
          "output_type": "stream",
          "text": [
            "['Family', 'is', 'not', 'an', 'important', 'thing', '.', 'It', \"'s\", 'everything', '.']\n",
            "['Family', 'important', 'thing', '.', 'It', \"'s\", 'everything', '.']\n"
          ],
          "name": "stdout"
        }
      ]
    },
    {
      "cell_type": "code",
      "metadata": {
        "colab": {
          "base_uri": "https://localhost:8080/"
        },
        "id": "ialdhRSSyOKj",
        "outputId": "479f2173-44bb-4369-b7f1-7b3cd4e9e163"
      },
      "source": [
        "import re\n",
        "r=re.compile('ab.')\n",
        "r.search('kkkabc')"
      ],
      "execution_count": null,
      "outputs": [
        {
          "output_type": "execute_result",
          "data": {
            "text/plain": [
              "<re.Match object; span=(3, 6), match='abc'>"
            ]
          },
          "metadata": {
            "tags": []
          },
          "execution_count": 43
        }
      ]
    },
    {
      "cell_type": "code",
      "metadata": {
        "id": "kzjlJ2Xt3tws"
      },
      "source": [
        "r.match('kkkabc')"
      ],
      "execution_count": null,
      "outputs": []
    },
    {
      "cell_type": "code",
      "metadata": {
        "colab": {
          "base_uri": "https://localhost:8080/"
        },
        "id": "_2SAhACg4FY0",
        "outputId": "799e1311-c8e2-4c39-d4b3-d816072b6b42"
      },
      "source": [
        "r.match('abccc')"
      ],
      "execution_count": null,
      "outputs": [
        {
          "output_type": "execute_result",
          "data": {
            "text/plain": [
              "<re.Match object; span=(0, 3), match='abc'>"
            ]
          },
          "metadata": {
            "tags": []
          },
          "execution_count": 45
        }
      ]
    },
    {
      "cell_type": "code",
      "metadata": {
        "colab": {
          "base_uri": "https://localhost:8080/"
        },
        "id": "9iTxsHvV4gYQ",
        "outputId": "2c5fcd91-7138-4607-e099-440a5b9b47bc"
      },
      "source": [
        "text='Family is not an important thing. It\\'s everything.'\n",
        "re.split(' ',text)"
      ],
      "execution_count": null,
      "outputs": [
        {
          "output_type": "execute_result",
          "data": {
            "text/plain": [
              "['Family', 'is', 'not', 'an', 'important', 'thing.', \"It's\", 'everything.']"
            ]
          },
          "metadata": {
            "tags": []
          },
          "execution_count": 47
        }
      ]
    },
    {
      "cell_type": "code",
      "metadata": {
        "colab": {
          "base_uri": "https://localhost:8080/"
        },
        "id": "kJItkpom5V8b",
        "outputId": "84893c89-39a0-49c9-a2e3-631f16de9542"
      },
      "source": [
        "text='Family is not an important thing. It\\'s everything.'\n",
        "re.split('\\n',text)"
      ],
      "execution_count": null,
      "outputs": [
        {
          "output_type": "execute_result",
          "data": {
            "text/plain": [
              "[\"Family is not an important thing. It's everything.\"]"
            ]
          },
          "metadata": {
            "tags": []
          },
          "execution_count": 48
        }
      ]
    },
    {
      "cell_type": "code",
      "metadata": {
        "colab": {
          "base_uri": "https://localhost:8080/"
        },
        "id": "8xk6--095khI",
        "outputId": "5a2b47f9-2bb8-4cc7-f991-64f205a83965"
      },
      "source": [
        "text='Family +is +not +an important thing. It\\'s everything.'\n",
        "re.split('\\+',text)"
      ],
      "execution_count": null,
      "outputs": [
        {
          "output_type": "execute_result",
          "data": {
            "text/plain": [
              "['Family ', 'is ', 'not ', \"an important thing. It's everything.\"]"
            ]
          },
          "metadata": {
            "tags": []
          },
          "execution_count": 49
        }
      ]
    },
    {
      "cell_type": "code",
      "metadata": {
        "colab": {
          "base_uri": "https://localhost:8080/"
        },
        "id": "3GmaKr3g5rf-",
        "outputId": "ad8113e8-f51a-4e33-8cc3-9b9791435a93"
      },
      "source": [
        "text=\"\"\"100 John    PROF\n",
        "101 James   STUD\n",
        "102 Mac   STUD\"\"\"\n",
        "re.split('\\s+',text)"
      ],
      "execution_count": null,
      "outputs": [
        {
          "output_type": "execute_result",
          "data": {
            "text/plain": [
              "['100', 'John', 'PROF', '101', 'James', 'STUD', '102', 'Mac', 'STUD']"
            ]
          },
          "metadata": {
            "tags": []
          },
          "execution_count": 50
        }
      ]
    },
    {
      "cell_type": "code",
      "metadata": {
        "colab": {
          "base_uri": "https://localhost:8080/"
        },
        "id": "glWnlFWS6YQD",
        "outputId": "42ca1333-ff6d-4469-b111-a12651052979"
      },
      "source": [
        "re.findall('\\d+',text)"
      ],
      "execution_count": null,
      "outputs": [
        {
          "output_type": "execute_result",
          "data": {
            "text/plain": [
              "['100', '101', '102']"
            ]
          },
          "metadata": {
            "tags": []
          },
          "execution_count": 51
        }
      ]
    },
    {
      "cell_type": "code",
      "metadata": {
        "colab": {
          "base_uri": "https://localhost:8080/"
        },
        "id": "SApSUqGw6e5c",
        "outputId": "5eca3038-94f9-472f-eae0-8c66d4da46ff"
      },
      "source": [
        "re.findall('[A-Z][a-z]{2}',text)"
      ],
      "execution_count": null,
      "outputs": [
        {
          "output_type": "execute_result",
          "data": {
            "text/plain": [
              "['Joh', 'Jam', 'Mac']"
            ]
          },
          "metadata": {
            "tags": []
          },
          "execution_count": 56
        }
      ]
    },
    {
      "cell_type": "code",
      "metadata": {
        "colab": {
          "base_uri": "https://localhost:8080/"
        },
        "id": "3BS_tyoT6kDw",
        "outputId": "a8ed9990-ebb0-4a1d-fa8a-80699b2c2d6b"
      },
      "source": [
        "re.findall('[A-Z][a-z]+',text)"
      ],
      "execution_count": null,
      "outputs": [
        {
          "output_type": "execute_result",
          "data": {
            "text/plain": [
              "['John', 'James', 'Mac']"
            ]
          },
          "metadata": {
            "tags": []
          },
          "execution_count": 57
        }
      ]
    },
    {
      "cell_type": "code",
      "metadata": {
        "id": "xKOF1TlU67cW"
      },
      "source": [
        "from nltk.tokenize import sent_tokenize\n",
        "from nltk.tokenize import word_tokenize\n",
        "from nltk.corpus import stopwords"
      ],
      "execution_count": null,
      "outputs": []
    },
    {
      "cell_type": "code",
      "metadata": {
        "id": "PUOszLWDtzOZ"
      },
      "source": [
        "text=\"A barber is a person. a barber is good person. a barber is huge person. he Knew A Secret! The Secret He Kept is huge secret. Huge secret. His barber kept his word. a barber kept his word. His barber kept his secret. But keeping and keeping such a huge secret to himself was driving the barber crazy. the barber went up a huge mountain.\""
      ],
      "execution_count": null,
      "outputs": []
    },
    {
      "cell_type": "code",
      "metadata": {
        "colab": {
          "base_uri": "https://localhost:8080/"
        },
        "id": "-T_5USSvt7ct",
        "outputId": "07395c28-e1be-4fd6-c9a6-65263008bd7a"
      },
      "source": [
        "text=sent_tokenize(text)\n",
        "print(text)"
      ],
      "execution_count": null,
      "outputs": [
        {
          "output_type": "stream",
          "text": [
            "['A barber is a person.', 'a barber is good person.', 'a barber is huge person.', 'he Knew A Secret!', 'The Secret He Kept is huge secret.', 'Huge secret.', 'His barber kept his word.', 'a barber kept his word.', 'His barber kept his secret.', 'But keeping and keeping such a huge secret to himself was driving the barber crazy.', 'the barber went up a huge mountain.']\n"
          ],
          "name": "stdout"
        }
      ]
    },
    {
      "cell_type": "code",
      "metadata": {
        "colab": {
          "base_uri": "https://localhost:8080/"
        },
        "id": "-ulSMRIMuLY9",
        "outputId": "40a88310-10be-46f9-9d79-acdbc9a1ca54"
      },
      "source": [
        "sw=set(stopwords.words('english'))\n",
        "vb={}\n",
        "sentences=[]\n",
        "\n",
        "for i in text:\n",
        "  sent=word_tokenize(i)\n",
        "  result=[]\n",
        "\n",
        "  for word in sent:\n",
        "    word=word.lower()\n",
        "    if word not in sw:\n",
        "      if len(word)>2:\n",
        "        result.append(word)\n",
        "        if word not in vb:\n",
        "          vb[word]=0\n",
        "        vb[word]+=1\n",
        "  sentences.append(result)\n",
        "sentences"
      ],
      "execution_count": null,
      "outputs": [
        {
          "output_type": "execute_result",
          "data": {
            "text/plain": [
              "[['barber', 'person'],\n",
              " ['barber', 'good', 'person'],\n",
              " ['barber', 'huge', 'person'],\n",
              " ['knew', 'secret'],\n",
              " ['secret', 'kept', 'huge', 'secret'],\n",
              " ['huge', 'secret'],\n",
              " ['barber', 'kept', 'word'],\n",
              " ['barber', 'kept', 'word'],\n",
              " ['barber', 'kept', 'secret'],\n",
              " ['keeping', 'keeping', 'huge', 'secret', 'driving', 'barber', 'crazy'],\n",
              " ['barber', 'went', 'huge', 'mountain']]"
            ]
          },
          "metadata": {
            "tags": []
          },
          "execution_count": 29
        }
      ]
    },
    {
      "cell_type": "code",
      "metadata": {
        "colab": {
          "base_uri": "https://localhost:8080/"
        },
        "id": "x5szDYEUz5an",
        "outputId": "5423d8bd-5f1a-4fc7-d33e-cfa7dc079b44"
      },
      "source": [
        "vb"
      ],
      "execution_count": null,
      "outputs": [
        {
          "output_type": "execute_result",
          "data": {
            "text/plain": [
              "{'barber': 8,\n",
              " 'crazy': 1,\n",
              " 'driving': 1,\n",
              " 'good': 1,\n",
              " 'huge': 5,\n",
              " 'keeping': 2,\n",
              " 'kept': 4,\n",
              " 'knew': 1,\n",
              " 'mountain': 1,\n",
              " 'person': 3,\n",
              " 'secret': 6,\n",
              " 'went': 1,\n",
              " 'word': 2}"
            ]
          },
          "metadata": {
            "tags": []
          },
          "execution_count": 15
        }
      ]
    },
    {
      "cell_type": "code",
      "metadata": {
        "colab": {
          "base_uri": "https://localhost:8080/"
        },
        "id": "DVfWIopT0Egk",
        "outputId": "2939e82c-32e7-48ba-a712-05d64eac8421"
      },
      "source": [
        "vb_sorted=sorted(vb.items(), key=lambda x:x[1], reverse=True)\n",
        "vb_sorted"
      ],
      "execution_count": null,
      "outputs": [
        {
          "output_type": "execute_result",
          "data": {
            "text/plain": [
              "[('barber', 8),\n",
              " ('secret', 6),\n",
              " ('huge', 5),\n",
              " ('kept', 4),\n",
              " ('person', 3),\n",
              " ('word', 2),\n",
              " ('keeping', 2),\n",
              " ('good', 1),\n",
              " ('knew', 1),\n",
              " ('driving', 1),\n",
              " ('crazy', 1),\n",
              " ('went', 1),\n",
              " ('mountain', 1)]"
            ]
          },
          "metadata": {
            "tags": []
          },
          "execution_count": 16
        }
      ]
    },
    {
      "cell_type": "code",
      "metadata": {
        "colab": {
          "base_uri": "https://localhost:8080/"
        },
        "id": "95MxraQO0vpF",
        "outputId": "658970f3-e79c-43f0-e909-cb02075ba883"
      },
      "source": [
        "i=0\n",
        "w_t_i={}\n",
        "\n",
        "for (word,frequency) in vb_sorted:\n",
        "  k=(word,frequency)\n",
        "  print(k)\n",
        "  if frequency>1:\n",
        "    i=i+1\n",
        "    w_t_i[word]=i\n",
        "print(w_t_i)\n"
      ],
      "execution_count": null,
      "outputs": [
        {
          "output_type": "stream",
          "text": [
            "('barber', 8)\n",
            "('secret', 6)\n",
            "('huge', 5)\n",
            "('kept', 4)\n",
            "('person', 3)\n",
            "('word', 2)\n",
            "('keeping', 2)\n",
            "('good', 1)\n",
            "('knew', 1)\n",
            "('driving', 1)\n",
            "('crazy', 1)\n",
            "('went', 1)\n",
            "('mountain', 1)\n",
            "{'barber': 1, 'secret': 2, 'huge': 3, 'kept': 4, 'person': 5, 'word': 6, 'keeping': 7}\n"
          ],
          "name": "stdout"
        }
      ]
    },
    {
      "cell_type": "code",
      "metadata": {
        "colab": {
          "base_uri": "https://localhost:8080/"
        },
        "id": "gYtfqyTA3rkI",
        "outputId": "b9fbe447-c410-4af0-8642-75b1c9baade5"
      },
      "source": [
        "vs=5\n",
        "wf=[w for w,c in w_t_i.items() if c>=vs+1]\n",
        "wf"
      ],
      "execution_count": null,
      "outputs": [
        {
          "output_type": "execute_result",
          "data": {
            "text/plain": [
              "[]"
            ]
          },
          "metadata": {
            "tags": []
          },
          "execution_count": 28
        }
      ]
    },
    {
      "cell_type": "code",
      "metadata": {
        "colab": {
          "base_uri": "https://localhost:8080/"
        },
        "id": "lp6Dk7T0895h",
        "outputId": "df527167-69ef-47df-9178-91f72f367f59"
      },
      "source": [
        "for w in wf:\n",
        "  del w_t_i[w]\n",
        "w_t_i"
      ],
      "execution_count": null,
      "outputs": [
        {
          "output_type": "execute_result",
          "data": {
            "text/plain": [
              "{'barber': 1, 'huge': 3, 'kept': 4, 'secret': 2}"
            ]
          },
          "metadata": {
            "tags": []
          },
          "execution_count": 25
        }
      ]
    },
    {
      "cell_type": "code",
      "metadata": {
        "colab": {
          "base_uri": "https://localhost:8080/"
        },
        "id": "wVaSCbx49Uhn",
        "outputId": "e2e60cfb-a9dd-4ae6-d08b-08c5b2050344"
      },
      "source": [
        "len(w_t_i)"
      ],
      "execution_count": null,
      "outputs": [
        {
          "output_type": "execute_result",
          "data": {
            "text/plain": [
              "4"
            ]
          },
          "metadata": {
            "tags": []
          },
          "execution_count": 30
        }
      ]
    },
    {
      "cell_type": "code",
      "metadata": {
        "colab": {
          "base_uri": "https://localhost:8080/"
        },
        "id": "YGPmLOI7_r3k",
        "outputId": "f833fc97-fdd3-4322-f6a9-c2a52240e408"
      },
      "source": [
        "w_t_i['OOV']=len(w_t_i)+1\n",
        "encoded=[]\n",
        "for s in sentences:\n",
        "  temp=[]\n",
        "  for w in s:\n",
        "    try:\n",
        "      temp.append(w_t_i[w])\n",
        "    except KeyError:\n",
        "      temp.append(w_t_i['OOV'])\n",
        "  encoded.append(temp)\n",
        "encoded"
      ],
      "execution_count": null,
      "outputs": [
        {
          "output_type": "execute_result",
          "data": {
            "text/plain": [
              "[[1, 6],\n",
              " [1, 6, 6],\n",
              " [1, 3, 6],\n",
              " [6, 2],\n",
              " [2, 4, 3, 2],\n",
              " [3, 2],\n",
              " [1, 4, 6],\n",
              " [1, 4, 6],\n",
              " [1, 4, 2],\n",
              " [6, 6, 3, 2, 6, 1, 6],\n",
              " [1, 6, 3, 6]]"
            ]
          },
          "metadata": {
            "tags": []
          },
          "execution_count": 32
        }
      ]
    },
    {
      "cell_type": "code",
      "metadata": {
        "id": "piqL_ajsYbMj"
      },
      "source": [
        "from collections import Counter"
      ],
      "execution_count": null,
      "outputs": []
    },
    {
      "cell_type": "code",
      "metadata": {
        "colab": {
          "base_uri": "https://localhost:8080/"
        },
        "id": "B00EM0CzYzI1",
        "outputId": "e9b83b5b-b731-40ae-c9f0-10a4e5d27787"
      },
      "source": [
        "sentences"
      ],
      "execution_count": null,
      "outputs": [
        {
          "output_type": "execute_result",
          "data": {
            "text/plain": [
              "[['barber', 'person'],\n",
              " ['barber', 'good', 'person'],\n",
              " ['barber', 'huge', 'person'],\n",
              " ['knew', 'secret'],\n",
              " ['secret', 'kept', 'huge', 'secret'],\n",
              " ['huge', 'secret'],\n",
              " ['barber', 'kept', 'word'],\n",
              " ['barber', 'kept', 'word'],\n",
              " ['barber', 'kept', 'secret'],\n",
              " ['keeping', 'keeping', 'huge', 'secret', 'driving', 'barber', 'crazy'],\n",
              " ['barber', 'went', 'huge', 'mountain']]"
            ]
          },
          "metadata": {
            "tags": []
          },
          "execution_count": 34
        }
      ]
    },
    {
      "cell_type": "code",
      "metadata": {
        "colab": {
          "base_uri": "https://localhost:8080/"
        },
        "id": "PYwUTnxxa-K-",
        "outputId": "38350fc2-443b-4542-e484-ef3a9c423863"
      },
      "source": [
        "import numpy as np\n",
        "w_h=np.hstack(sentences)\n",
        "w_h"
      ],
      "execution_count": null,
      "outputs": [
        {
          "output_type": "execute_result",
          "data": {
            "text/plain": [
              "array(['barber', 'person', 'barber', 'good', 'person', 'barber', 'huge',\n",
              "       'person', 'knew', 'secret', 'secret', 'kept', 'huge', 'secret',\n",
              "       'huge', 'secret', 'barber', 'kept', 'word', 'barber', 'kept',\n",
              "       'word', 'barber', 'kept', 'secret', 'keeping', 'keeping', 'huge',\n",
              "       'secret', 'driving', 'barber', 'crazy', 'barber', 'went', 'huge',\n",
              "       'mountain'], dtype='<U8')"
            ]
          },
          "metadata": {
            "tags": []
          },
          "execution_count": 36
        }
      ]
    },
    {
      "cell_type": "code",
      "metadata": {
        "colab": {
          "base_uri": "https://localhost:8080/"
        },
        "id": "p9lLggppbH-N",
        "outputId": "ece97b40-043a-4608-c84b-f144d3f41447"
      },
      "source": [
        "w_f=Counter(w_h)\n",
        "w_f"
      ],
      "execution_count": null,
      "outputs": [
        {
          "output_type": "execute_result",
          "data": {
            "text/plain": [
              "Counter({'barber': 8,\n",
              "         'crazy': 1,\n",
              "         'driving': 1,\n",
              "         'good': 1,\n",
              "         'huge': 5,\n",
              "         'keeping': 2,\n",
              "         'kept': 4,\n",
              "         'knew': 1,\n",
              "         'mountain': 1,\n",
              "         'person': 3,\n",
              "         'secret': 6,\n",
              "         'went': 1,\n",
              "         'word': 2})"
            ]
          },
          "metadata": {
            "tags": []
          },
          "execution_count": 37
        }
      ]
    },
    {
      "cell_type": "code",
      "metadata": {
        "colab": {
          "base_uri": "https://localhost:8080/"
        },
        "id": "IZvlWeepbfJc",
        "outputId": "6351f377-25f6-4347-bbb8-cffd56ae333a"
      },
      "source": [
        "v5=w_f.most_common(vs)\n",
        "v5"
      ],
      "execution_count": null,
      "outputs": [
        {
          "output_type": "execute_result",
          "data": {
            "text/plain": [
              "[('barber', 8), ('secret', 6), ('huge', 5), ('kept', 4), ('person', 3)]"
            ]
          },
          "metadata": {
            "tags": []
          },
          "execution_count": 43
        }
      ]
    },
    {
      "cell_type": "code",
      "metadata": {
        "colab": {
          "base_uri": "https://localhost:8080/"
        },
        "id": "coHMc362b3gR",
        "outputId": "1771965d-826c-41f9-f883-c73b28df2321"
      },
      "source": [
        "w_t_i={}\n",
        "i=0\n",
        "for (word,frequency) in v5:\n",
        "  i=i+1\n",
        "  w_t_i[word]=i\n",
        "w_t_i"
      ],
      "execution_count": null,
      "outputs": [
        {
          "output_type": "execute_result",
          "data": {
            "text/plain": [
              "{'barber': 1, 'huge': 3, 'kept': 4, 'person': 5, 'secret': 2}"
            ]
          },
          "metadata": {
            "tags": []
          },
          "execution_count": 45
        }
      ]
    },
    {
      "cell_type": "code",
      "metadata": {
        "colab": {
          "base_uri": "https://localhost:8080/"
        },
        "id": "lmdMjDxKckmz",
        "outputId": "8141ce67-8f19-4b87-cd7d-57ef9074864e"
      },
      "source": [
        "from nltk import FreqDist\n",
        "vocab=FreqDist(np.hstack(sentences))\n",
        "vocab"
      ],
      "execution_count": null,
      "outputs": [
        {
          "output_type": "execute_result",
          "data": {
            "text/plain": [
              "FreqDist({'barber': 8,\n",
              "          'crazy': 1,\n",
              "          'driving': 1,\n",
              "          'good': 1,\n",
              "          'huge': 5,\n",
              "          'keeping': 2,\n",
              "          'kept': 4,\n",
              "          'knew': 1,\n",
              "          'mountain': 1,\n",
              "          'person': 3,\n",
              "          'secret': 6,\n",
              "          'went': 1,\n",
              "          'word': 2})"
            ]
          },
          "metadata": {
            "tags": []
          },
          "execution_count": 46
        }
      ]
    },
    {
      "cell_type": "code",
      "metadata": {
        "colab": {
          "base_uri": "https://localhost:8080/"
        },
        "id": "neD5IOQBe3gI",
        "outputId": "35809a5e-3b7e-451f-ed9f-adb22dc906c2"
      },
      "source": [
        "vocab=vocab.most_common(vs)\n",
        "vocab"
      ],
      "execution_count": null,
      "outputs": [
        {
          "output_type": "execute_result",
          "data": {
            "text/plain": [
              "[('barber', 8), ('secret', 6), ('huge', 5), ('kept', 4), ('person', 3)]"
            ]
          },
          "metadata": {
            "tags": []
          },
          "execution_count": 47
        }
      ]
    },
    {
      "cell_type": "code",
      "metadata": {
        "colab": {
          "base_uri": "https://localhost:8080/"
        },
        "id": "dG9AfXOTe_8H",
        "outputId": "838e5259-3815-4c91-a6f9-aa73abc2e7b4"
      },
      "source": [
        "w_t_i={word[0]:index+1 for index,word in enumerate(vocab)}\n",
        "w_t_i"
      ],
      "execution_count": null,
      "outputs": [
        {
          "output_type": "execute_result",
          "data": {
            "text/plain": [
              "{'barber': 1, 'huge': 3, 'kept': 4, 'person': 5, 'secret': 2}"
            ]
          },
          "metadata": {
            "tags": []
          },
          "execution_count": 51
        }
      ]
    },
    {
      "cell_type": "code",
      "metadata": {
        "id": "li0C3B9vf6j3"
      },
      "source": [
        "from tensorflow.keras.preprocessing.text import Tokenizer"
      ],
      "execution_count": null,
      "outputs": []
    },
    {
      "cell_type": "code",
      "metadata": {
        "id": "ImTKrYQrjRY1"
      },
      "source": [
        "tok=Tokenizer()\n",
        "tok.fit_on_texts(sentences)"
      ],
      "execution_count": null,
      "outputs": []
    },
    {
      "cell_type": "code",
      "metadata": {
        "colab": {
          "base_uri": "https://localhost:8080/"
        },
        "id": "0-WXwt-NjaC4",
        "outputId": "bf0473d9-ab4c-405f-cc1d-9fd0f785be33"
      },
      "source": [
        "tok.word_index"
      ],
      "execution_count": null,
      "outputs": [
        {
          "output_type": "execute_result",
          "data": {
            "text/plain": [
              "{'barber': 1,\n",
              " 'crazy': 11,\n",
              " 'driving': 10,\n",
              " 'good': 8,\n",
              " 'huge': 3,\n",
              " 'keeping': 7,\n",
              " 'kept': 4,\n",
              " 'knew': 9,\n",
              " 'mountain': 13,\n",
              " 'person': 5,\n",
              " 'secret': 2,\n",
              " 'went': 12,\n",
              " 'word': 6}"
            ]
          },
          "metadata": {
            "tags": []
          },
          "execution_count": 55
        }
      ]
    },
    {
      "cell_type": "code",
      "metadata": {
        "colab": {
          "base_uri": "https://localhost:8080/"
        },
        "id": "KNmJM_9TjuIv",
        "outputId": "43f8bf27-0bd1-474d-b5b8-6a5929d51801"
      },
      "source": [
        "tok.word_counts"
      ],
      "execution_count": null,
      "outputs": [
        {
          "output_type": "execute_result",
          "data": {
            "text/plain": [
              "OrderedDict([('barber', 8),\n",
              "             ('person', 3),\n",
              "             ('good', 1),\n",
              "             ('huge', 5),\n",
              "             ('knew', 1),\n",
              "             ('secret', 6),\n",
              "             ('kept', 4),\n",
              "             ('word', 2),\n",
              "             ('keeping', 2),\n",
              "             ('driving', 1),\n",
              "             ('crazy', 1),\n",
              "             ('went', 1),\n",
              "             ('mountain', 1)])"
            ]
          },
          "metadata": {
            "tags": []
          },
          "execution_count": 56
        }
      ]
    },
    {
      "cell_type": "code",
      "metadata": {
        "colab": {
          "base_uri": "https://localhost:8080/"
        },
        "id": "kuhz8o-SjyZu",
        "outputId": "c0f91fb9-dc07-4acb-af1b-cd36f1c4919d"
      },
      "source": [
        "tok.texts_to_sequences(sentences)"
      ],
      "execution_count": null,
      "outputs": [
        {
          "output_type": "execute_result",
          "data": {
            "text/plain": [
              "[[1, 5],\n",
              " [1, 8, 5],\n",
              " [1, 3, 5],\n",
              " [9, 2],\n",
              " [2, 4, 3, 2],\n",
              " [3, 2],\n",
              " [1, 4, 6],\n",
              " [1, 4, 6],\n",
              " [1, 4, 2],\n",
              " [7, 7, 3, 2, 10, 1, 11],\n",
              " [1, 12, 3, 13]]"
            ]
          },
          "metadata": {
            "tags": []
          },
          "execution_count": 57
        }
      ]
    },
    {
      "cell_type": "code",
      "metadata": {
        "colab": {
          "base_uri": "https://localhost:8080/"
        },
        "id": "46p-WIFnj8-L",
        "outputId": "a9e807a1-29c6-4213-cbe7-76fe785469e3"
      },
      "source": [
        "tok=Tokenizer(num_words=vs+1)\n",
        "tok.fit_on_texts(sentences)\n",
        "tok.texts_to_sequences(sentences)"
      ],
      "execution_count": null,
      "outputs": [
        {
          "output_type": "execute_result",
          "data": {
            "text/plain": [
              "[[1, 5],\n",
              " [1, 5],\n",
              " [1, 3, 5],\n",
              " [2],\n",
              " [2, 4, 3, 2],\n",
              " [3, 2],\n",
              " [1, 4],\n",
              " [1, 4],\n",
              " [1, 4, 2],\n",
              " [3, 2, 1],\n",
              " [1, 3]]"
            ]
          },
          "metadata": {
            "tags": []
          },
          "execution_count": 61
        }
      ]
    },
    {
      "cell_type": "code",
      "metadata": {
        "colab": {
          "base_uri": "https://localhost:8080/"
        },
        "id": "UD7wkW3WkGwz",
        "outputId": "095a3e01-2d42-45aa-ef75-12393a03a5cb"
      },
      "source": [
        "tok.document_count"
      ],
      "execution_count": null,
      "outputs": [
        {
          "output_type": "execute_result",
          "data": {
            "text/plain": [
              "11"
            ]
          },
          "metadata": {
            "tags": []
          },
          "execution_count": 62
        }
      ]
    },
    {
      "cell_type": "code",
      "metadata": {
        "colab": {
          "base_uri": "https://localhost:8080/"
        },
        "id": "TYj3Xa0mnv1R",
        "outputId": "2a0a71b9-849a-4c40-b365-553625303b1a"
      },
      "source": [
        "sentences"
      ],
      "execution_count": null,
      "outputs": [
        {
          "output_type": "execute_result",
          "data": {
            "text/plain": [
              "[['barber', 'person'],\n",
              " ['barber', 'good', 'person'],\n",
              " ['barber', 'huge', 'person'],\n",
              " ['knew', 'secret'],\n",
              " ['secret', 'kept', 'huge', 'secret'],\n",
              " ['huge', 'secret'],\n",
              " ['barber', 'kept', 'word'],\n",
              " ['barber', 'kept', 'word'],\n",
              " ['barber', 'kept', 'secret'],\n",
              " ['keeping', 'keeping', 'huge', 'secret', 'driving', 'barber', 'crazy'],\n",
              " ['barber', 'went', 'huge', 'mountain']]"
            ]
          },
          "metadata": {
            "tags": []
          },
          "execution_count": 64
        }
      ]
    },
    {
      "cell_type": "code",
      "metadata": {
        "colab": {
          "base_uri": "https://localhost:8080/"
        },
        "id": "DaNr4olHvmNL",
        "outputId": "b5017355-5aa1-4629-8435-2bb3b069ba65"
      },
      "source": [
        "tok=Tokenizer()\n",
        "tok.fit_on_texts(sentences)\n",
        "tok.word_index"
      ],
      "execution_count": null,
      "outputs": [
        {
          "output_type": "execute_result",
          "data": {
            "text/plain": [
              "{'barber': 1,\n",
              " 'crazy': 11,\n",
              " 'driving': 10,\n",
              " 'good': 8,\n",
              " 'huge': 3,\n",
              " 'keeping': 7,\n",
              " 'kept': 4,\n",
              " 'knew': 9,\n",
              " 'mountain': 13,\n",
              " 'person': 5,\n",
              " 'secret': 2,\n",
              " 'went': 12,\n",
              " 'word': 6}"
            ]
          },
          "metadata": {
            "tags": []
          },
          "execution_count": 71
        }
      ]
    },
    {
      "cell_type": "code",
      "metadata": {
        "colab": {
          "base_uri": "https://localhost:8080/"
        },
        "id": "O-FKfeHbwdQQ",
        "outputId": "34da604f-9a99-4f6f-e98b-fc772f3ed135"
      },
      "source": [
        "tts=tok.texts_to_sequences(sentences)\n",
        "tts"
      ],
      "execution_count": null,
      "outputs": [
        {
          "output_type": "execute_result",
          "data": {
            "text/plain": [
              "[[1, 5],\n",
              " [1, 8, 5],\n",
              " [1, 3, 5],\n",
              " [9, 2],\n",
              " [2, 4, 3, 2],\n",
              " [3, 2],\n",
              " [1, 4, 6],\n",
              " [1, 4, 6],\n",
              " [1, 4, 2],\n",
              " [7, 7, 3, 2, 10, 1, 11],\n",
              " [1, 12, 3, 13]]"
            ]
          },
          "metadata": {
            "tags": []
          },
          "execution_count": 72
        }
      ]
    },
    {
      "cell_type": "code",
      "metadata": {
        "colab": {
          "base_uri": "https://localhost:8080/"
        },
        "id": "O6JhMR5SyG5L",
        "outputId": "683b6f34-2591-4a31-dd34-7a819665c860"
      },
      "source": [
        "len(tts)"
      ],
      "execution_count": null,
      "outputs": [
        {
          "output_type": "execute_result",
          "data": {
            "text/plain": [
              "11"
            ]
          },
          "metadata": {
            "tags": []
          },
          "execution_count": 73
        }
      ]
    },
    {
      "cell_type": "code",
      "metadata": {
        "id": "GbY3UPzm1uAs"
      },
      "source": [
        ""
      ],
      "execution_count": null,
      "outputs": []
    },
    {
      "cell_type": "code",
      "metadata": {
        "colab": {
          "base_uri": "https://localhost:8080/"
        },
        "id": "HXSPvOhEw5CJ",
        "outputId": "1d09843f-df09-4364-d37e-3c05582d2c77"
      },
      "source": [
        "m_l=max(len(item) for item in tts)\n",
        "m_l"
      ],
      "execution_count": null,
      "outputs": [
        {
          "output_type": "execute_result",
          "data": {
            "text/plain": [
              "7"
            ]
          },
          "metadata": {
            "tags": []
          },
          "execution_count": 76
        }
      ]
    },
    {
      "cell_type": "code",
      "metadata": {
        "colab": {
          "base_uri": "https://localhost:8080/"
        },
        "id": "39PXHkrayxgF",
        "outputId": "e39b0ac3-572e-41ce-d548-3c10eb6a8016"
      },
      "source": [
        "for i in tts:\n",
        "  while len(i)<m_l:\n",
        "    i.append(0)\n",
        "\n",
        "np.array(tts)"
      ],
      "execution_count": null,
      "outputs": [
        {
          "output_type": "execute_result",
          "data": {
            "text/plain": [
              "array([[ 1,  5,  0,  0,  0,  0,  0],\n",
              "       [ 1,  8,  5,  0,  0,  0,  0],\n",
              "       [ 1,  3,  5,  0,  0,  0,  0],\n",
              "       [ 9,  2,  0,  0,  0,  0,  0],\n",
              "       [ 2,  4,  3,  2,  0,  0,  0],\n",
              "       [ 3,  2,  0,  0,  0,  0,  0],\n",
              "       [ 1,  4,  6,  0,  0,  0,  0],\n",
              "       [ 1,  4,  6,  0,  0,  0,  0],\n",
              "       [ 1,  4,  2,  0,  0,  0,  0],\n",
              "       [ 7,  7,  3,  2, 10,  1, 11],\n",
              "       [ 1, 12,  3, 13,  0,  0,  0]])"
            ]
          },
          "metadata": {
            "tags": []
          },
          "execution_count": 80
        }
      ]
    },
    {
      "cell_type": "code",
      "metadata": {
        "id": "IddYxJodzkxd"
      },
      "source": [
        "from tensorflow.keras.preprocessing.sequence import pad_sequences"
      ],
      "execution_count": null,
      "outputs": []
    },
    {
      "cell_type": "code",
      "metadata": {
        "colab": {
          "base_uri": "https://localhost:8080/"
        },
        "id": "yJoPPp9v1mHB",
        "outputId": "8b9c5556-182f-4901-fcee-5a2fcc08a2d0"
      },
      "source": [
        "tts=tok.texts_to_sequences(sentences)\n",
        "tts"
      ],
      "execution_count": null,
      "outputs": [
        {
          "output_type": "execute_result",
          "data": {
            "text/plain": [
              "[[1, 5],\n",
              " [1, 8, 5],\n",
              " [1, 3, 5],\n",
              " [9, 2],\n",
              " [2, 4, 3, 2],\n",
              " [3, 2],\n",
              " [1, 4, 6],\n",
              " [1, 4, 6],\n",
              " [1, 4, 2],\n",
              " [7, 7, 3, 2, 10, 1, 11],\n",
              " [1, 12, 3, 13]]"
            ]
          },
          "metadata": {
            "tags": []
          },
          "execution_count": 82
        }
      ]
    },
    {
      "cell_type": "code",
      "metadata": {
        "colab": {
          "base_uri": "https://localhost:8080/"
        },
        "id": "ZveQ1WdE18mr",
        "outputId": "f220a9cf-0dae-41a2-90cc-9c551157d04e"
      },
      "source": [
        "pd=pad_sequences(tts)\n",
        "pd"
      ],
      "execution_count": null,
      "outputs": [
        {
          "output_type": "execute_result",
          "data": {
            "text/plain": [
              "array([[ 0,  0,  0,  0,  0,  1,  5],\n",
              "       [ 0,  0,  0,  0,  1,  8,  5],\n",
              "       [ 0,  0,  0,  0,  1,  3,  5],\n",
              "       [ 0,  0,  0,  0,  0,  9,  2],\n",
              "       [ 0,  0,  0,  2,  4,  3,  2],\n",
              "       [ 0,  0,  0,  0,  0,  3,  2],\n",
              "       [ 0,  0,  0,  0,  1,  4,  6],\n",
              "       [ 0,  0,  0,  0,  1,  4,  6],\n",
              "       [ 0,  0,  0,  0,  1,  4,  2],\n",
              "       [ 7,  7,  3,  2, 10,  1, 11],\n",
              "       [ 0,  0,  0,  1, 12,  3, 13]], dtype=int32)"
            ]
          },
          "metadata": {
            "tags": []
          },
          "execution_count": 83
        }
      ]
    },
    {
      "cell_type": "code",
      "metadata": {
        "colab": {
          "base_uri": "https://localhost:8080/"
        },
        "id": "Dvs4FFJP2COh",
        "outputId": "d2e4d73f-7780-4f32-f380-c464af4978b1"
      },
      "source": [
        "pd=pad_sequences(tts,padding='post')\n",
        "pd"
      ],
      "execution_count": null,
      "outputs": [
        {
          "output_type": "execute_result",
          "data": {
            "text/plain": [
              "array([[ 1,  5,  0,  0,  0,  0,  0],\n",
              "       [ 1,  8,  5,  0,  0,  0,  0],\n",
              "       [ 1,  3,  5,  0,  0,  0,  0],\n",
              "       [ 9,  2,  0,  0,  0,  0,  0],\n",
              "       [ 2,  4,  3,  2,  0,  0,  0],\n",
              "       [ 3,  2,  0,  0,  0,  0,  0],\n",
              "       [ 1,  4,  6,  0,  0,  0,  0],\n",
              "       [ 1,  4,  6,  0,  0,  0,  0],\n",
              "       [ 1,  4,  2,  0,  0,  0,  0],\n",
              "       [ 7,  7,  3,  2, 10,  1, 11],\n",
              "       [ 1, 12,  3, 13,  0,  0,  0]], dtype=int32)"
            ]
          },
          "metadata": {
            "tags": []
          },
          "execution_count": 84
        }
      ]
    },
    {
      "cell_type": "code",
      "metadata": {
        "colab": {
          "base_uri": "https://localhost:8080/"
        },
        "id": "cBw_N0Qj2JNi",
        "outputId": "66720eb5-103c-458a-e435-91a4bb541670"
      },
      "source": [
        "pd=pad_sequences(tts, padding='post', maxlen=5)\n",
        "pd"
      ],
      "execution_count": null,
      "outputs": [
        {
          "output_type": "execute_result",
          "data": {
            "text/plain": [
              "array([[ 1,  5,  0,  0,  0],\n",
              "       [ 1,  8,  5,  0,  0],\n",
              "       [ 1,  3,  5,  0,  0],\n",
              "       [ 9,  2,  0,  0,  0],\n",
              "       [ 2,  4,  3,  2,  0],\n",
              "       [ 3,  2,  0,  0,  0],\n",
              "       [ 1,  4,  6,  0,  0],\n",
              "       [ 1,  4,  6,  0,  0],\n",
              "       [ 1,  4,  2,  0,  0],\n",
              "       [ 3,  2, 10,  1, 11],\n",
              "       [ 1, 12,  3, 13,  0]], dtype=int32)"
            ]
          },
          "metadata": {
            "tags": []
          },
          "execution_count": 85
        }
      ]
    },
    {
      "cell_type": "code",
      "metadata": {
        "colab": {
          "base_uri": "https://localhost:8080/"
        },
        "id": "pFI-pUU92d3n",
        "outputId": "dd176efa-367f-46b7-c802-5babc4ecdd11"
      },
      "source": [
        "one_added=len(tok.word_index)+1\n",
        "one_added"
      ],
      "execution_count": null,
      "outputs": [
        {
          "output_type": "execute_result",
          "data": {
            "text/plain": [
              "14"
            ]
          },
          "metadata": {
            "tags": []
          },
          "execution_count": 86
        }
      ]
    },
    {
      "cell_type": "code",
      "metadata": {
        "colab": {
          "base_uri": "https://localhost:8080/"
        },
        "id": "dbpV3i9f212w",
        "outputId": "8c988486-acf7-48b5-9b56-2356d115dce7"
      },
      "source": [
        "pd=pad_sequences(tts, value=one_added)\n",
        "pd"
      ],
      "execution_count": null,
      "outputs": [
        {
          "output_type": "execute_result",
          "data": {
            "text/plain": [
              "array([[14, 14, 14, 14, 14,  1,  5],\n",
              "       [14, 14, 14, 14,  1,  8,  5],\n",
              "       [14, 14, 14, 14,  1,  3,  5],\n",
              "       [14, 14, 14, 14, 14,  9,  2],\n",
              "       [14, 14, 14,  2,  4,  3,  2],\n",
              "       [14, 14, 14, 14, 14,  3,  2],\n",
              "       [14, 14, 14, 14,  1,  4,  6],\n",
              "       [14, 14, 14, 14,  1,  4,  6],\n",
              "       [14, 14, 14, 14,  1,  4,  2],\n",
              "       [ 7,  7,  3,  2, 10,  1, 11],\n",
              "       [14, 14, 14,  1, 12,  3, 13]], dtype=int32)"
            ]
          },
          "metadata": {
            "tags": []
          },
          "execution_count": 87
        }
      ]
    },
    {
      "cell_type": "code",
      "metadata": {
        "colab": {
          "base_uri": "https://localhost:8080/"
        },
        "id": "cH4JllgI5-2B",
        "outputId": "16908d0e-dff1-4858-8428-cd94fe3a14fd"
      },
      "source": [
        "X,y=zip(['a',1],['b',2],['c',3])\n",
        "X"
      ],
      "execution_count": null,
      "outputs": [
        {
          "output_type": "execute_result",
          "data": {
            "text/plain": [
              "('a', 'b', 'c')"
            ]
          },
          "metadata": {
            "tags": []
          },
          "execution_count": 88
        }
      ]
    },
    {
      "cell_type": "code",
      "metadata": {
        "colab": {
          "base_uri": "https://localhost:8080/"
        },
        "id": "LkeEeV3aD3OA",
        "outputId": "d1b69481-d644-4b68-dcd6-ae938afbf826"
      },
      "source": [
        "y"
      ],
      "execution_count": null,
      "outputs": [
        {
          "output_type": "execute_result",
          "data": {
            "text/plain": [
              "(1, 2, 3)"
            ]
          },
          "metadata": {
            "tags": []
          },
          "execution_count": 89
        }
      ]
    },
    {
      "cell_type": "code",
      "metadata": {
        "colab": {
          "base_uri": "https://localhost:8080/"
        },
        "id": "qXQZ2iIFD4P1",
        "outputId": "bbdbc4bb-5f89-4f8e-bb8f-e3ae94e2da9d"
      },
      "source": [
        "sequences=(['a',1],['b',2],['c',3])\n",
        "X,y=zip(*sequences)\n",
        "X"
      ],
      "execution_count": null,
      "outputs": [
        {
          "output_type": "execute_result",
          "data": {
            "text/plain": [
              "('a', 'b', 'c')"
            ]
          },
          "metadata": {
            "tags": []
          },
          "execution_count": 91
        }
      ]
    },
    {
      "cell_type": "code",
      "metadata": {
        "colab": {
          "base_uri": "https://localhost:8080/"
        },
        "id": "LvIQp0wMD-76",
        "outputId": "15850bf4-e82b-43df-fb1f-dfc00f984223"
      },
      "source": [
        "y"
      ],
      "execution_count": null,
      "outputs": [
        {
          "output_type": "execute_result",
          "data": {
            "text/plain": [
              "(1, 2, 3)"
            ]
          },
          "metadata": {
            "tags": []
          },
          "execution_count": 92
        }
      ]
    },
    {
      "cell_type": "code",
      "metadata": {
        "colab": {
          "base_uri": "https://localhost:8080/",
          "height": 173
        },
        "id": "GQ5HXUhXEg9i",
        "outputId": "ad0591b0-e0d9-4bab-e6b4-b2784b76f422"
      },
      "source": [
        "import pandas as pd\n",
        "\n",
        "values=[['A barber is a person. a barber is good person.',1],\n",
        "['a barber is huge person.',0],\n",
        "['he Knew A Secret!',0],\n",
        "['The Secret He Kept is huge secret.',1]]\n",
        "columns=['mail','existence and nonexistence']\n",
        "\n",
        "df=pd.DataFrame(values,columns=columns)\n",
        "df"
      ],
      "execution_count": null,
      "outputs": [
        {
          "output_type": "execute_result",
          "data": {
            "text/html": [
              "<div>\n",
              "<style scoped>\n",
              "    .dataframe tbody tr th:only-of-type {\n",
              "        vertical-align: middle;\n",
              "    }\n",
              "\n",
              "    .dataframe tbody tr th {\n",
              "        vertical-align: top;\n",
              "    }\n",
              "\n",
              "    .dataframe thead th {\n",
              "        text-align: right;\n",
              "    }\n",
              "</style>\n",
              "<table border=\"1\" class=\"dataframe\">\n",
              "  <thead>\n",
              "    <tr style=\"text-align: right;\">\n",
              "      <th></th>\n",
              "      <th>mail</th>\n",
              "      <th>existence and nonexistence</th>\n",
              "    </tr>\n",
              "  </thead>\n",
              "  <tbody>\n",
              "    <tr>\n",
              "      <th>0</th>\n",
              "      <td>A barber is a person. a barber is good person.</td>\n",
              "      <td>1</td>\n",
              "    </tr>\n",
              "    <tr>\n",
              "      <th>1</th>\n",
              "      <td>a barber is huge person.</td>\n",
              "      <td>0</td>\n",
              "    </tr>\n",
              "    <tr>\n",
              "      <th>2</th>\n",
              "      <td>he Knew A Secret!</td>\n",
              "      <td>0</td>\n",
              "    </tr>\n",
              "    <tr>\n",
              "      <th>3</th>\n",
              "      <td>The Secret He Kept is huge secret.</td>\n",
              "      <td>1</td>\n",
              "    </tr>\n",
              "  </tbody>\n",
              "</table>\n",
              "</div>"
            ],
            "text/plain": [
              "                                             mail  existence and nonexistence\n",
              "0  A barber is a person. a barber is good person.                           1\n",
              "1                        a barber is huge person.                           0\n",
              "2                               he Knew A Secret!                           0\n",
              "3              The Secret He Kept is huge secret.                           1"
            ]
          },
          "metadata": {
            "tags": []
          },
          "execution_count": 96
        }
      ]
    },
    {
      "cell_type": "code",
      "metadata": {
        "id": "r2i6d0kJGor_"
      },
      "source": [
        "X=df['mail']\n",
        "y=df['existence and nonexistence']"
      ],
      "execution_count": null,
      "outputs": []
    },
    {
      "cell_type": "code",
      "metadata": {
        "colab": {
          "base_uri": "https://localhost:8080/"
        },
        "id": "RQz6nOcNHEh7",
        "outputId": "84dd011a-dcf1-48c4-c2f4-38a3857cc6ac"
      },
      "source": [
        "X"
      ],
      "execution_count": null,
      "outputs": [
        {
          "output_type": "execute_result",
          "data": {
            "text/plain": [
              "0    A barber is a person. a barber is good person.\n",
              "1                          a barber is huge person.\n",
              "2                                 he Knew A Secret!\n",
              "3                The Secret He Kept is huge secret.\n",
              "Name: mail, dtype: object"
            ]
          },
          "metadata": {
            "tags": []
          },
          "execution_count": 98
        }
      ]
    },
    {
      "cell_type": "code",
      "metadata": {
        "colab": {
          "base_uri": "https://localhost:8080/"
        },
        "id": "Gge-z12XHFOv",
        "outputId": "830b48fd-e49a-4e47-e9ec-25c801413b4e"
      },
      "source": [
        "y"
      ],
      "execution_count": null,
      "outputs": [
        {
          "output_type": "execute_result",
          "data": {
            "text/plain": [
              "0    1\n",
              "1    0\n",
              "2    0\n",
              "3    1\n",
              "Name: existence and nonexistence, dtype: int64"
            ]
          },
          "metadata": {
            "tags": []
          },
          "execution_count": 99
        }
      ]
    },
    {
      "cell_type": "code",
      "metadata": {
        "colab": {
          "base_uri": "https://localhost:8080/"
        },
        "id": "H-bda3wlHGmz",
        "outputId": "53a99581-b66f-4691-87a6-9a13330d3d9d"
      },
      "source": [
        "import numpy as np\n",
        "ar=np.arange(0,16).reshape(4,4)\n",
        "ar"
      ],
      "execution_count": null,
      "outputs": [
        {
          "output_type": "execute_result",
          "data": {
            "text/plain": [
              "array([[ 0,  1,  2,  3],\n",
              "       [ 4,  5,  6,  7],\n",
              "       [ 8,  9, 10, 11],\n",
              "       [12, 13, 14, 15]])"
            ]
          },
          "metadata": {
            "tags": []
          },
          "execution_count": 101
        }
      ]
    },
    {
      "cell_type": "code",
      "metadata": {
        "colab": {
          "base_uri": "https://localhost:8080/"
        },
        "id": "D7HmRpRoHcR8",
        "outputId": "d277e070-d53a-4d41-b045-bdb5195af515"
      },
      "source": [
        "X=ar[:,:3]\n",
        "X"
      ],
      "execution_count": null,
      "outputs": [
        {
          "output_type": "execute_result",
          "data": {
            "text/plain": [
              "array([[ 0,  1,  2],\n",
              "       [ 4,  5,  6],\n",
              "       [ 8,  9, 10],\n",
              "       [12, 13, 14]])"
            ]
          },
          "metadata": {
            "tags": []
          },
          "execution_count": 102
        }
      ]
    },
    {
      "cell_type": "code",
      "metadata": {
        "colab": {
          "base_uri": "https://localhost:8080/"
        },
        "id": "bLbOTZ--HqQt",
        "outputId": "f0c438d3-1dd9-4d1e-886b-e5226799c24a"
      },
      "source": [
        "y=ar[:,3]\n",
        "y"
      ],
      "execution_count": null,
      "outputs": [
        {
          "output_type": "execute_result",
          "data": {
            "text/plain": [
              "array([ 3,  7, 11, 15])"
            ]
          },
          "metadata": {
            "tags": []
          },
          "execution_count": 103
        }
      ]
    },
    {
      "cell_type": "code",
      "metadata": {
        "id": "82Uu9kFpHxTC"
      },
      "source": [
        "from sklearn.model_selection import train_test_split\n",
        "X_train, X_test, y_train, y_test=train_test_split(X,y, test_size=0.2, random_state=1234)"
      ],
      "execution_count": null,
      "outputs": []
    },
    {
      "cell_type": "code",
      "metadata": {
        "colab": {
          "base_uri": "https://localhost:8080/"
        },
        "id": "n27nv3DgJcw3",
        "outputId": "833bd9a0-40b2-492f-87cd-b9bb1554a263"
      },
      "source": [
        "X,y=np.arange(10).reshape(5,2), range(5)\n",
        "print(X)\n",
        "print(list(y))"
      ],
      "execution_count": null,
      "outputs": [
        {
          "output_type": "stream",
          "text": [
            "[[0 1]\n",
            " [2 3]\n",
            " [4 5]\n",
            " [6 7]\n",
            " [8 9]]\n",
            "[0, 1, 2, 3, 4]\n"
          ],
          "name": "stdout"
        }
      ]
    },
    {
      "cell_type": "code",
      "metadata": {
        "colab": {
          "base_uri": "https://localhost:8080/"
        },
        "id": "sOLAT5HwKplY",
        "outputId": "2c2e81d0-8299-49c6-d157-a6adb93e3b63"
      },
      "source": [
        "X_train, X_test, y_train, y_test=train_test_split(X,y, test_size=0.33, random_state=1234)\n",
        "print(X_train)\n",
        "print(X_test)\n",
        "print(y_train)\n",
        "print(y_test)"
      ],
      "execution_count": null,
      "outputs": [
        {
          "output_type": "stream",
          "text": [
            "[[2 3]\n",
            " [4 5]\n",
            " [6 7]]\n",
            "[[8 9]\n",
            " [0 1]]\n",
            "[1, 2, 3]\n",
            "[4, 0]\n"
          ],
          "name": "stdout"
        }
      ]
    },
    {
      "cell_type": "code",
      "metadata": {
        "colab": {
          "base_uri": "https://localhost:8080/"
        },
        "id": "Ae8xx6qLO6CN",
        "outputId": "2af2f7a2-0eb3-48bb-f577-9b46cc3310a8"
      },
      "source": [
        "X,y=np.arange(0,24).reshape(12,2), range(12)\n",
        "print(X)\n",
        "print(list(y))"
      ],
      "execution_count": null,
      "outputs": [
        {
          "output_type": "stream",
          "text": [
            "[[ 0  1]\n",
            " [ 2  3]\n",
            " [ 4  5]\n",
            " [ 6  7]\n",
            " [ 8  9]\n",
            " [10 11]\n",
            " [12 13]\n",
            " [14 15]\n",
            " [16 17]\n",
            " [18 19]\n",
            " [20 21]\n",
            " [22 23]]\n",
            "[0, 1, 2, 3, 4, 5, 6, 7, 8, 9, 10, 11]\n"
          ],
          "name": "stdout"
        }
      ]
    },
    {
      "cell_type": "code",
      "metadata": {
        "colab": {
          "base_uri": "https://localhost:8080/"
        },
        "id": "Nr4fwcr_WOzW",
        "outputId": "6d5b680e-c096-4163-a266-876cc62f8dad"
      },
      "source": [
        "n_of_train=int(len(X)*0.8)\n",
        "n_of_test=int(len(X)-n_of_train)\n",
        "print(n_of_train)\n",
        "print(n_of_test)"
      ],
      "execution_count": null,
      "outputs": [
        {
          "output_type": "stream",
          "text": [
            "9\n",
            "3\n"
          ],
          "name": "stdout"
        }
      ]
    },
    {
      "cell_type": "code",
      "metadata": {
        "colab": {
          "base_uri": "https://localhost:8080/"
        },
        "id": "N7Bi58xMWi9i",
        "outputId": "d78defd9-b3ba-4d24-f888-115871554e51"
      },
      "source": [
        "X_train=X[:n_of_train]\n",
        "y_train=y[:n_of_train]\n",
        "X_test=X[n_of_train:]\n",
        "y_test=y[n_of_train:]\n",
        "print(X_train,'\\n')\n",
        "print(X_test,'\\n')\n",
        "print(y_train,'\\n')\n",
        "print(y_test)"
      ],
      "execution_count": null,
      "outputs": [
        {
          "output_type": "stream",
          "text": [
            "[[ 0  1]\n",
            " [ 2  3]\n",
            " [ 4  5]\n",
            " [ 6  7]\n",
            " [ 8  9]\n",
            " [10 11]\n",
            " [12 13]\n",
            " [14 15]\n",
            " [16 17]] \n",
            "\n",
            "[[18 19]\n",
            " [20 21]\n",
            " [22 23]] \n",
            "\n",
            "range(0, 9) \n",
            "\n",
            "range(9, 12)\n"
          ],
          "name": "stdout"
        }
      ]
    },
    {
      "cell_type": "code",
      "metadata": {
        "id": "n0LzNH-QX9ni"
      },
      "source": [
        "from sklearn.feature_extraction.text import CountVectorizer"
      ],
      "execution_count": null,
      "outputs": []
    },
    {
      "cell_type": "code",
      "metadata": {
        "colab": {
          "base_uri": "https://localhost:8080/"
        },
        "id": "N4a6KPAJRkVD",
        "outputId": "14e8041e-c70b-4784-ec84-867af42d551c"
      },
      "source": [
        "corpus=['you know I want your love. because I love you.']\n",
        "cv=CountVectorizer()\n",
        "print(cv.fit_transform(corpus).toarray())\n",
        "print(cv.vocabulary_)"
      ],
      "execution_count": null,
      "outputs": [
        {
          "output_type": "stream",
          "text": [
            "[[1 1 2 1 2 1]]\n",
            "{'you': 4, 'know': 1, 'want': 3, 'your': 5, 'love': 2, 'because': 0}\n"
          ],
          "name": "stdout"
        }
      ]
    },
    {
      "cell_type": "code",
      "metadata": {
        "colab": {
          "base_uri": "https://localhost:8080/"
        },
        "id": "_jePsqsjSNTB",
        "outputId": "f218b6db-af7a-414e-c5a8-d4610a2ecb3d"
      },
      "source": [
        "from nltk.corpus import stopwords\n",
        "text=[\"Family is not an important thing. It's everything.\"]\n",
        "# sw=set(stopwords.words('english'))\n",
        "cv=CountVectorizer(stopwords.words('english'))\n",
        "print(cv.fit_transform(text).toarray())\n",
        "print(cv.vocabulary_)"
      ],
      "execution_count": null,
      "outputs": [
        {
          "output_type": "stream",
          "text": [
            "[[1 1 1 1 1 1 1 1]]\n",
            "{'family': 2, 'is': 4, 'not': 6, 'an': 0, 'important': 3, 'thing': 7, 'it': 5, 'everything': 1}\n"
          ],
          "name": "stdout"
        }
      ]
    },
    {
      "cell_type": "code",
      "metadata": {
        "colab": {
          "base_uri": "https://localhost:8080/"
        },
        "id": "7X5EIX-mgfbi",
        "outputId": "717a078e-e6b4-4c6b-bcb1-3f9fee209acb"
      },
      "source": [
        "text=[\"Family is not an important thing. It's everything.\"]\n",
        "cv=CountVectorizer(stop_words='english')\n",
        "print(cv.fit_transform(text).toarray())\n",
        "print(cv.vocabulary_)"
      ],
      "execution_count": null,
      "outputs": [
        {
          "output_type": "stream",
          "text": [
            "[[1 1 1]]\n",
            "{'family': 0, 'important': 1, 'thing': 2}\n"
          ],
          "name": "stdout"
        }
      ]
    },
    {
      "cell_type": "code",
      "metadata": {
        "id": "OuEiUSqihLTV"
      },
      "source": [
        "import pandas as pd\n",
        "from math import log"
      ],
      "execution_count": null,
      "outputs": []
    },
    {
      "cell_type": "code",
      "metadata": {
        "colab": {
          "base_uri": "https://localhost:8080/"
        },
        "id": "x-eZqaxjqa7B",
        "outputId": "90c999f0-56fa-495c-f309-ab947d6f215c"
      },
      "source": [
        "docs=['This movie is very scary and long',\n",
        "      'This movie is not scary and is slow',\n",
        "      'This movie is spooky and good']\n",
        "\n",
        "vocab=list(set(w for doc in docs for w in doc.split()))\n",
        "vocab"
      ],
      "execution_count": null,
      "outputs": [
        {
          "output_type": "execute_result",
          "data": {
            "text/plain": [
              "['is',\n",
              " 'slow',\n",
              " 'and',\n",
              " 'This',\n",
              " 'not',\n",
              " 'spooky',\n",
              " 'good',\n",
              " 'very',\n",
              " 'scary',\n",
              " 'movie',\n",
              " 'long']"
            ]
          },
          "metadata": {
            "tags": []
          },
          "execution_count": 12
        }
      ]
    },
    {
      "cell_type": "code",
      "metadata": {
        "id": "T3Bt7IpMrUEv"
      },
      "source": [
        "vocab.sort()"
      ],
      "execution_count": null,
      "outputs": []
    },
    {
      "cell_type": "code",
      "metadata": {
        "colab": {
          "base_uri": "https://localhost:8080/"
        },
        "id": "4nVcQn80rsY0",
        "outputId": "18039aa1-f7ca-42d6-fe29-668c008fc8ce"
      },
      "source": [
        "N=len(docs)\n",
        "\n",
        "def tf(t,d):\n",
        "  return d.count(t)\n",
        "\n",
        "def idf(t):\n",
        "  df=0\n",
        "  for doc in docs:\n",
        "    df+=t in doc\n",
        "  return log(N/(1+df))\n",
        "\n",
        "def tfidf(t,d):\n",
        "  return tf(t,d)*idf(t)\n",
        "\n",
        "result=[]\n",
        "for i in range(N):\n",
        "  result.append([])\n",
        "  d=docs[i]\n",
        "  for j in range(len(vocab)):\n",
        "    t=vocab[j]\n",
        "    result[-1].append(tf(t,d))\n",
        "\n",
        "print(pd.DataFrame(result, columns=vocab))\n",
        "print(result)"
      ],
      "execution_count": null,
      "outputs": [
        {
          "output_type": "stream",
          "text": [
            "   This  and  good  is  long  movie  not  scary  slow  spooky  very\n",
            "0     1    1     0   2     1      1    0      1     0       0     1\n",
            "1     1    1     0   3     0      1    1      1     1       0     0\n",
            "2     1    1     1   2     0      1    0      0     0       1     0\n",
            "[[1, 1, 0, 2, 1, 1, 0, 1, 0, 0, 1], [1, 1, 0, 3, 0, 1, 1, 1, 1, 0, 0], [1, 1, 1, 2, 0, 1, 0, 0, 0, 1, 0]]\n"
          ],
          "name": "stdout"
        }
      ]
    },
    {
      "cell_type": "code",
      "metadata": {
        "colab": {
          "base_uri": "https://localhost:8080/",
          "height": 390
        },
        "id": "CjRiRu5BxaDQ",
        "outputId": "3e692c40-ecc8-4815-9daf-4b275d687069"
      },
      "source": [
        "result=[]\n",
        "for j in range(len(vocab)):\n",
        "  t=vocab[j]\n",
        "  result.append(idf(t))\n",
        "\n",
        "pd.DataFrame(result, index=vocab, columns=['IDF'])"
      ],
      "execution_count": null,
      "outputs": [
        {
          "output_type": "execute_result",
          "data": {
            "text/html": [
              "<div>\n",
              "<style scoped>\n",
              "    .dataframe tbody tr th:only-of-type {\n",
              "        vertical-align: middle;\n",
              "    }\n",
              "\n",
              "    .dataframe tbody tr th {\n",
              "        vertical-align: top;\n",
              "    }\n",
              "\n",
              "    .dataframe thead th {\n",
              "        text-align: right;\n",
              "    }\n",
              "</style>\n",
              "<table border=\"1\" class=\"dataframe\">\n",
              "  <thead>\n",
              "    <tr style=\"text-align: right;\">\n",
              "      <th></th>\n",
              "      <th>IDF</th>\n",
              "    </tr>\n",
              "  </thead>\n",
              "  <tbody>\n",
              "    <tr>\n",
              "      <th>This</th>\n",
              "      <td>-0.287682</td>\n",
              "    </tr>\n",
              "    <tr>\n",
              "      <th>and</th>\n",
              "      <td>-0.287682</td>\n",
              "    </tr>\n",
              "    <tr>\n",
              "      <th>good</th>\n",
              "      <td>0.405465</td>\n",
              "    </tr>\n",
              "    <tr>\n",
              "      <th>is</th>\n",
              "      <td>-0.287682</td>\n",
              "    </tr>\n",
              "    <tr>\n",
              "      <th>long</th>\n",
              "      <td>0.405465</td>\n",
              "    </tr>\n",
              "    <tr>\n",
              "      <th>movie</th>\n",
              "      <td>-0.287682</td>\n",
              "    </tr>\n",
              "    <tr>\n",
              "      <th>not</th>\n",
              "      <td>0.405465</td>\n",
              "    </tr>\n",
              "    <tr>\n",
              "      <th>scary</th>\n",
              "      <td>0.000000</td>\n",
              "    </tr>\n",
              "    <tr>\n",
              "      <th>slow</th>\n",
              "      <td>0.405465</td>\n",
              "    </tr>\n",
              "    <tr>\n",
              "      <th>spooky</th>\n",
              "      <td>0.405465</td>\n",
              "    </tr>\n",
              "    <tr>\n",
              "      <th>very</th>\n",
              "      <td>0.405465</td>\n",
              "    </tr>\n",
              "  </tbody>\n",
              "</table>\n",
              "</div>"
            ],
            "text/plain": [
              "             IDF\n",
              "This   -0.287682\n",
              "and    -0.287682\n",
              "good    0.405465\n",
              "is     -0.287682\n",
              "long    0.405465\n",
              "movie  -0.287682\n",
              "not     0.405465\n",
              "scary   0.000000\n",
              "slow    0.405465\n",
              "spooky  0.405465\n",
              "very    0.405465"
            ]
          },
          "metadata": {
            "tags": []
          },
          "execution_count": 18
        }
      ]
    },
    {
      "cell_type": "code",
      "metadata": {
        "colab": {
          "base_uri": "https://localhost:8080/",
          "height": 213
        },
        "id": "lDdCq51hyEPR",
        "outputId": "c3345d09-278c-4da8-b940-be1404a6d2e4"
      },
      "source": [
        "result=[]\n",
        "for i in range(N):\n",
        "  result.append([])\n",
        "  d=docs[i]\n",
        "  for j in range(len(vocab)):\n",
        "    t=vocab[j]\n",
        "    result[-1].append(tfidf)\n",
        "pd.DataFrame(result, columns=vocab)"
      ],
      "execution_count": null,
      "outputs": [
        {
          "output_type": "execute_result",
          "data": {
            "text/html": [
              "<div>\n",
              "<style scoped>\n",
              "    .dataframe tbody tr th:only-of-type {\n",
              "        vertical-align: middle;\n",
              "    }\n",
              "\n",
              "    .dataframe tbody tr th {\n",
              "        vertical-align: top;\n",
              "    }\n",
              "\n",
              "    .dataframe thead th {\n",
              "        text-align: right;\n",
              "    }\n",
              "</style>\n",
              "<table border=\"1\" class=\"dataframe\">\n",
              "  <thead>\n",
              "    <tr style=\"text-align: right;\">\n",
              "      <th></th>\n",
              "      <th>This</th>\n",
              "      <th>and</th>\n",
              "      <th>good</th>\n",
              "      <th>is</th>\n",
              "      <th>long</th>\n",
              "      <th>movie</th>\n",
              "      <th>not</th>\n",
              "      <th>scary</th>\n",
              "      <th>slow</th>\n",
              "      <th>spooky</th>\n",
              "      <th>very</th>\n",
              "    </tr>\n",
              "  </thead>\n",
              "  <tbody>\n",
              "    <tr>\n",
              "      <th>0</th>\n",
              "      <td>&lt;function tfidf at 0x7f5cb099e7a0&gt;</td>\n",
              "      <td>&lt;function tfidf at 0x7f5cb099e7a0&gt;</td>\n",
              "      <td>&lt;function tfidf at 0x7f5cb099e7a0&gt;</td>\n",
              "      <td>&lt;function tfidf at 0x7f5cb099e7a0&gt;</td>\n",
              "      <td>&lt;function tfidf at 0x7f5cb099e7a0&gt;</td>\n",
              "      <td>&lt;function tfidf at 0x7f5cb099e7a0&gt;</td>\n",
              "      <td>&lt;function tfidf at 0x7f5cb099e7a0&gt;</td>\n",
              "      <td>&lt;function tfidf at 0x7f5cb099e7a0&gt;</td>\n",
              "      <td>&lt;function tfidf at 0x7f5cb099e7a0&gt;</td>\n",
              "      <td>&lt;function tfidf at 0x7f5cb099e7a0&gt;</td>\n",
              "      <td>&lt;function tfidf at 0x7f5cb099e7a0&gt;</td>\n",
              "    </tr>\n",
              "    <tr>\n",
              "      <th>1</th>\n",
              "      <td>&lt;function tfidf at 0x7f5cb099e7a0&gt;</td>\n",
              "      <td>&lt;function tfidf at 0x7f5cb099e7a0&gt;</td>\n",
              "      <td>&lt;function tfidf at 0x7f5cb099e7a0&gt;</td>\n",
              "      <td>&lt;function tfidf at 0x7f5cb099e7a0&gt;</td>\n",
              "      <td>&lt;function tfidf at 0x7f5cb099e7a0&gt;</td>\n",
              "      <td>&lt;function tfidf at 0x7f5cb099e7a0&gt;</td>\n",
              "      <td>&lt;function tfidf at 0x7f5cb099e7a0&gt;</td>\n",
              "      <td>&lt;function tfidf at 0x7f5cb099e7a0&gt;</td>\n",
              "      <td>&lt;function tfidf at 0x7f5cb099e7a0&gt;</td>\n",
              "      <td>&lt;function tfidf at 0x7f5cb099e7a0&gt;</td>\n",
              "      <td>&lt;function tfidf at 0x7f5cb099e7a0&gt;</td>\n",
              "    </tr>\n",
              "    <tr>\n",
              "      <th>2</th>\n",
              "      <td>&lt;function tfidf at 0x7f5cb099e7a0&gt;</td>\n",
              "      <td>&lt;function tfidf at 0x7f5cb099e7a0&gt;</td>\n",
              "      <td>&lt;function tfidf at 0x7f5cb099e7a0&gt;</td>\n",
              "      <td>&lt;function tfidf at 0x7f5cb099e7a0&gt;</td>\n",
              "      <td>&lt;function tfidf at 0x7f5cb099e7a0&gt;</td>\n",
              "      <td>&lt;function tfidf at 0x7f5cb099e7a0&gt;</td>\n",
              "      <td>&lt;function tfidf at 0x7f5cb099e7a0&gt;</td>\n",
              "      <td>&lt;function tfidf at 0x7f5cb099e7a0&gt;</td>\n",
              "      <td>&lt;function tfidf at 0x7f5cb099e7a0&gt;</td>\n",
              "      <td>&lt;function tfidf at 0x7f5cb099e7a0&gt;</td>\n",
              "      <td>&lt;function tfidf at 0x7f5cb099e7a0&gt;</td>\n",
              "    </tr>\n",
              "  </tbody>\n",
              "</table>\n",
              "</div>"
            ],
            "text/plain": [
              "                                 This  ...                                very\n",
              "0  <function tfidf at 0x7f5cb099e7a0>  ...  <function tfidf at 0x7f5cb099e7a0>\n",
              "1  <function tfidf at 0x7f5cb099e7a0>  ...  <function tfidf at 0x7f5cb099e7a0>\n",
              "2  <function tfidf at 0x7f5cb099e7a0>  ...  <function tfidf at 0x7f5cb099e7a0>\n",
              "\n",
              "[3 rows x 11 columns]"
            ]
          },
          "metadata": {
            "tags": []
          },
          "execution_count": 19
        }
      ]
    },
    {
      "cell_type": "code",
      "metadata": {
        "colab": {
          "base_uri": "https://localhost:8080/"
        },
        "id": "K5-VQsVJy5ut",
        "outputId": "8aa43024-692a-4d08-9a5c-34e0277094e0"
      },
      "source": [
        "from sklearn.feature_extraction.text import CountVectorizer \n",
        "corpus=['you know I want your love',\n",
        "    'I like you',\n",
        "    'what should I do ',]\n",
        "cv=CountVectorizer()\n",
        "print(cv.fit_transform(corpus).toarray())\n",
        "print(cv.vocabulary_)"
      ],
      "execution_count": null,
      "outputs": [
        {
          "output_type": "stream",
          "text": [
            "[[0 1 0 1 0 1 0 1 1]\n",
            " [0 0 1 0 0 0 0 1 0]\n",
            " [1 0 0 0 1 0 1 0 0]]\n",
            "{'you': 7, 'know': 1, 'want': 5, 'your': 8, 'love': 3, 'like': 2, 'what': 6, 'should': 4, 'do': 0}\n"
          ],
          "name": "stdout"
        }
      ]
    },
    {
      "cell_type": "code",
      "metadata": {
        "id": "SqoT6H-bIdZA"
      },
      "source": [
        "from sklearn.feature_extraction.text import TfidfVectorizer"
      ],
      "execution_count": null,
      "outputs": []
    },
    {
      "cell_type": "code",
      "metadata": {
        "colab": {
          "base_uri": "https://localhost:8080/"
        },
        "id": "NkqPDMVtwW4D",
        "outputId": "11ccef35-ba99-4a55-82c1-8fe05a643f4c"
      },
      "source": [
        "corpus=['you know I want your love',\n",
        "    'I like you',\n",
        "    'what should I do ',]\n",
        "tfidf=TfidfVectorizer().fit(corpus)\n",
        "print(tfidf.transform(corpus).toarray())\n",
        "print(tfidf.vocabulary_)"
      ],
      "execution_count": null,
      "outputs": [
        {
          "output_type": "stream",
          "text": [
            "[[0.         0.46735098 0.         0.46735098 0.         0.46735098\n",
            "  0.         0.35543247 0.46735098]\n",
            " [0.         0.         0.79596054 0.         0.         0.\n",
            "  0.         0.60534851 0.        ]\n",
            " [0.57735027 0.         0.         0.         0.57735027 0.\n",
            "  0.57735027 0.         0.        ]]\n",
            "{'you': 7, 'know': 1, 'want': 5, 'your': 8, 'love': 3, 'like': 2, 'what': 6, 'should': 4, 'do': 0}\n"
          ],
          "name": "stdout"
        }
      ]
    },
    {
      "cell_type": "code",
      "metadata": {
        "id": "TnLC7_5vx0F9"
      },
      "source": [
        "from numpy import dot\n",
        "from numpy.linalg import norm\n",
        "import numpy as np\n",
        "def cos_sim(A,B):\n",
        "  return dot(A,B)/(norm(A)*norm(B))"
      ],
      "execution_count": null,
      "outputs": []
    },
    {
      "cell_type": "code",
      "metadata": {
        "id": "16czgsm-NRyE"
      },
      "source": [
        "doc1=np.array([0,1,1,1])\n",
        "doc2=np.array([1,0,1,1])\n",
        "doc3=np.array([2,0,2,2])"
      ],
      "execution_count": null,
      "outputs": []
    },
    {
      "cell_type": "code",
      "metadata": {
        "colab": {
          "base_uri": "https://localhost:8080/"
        },
        "id": "IdwBOskYNeNz",
        "outputId": "e12d9e02-8316-457c-962b-51b3823c8f48"
      },
      "source": [
        "print(cos_sim(doc1,doc2))\n",
        "print(cos_sim(doc1,doc3))\n",
        "print(cos_sim(doc2,doc3))"
      ],
      "execution_count": null,
      "outputs": [
        {
          "output_type": "stream",
          "text": [
            "0.6666666666666667\n",
            "0.6666666666666667\n",
            "1.0000000000000002\n"
          ],
          "name": "stdout"
        }
      ]
    },
    {
      "cell_type": "code",
      "metadata": {
        "id": "CUZ-GMC9Notp"
      },
      "source": [
        "import pandas as pd\n",
        "from sklearn.feature_extraction.text import TfidfVectorizer\n",
        "from sklearn.metrics.pairwise import linear_kernel"
      ],
      "execution_count": null,
      "outputs": []
    },
    {
      "cell_type": "code",
      "metadata": {
        "colab": {
          "base_uri": "https://localhost:8080/",
          "height": 318
        },
        "id": "kFfeJKuWPExS",
        "outputId": "ab7fcbdb-871f-4fb4-d556-b310c4858b3a"
      },
      "source": [
        "data=pd.read_csv('./movies_metadata.csv', low_memory=False)\n",
        "data.head(2)"
      ],
      "execution_count": null,
      "outputs": [
        {
          "output_type": "execute_result",
          "data": {
            "text/html": [
              "<div>\n",
              "<style scoped>\n",
              "    .dataframe tbody tr th:only-of-type {\n",
              "        vertical-align: middle;\n",
              "    }\n",
              "\n",
              "    .dataframe tbody tr th {\n",
              "        vertical-align: top;\n",
              "    }\n",
              "\n",
              "    .dataframe thead th {\n",
              "        text-align: right;\n",
              "    }\n",
              "</style>\n",
              "<table border=\"1\" class=\"dataframe\">\n",
              "  <thead>\n",
              "    <tr style=\"text-align: right;\">\n",
              "      <th></th>\n",
              "      <th>adult</th>\n",
              "      <th>belongs_to_collection</th>\n",
              "      <th>budget</th>\n",
              "      <th>genres</th>\n",
              "      <th>homepage</th>\n",
              "      <th>id</th>\n",
              "      <th>imdb_id</th>\n",
              "      <th>original_language</th>\n",
              "      <th>original_title</th>\n",
              "      <th>overview</th>\n",
              "      <th>popularity</th>\n",
              "      <th>poster_path</th>\n",
              "      <th>production_companies</th>\n",
              "      <th>production_countries</th>\n",
              "      <th>release_date</th>\n",
              "      <th>revenue</th>\n",
              "      <th>runtime</th>\n",
              "      <th>spoken_languages</th>\n",
              "      <th>status</th>\n",
              "      <th>tagline</th>\n",
              "      <th>title</th>\n",
              "      <th>video</th>\n",
              "      <th>vote_average</th>\n",
              "      <th>vote_count</th>\n",
              "    </tr>\n",
              "  </thead>\n",
              "  <tbody>\n",
              "    <tr>\n",
              "      <th>0</th>\n",
              "      <td>False</td>\n",
              "      <td>{'id': 10194, 'name': 'Toy Story Collection', ...</td>\n",
              "      <td>30000000</td>\n",
              "      <td>[{'id': 16, 'name': 'Animation'}, {'id': 35, '...</td>\n",
              "      <td>http://toystory.disney.com/toy-story</td>\n",
              "      <td>862</td>\n",
              "      <td>tt0114709</td>\n",
              "      <td>en</td>\n",
              "      <td>Toy Story</td>\n",
              "      <td>Led by Woody, Andy's toys live happily in his ...</td>\n",
              "      <td>21.946943</td>\n",
              "      <td>/rhIRbceoE9lR4veEXuwCC2wARtG.jpg</td>\n",
              "      <td>[{'name': 'Pixar Animation Studios', 'id': 3}]</td>\n",
              "      <td>[{'iso_3166_1': 'US', 'name': 'United States o...</td>\n",
              "      <td>1995-10-30</td>\n",
              "      <td>373554033.0</td>\n",
              "      <td>81.0</td>\n",
              "      <td>[{'iso_639_1': 'en', 'name': 'English'}]</td>\n",
              "      <td>Released</td>\n",
              "      <td>NaN</td>\n",
              "      <td>Toy Story</td>\n",
              "      <td>False</td>\n",
              "      <td>7.7</td>\n",
              "      <td>5415.0</td>\n",
              "    </tr>\n",
              "    <tr>\n",
              "      <th>1</th>\n",
              "      <td>False</td>\n",
              "      <td>NaN</td>\n",
              "      <td>65000000</td>\n",
              "      <td>[{'id': 12, 'name': 'Adventure'}, {'id': 14, '...</td>\n",
              "      <td>NaN</td>\n",
              "      <td>8844</td>\n",
              "      <td>tt0113497</td>\n",
              "      <td>en</td>\n",
              "      <td>Jumanji</td>\n",
              "      <td>When siblings Judy and Peter discover an encha...</td>\n",
              "      <td>17.015539</td>\n",
              "      <td>/vzmL6fP7aPKNKPRTFnZmiUfciyV.jpg</td>\n",
              "      <td>[{'name': 'TriStar Pictures', 'id': 559}, {'na...</td>\n",
              "      <td>[{'iso_3166_1': 'US', 'name': 'United States o...</td>\n",
              "      <td>1995-12-15</td>\n",
              "      <td>262797249.0</td>\n",
              "      <td>104.0</td>\n",
              "      <td>[{'iso_639_1': 'en', 'name': 'English'}, {'iso...</td>\n",
              "      <td>Released</td>\n",
              "      <td>Roll the dice and unleash the excitement!</td>\n",
              "      <td>Jumanji</td>\n",
              "      <td>False</td>\n",
              "      <td>6.9</td>\n",
              "      <td>2413.0</td>\n",
              "    </tr>\n",
              "  </tbody>\n",
              "</table>\n",
              "</div>"
            ],
            "text/plain": [
              "   adult  ... vote_count\n",
              "0  False  ...     5415.0\n",
              "1  False  ...     2413.0\n",
              "\n",
              "[2 rows x 24 columns]"
            ]
          },
          "metadata": {
            "tags": []
          },
          "execution_count": 11
        }
      ]
    },
    {
      "cell_type": "code",
      "metadata": {
        "colab": {
          "base_uri": "https://localhost:8080/"
        },
        "id": "Jl7TmbzbPYom",
        "outputId": "a6b81e45-6963-44b6-ff1b-8335d3ffb22c"
      },
      "source": [
        "data.columns"
      ],
      "execution_count": null,
      "outputs": [
        {
          "output_type": "execute_result",
          "data": {
            "text/plain": [
              "Index(['adult', 'belongs_to_collection', 'budget', 'genres', 'homepage', 'id',\n",
              "       'imdb_id', 'original_language', 'original_title', 'overview',\n",
              "       'popularity', 'poster_path', 'production_companies',\n",
              "       'production_countries', 'release_date', 'revenue', 'runtime',\n",
              "       'spoken_languages', 'status', 'tagline', 'title', 'video',\n",
              "       'vote_average', 'vote_count'],\n",
              "      dtype='object')"
            ]
          },
          "metadata": {
            "tags": []
          },
          "execution_count": 12
        }
      ]
    },
    {
      "cell_type": "code",
      "metadata": {
        "colab": {
          "base_uri": "https://localhost:8080/"
        },
        "id": "RA7YNUEyPl2j",
        "outputId": "7f073259-81b8-4ebb-e0aa-ef3144c9bf6c"
      },
      "source": [
        "data.count(axis=0)"
      ],
      "execution_count": null,
      "outputs": [
        {
          "output_type": "execute_result",
          "data": {
            "text/plain": [
              "adult                    30943\n",
              "belongs_to_collection     3460\n",
              "budget                   30943\n",
              "genres                   30943\n",
              "homepage                  5032\n",
              "id                       30943\n",
              "imdb_id                  30931\n",
              "original_language        30940\n",
              "original_title           30943\n",
              "overview                 30572\n",
              "popularity               30939\n",
              "poster_path              30774\n",
              "production_companies     30941\n",
              "production_countries     30941\n",
              "release_date             30910\n",
              "revenue                  30939\n",
              "runtime                  30856\n",
              "spoken_languages         30939\n",
              "status                   30894\n",
              "tagline                  16183\n",
              "title                    30938\n",
              "video                    30938\n",
              "vote_average             30938\n",
              "vote_count               30938\n",
              "dtype: int64"
            ]
          },
          "metadata": {
            "tags": []
          },
          "execution_count": 16
        }
      ]
    },
    {
      "cell_type": "code",
      "metadata": {
        "id": "G1GqIDB8P8Xc"
      },
      "source": [
        "data=data.head(20000)"
      ],
      "execution_count": null,
      "outputs": []
    },
    {
      "cell_type": "code",
      "metadata": {
        "colab": {
          "base_uri": "https://localhost:8080/"
        },
        "id": "n6PmVKlrQcFl",
        "outputId": "06153867-2294-4b47-e7d4-d90515153715"
      },
      "source": [
        "data['overview'].isnull().sum()"
      ],
      "execution_count": null,
      "outputs": [
        {
          "output_type": "execute_result",
          "data": {
            "text/plain": [
              "16"
            ]
          },
          "metadata": {
            "tags": []
          },
          "execution_count": 23
        }
      ]
    },
    {
      "cell_type": "code",
      "metadata": {
        "id": "7jVwq0LkQh4f"
      },
      "source": [
        "data['overview']=data['overview'].fillna('')"
      ],
      "execution_count": null,
      "outputs": []
    },
    {
      "cell_type": "code",
      "metadata": {
        "colab": {
          "base_uri": "https://localhost:8080/"
        },
        "id": "agOvmC8rQvTv",
        "outputId": "d5e4cf5f-adf4-4458-c15b-14b9a92f7c0f"
      },
      "source": [
        "data['overview'].isnull().sum()"
      ],
      "execution_count": null,
      "outputs": [
        {
          "output_type": "execute_result",
          "data": {
            "text/plain": [
              "0"
            ]
          },
          "metadata": {
            "tags": []
          },
          "execution_count": 25
        }
      ]
    },
    {
      "cell_type": "code",
      "metadata": {
        "colab": {
          "base_uri": "https://localhost:8080/"
        },
        "id": "XTqQQTxTeoR-",
        "outputId": "eacf8a78-1d17-47c7-f4bf-356c38c2a096"
      },
      "source": [
        "data['overview'][:5]"
      ],
      "execution_count": null,
      "outputs": [
        {
          "output_type": "execute_result",
          "data": {
            "text/plain": [
              "0    Led by Woody, Andy's toys live happily in his ...\n",
              "1    When siblings Judy and Peter discover an encha...\n",
              "2    A family wedding reignites the ancient feud be...\n",
              "3    Cheated on, mistreated and stepped on, the wom...\n",
              "4    Just when George Banks has recovered from his ...\n",
              "Name: overview, dtype: object"
            ]
          },
          "metadata": {
            "tags": []
          },
          "execution_count": 48
        }
      ]
    },
    {
      "cell_type": "code",
      "metadata": {
        "colab": {
          "base_uri": "https://localhost:8080/"
        },
        "id": "rvOgqD0wQyV-",
        "outputId": "d16e79ed-fbf8-4eb8-928d-1d0fa1fc98bc"
      },
      "source": [
        "tfidf=TfidfVectorizer(stop_words='english')\n",
        "tt=tfidf.fit_transform(data['overview'])\n",
        "\n",
        "print(tt.shape)"
      ],
      "execution_count": null,
      "outputs": [
        {
          "output_type": "stream",
          "text": [
            "(2000, 13918)\n"
          ],
          "name": "stdout"
        }
      ]
    },
    {
      "cell_type": "code",
      "metadata": {
        "colab": {
          "base_uri": "https://localhost:8080/"
        },
        "id": "l5vMM0iIm-8v",
        "outputId": "c5bd4b47-8a46-4e32-a02a-5a46c500d715"
      },
      "source": [
        "tt_array=tfidf.fit_transform(data['overview']).toarray()\n",
        "print(tt_array[:5])"
      ],
      "execution_count": null,
      "outputs": [
        {
          "output_type": "stream",
          "text": [
            "[[0. 0. 0. ... 0. 0. 0.]\n",
            " [0. 0. 0. ... 0. 0. 0.]\n",
            " [0. 0. 0. ... 0. 0. 0.]\n",
            " [0. 0. 0. ... 0. 0. 0.]\n",
            " [0. 0. 0. ... 0. 0. 0.]]\n"
          ],
          "name": "stdout"
        }
      ]
    },
    {
      "cell_type": "code",
      "metadata": {
        "colab": {
          "base_uri": "https://localhost:8080/"
        },
        "id": "uWdnEpQOfur3",
        "outputId": "41094927-f91d-43a4-855a-d96943a7e350"
      },
      "source": [
        "tt[:5]"
      ],
      "execution_count": null,
      "outputs": [
        {
          "output_type": "execute_result",
          "data": {
            "text/plain": [
              "<5x13918 sparse matrix of type '<class 'numpy.float64'>'\n",
              "\twith 135 stored elements in Compressed Sparse Row format>"
            ]
          },
          "metadata": {
            "tags": []
          },
          "execution_count": 53
        }
      ]
    },
    {
      "cell_type": "code",
      "metadata": {
        "colab": {
          "base_uri": "https://localhost:8080/"
        },
        "id": "Zer782miREcZ",
        "outputId": "56d7c285-31be-41b5-fbd6-c6f87fe84e87"
      },
      "source": [
        "cos_sim=linear_kernel(tt, tt)\n",
        "indices=pd.Series(data.index, index=data['title']).drop_duplicates()\n",
        "print(indices.head())"
      ],
      "execution_count": null,
      "outputs": [
        {
          "output_type": "stream",
          "text": [
            "title\n",
            "Toy Story                      0\n",
            "Jumanji                        1\n",
            "Grumpier Old Men               2\n",
            "Waiting to Exhale              3\n",
            "Father of the Bride Part II    4\n",
            "dtype: int64\n"
          ],
          "name": "stdout"
        }
      ]
    },
    {
      "cell_type": "code",
      "metadata": {
        "colab": {
          "base_uri": "https://localhost:8080/"
        },
        "id": "NGYsLhQCWP6I",
        "outputId": "045f2441-7235-4f9c-fb25-45ddac7eb350"
      },
      "source": [
        "cos_sim[:5]"
      ],
      "execution_count": null,
      "outputs": [
        {
          "output_type": "execute_result",
          "data": {
            "text/plain": [
              "array([[1.        , 0.01729311, 0.        , ..., 0.        , 0.        ,\n",
              "        0.02241016],\n",
              "       [0.01729311, 1.        , 0.04843596, ..., 0.        , 0.        ,\n",
              "        0.01222168],\n",
              "       [0.        , 0.04843596, 1.        , ..., 0.        , 0.        ,\n",
              "        0.        ],\n",
              "       [0.        , 0.        , 0.        , ..., 0.        , 0.01530574,\n",
              "        0.        ],\n",
              "       [0.        , 0.        , 0.02726241, ..., 0.        , 0.        ,\n",
              "        0.        ]])"
            ]
          },
          "metadata": {
            "tags": []
          },
          "execution_count": 45
        }
      ]
    },
    {
      "cell_type": "code",
      "metadata": {
        "colab": {
          "base_uri": "https://localhost:8080/"
        },
        "id": "ccx_NXy-UirC",
        "outputId": "6ae6ea94-ff95-4dea-b19d-ac48194016dd"
      },
      "source": [
        "idx=indices['Jumanji']\n",
        "idx"
      ],
      "execution_count": null,
      "outputs": [
        {
          "output_type": "execute_result",
          "data": {
            "text/plain": [
              "1"
            ]
          },
          "metadata": {
            "tags": []
          },
          "execution_count": 62
        }
      ]
    },
    {
      "cell_type": "code",
      "metadata": {
        "id": "DGQ2EEQXVe4z"
      },
      "source": [
        "def get_recom(title, cos_sim=cos_sim):\n",
        "  idx=indices[title]\n",
        "  sim_scores=list(enumerate(cos_sim[idx]))\n",
        "  sim_scores=sorted(sim_scores, key=lambda x:x[1], reverse=True)\n",
        "  sim_scores=sim_scores[1:11]\n",
        "  movie_indices=[i[0] for i in sim_scores]\n",
        "  return data['title'].iloc[movie_indices]"
      ],
      "execution_count": null,
      "outputs": []
    },
    {
      "cell_type": "code",
      "metadata": {
        "colab": {
          "base_uri": "https://localhost:8080/"
        },
        "id": "SILnGa5WiPxc",
        "outputId": "dae3efe9-d28b-4a80-e249-19fa84d10505"
      },
      "source": [
        "get_recom('Toy Story')"
      ],
      "execution_count": null,
      "outputs": [
        {
          "output_type": "execute_result",
          "data": {
            "text/plain": [
              "1071       Rebel Without a Cause\n",
              "1932                   Condorman\n",
              "485                       Malice\n",
              "448            For Love or Money\n",
              "1032               The Sunchaser\n",
              "1884              Child's Play 3\n",
              "748           I Shot Andy Warhol\n",
              "591              Window to Paris\n",
              "314     The Shawshank Redemption\n",
              "180                 Mute Witness\n",
              "Name: title, dtype: object"
            ]
          },
          "metadata": {
            "tags": []
          },
          "execution_count": 65
        }
      ]
    },
    {
      "cell_type": "code",
      "metadata": {
        "id": "Rnu6HMyliP0J"
      },
      "source": [
        ""
      ],
      "execution_count": null,
      "outputs": []
    },
    {
      "cell_type": "code",
      "metadata": {
        "id": "6RsrCTeqiP3R"
      },
      "source": [
        ""
      ],
      "execution_count": null,
      "outputs": []
    },
    {
      "cell_type": "code",
      "metadata": {
        "colab": {
          "base_uri": "https://localhost:8080/"
        },
        "id": "pwa3mk4CY-AK",
        "outputId": "d431d165-590a-415d-d2e7-ee243c8c7507"
      },
      "source": [
        "sorted('This is a test string'.split())"
      ],
      "execution_count": null,
      "outputs": [
        {
          "output_type": "execute_result",
          "data": {
            "text/plain": [
              "['This', 'a', 'is', 'string', 'test']"
            ]
          },
          "metadata": {
            "tags": []
          },
          "execution_count": 40
        }
      ]
    },
    {
      "cell_type": "code",
      "metadata": {
        "colab": {
          "base_uri": "https://localhost:8080/"
        },
        "id": "2AzbxgJBZGfJ",
        "outputId": "4ea26209-05f9-45f1-9813-b77afe61d428"
      },
      "source": [
        "sorted('This is a test string'.split(),key=str.lower)"
      ],
      "execution_count": null,
      "outputs": [
        {
          "output_type": "execute_result",
          "data": {
            "text/plain": [
              "['a', 'is', 'string', 'test', 'This']"
            ]
          },
          "metadata": {
            "tags": []
          },
          "execution_count": 41
        }
      ]
    },
    {
      "cell_type": "code",
      "metadata": {
        "colab": {
          "base_uri": "https://localhost:8080/"
        },
        "id": "G7c47BwkZLE6",
        "outputId": "96134b96-944e-49f1-cbcc-9146623f2387"
      },
      "source": [
        "st=[('john', 'A', 15),('jane', 'B', 12),('dave', 'B', 10)]\n",
        "sorted(st,key=lambda student:student[2])"
      ],
      "execution_count": null,
      "outputs": [
        {
          "output_type": "execute_result",
          "data": {
            "text/plain": [
              "[('dave', 'B', 10), ('jane', 'B', 12), ('john', 'A', 15)]"
            ]
          },
          "metadata": {
            "tags": []
          },
          "execution_count": 42
        }
      ]
    },
    {
      "cell_type": "code",
      "metadata": {
        "colab": {
          "base_uri": "https://localhost:8080/"
        },
        "id": "E03v6ZalZwuo",
        "outputId": "37fca040-4c5b-4e01-fecf-1edd3d32361f"
      },
      "source": [
        "st=[('john', 'A', 15),('jane', 'B', 12),('dave', 'B', 10)]\n",
        "sorted(st,key=lambda student:student[2], reverse=True)"
      ],
      "execution_count": null,
      "outputs": [
        {
          "output_type": "execute_result",
          "data": {
            "text/plain": [
              "[('john', 'A', 15), ('jane', 'B', 12), ('dave', 'B', 10)]"
            ]
          },
          "metadata": {
            "tags": []
          },
          "execution_count": 43
        }
      ]
    },
    {
      "cell_type": "code",
      "metadata": {
        "colab": {
          "base_uri": "https://localhost:8080/"
        },
        "id": "UYPtJB2YaE71",
        "outputId": "fac42af3-74fb-43ea-af6d-b328d96f60d8"
      },
      "source": [
        "pd.Series(data.index)"
      ],
      "execution_count": null,
      "outputs": [
        {
          "output_type": "execute_result",
          "data": {
            "text/plain": [
              "0          0\n",
              "1          1\n",
              "2          2\n",
              "3          3\n",
              "4          4\n",
              "        ... \n",
              "1995    1995\n",
              "1996    1996\n",
              "1997    1997\n",
              "1998    1998\n",
              "1999    1999\n",
              "Length: 2000, dtype: int64"
            ]
          },
          "metadata": {
            "tags": []
          },
          "execution_count": 60
        }
      ]
    },
    {
      "cell_type": "code",
      "metadata": {
        "colab": {
          "base_uri": "https://localhost:8080/"
        },
        "id": "jWJ4NQWVpaA1",
        "outputId": "74aaff05-d2a9-488d-c1f1-52f9bbc15352"
      },
      "source": [
        "data['title'].head()"
      ],
      "execution_count": null,
      "outputs": [
        {
          "output_type": "execute_result",
          "data": {
            "text/plain": [
              "0                      Toy Story\n",
              "1                        Jumanji\n",
              "2               Grumpier Old Men\n",
              "3              Waiting to Exhale\n",
              "4    Father of the Bride Part II\n",
              "Name: title, dtype: object"
            ]
          },
          "metadata": {
            "tags": []
          },
          "execution_count": 61
        }
      ]
    },
    {
      "cell_type": "code",
      "metadata": {
        "id": "waIPa3-gt1Rt"
      },
      "source": [
        "import numpy as np"
      ],
      "execution_count": null,
      "outputs": []
    },
    {
      "cell_type": "code",
      "metadata": {
        "colab": {
          "base_uri": "https://localhost:8080/"
        },
        "id": "ftxgaQ4U1ddq",
        "outputId": "a05c7f48-887a-4439-fb30-c0251bfae135"
      },
      "source": [
        "def distance(x,y):\n",
        "  return np.sqrt(np.sum((x-y)**2))\n",
        "\n",
        "doc1=np.array((2,3,0,1))\n",
        "doc2 = np.array((1,2,3,1))\n",
        "doc3 = np.array((2,1,2,2))\n",
        "docQ = np.array((1,1,0,1))\n",
        "\n",
        "print(distance(doc1,docQ))\n",
        "print(distance(doc2,docQ))\n",
        "print(distance(doc3,docQ))"
      ],
      "execution_count": null,
      "outputs": [
        {
          "output_type": "stream",
          "text": [
            "2.23606797749979\n",
            "3.1622776601683795\n",
            "2.449489742783178\n"
          ],
          "name": "stdout"
        }
      ]
    },
    {
      "cell_type": "code",
      "metadata": {
        "id": "tneCoZbO2VEP"
      },
      "source": [
        "doc1='apple banana everyone like likey watch card holder'\n",
        "doc2='apple banana coupon passport love you'"
      ],
      "execution_count": null,
      "outputs": []
    },
    {
      "cell_type": "code",
      "metadata": {
        "colab": {
          "base_uri": "https://localhost:8080/"
        },
        "id": "IaPxtTJg901o",
        "outputId": "e44d7f68-95e3-4b4d-8fbc-19f1e3db1c78"
      },
      "source": [
        "tok1=doc1.split()\n",
        "tok2=doc2.split()\n",
        "print(tok1)\n",
        "print(tok2)"
      ],
      "execution_count": null,
      "outputs": [
        {
          "output_type": "stream",
          "text": [
            "['apple', 'banana', 'everyone', 'like', 'likey', 'watch', 'card', 'holder']\n",
            "['apple', 'banana', 'coupon', 'passport', 'love', 'you']\n"
          ],
          "name": "stdout"
        }
      ]
    },
    {
      "cell_type": "code",
      "metadata": {
        "colab": {
          "base_uri": "https://localhost:8080/"
        },
        "id": "DXrKnudn-BNg",
        "outputId": "c36b14b0-edc5-46e8-ac41-a0cccae0edd7"
      },
      "source": [
        "union=set(tok1).union(set(tok2))\n",
        "union"
      ],
      "execution_count": null,
      "outputs": [
        {
          "output_type": "execute_result",
          "data": {
            "text/plain": [
              "{'apple',\n",
              " 'banana',\n",
              " 'card',\n",
              " 'coupon',\n",
              " 'everyone',\n",
              " 'holder',\n",
              " 'like',\n",
              " 'likey',\n",
              " 'love',\n",
              " 'passport',\n",
              " 'watch',\n",
              " 'you'}"
            ]
          },
          "metadata": {
            "tags": []
          },
          "execution_count": 7
        }
      ]
    },
    {
      "cell_type": "code",
      "metadata": {
        "colab": {
          "base_uri": "https://localhost:8080/"
        },
        "id": "RQjVOCBQ-cts",
        "outputId": "1a18316d-92fa-497a-9170-0c258f25e385"
      },
      "source": [
        "intersection=set(tok1).intersection(set(tok2))\n",
        "intersection"
      ],
      "execution_count": null,
      "outputs": [
        {
          "output_type": "execute_result",
          "data": {
            "text/plain": [
              "{'apple', 'banana'}"
            ]
          },
          "metadata": {
            "tags": []
          },
          "execution_count": 8
        }
      ]
    },
    {
      "cell_type": "code",
      "metadata": {
        "colab": {
          "base_uri": "https://localhost:8080/"
        },
        "id": "WsZV_gDh-vkF",
        "outputId": "cc8fe339-1b73-4cbc-ab48-d20361693125"
      },
      "source": [
        "len(intersection)/len(union)"
      ],
      "execution_count": null,
      "outputs": [
        {
          "output_type": "execute_result",
          "data": {
            "text/plain": [
              "0.16666666666666666"
            ]
          },
          "metadata": {
            "tags": []
          },
          "execution_count": 9
        }
      ]
    },
    {
      "cell_type": "code",
      "metadata": {
        "id": "-dD60ThrAbq9"
      },
      "source": [
        "import numpy as np\n"
      ],
      "execution_count": null,
      "outputs": []
    },
    {
      "cell_type": "code",
      "metadata": {
        "colab": {
          "base_uri": "https://localhost:8080/"
        },
        "id": "B9ltGHUVLRgK",
        "outputId": "3c340e65-ef9c-495e-f8c0-e3d3a8aeb23e"
      },
      "source": [
        "A=np.array([[0,0,0,1,0,1,1,0,0],[0,0,0,1,1,0,1,0,0],[0,1,1,0,2,0,0,0,0],[1,0,0,0,0,0,0,1,1]])\n",
        "np.shape(A)"
      ],
      "execution_count": null,
      "outputs": [
        {
          "output_type": "execute_result",
          "data": {
            "text/plain": [
              "(4, 9)"
            ]
          },
          "metadata": {
            "tags": []
          },
          "execution_count": 33
        }
      ]
    },
    {
      "cell_type": "code",
      "metadata": {
        "colab": {
          "base_uri": "https://localhost:8080/"
        },
        "id": "fV8reXd_Lav_",
        "outputId": "d573e553-4549-42dc-cf06-bdc5f8d216e5"
      },
      "source": [
        "U,s,VT=np.linalg.svd(a,full_matrices=True)\n",
        "print(U.round(2),'\\n')\n",
        "print(s.round(2),'\\n')\n",
        "print(VT.round(2))"
      ],
      "execution_count": null,
      "outputs": [
        {
          "output_type": "stream",
          "text": [
            "[[-0.24  0.75  0.   -0.62]\n",
            " [-0.51  0.44 -0.    0.74]\n",
            " [-0.83 -0.49 -0.   -0.27]\n",
            " [-0.   -0.    1.    0.  ]] \n",
            "\n",
            "[2.69 2.05 1.73 0.77] \n",
            "\n",
            "[[-0.   -0.31 -0.31 -0.28 -0.8  -0.09 -0.28 -0.   -0.  ]\n",
            " [ 0.   -0.24 -0.24  0.58 -0.26  0.37  0.58 -0.   -0.  ]\n",
            " [ 0.58 -0.    0.    0.   -0.    0.   -0.    0.58  0.58]\n",
            " [ 0.   -0.35 -0.35  0.16  0.25 -0.8   0.16 -0.   -0.  ]\n",
            " [-0.   -0.78 -0.01 -0.2   0.4   0.4  -0.2   0.    0.  ]\n",
            " [-0.29  0.31 -0.78 -0.24  0.23  0.23  0.01  0.14  0.14]\n",
            " [-0.29 -0.1   0.26 -0.59 -0.08 -0.08  0.66  0.14  0.14]\n",
            " [-0.5  -0.06  0.15  0.24 -0.05 -0.05 -0.19  0.75 -0.25]\n",
            " [-0.5  -0.06  0.15  0.24 -0.05 -0.05 -0.19 -0.25  0.75]]\n"
          ],
          "name": "stdout"
        }
      ]
    },
    {
      "cell_type": "code",
      "metadata": {
        "colab": {
          "base_uri": "https://localhost:8080/"
        },
        "id": "i5ok8mP-Lx66",
        "outputId": "1fa915fb-ccf3-4a4a-c852-68cc3e303bf9"
      },
      "source": [
        "a=np.array([[1,2,3],[4,5,6]])\n",
        "a[:2,:2]"
      ],
      "execution_count": null,
      "outputs": [
        {
          "output_type": "execute_result",
          "data": {
            "text/plain": [
              "array([[1, 2],\n",
              "       [4, 5]])"
            ]
          },
          "metadata": {
            "tags": []
          },
          "execution_count": 21
        }
      ]
    },
    {
      "cell_type": "code",
      "metadata": {
        "colab": {
          "base_uri": "https://localhost:8080/"
        },
        "id": "4AEfkJheNGRl",
        "outputId": "8037ffe0-f687-493f-fb8b-7200f8bdf456"
      },
      "source": [
        "S=np.zeros((4,9))\n",
        "print(S,'\\n')\n",
        "S[:4,:4]"
      ],
      "execution_count": null,
      "outputs": [
        {
          "output_type": "stream",
          "text": [
            "[[0. 0. 0. 0. 0. 0. 0. 0. 0.]\n",
            " [0. 0. 0. 0. 0. 0. 0. 0. 0.]\n",
            " [0. 0. 0. 0. 0. 0. 0. 0. 0.]\n",
            " [0. 0. 0. 0. 0. 0. 0. 0. 0.]] \n",
            "\n"
          ],
          "name": "stdout"
        },
        {
          "output_type": "execute_result",
          "data": {
            "text/plain": [
              "array([[0., 0., 0., 0.],\n",
              "       [0., 0., 0., 0.],\n",
              "       [0., 0., 0., 0.],\n",
              "       [0., 0., 0., 0.]])"
            ]
          },
          "metadata": {
            "tags": []
          },
          "execution_count": 23
        }
      ]
    },
    {
      "cell_type": "code",
      "metadata": {
        "colab": {
          "base_uri": "https://localhost:8080/"
        },
        "id": "b-H9VJFuOI29",
        "outputId": "1f61ad12-6800-4be5-c8e0-53c2b6657cfa"
      },
      "source": [
        "np.diag(s)"
      ],
      "execution_count": null,
      "outputs": [
        {
          "output_type": "execute_result",
          "data": {
            "text/plain": [
              "array([[2.68731789, 0.        , 0.        , 0.        ],\n",
              "       [0.        , 2.04508425, 0.        , 0.        ],\n",
              "       [0.        , 0.        , 1.73205081, 0.        ],\n",
              "       [0.        , 0.        , 0.        , 0.77197992]])"
            ]
          },
          "metadata": {
            "tags": []
          },
          "execution_count": 24
        }
      ]
    },
    {
      "cell_type": "code",
      "metadata": {
        "colab": {
          "base_uri": "https://localhost:8080/"
        },
        "id": "jBWCCv6kOgMP",
        "outputId": "dfcefe48-12b8-4653-d6ce-ba7b4d44157b"
      },
      "source": [
        "S[:4,:4]=np.diag(s)\n",
        "print(S.round(2))"
      ],
      "execution_count": null,
      "outputs": [
        {
          "output_type": "stream",
          "text": [
            "[[2.69 0.   0.   0.   0.   0.   0.   0.   0.  ]\n",
            " [0.   2.05 0.   0.   0.   0.   0.   0.   0.  ]\n",
            " [0.   0.   1.73 0.   0.   0.   0.   0.   0.  ]\n",
            " [0.   0.   0.   0.77 0.   0.   0.   0.   0.  ]]\n"
          ],
          "name": "stdout"
        }
      ]
    },
    {
      "cell_type": "code",
      "metadata": {
        "id": "jZ7FieaKOohu"
      },
      "source": [
        "S=S[:2,:2]\n",
        "U=U[:,:2]\n",
        "VT=VT[:2,:]"
      ],
      "execution_count": null,
      "outputs": []
    },
    {
      "cell_type": "code",
      "metadata": {
        "colab": {
          "base_uri": "https://localhost:8080/"
        },
        "id": "W9lB0elxPISr",
        "outputId": "b79b98d1-9d14-40e9-fb2c-bc3151af0653"
      },
      "source": [
        "A_prime=np.dot(np.dot(U,S),VT)\n",
        "print(A,'\\n')\n",
        "print(A_prime)"
      ],
      "execution_count": null,
      "outputs": [
        {
          "output_type": "stream",
          "text": [
            "[[0 0 0 1 0 1 1 0 0]\n",
            " [0 0 0 1 1 0 1 0 0]\n",
            " [0 1 1 0 2 0 0 0 0]\n",
            " [1 0 0 0 0 0 0 1 1]] \n",
            "\n",
            "[[ 1.06294170e-16 -1.68331693e-01 -1.68331693e-01  1.07644409e+00\n",
            "   1.18172804e-01  6.21607906e-01  1.07644409e+00 -2.82373759e-17\n",
            "  -2.82373759e-17]\n",
            " [ 1.58890262e-16  2.02338650e-01  2.02338650e-01  9.08112402e-01\n",
            "   8.57953513e-01  4.54836189e-01  9.08112402e-01  3.39419894e-17\n",
            "   3.39419894e-17]\n",
            " [ 1.90387008e-16  9.25115881e-01  9.25115881e-01  3.40069574e-02\n",
            "   2.05257041e+00 -1.68331693e-01  3.40069574e-02  1.55186730e-16\n",
            "   1.55186730e-16]\n",
            " [ 2.14417617e-32  8.73702294e-17  8.73702294e-17  2.97991578e-17\n",
            "   2.05923923e-16 -1.38430638e-18  2.97991578e-17  1.46562182e-32\n",
            "   1.46562182e-32]]\n"
          ],
          "name": "stdout"
        }
      ]
    },
    {
      "cell_type": "code",
      "metadata": {
        "id": "_brhs24_PrWD"
      },
      "source": [
        "import pandas as pd\n",
        "from sklearn.datasets import fetch_20newsgroups"
      ],
      "execution_count": null,
      "outputs": []
    },
    {
      "cell_type": "code",
      "metadata": {
        "id": "cDVtuHGuQUo-"
      },
      "source": [
        "dataset=fetch_20newsgroups(shuffle=True, random_state=1, remove=('headers', 'footers','quites'))"
      ],
      "execution_count": null,
      "outputs": []
    },
    {
      "cell_type": "code",
      "metadata": {
        "colab": {
          "base_uri": "https://localhost:8080/"
        },
        "id": "G2jj9wRRQj1N",
        "outputId": "b5d3c902-d469-4216-84a0-09f8b3f10749"
      },
      "source": [
        "type(dataset)"
      ],
      "execution_count": null,
      "outputs": [
        {
          "output_type": "execute_result",
          "data": {
            "text/plain": [
              "sklearn.utils.Bunch"
            ]
          },
          "metadata": {
            "tags": []
          },
          "execution_count": 42
        }
      ]
    },
    {
      "cell_type": "code",
      "metadata": {
        "colab": {
          "base_uri": "https://localhost:8080/"
        },
        "id": "71UFWNk3Q2xF",
        "outputId": "82cfd90b-fc2d-415e-8eaf-40d99fee65bc"
      },
      "source": [
        "doc=dataset.data\n",
        "len(doc)"
      ],
      "execution_count": null,
      "outputs": [
        {
          "output_type": "execute_result",
          "data": {
            "text/plain": [
              "11314"
            ]
          },
          "metadata": {
            "tags": []
          },
          "execution_count": 45
        }
      ]
    },
    {
      "cell_type": "code",
      "metadata": {
        "colab": {
          "base_uri": "https://localhost:8080/",
          "height": 205
        },
        "id": "5AcAZ8byRI4v",
        "outputId": "9e53c7d1-2e21-44d3-be07-0a357d1e4190"
      },
      "source": [
        "doc[1]"
      ],
      "execution_count": null,
      "outputs": [
        {
          "output_type": "execute_result",
          "data": {
            "application/vnd.google.colaboratory.intrinsic+json": {
              "type": "string"
            },
            "text/plain": [
              "\"James Hogan writes:\\n\\ntimmbake@mcl.ucsb.edu (Bake Timmons) writes:\\n>>Jim Hogan quips:\\n\\n>>... (summary of Jim's stuff)\\n\\n>>Jim, I'm afraid _you've_ missed the point.\\n\\n>>>Thus, I think you'll have to admit that  atheists have a lot\\n>>more up their sleeve than you might have suspected.\\n\\n>>Nah.  I will encourage people to learn about atheism to see how little atheists\\n>>have up their sleeves.  Whatever I might have suspected is actually quite\\n>>meager.  If you want I'll send them your address to learn less about your\\n>>faith.\\n\\n>Faith?\\n\\nYeah, do you expect people to read the FAQ, etc. and actually accept hard\\natheism?  No, you need a little leap of faith, Jimmy.  Your logic runs out\\nof steam!\\n\\n>>>Fine, but why do these people shoot themselves in the foot and mock\\n>>>the idea of a God?  ....\\n\\n>>>I hope you understand now.\\n\\n>>Yes, Jim.  I do understand now.  Thank you for providing some healthy sarcasm\\n>>that would have dispelled any sympathies I would have had for your faith.\\n\\n>Bake,\\n\\n>Real glad you detected the sarcasm angle, but am really bummin' that\\n>I won't be getting any of your sympathy.  Still, if your inclined\\n>to have sympathy for somebody's *faith*, you might try one of the\\n>religion newsgroups.\\n\\n>Just be careful over there, though. (make believe I'm\\n>whispering in your ear here)  They're all delusional!\\n\\nJim,\\n\\nSorry I can't pity you, Jim.  And I'm sorry that you have these feelings of\\ndenial about the faith you need to get by.  Oh well, just pretend that it will\\nall end happily ever after anyway.  Maybe if you start a new newsgroup,\\nalt.atheist.hard, you won't be bummin' so much?\\n\\n>Good job, Jim.\\n>.\\n\\n>Bye, Bake.\\n\\n\\n>>[more slim-Jim (tm) deleted]\\n\\n>Bye, Bake!\\n>Bye, Bye!\\n\\nBye-Bye, Big Jim.  Don't forget your Flintstone's Chewables!  :) \\n--\\nBake Timmons, III\""
            ]
          },
          "metadata": {
            "tags": []
          },
          "execution_count": 46
        }
      ]
    },
    {
      "cell_type": "code",
      "metadata": {
        "colab": {
          "base_uri": "https://localhost:8080/"
        },
        "id": "u4Wn3BnDRSGe",
        "outputId": "2f1af95a-6bdb-4e30-dcb3-4538ac6fff4b"
      },
      "source": [
        "dataset.target_names"
      ],
      "execution_count": null,
      "outputs": [
        {
          "output_type": "execute_result",
          "data": {
            "text/plain": [
              "['alt.atheism',\n",
              " 'comp.graphics',\n",
              " 'comp.os.ms-windows.misc',\n",
              " 'comp.sys.ibm.pc.hardware',\n",
              " 'comp.sys.mac.hardware',\n",
              " 'comp.windows.x',\n",
              " 'misc.forsale',\n",
              " 'rec.autos',\n",
              " 'rec.motorcycles',\n",
              " 'rec.sport.baseball',\n",
              " 'rec.sport.hockey',\n",
              " 'sci.crypt',\n",
              " 'sci.electronics',\n",
              " 'sci.med',\n",
              " 'sci.space',\n",
              " 'soc.religion.christian',\n",
              " 'talk.politics.guns',\n",
              " 'talk.politics.mideast',\n",
              " 'talk.politics.misc',\n",
              " 'talk.religion.misc']"
            ]
          },
          "metadata": {
            "tags": []
          },
          "execution_count": 47
        }
      ]
    },
    {
      "cell_type": "code",
      "metadata": {
        "colab": {
          "base_uri": "https://localhost:8080/",
          "height": 419
        },
        "id": "hFqKvDqiRe4E",
        "outputId": "6e57cb8a-e16a-483b-f1a8-70216032201c"
      },
      "source": [
        "df=pd.DataFrame({'document':doc})\n",
        "df"
      ],
      "execution_count": null,
      "outputs": [
        {
          "output_type": "execute_result",
          "data": {
            "text/html": [
              "<div>\n",
              "<style scoped>\n",
              "    .dataframe tbody tr th:only-of-type {\n",
              "        vertical-align: middle;\n",
              "    }\n",
              "\n",
              "    .dataframe tbody tr th {\n",
              "        vertical-align: top;\n",
              "    }\n",
              "\n",
              "    .dataframe thead th {\n",
              "        text-align: right;\n",
              "    }\n",
              "</style>\n",
              "<table border=\"1\" class=\"dataframe\">\n",
              "  <thead>\n",
              "    <tr style=\"text-align: right;\">\n",
              "      <th></th>\n",
              "      <th>document</th>\n",
              "    </tr>\n",
              "  </thead>\n",
              "  <tbody>\n",
              "    <tr>\n",
              "      <th>0</th>\n",
              "      <td>Well i'm not sure about the story nad it did s...</td>\n",
              "    </tr>\n",
              "    <tr>\n",
              "      <th>1</th>\n",
              "      <td>James Hogan writes:\\n\\ntimmbake@mcl.ucsb.edu (...</td>\n",
              "    </tr>\n",
              "    <tr>\n",
              "      <th>2</th>\n",
              "      <td>Although I realize that principle is not one o...</td>\n",
              "    </tr>\n",
              "    <tr>\n",
              "      <th>3</th>\n",
              "      <td>Notwithstanding all the legitimate fuss about ...</td>\n",
              "    </tr>\n",
              "    <tr>\n",
              "      <th>4</th>\n",
              "      <td>Well, I will have to change the scoring on my ...</td>\n",
              "    </tr>\n",
              "    <tr>\n",
              "      <th>...</th>\n",
              "      <td>...</td>\n",
              "    </tr>\n",
              "    <tr>\n",
              "      <th>11309</th>\n",
              "      <td>Danny Rubenstein, an Israeli journalist, will ...</td>\n",
              "    </tr>\n",
              "    <tr>\n",
              "      <th>11310</th>\n",
              "      <td>ron.roth@rose.com (ron roth) writes:\\n\\n|JB&gt;  ...</td>\n",
              "    </tr>\n",
              "    <tr>\n",
              "      <th>11311</th>\n",
              "      <td>In article &lt;1qn6tqINNmnf@senator-bedfellow.MIT...</td>\n",
              "    </tr>\n",
              "    <tr>\n",
              "      <th>11312</th>\n",
              "      <td>I used HP DeskJet with Orange Micros Grappler ...</td>\n",
              "    </tr>\n",
              "    <tr>\n",
              "      <th>11313</th>\n",
              "      <td>In article &lt;15APR199311534452@rosie.uh.edu&gt; st...</td>\n",
              "    </tr>\n",
              "  </tbody>\n",
              "</table>\n",
              "<p>11314 rows × 1 columns</p>\n",
              "</div>"
            ],
            "text/plain": [
              "                                                document\n",
              "0      Well i'm not sure about the story nad it did s...\n",
              "1      James Hogan writes:\\n\\ntimmbake@mcl.ucsb.edu (...\n",
              "2      Although I realize that principle is not one o...\n",
              "3      Notwithstanding all the legitimate fuss about ...\n",
              "4      Well, I will have to change the scoring on my ...\n",
              "...                                                  ...\n",
              "11309  Danny Rubenstein, an Israeli journalist, will ...\n",
              "11310  ron.roth@rose.com (ron roth) writes:\\n\\n|JB>  ...\n",
              "11311  In article <1qn6tqINNmnf@senator-bedfellow.MIT...\n",
              "11312  I used HP DeskJet with Orange Micros Grappler ...\n",
              "11313  In article <15APR199311534452@rosie.uh.edu> st...\n",
              "\n",
              "[11314 rows x 1 columns]"
            ]
          },
          "metadata": {
            "tags": []
          },
          "execution_count": 50
        }
      ]
    },
    {
      "cell_type": "code",
      "metadata": {
        "id": "0YlZP17IR0B5"
      },
      "source": [
        "df['clean']=df['document'].str.replace(\"[^a-zA-Z]\", \" \")\n",
        "df['clean']=df['clean'].apply(lambda x:' '.join(w for w in x.split() if len(w)>3))\n",
        "df['clean']=df['clean'].apply(lambda x:x.lower())"
      ],
      "execution_count": null,
      "outputs": []
    },
    {
      "cell_type": "code",
      "metadata": {
        "colab": {
          "base_uri": "https://localhost:8080/",
          "height": 205
        },
        "id": "PsVfN9a1TJkw",
        "outputId": "3871cdde-f5a9-4f0b-998a-148ece706631"
      },
      "source": [
        "df['clean'][1]"
      ],
      "execution_count": null,
      "outputs": [
        {
          "output_type": "execute_result",
          "data": {
            "application/vnd.google.colaboratory.intrinsic+json": {
              "type": "string"
            },
            "text/plain": [
              "'james hogan writes timmbake ucsb bake timmons writes hogan quips summary stuff afraid missed point thus think have admit that atheists have more their sleeve than might have suspected will encourage people learn about atheism little atheists have their sleeves whatever might have suspected actually quite meager want send them your address learn less about your faith faith yeah expect people read actually accept hard atheism need little leap faith jimmy your logic runs steam fine these people shoot themselves foot mock idea hope understand understand thank providing some healthy sarcasm that would have dispelled sympathies would have your faith bake real glad detected sarcasm angle really bummin that getting your sympathy still your inclined have sympathy somebody faith might religion newsgroups just careful over there though make believe whispering your here they delusional sorry pity sorry that have these feelings denial about faith need well just pretend that will happily ever after anyway maybe start newsgroup atheist hard bummin much good bake more slim deleted bake forget your flintstone chewables bake timmons'"
            ]
          },
          "metadata": {
            "tags": []
          },
          "execution_count": 55
        }
      ]
    },
    {
      "cell_type": "code",
      "metadata": {
        "id": "265FF51gTRgl"
      },
      "source": [
        "from nltk.corpus import stopwords"
      ],
      "execution_count": null,
      "outputs": []
    },
    {
      "cell_type": "code",
      "metadata": {
        "id": "URxqVfO9TijV"
      },
      "source": [
        "sw=stopwords.words('english')\n",
        "tok_doc=df['clean'].apply(lambda x:x.split())\n",
        "tok_doc=tok_doc.apply(lambda x:[i for i in x if i not in sw])"
      ],
      "execution_count": null,
      "outputs": []
    },
    {
      "cell_type": "code",
      "metadata": {
        "colab": {
          "base_uri": "https://localhost:8080/"
        },
        "id": "h-4zBZooUCvW",
        "outputId": "dc11497b-118e-456d-f084-33dc7d05b63f"
      },
      "source": [
        "tok_doc[1]"
      ],
      "execution_count": null,
      "outputs": [
        {
          "output_type": "execute_result",
          "data": {
            "text/plain": [
              "['james',\n",
              " 'hogan',\n",
              " 'writes',\n",
              " 'timmbake',\n",
              " 'ucsb',\n",
              " 'bake',\n",
              " 'timmons',\n",
              " 'writes',\n",
              " 'hogan',\n",
              " 'quips',\n",
              " 'summary',\n",
              " 'stuff',\n",
              " 'afraid',\n",
              " 'missed',\n",
              " 'point',\n",
              " 'thus',\n",
              " 'think',\n",
              " 'admit',\n",
              " 'atheists',\n",
              " 'sleeve',\n",
              " 'might',\n",
              " 'suspected',\n",
              " 'encourage',\n",
              " 'people',\n",
              " 'learn',\n",
              " 'atheism',\n",
              " 'little',\n",
              " 'atheists',\n",
              " 'sleeves',\n",
              " 'whatever',\n",
              " 'might',\n",
              " 'suspected',\n",
              " 'actually',\n",
              " 'quite',\n",
              " 'meager',\n",
              " 'want',\n",
              " 'send',\n",
              " 'address',\n",
              " 'learn',\n",
              " 'less',\n",
              " 'faith',\n",
              " 'faith',\n",
              " 'yeah',\n",
              " 'expect',\n",
              " 'people',\n",
              " 'read',\n",
              " 'actually',\n",
              " 'accept',\n",
              " 'hard',\n",
              " 'atheism',\n",
              " 'need',\n",
              " 'little',\n",
              " 'leap',\n",
              " 'faith',\n",
              " 'jimmy',\n",
              " 'logic',\n",
              " 'runs',\n",
              " 'steam',\n",
              " 'fine',\n",
              " 'people',\n",
              " 'shoot',\n",
              " 'foot',\n",
              " 'mock',\n",
              " 'idea',\n",
              " 'hope',\n",
              " 'understand',\n",
              " 'understand',\n",
              " 'thank',\n",
              " 'providing',\n",
              " 'healthy',\n",
              " 'sarcasm',\n",
              " 'would',\n",
              " 'dispelled',\n",
              " 'sympathies',\n",
              " 'would',\n",
              " 'faith',\n",
              " 'bake',\n",
              " 'real',\n",
              " 'glad',\n",
              " 'detected',\n",
              " 'sarcasm',\n",
              " 'angle',\n",
              " 'really',\n",
              " 'bummin',\n",
              " 'getting',\n",
              " 'sympathy',\n",
              " 'still',\n",
              " 'inclined',\n",
              " 'sympathy',\n",
              " 'somebody',\n",
              " 'faith',\n",
              " 'might',\n",
              " 'religion',\n",
              " 'newsgroups',\n",
              " 'careful',\n",
              " 'though',\n",
              " 'make',\n",
              " 'believe',\n",
              " 'whispering',\n",
              " 'delusional',\n",
              " 'sorry',\n",
              " 'pity',\n",
              " 'sorry',\n",
              " 'feelings',\n",
              " 'denial',\n",
              " 'faith',\n",
              " 'need',\n",
              " 'well',\n",
              " 'pretend',\n",
              " 'happily',\n",
              " 'ever',\n",
              " 'anyway',\n",
              " 'maybe',\n",
              " 'start',\n",
              " 'newsgroup',\n",
              " 'atheist',\n",
              " 'hard',\n",
              " 'bummin',\n",
              " 'much',\n",
              " 'good',\n",
              " 'bake',\n",
              " 'slim',\n",
              " 'deleted',\n",
              " 'bake',\n",
              " 'forget',\n",
              " 'flintstone',\n",
              " 'chewables',\n",
              " 'bake',\n",
              " 'timmons']"
            ]
          },
          "metadata": {
            "tags": []
          },
          "execution_count": 68
        }
      ]
    },
    {
      "cell_type": "code",
      "metadata": {
        "colab": {
          "base_uri": "https://localhost:8080/",
          "height": 188
        },
        "id": "0yQ4hqbTUXDp",
        "outputId": "f448d95f-2a91-412f-d1df-ca7df2193896"
      },
      "source": [
        "detok=[]\n",
        "for i in range(len(df)):\n",
        "  t=' '.join(tok_doc[i])\n",
        "  detok.append(t)\n",
        "\n",
        "df['clean']=detok\n",
        "df['clean'][1]"
      ],
      "execution_count": null,
      "outputs": [
        {
          "output_type": "execute_result",
          "data": {
            "application/vnd.google.colaboratory.intrinsic+json": {
              "type": "string"
            },
            "text/plain": [
              "'james hogan writes timmbake ucsb bake timmons writes hogan quips summary stuff afraid missed point thus think admit atheists sleeve might suspected encourage people learn atheism little atheists sleeves whatever might suspected actually quite meager want send address learn less faith faith yeah expect people read actually accept hard atheism need little leap faith jimmy logic runs steam fine people shoot foot mock idea hope understand understand thank providing healthy sarcasm would dispelled sympathies would faith bake real glad detected sarcasm angle really bummin getting sympathy still inclined sympathy somebody faith might religion newsgroups careful though make believe whispering delusional sorry pity sorry feelings denial faith need well pretend happily ever anyway maybe start newsgroup atheist hard bummin much good bake slim deleted bake forget flintstone chewables bake timmons'"
            ]
          },
          "metadata": {
            "tags": []
          },
          "execution_count": 69
        }
      ]
    },
    {
      "cell_type": "code",
      "metadata": {
        "id": "Cc8JoHVfUj2c"
      },
      "source": [
        "from sklearn.feature_extraction.text import TfidfVectorizer"
      ],
      "execution_count": null,
      "outputs": []
    },
    {
      "cell_type": "code",
      "metadata": {
        "colab": {
          "base_uri": "https://localhost:8080/"
        },
        "id": "-JiZZ6HgWj4j",
        "outputId": "2f1196e7-0f49-42a0-a944-3b4dc7c0b07d"
      },
      "source": [
        "vt=TfidfVectorizer(stop_words='english',max_features=1000, max_df=0.5, smooth_idf=True)\n",
        "X=vt.fit_transform(df['clean'])\n",
        "X.shape\n"
      ],
      "execution_count": null,
      "outputs": [
        {
          "output_type": "execute_result",
          "data": {
            "text/plain": [
              "(11314, 1000)"
            ]
          },
          "metadata": {
            "tags": []
          },
          "execution_count": 71
        }
      ]
    },
    {
      "cell_type": "code",
      "metadata": {
        "id": "fqtWdBfl1aWN"
      },
      "source": [
        ""
      ],
      "execution_count": null,
      "outputs": []
    },
    {
      "cell_type": "code",
      "metadata": {
        "colab": {
          "base_uri": "https://localhost:8080/"
        },
        "id": "eEwrgqEVW-lK",
        "outputId": "662b8d54-3ee8-4e1a-8f0e-46cf03eae735"
      },
      "source": [
        "from sklearn.decomposition import TruncatedSVD \n",
        "svd_model=TruncatedSVD(n_components=20, algorithm='randomized', n_iter=100, random_state=122)\n",
        "svd_model.fit(X)\n",
        "len(svd_model.components_)"
      ],
      "execution_count": null,
      "outputs": [
        {
          "output_type": "execute_result",
          "data": {
            "text/plain": [
              "20"
            ]
          },
          "metadata": {
            "tags": []
          },
          "execution_count": 72
        }
      ]
    },
    {
      "cell_type": "code",
      "metadata": {
        "colab": {
          "base_uri": "https://localhost:8080/"
        },
        "id": "ODX4cPz1ZhJQ",
        "outputId": "8f71310a-9b68-4691-b526-87a750c9221c"
      },
      "source": [
        "np.shape(svd_model.components_)"
      ],
      "execution_count": null,
      "outputs": [
        {
          "output_type": "execute_result",
          "data": {
            "text/plain": [
              "(20, 1000)"
            ]
          },
          "metadata": {
            "tags": []
          },
          "execution_count": 73
        }
      ]
    },
    {
      "cell_type": "code",
      "metadata": {
        "id": "fpxBye2Pj_7H"
      },
      "source": [
        "terms=vt.get_feature_names()\n"
      ],
      "execution_count": null,
      "outputs": []
    },
    {
      "cell_type": "code",
      "metadata": {
        "colab": {
          "base_uri": "https://localhost:8080/"
        },
        "id": "chm88hZX1Jjm",
        "outputId": "3b25208e-baa8-406d-a61f-17cd4724b7c3"
      },
      "source": [
        "def get_topics(components, feature_names, n=5):\n",
        "  for idx,topic in enumerate(components):\n",
        "    print('topic %d:'%(idx+1), [(feature_names[i], topic[i].round(2)) for i in topic.argsort()[:-n-1:-1]])\n",
        "get_topics(svd_model.components_,terms)"
      ],
      "execution_count": null,
      "outputs": [
        {
          "output_type": "stream",
          "text": [
            "topic 1: [('article', 0.22), ('like', 0.19), ('people', 0.18), ('know', 0.18), ('think', 0.16)]\n",
            "topic 2: [('windows', 0.35), ('thanks', 0.26), ('card', 0.19), ('file', 0.16), ('drive', 0.16)]\n",
            "topic 3: [('game', 0.38), ('team', 0.36), ('games', 0.25), ('year', 0.25), ('season', 0.2)]\n",
            "topic 4: [('drive', 0.59), ('scsi', 0.27), ('drives', 0.16), ('hard', 0.16), ('disk', 0.15)]\n",
            "topic 5: [('thanks', 0.46), ('mail', 0.29), ('advance', 0.18), ('know', 0.15), ('email', 0.15)]\n",
            "topic 6: [('chip', 0.25), ('encryption', 0.21), ('government', 0.2), ('clipper', 0.2), ('space', 0.16)]\n",
            "topic 7: [('drive', 0.36), ('file', 0.19), ('files', 0.17), ('scsi', 0.14), ('game', 0.14)]\n",
            "topic 8: [('card', 0.43), ('chip', 0.18), ('video', 0.18), ('people', 0.15), ('game', 0.14)]\n",
            "topic 9: [('article', 0.45), ('israel', 0.33), ('israeli', 0.22), ('card', 0.19), ('jews', 0.15)]\n",
            "topic 10: [('space', 0.38), ('sale', 0.23), ('nasa', 0.22), ('offer', 0.14), ('israel', 0.14)]\n",
            "topic 11: [('article', 0.35), ('space', 0.19), ('jesus', 0.19), ('card', 0.15), ('nasa', 0.14)]\n",
            "topic 12: [('windows', 0.41), ('good', 0.21), ('people', 0.19), ('sale', 0.18), ('files', 0.16)]\n",
            "topic 13: [('space', 0.37), ('know', 0.27), ('nasa', 0.21), ('people', 0.2), ('card', 0.15)]\n",
            "topic 14: [('window', 0.36), ('people', 0.35), ('mail', 0.18), ('armenian', 0.11), ('armenians', 0.11)]\n",
            "topic 15: [('know', 0.43), ('like', 0.21), ('good', 0.13), ('file', 0.12), ('program', 0.11)]\n",
            "topic 16: [('good', 0.45), ('year', 0.28), ('thanks', 0.19), ('better', 0.14), ('windows', 0.13)]\n",
            "topic 17: [('file', 0.34), ('files', 0.19), ('time', 0.18), ('card', 0.16), ('good', 0.12)]\n",
            "topic 18: [('know', 0.48), ('year', 0.2), ('windows', 0.15), ('jesus', 0.14), ('bike', 0.11)]\n",
            "topic 19: [('mail', 0.36), ('problem', 0.22), ('time', 0.2), ('address', 0.13), ('windows', 0.13)]\n",
            "topic 20: [('armenian', 0.21), ('armenians', 0.2), ('thanks', 0.19), ('turkish', 0.16), ('like', 0.15)]\n"
          ],
          "name": "stdout"
        }
      ]
    },
    {
      "cell_type": "code",
      "metadata": {
        "colab": {
          "base_uri": "https://localhost:8080/"
        },
        "id": "HjXCUuDD_Ceg",
        "outputId": "3c9b2d70-996e-4483-c3f7-ac4d125d86a1"
      },
      "source": [
        "a=np.array([5,2,7])\n",
        "a.argsort()"
      ],
      "execution_count": null,
      "outputs": [
        {
          "output_type": "execute_result",
          "data": {
            "text/plain": [
              "array([1, 0, 2])"
            ]
          },
          "metadata": {
            "tags": []
          },
          "execution_count": 109
        }
      ]
    },
    {
      "cell_type": "code",
      "metadata": {
        "colab": {
          "base_uri": "https://localhost:8080/"
        },
        "id": "ExA4Zo99LhYH",
        "outputId": "f2d6bc5a-c075-4091-9af2-78941f66aefe"
      },
      "source": [
        "tok_doc[:5]"
      ],
      "execution_count": null,
      "outputs": [
        {
          "output_type": "execute_result",
          "data": {
            "text/plain": [
              "0    [well, sure, story, seem, biased, disagree, st...\n",
              "1    [james, hogan, writes, timmbake, ucsb, bake, t...\n",
              "2    [although, realize, principle, strongest, poin...\n",
              "3    [notwithstanding, legitimate, fuss, proposal, ...\n",
              "4    [well, change, scoring, playoff, pool, unfortu...\n",
              "Name: clean, dtype: object"
            ]
          },
          "metadata": {
            "tags": []
          },
          "execution_count": 112
        }
      ]
    },
    {
      "cell_type": "code",
      "metadata": {
        "id": "xsOm93OGcACJ"
      },
      "source": [
        "from gensim import corpora"
      ],
      "execution_count": null,
      "outputs": []
    },
    {
      "cell_type": "code",
      "metadata": {
        "colab": {
          "base_uri": "https://localhost:8080/",
          "height": 35
        },
        "id": "47kR3_Xhgc9Z",
        "outputId": "21ac1cd7-06b9-43c3-bcf3-78440b28ea03"
      },
      "source": [
        "Dict=corpora.Dictionary(tok_doc)\n",
        "corpus=[Dict.doc2bow(text) for text in tok_doc]\n",
        "Dict[33]"
      ],
      "execution_count": null,
      "outputs": [
        {
          "output_type": "execute_result",
          "data": {
            "application/vnd.google.colaboratory.intrinsic+json": {
              "type": "string"
            },
            "text/plain": [
              "'races'"
            ]
          },
          "metadata": {
            "tags": []
          },
          "execution_count": 116
        }
      ]
    },
    {
      "cell_type": "code",
      "metadata": {
        "colab": {
          "base_uri": "https://localhost:8080/"
        },
        "id": "FFDxLl8ag_d-",
        "outputId": "e36368e8-d431-4cae-c1ba-c77e89982b18"
      },
      "source": [
        "len(Dict)"
      ],
      "execution_count": null,
      "outputs": [
        {
          "output_type": "execute_result",
          "data": {
            "text/plain": [
              "70648"
            ]
          },
          "metadata": {
            "tags": []
          },
          "execution_count": 117
        }
      ]
    },
    {
      "cell_type": "code",
      "metadata": {
        "id": "oaQo9GJnhgo7"
      },
      "source": [
        "import gensim"
      ],
      "execution_count": null,
      "outputs": []
    },
    {
      "cell_type": "code",
      "metadata": {
        "colab": {
          "base_uri": "https://localhost:8080/"
        },
        "id": "zTivWzjdhvJI",
        "outputId": "06d59fbe-f2fb-411b-8f4e-ed5a1b4992c1"
      },
      "source": [
        "NUM_TOPICS=20\n",
        "ldamodel=gensim.models.ldamodel.LdaModel(corpus, num_topics=NUM_TOPICS, id2word=Dict, passes=15)\n",
        "topics=ldamodel.print_topics(num_words=4)\n",
        "for topic in topics:\n",
        "  print(topic)"
      ],
      "execution_count": null,
      "outputs": [
        {
          "output_type": "stream",
          "text": [
            "(0, '0.007*\"people\" + 0.007*\"government\" + 0.006*\"president\" + 0.006*\"would\"')\n",
            "(1, '0.011*\"would\" + 0.007*\"like\" + 0.006*\"used\" + 0.006*\"system\"')\n",
            "(2, '0.010*\"homosexual\" + 0.007*\"sexual\" + 0.007*\"homosexuals\" + 0.007*\"cramer\"')\n",
            "(3, '0.009*\"nrhj\" + 0.006*\"wwiz\" + 0.005*\"bxom\" + 0.005*\"gizw\"')\n",
            "(4, '0.011*\"available\" + 0.010*\"information\" + 0.009*\"mail\" + 0.009*\"software\"')\n",
            "(5, '0.009*\"writes\" + 0.008*\"smith\" + 0.007*\"john\" + 0.006*\"article\"')\n",
            "(6, '0.023*\"israel\" + 0.016*\"jews\" + 0.015*\"israeli\" + 0.009*\"arab\"')\n",
            "(7, '0.018*\"turkish\" + 0.012*\"turkey\" + 0.009*\"turks\" + 0.009*\"fire\"')\n",
            "(8, '0.025*\"space\" + 0.013*\"nasa\" + 0.006*\"ground\" + 0.005*\"launch\"')\n",
            "(9, '0.013*\"jesus\" + 0.008*\"people\" + 0.008*\"said\" + 0.006*\"armenian\"')\n",
            "(10, '0.021*\"writes\" + 0.018*\"article\" + 0.008*\"braves\" + 0.006*\"morris\"')\n",
            "(11, '0.011*\"would\" + 0.011*\"like\" + 0.010*\"writes\" + 0.009*\"article\"')\n",
            "(12, '0.014*\"game\" + 0.014*\"team\" + 0.011*\"year\" + 0.010*\"games\"')\n",
            "(13, '0.018*\"windows\" + 0.013*\"thanks\" + 0.012*\"know\" + 0.012*\"anyone\"')\n",
            "(14, '0.013*\"writes\" + 0.011*\"article\" + 0.010*\"bike\" + 0.007*\"period\"')\n",
            "(15, '0.023*\"file\" + 0.014*\"window\" + 0.013*\"program\" + 0.010*\"entry\"')\n",
            "(16, '0.011*\"encryption\" + 0.011*\"government\" + 0.010*\"chip\" + 0.009*\"clipper\"')\n",
            "(17, '0.023*\"drive\" + 0.013*\"scsi\" + 0.010*\"disk\" + 0.009*\"hard\"')\n",
            "(18, '0.012*\"would\" + 0.012*\"people\" + 0.011*\"writes\" + 0.010*\"think\"')\n",
            "(19, '0.005*\"crypt\" + 0.005*\"judges\" + 0.005*\"public\" + 0.004*\"liar\"')\n"
          ],
          "name": "stdout"
        }
      ]
    },
    {
      "cell_type": "code",
      "metadata": {
        "colab": {
          "base_uri": "https://localhost:8080/"
        },
        "id": "yqitlxrWj-K6",
        "outputId": "09ecafdc-a780-4238-f9f9-9ffb10bcb5e3"
      },
      "source": [
        "!pip install pyLDAvis"
      ],
      "execution_count": null,
      "outputs": [
        {
          "output_type": "stream",
          "text": [
            "Collecting pyLDAvis\n",
            "\u001b[?25l  Downloading https://files.pythonhosted.org/packages/24/38/6d81eff34c84c9158d3b7c846bff978ac88b0c2665548941946d3d591158/pyLDAvis-3.2.2.tar.gz (1.7MB)\n",
            "\u001b[K     |████████████████████████████████| 1.7MB 8.4MB/s \n",
            "\u001b[?25hRequirement already satisfied: wheel>=0.23.0 in /usr/local/lib/python3.7/dist-packages (from pyLDAvis) (0.36.2)\n",
            "Requirement already satisfied: numpy>=1.9.2 in /usr/local/lib/python3.7/dist-packages (from pyLDAvis) (1.19.5)\n",
            "Requirement already satisfied: scipy>=0.18.0 in /usr/local/lib/python3.7/dist-packages (from pyLDAvis) (1.4.1)\n",
            "Requirement already satisfied: joblib>=0.8.4 in /usr/local/lib/python3.7/dist-packages (from pyLDAvis) (1.0.1)\n",
            "Requirement already satisfied: jinja2>=2.7.2 in /usr/local/lib/python3.7/dist-packages (from pyLDAvis) (2.11.3)\n",
            "Requirement already satisfied: numexpr in /usr/local/lib/python3.7/dist-packages (from pyLDAvis) (2.7.3)\n",
            "Requirement already satisfied: future in /usr/local/lib/python3.7/dist-packages (from pyLDAvis) (0.16.0)\n",
            "Collecting funcy\n",
            "  Downloading https://files.pythonhosted.org/packages/66/89/479de0afbbfb98d1c4b887936808764627300208bb771fcd823403645a36/funcy-1.15-py2.py3-none-any.whl\n",
            "Requirement already satisfied: pandas>=0.17.0 in /usr/local/lib/python3.7/dist-packages (from pyLDAvis) (1.1.5)\n",
            "Requirement already satisfied: MarkupSafe>=0.23 in /usr/local/lib/python3.7/dist-packages (from jinja2>=2.7.2->pyLDAvis) (1.1.1)\n",
            "Requirement already satisfied: pytz>=2017.2 in /usr/local/lib/python3.7/dist-packages (from pandas>=0.17.0->pyLDAvis) (2018.9)\n",
            "Requirement already satisfied: python-dateutil>=2.7.3 in /usr/local/lib/python3.7/dist-packages (from pandas>=0.17.0->pyLDAvis) (2.8.1)\n",
            "Requirement already satisfied: six>=1.5 in /usr/local/lib/python3.7/dist-packages (from python-dateutil>=2.7.3->pandas>=0.17.0->pyLDAvis) (1.15.0)\n",
            "Building wheels for collected packages: pyLDAvis\n",
            "  Building wheel for pyLDAvis (setup.py) ... \u001b[?25l\u001b[?25hdone\n",
            "  Created wheel for pyLDAvis: filename=pyLDAvis-3.2.2-py2.py3-none-any.whl size=135593 sha256=ebd9c1fb011c987d3418d5035ca6662a946beda1864c44dfb227df041ac3040e\n",
            "  Stored in directory: /root/.cache/pip/wheels/74/df/b6/97234c8446a43be05c9a8687ee0db1f1b5ade5f27729187eae\n",
            "Successfully built pyLDAvis\n",
            "Installing collected packages: funcy, pyLDAvis\n",
            "Successfully installed funcy-1.15 pyLDAvis-3.2.2\n"
          ],
          "name": "stdout"
        }
      ]
    },
    {
      "cell_type": "code",
      "metadata": {
        "id": "lvbsdapQmhHg"
      },
      "source": [
        "import pyLDAvis.gensim"
      ],
      "execution_count": null,
      "outputs": []
    },
    {
      "cell_type": "code",
      "metadata": {
        "colab": {
          "base_uri": "https://localhost:8080/",
          "height": 881
        },
        "id": "c0LN3YBRm1Zp",
        "outputId": "bf647310-79f2-4997-f02e-b8d591facb14"
      },
      "source": [
        "pyLDAvis.enable_notebook()\n",
        "vis=pyLDAvis.gensim.prepare(ldamodel,corpus,Dict)\n",
        "pyLDAvis.display(vis)"
      ],
      "execution_count": null,
      "outputs": [
        {
          "output_type": "execute_result",
          "data": {
            "text/html": [
              "\n",
              "<link rel=\"stylesheet\" type=\"text/css\" href=\"https://cdn.jsdelivr.net/gh/bmabey/pyLDAvis@3.2.2/pyLDAvis/js/ldavis.v1.0.0.css\">\n",
              "\n",
              "\n",
              "<div id=\"ldavis_el621406706846865444390200299\"></div>\n",
              "<script type=\"text/javascript\">\n",
              "\n",
              "var ldavis_el621406706846865444390200299_data = {\"mdsDat\": {\"x\": [-0.18960200652813106, -0.18309673368978546, -0.1932851866778791, -0.09384605435047474, -0.09014313781531681, -0.1681472157629229, -0.026371159209643252, -0.06935490220230614, -0.05745830729556954, -0.07571717820487046, -0.1088990301535459, -0.012689281107577508, 0.02216055484795935, 0.013040263553000718, 0.12243195308357631, 0.2297033530245405, 0.15006353531678596, 0.196102328067916, 0.2973889811257688, 0.23771922397847495], \"y\": [0.06870773978196829, 0.12461035603277855, -0.057974708151719595, 0.05815636477515525, 0.1272546145952219, -0.08014233123899571, -0.2661567946003781, 0.14172738073665034, -0.25924009371273204, -0.09417460875753945, -0.015631527580943678, -0.012676990576247963, 0.10952102419056109, 0.08179913885586336, 0.10708094492345165, -0.0012911016987300404, -0.04104704665146917, 0.06435467735237708, -0.04542732210019292, -0.009449716175079002], \"topics\": [1, 2, 3, 4, 5, 6, 7, 8, 9, 10, 11, 12, 13, 14, 15, 16, 17, 18, 19, 20], \"cluster\": [1, 1, 1, 1, 1, 1, 1, 1, 1, 1, 1, 1, 1, 1, 1, 1, 1, 1, 1, 1], \"Freq\": [15.86793304970091, 10.97510678013211, 8.179595149667744, 7.973088947425332, 7.159747920871923, 6.184854841595974, 5.888644938637196, 5.598049471612685, 4.491945687917055, 4.445224082616432, 4.415496950054834, 4.0547837413132015, 3.374961394142135, 2.8781063537223632, 2.1948398902158797, 1.474834324265286, 1.4486332199884444, 1.315668166756534, 1.1717355087449337, 0.906749580619024]}, \"tinfo\": {\"Term\": [\"writes\", \"article\", \"file\", \"space\", \"drive\", \"windows\", \"israel\", \"jesus\", \"game\", \"government\", \"people\", \"team\", \"window\", \"program\", \"thanks\", \"jews\", \"year\", \"system\", \"scsi\", \"mail\", \"anyone\", \"card\", \"nasa\", \"games\", \"available\", \"software\", \"encryption\", \"know\", \"would\", \"israeli\", \"morality\", \"islam\", \"atheism\", \"atheists\", \"atheist\", \"myers\", \"livesey\", \"gods\", \"marriage\", \"conclusions\", \"analogy\", \"fallacy\", \"species\", \"mathew\", \"theories\", \"abortion\", \"defending\", \"lopez\", \"jaeger\", \"quran\", \"stalin\", \"dwyer\", \"cobb\", \"theists\", \"assert\", \"objectively\", \"lyme\", \"solntze\", \"mozumder\", \"morals\", \"moral\", \"rational\", \"subjective\", \"objective\", \"argument\", \"religion\", \"religions\", \"evidence\", \"absolute\", \"existence\", \"belief\", \"conclusion\", \"beliefs\", \"claim\", \"christianity\", \"exist\", \"truth\", \"religious\", \"definition\", \"irrelevant\", \"context\", \"believe\", \"agree\", \"disagree\", \"life\", \"therefore\", \"reason\", \"think\", \"people\", \"mean\", \"true\", \"human\", \"question\", \"would\", \"writes\", \"point\", \"article\", \"fact\", \"must\", \"many\", \"even\", \"world\", \"know\", \"well\", \"wrong\", \"make\", \"like\", \"good\", \"things\", \"something\", \"much\", \"could\", \"right\", \"might\", \"also\", \"want\", \"time\", \"doctor\", \"doctors\", \"surrender\", \"diet\", \"cipher\", \"syndrome\", \"intellect\", \"foods\", \"shameful\", \"infection\", \"chastity\", \"cadre\", \"gainey\", \"surgery\", \"cure\", \"restaurant\", \"therapy\", \"chronic\", \"smoking\", \"outs\", \"cigarettes\", \"intake\", \"deaf\", \"immune\", \"stomach\", \"bone\", \"treatments\", \"dseg\", \"circular\", \"erzurum\", \"drugs\", \"gordon\", \"pain\", \"kidney\", \"food\", \"disease\", \"roads\", \"patients\", \"patient\", \"smoke\", \"insurance\", \"symptoms\", \"skepticism\", \"alcohol\", \"treatment\", \"banks\", \"brain\", \"weight\", \"like\", \"time\", \"enough\", \"back\", \"really\", \"take\", \"thing\", \"would\", \"getting\", \"maybe\", \"article\", \"much\", \"writes\", \"cause\", \"think\", \"people\", \"know\", \"money\", \"years\", \"even\", \"something\", \"could\", \"going\", \"things\", \"good\", \"want\", \"well\", \"still\", \"probably\", \"make\", \"sure\", \"long\", \"problem\", \"little\", \"also\", \"right\", \"printf\", \"filename\", \"uuencode\", \"typing\", \"pointer\", \"vitamin\", \"accelerators\", \"offset\", \"crystal\", \"quicktime\", \"coprocessor\", \"laptop\", \"beauchaine\", \"bobbe\", \"digit\", \"init\", \"uart\", \"networking\", \"coding\", \"grayscale\", \"processors\", \"fuse\", \"sampling\", \"frequencies\", \"allocated\", \"buzz\", \"prototype\", \"volt\", \"winbench\", \"upgrades\", \"pentium\", \"string\", \"byte\", \"voltage\", \"jpeg\", \"channels\", \"clone\", \"argv\", \"beast\", \"tube\", \"electronics\", \"quality\", \"cycle\", \"components\", \"compression\", \"analog\", \"audio\", \"batteries\", \"input\", \"clock\", \"design\", \"circuit\", \"speed\", \"color\", \"data\", \"used\", \"using\", \"level\", \"system\", \"would\", \"need\", \"current\", \"like\", \"good\", \"work\", \"line\", \"could\", \"high\", \"hardware\", \"much\", \"also\", \"time\", \"know\", \"power\", \"anyone\", \"better\", \"want\", \"different\", \"writes\", \"even\", \"article\", \"make\", \"something\", \"probably\", \"well\", \"stephanopoulos\", \"senate\", \"handgun\", \"handguns\", \"deficit\", \"homicide\", \"republicans\", \"hicnet\", \"homicides\", \"uicvm\", \"welfare\", \"firearms\", \"larson\", \"guns\", \"constitution\", \"stimulus\", \"gang\", \"uvic\", \"election\", \"practicing\", \"brady\", \"hunting\", \"kratz\", \"manes\", \"republican\", \"laughter\", \"hendricks\", \"steveh\", \"linknet\", \"magpie\", \"militia\", \"weapon\", \"tobacco\", \"jobs\", \"concealed\", \"taxes\", \"president\", \"amendment\", \"crime\", \"crimes\", \"weapons\", \"labor\", \"health\", \"united\", \"congress\", \"clinton\", \"federal\", \"states\", \"bush\", \"police\", \"firearm\", \"criminal\", \"arms\", \"officer\", \"education\", \"government\", \"state\", \"bill\", \"defense\", \"rights\", \"american\", \"national\", \"control\", \"laws\", \"washington\", \"year\", \"people\", \"public\", \"would\", \"right\", \"said\", \"going\", \"well\", \"april\", \"years\", \"think\", \"number\", \"jesus\", \"father\", \"christ\", \"holy\", \"genocide\", \"heaven\", \"azerbaijan\", \"judas\", \"azerbaijani\", \"resurrection\", \"sumgait\", \"karina\", \"sabbath\", \"karabakh\", \"lord\", \"azeris\", \"sdpa\", \"mamma\", \"baku\", \"sins\", \"easter\", \"romans\", \"salvation\", \"prophecy\", \"ministry\", \"azerbaijanis\", \"mormon\", \"scriptures\", \"mormons\", \"hebrew\", \"catholic\", \"worship\", \"church\", \"passages\", \"matthew\", \"scripture\", \"apartment\", \"armenian\", \"armenians\", \"spirit\", \"pope\", \"testament\", \"biblical\", \"bible\", \"christians\", \"christian\", \"woman\", \"said\", \"dead\", \"came\", \"people\", \"went\", \"children\", \"says\", \"women\", \"paul\", \"told\", \"faith\", \"first\", \"come\", \"time\", \"know\", \"name\", \"even\", \"would\", \"also\", \"could\", \"many\", \"simms\", \"microsoft\", \"gateway\", \"quadra\", \"diamond\", \"centris\", \"nubus\", \"vram\", \"swap\", \"openwindows\", \"svga\", \"cursor\", \"apps\", \"undefined\", \"linux\", \"ethernet\", \"simm\", \"rockefeller\", \"pseudo\", \"icons\", \"lciii\", \"upgraded\", \"sunview\", \"deskjet\", \"ucsu\", \"parity\", \"chipset\", \"conner\", \"configure\", \"xputimage\", \"printer\", \"apple\", \"slots\", \"windows\", \"monitor\", \"vesa\", \"card\", \"video\", \"mouse\", \"eisa\", \"memory\", \"port\", \"thanks\", \"cards\", \"advance\", \"sandvik\", \"driver\", \"drivers\", \"modem\", \"anyone\", \"please\", \"appreciated\", \"machine\", \"running\", \"help\", \"problem\", \"know\", \"mail\", \"serial\", \"mode\", \"need\", \"using\", \"like\", \"system\", \"would\", \"work\", \"writes\", \"article\", \"could\", \"software\", \"also\", \"want\", \"anonymity\", \"visualization\", \"listserv\", \"patents\", \"isbn\", \"packaging\", \"siggraph\", \"wordperfect\", \"toolkits\", \"compuserve\", \"harddisk\", \"builder\", \"proceedings\", \"agrep\", \"tutorial\", \"autoexec\", \"laboratories\", \"forwarded\", \"summaries\", \"bethesda\", \"penet\", \"ported\", \"symposium\", \"incorporate\", \"bindings\", \"mailing\", \"expn\", \"viewers\", \"bulletin\", \"wuarchive\", \"archive\", \"online\", \"sites\", \"anonymous\", \"ieee\", \"suite\", \"shareware\", \"internet\", \"interviews\", \"anon\", \"addresses\", \"archives\", \"contact\", \"distributed\", \"software\", \"available\", \"library\", \"list\", \"graphics\", \"users\", \"mail\", \"requests\", \"formats\", \"information\", \"send\", \"image\", \"images\", \"request\", \"processing\", \"address\", \"package\", \"includes\", \"email\", \"university\", \"data\", \"comp\", \"systems\", \"usenet\", \"unix\", \"site\", \"version\", \"research\", \"computer\", \"also\", \"based\", \"please\", \"program\", \"system\", \"file\", \"games\", \"season\", \"players\", \"hockey\", \"player\", \"teams\", \"detroit\", \"montreal\", \"fans\", \"score\", \"leafs\", \"playoffs\", \"pitching\", \"scored\", \"espn\", \"puck\", \"pens\", \"coach\", \"playoff\", \"flyers\", \"devils\", \"winnipeg\", \"penguins\", \"islanders\", \"sharks\", \"bruins\", \"traded\", \"pitcher\", \"clemens\", \"gilmour\", \"game\", \"baseball\", \"team\", \"calgary\", \"league\", \"quebec\", \"play\", \"rangers\", \"pittsburgh\", \"boston\", \"minnesota\", \"played\", \"kings\", \"division\", \"year\", \"toronto\", \"chicago\", \"runs\", \"last\", \"playing\", \"philadelphia\", \"first\", \"goal\", \"series\", \"good\", \"best\", \"writes\", \"better\", \"think\", \"would\", \"like\", \"well\", \"time\", \"article\", \"back\", \"next\", \"motif\", \"widget\", \"contrib\", \"entries\", \"char\", \"oname\", \"xterm\", \"xlib\", \"fprintf\", \"widgets\", \"ioccc\", \"obfuscated\", \"stderr\", \"imake\", \"colormap\", \"args\", \"icon\", \"borland\", \"compass\", \"xvoid\", \"handler\", \"stdin\", \"extensions\", \"landon\", \"defaults\", \"mkentry\", \"cica\", \"noll\", \"emacs\", \"whitespace\", \"entry\", \"sunos\", \"compile\", \"null\", \"echo\", \"window\", \"clients\", \"file\", \"output\", \"export\", \"font\", \"visual\", \"program\", \"server\", \"application\", \"client\", \"stream\", \"contest\", \"manager\", \"files\", \"display\", \"section\", \"keyboard\", \"directory\", \"build\", \"code\", \"line\", \"size\", \"info\", \"source\", \"name\", \"open\", \"check\", \"version\", \"using\", \"number\", \"subject\", \"encryption\", \"clipper\", \"privacy\", \"escrow\", \"ripem\", \"agencies\", \"crypto\", \"cryptography\", \"encrypted\", \"wiretap\", \"phones\", \"classified\", \"cryptographic\", \"initiative\", \"denning\", \"plaintext\", \"decrypt\", \"dyer\", \"vpic\", \"patent\", \"cryptology\", \"encrypt\", \"ciphers\", \"telecommunications\", \"cryptanalysis\", \"sternlight\", \"escrowed\", \"quantity\", \"balloon\", \"hellman\", \"secure\", \"keys\", \"motto\", \"secret\", \"security\", \"enforcement\", \"algorithm\", \"chip\", \"communications\", \"technology\", \"government\", \"cellular\", \"scheme\", \"protect\", \"public\", \"phone\", \"private\", \"proposal\", \"administration\", \"strong\", \"system\", \"access\", \"data\", \"information\", \"would\", \"used\", \"number\", \"writes\", \"scsi\", \"drives\", \"adaptec\", \"jumpers\", \"aspi\", \"cmos\", \"floppies\", \"esdi\", \"uranium\", \"conductor\", \"controllers\", \"formatted\", \"rtsg\", \"tigers\", \"taurus\", \"boyle\", \"floppy\", \"freeware\", \"seagate\", \"volts\", \"publisher\", \"adcom\", \"alarm\", \"carbs\", \"pedal\", \"mime\", \"resistor\", \"cruiser\", \"odometer\", \"drive\", \"controller\", \"cables\", \"jumper\", \"cable\", \"dealer\", \"sleeve\", \"sale\", \"shipping\", \"tape\", \"disks\", \"disk\", \"boot\", \"backup\", \"toyota\", \"condition\", \"engine\", \"manuals\", \"price\", \"hard\", \"offer\", \"cars\", \"bios\", \"sold\", \"turbo\", \"asking\", \"sell\", \"manual\", \"bought\", \"model\", \"prices\", \"power\", \"excellent\", \"system\", \"writes\", \"best\", \"article\", \"good\", \"like\", \"would\", \"used\", \"also\", \"make\", \"launch\", \"orbit\", \"satellite\", \"lunar\", \"satellites\", \"spacecraft\", \"mars\", \"probe\", \"launched\", \"planetary\", \"telescope\", \"orbital\", \"venus\", \"rockets\", \"outlet\", \"spencer\", \"payload\", \"grounding\", \"astros\", \"ssto\", \"magellan\", \"comet\", \"observatory\", \"gfci\", \"aurora\", \"aerospace\", \"launches\", \"prong\", \"centaur\", \"aviation\", \"moon\", \"shuttle\", \"flight\", \"space\", \"nasa\", \"solar\", \"wiring\", \"henry\", \"circuits\", \"wire\", \"mission\", \"ground\", \"digex\", \"missions\", \"earth\", \"neutral\", \"energy\", \"station\", \"rocket\", \"project\", \"outlets\", \"vehicle\", \"article\", \"writes\", \"large\", \"development\", \"first\", \"cost\", \"also\", \"year\", \"high\", \"years\", \"research\", \"three\", \"bike\", \"riding\", \"motorcycle\", \"bikes\", \"helmet\", \"scorer\", \"candida\", \"yeast\", \"tires\", \"motorcycles\", \"coli\", \"tire\", \"valve\", \"burst\", \"quack\", \"riders\", \"cage\", \"detectors\", \"jacket\", \"recchi\", \"torque\", \"prevalence\", \"countersteering\", \"baerga\", \"eskimo\", \"bolt\", \"soderstrom\", \"harley\", \"noring\", \"suck\", \"ride\", \"wheel\", \"radar\", \"psuvm\", \"brake\", \"rear\", \"period\", \"rider\", \"lock\", \"front\", \"road\", \"detector\", \"passenger\", \"writes\", \"article\", \"power\", \"speed\", \"left\", \"right\", \"turn\", \"side\", \"fast\", \"mike\", \"miles\", \"driving\", \"second\", \"first\", \"back\", \"like\", \"israeli\", \"arab\", \"arabs\", \"palestinian\", \"lebanese\", \"lebanon\", \"palestine\", \"israelis\", \"gaza\", \"palestinians\", \"occupied\", \"homeland\", \"allocation\", \"zionist\", \"territories\", \"borders\", \"israel\", \"henrik\", \"gazans\", \"hernlem\", \"citizenship\", \"yassin\", \"fighters\", \"davidsson\", \"ireland\", \"syrian\", \"gulf\", \"semitism\", \"hamas\", \"shelling\", \"syria\", \"civilians\", \"territory\", \"jews\", \"bombing\", \"peace\", \"nazi\", \"occupation\", \"holocaust\", \"jewish\", \"propaganda\", \"land\", \"attacks\", \"villages\", \"policy\", \"soldiers\", \"anti\", \"state\", \"rights\", \"countries\", \"country\", \"writes\", \"article\", \"would\", \"human\", \"research\", \"government\", \"people\", \"greece\", \"roby\", \"ottoman\", \"onur\", \"yalcin\", \"weaver\", \"istanbul\", \"plants\", \"chopin\", \"davidians\", \"armored\", \"turkey\", \"ankara\", \"amps\", \"cyprus\", \"survivors\", \"batf\", \"turkish\", \"turks\", \"msstate\", \"raid\", \"towers\", \"anatolia\", \"kitchen\", \"targa\", \"yorn\", \"parse\", \"tavares\", \"clones\", \"turkiye\", \"compound\", \"outbreak\", \"greeks\", \"cooper\", \"steam\", \"waco\", \"udel\", \"kurds\", \"armenia\", \"greek\", \"libxmu\", \"fire\", \"koresh\", \"republic\", \"water\", \"tanks\", \"island\", \"stratus\", \"nuclear\", \"tear\", \"armenian\", \"armenians\", \"children\", \"government\", \"russian\", \"article\", \"writes\", \"started\", \"news\", \"inside\", \"people\", \"ctrl\", \"ghetto\", \"nolan\", \"unto\", \"lockheed\", \"mchp\", \"callison\", \"evans\", \"ozzie\", \"louisville\", \"dealership\", \"kingman\", \"geoffrey\", \"uoknor\", \"convertible\", \"warsaw\", \"sentra\", \"lmsc\", \"providence\", \"springfield\", \"radiosity\", \"dortmund\", \"mahan\", \"representing\", \"tesla\", \"tomb\", \"yount\", \"ghostscript\", \"lincoln\", \"urbana\", \"hong\", \"atoms\", \"purdue\", \"smith\", \"fake\", \"pace\", \"winfield\", \"dallas\", \"cape\", \"eddie\", \"hall\", \"john\", \"bruce\", \"martin\", \"steve\", \"ohio\", \"kevin\", \"writes\", \"michael\", \"ryan\", \"dave\", \"stealth\", \"david\", \"magnus\", \"article\", \"james\", \"netcom\", \"uiuc\", \"scott\", \"university\", \"patrick\", \"week\", \"state\", \"crypt\", \"terminals\", \"retail\", \"arens\", \"lunatic\", \"yigal\", \"rectangle\", \"sect\", \"bolshevik\", \"cabinet\", \"forged\", \"riley\", \"debugger\", \"implicated\", \"xsun\", \"defamation\", \"hemisphere\", \"lawsuit\", \"improper\", \"spied\", \"nambla\", \"sdsu\", \"gender\", \"bimacs\", \"darken\", \"oppression\", \"gideon\", \"tokyo\", \"bissda\", \"maker\", \"bullock\", \"labels\", \"skip\", \"keywords\", \"judges\", \"liar\", \"invalid\", \"ehrlich\", \"organisation\", \"music\", \"african\", \"convenient\", \"ships\", \"parent\", \"dangerous\", \"gathered\", \"organization\", \"section\", \"public\", \"shall\", \"anti\", \"bitnet\", \"person\", \"title\", \"following\", \"americans\", \"writes\", \"article\", \"group\", \"readers\", \"right\", \"question\", \"political\", \"braves\", \"smokeless\", \"phillies\", \"cview\", \"pittsburg\", \"corn\", \"palmer\", \"rows\", \"wagon\", \"orioles\", \"kaldis\", \"isles\", \"viola\", \"theodore\", \"defensively\", \"plymouth\", \"confess\", \"carcinogenic\", \"willie\", \"brandeis\", \"bullpen\", \"mikey\", \"erich\", \"bats\", \"hrudey\", \"fischer\", \"romulus\", \"hitter\", \"teens\", \"stephenson\", \"hawks\", \"holland\", \"milwaukee\", \"starters\", \"morris\", \"scores\", \"leland\", \"alomar\", \"tempest\", \"mitre\", \"diego\", \"colostate\", \"writes\", \"article\", \"cornell\", \"acquired\", \"washington\", \"stanford\", \"pitt\", \"davis\", \"biggest\", \"white\", \"year\", \"ohio\", \"state\", \"nrhj\", \"wwiz\", \"bxom\", \"gizw\", \"tbxn\", \"bhjn\", \"bxlt\", \"wmbxn\", \"nriz\", \"pnei\", \"mbxn\", \"tbxom\", \"gtoal\", \"rchz\", \"pmfq\", \"jpwu\", \"hulk\", \"gizwt\", \"wwhj\", \"wolverine\", \"comics\", \"eqtm\", \"chzd\", \"nrizwt\", \"nkjz\", \"rlhz\", \"chzv\", \"fijh\", \"toal\", \"zrck\", \"ghost\", \"cover\", \"copies\", \"annual\", \"appears\", \"part\", \"homosexual\", \"homosexuals\", \"cramer\", \"optilink\", \"breaker\", \"promiscuous\", \"flaws\", \"desy\", \"hallam\", \"dscomsa\", \"hojali\", \"bony\", \"humankind\", \"clement\", \"albany\", \"floptical\", \"unconventional\", \"clayton\", \"farid\", \"retard\", \"clockwise\", \"emergence\", \"cunyvm\", \"kinsey\", \"magi\", \"cannibalism\", \"yankees\", \"enclave\", \"nestorius\", \"kolodny\", \"homosexuality\", \"helicopter\", \"sphere\", \"orientation\", \"murdoch\", \"partners\", \"sexual\", \"male\", \"radius\", \"dramatically\", \"virginia\", \"points\", \"azeri\", \"child\", \"number\", \"population\", \"percent\", \"writes\", \"article\", \"center\"], \"Freq\": [7442.0, 6323.0, 1709.0, 1404.0, 1311.0, 1553.0, 862.0, 1148.0, 1056.0, 1564.0, 5492.0, 1016.0, 941.0, 1569.0, 1492.0, 773.0, 1869.0, 2462.0, 722.0, 1365.0, 2229.0, 905.0, 718.0, 736.0, 1498.0, 1129.0, 647.0, 4609.0, 8242.0, 546.0, 284.07052358898187, 263.8298881974001, 249.35392427884767, 230.8475627465833, 178.65905269265377, 174.06827988647024, 104.99650138075938, 103.10009281818219, 101.98419125540582, 89.41908208615409, 77.47443929114318, 71.76513405273504, 71.15781612692491, 70.85464086647445, 70.43511157044954, 70.43125964724395, 63.879539393655826, 63.68066100027722, 61.60550078548137, 57.82547818013236, 55.269494130216316, 53.87472040592823, 53.85281222402082, 53.59665048263392, 53.52220749510795, 53.04070529678922, 51.33868613285948, 50.94843853176949, 50.607121563130214, 50.58291874396864, 418.66136865466734, 95.2639419880604, 75.39141596205478, 371.88566603209324, 499.2214225882786, 537.8052112253681, 159.35369728872598, 682.0719930025115, 209.6789500946501, 308.5613934610836, 253.94803581173008, 209.6682378549237, 197.32790285680326, 505.21333983400604, 310.0795349065379, 413.23205635175105, 492.9247492009076, 345.2866792913678, 215.9713999337589, 91.60380680572865, 230.52518095939874, 1325.4884678332016, 478.1465774268139, 162.65082557649666, 726.3205272640812, 346.12497103806277, 618.0154892961949, 1957.8827558426774, 2395.4232908482813, 639.4685189914366, 731.3064849756779, 501.0449100564187, 806.4299592719331, 2399.68119378235, 2170.570453181186, 783.9519994682435, 1684.118681013543, 633.3212506744346, 728.7259677732167, 970.54128311844, 1006.6858900507799, 650.6084460686747, 1141.9207908335839, 922.1986912810839, 519.2819083095717, 823.6229624613541, 1084.3778479762354, 857.771223184947, 619.3486204515729, 666.8991672159426, 706.1082769482502, 639.1512573716983, 606.3108808948771, 567.8719670417526, 620.8324780108543, 589.0348224547139, 590.1818343436561, 240.4300323047018, 131.5551358109225, 119.31354720598354, 110.31761726571503, 91.58812215387242, 91.5675021818652, 83.69754347915313, 79.94953921231375, 78.62091779478126, 78.18485475399528, 77.41653028061641, 77.14825032824065, 75.15503260676176, 70.59708040900142, 60.74001980159695, 60.087247138108985, 53.82553609381964, 52.8505223086311, 50.36942642082375, 49.69169681852134, 49.31312408750067, 47.85786976708724, 47.61320853611032, 47.290485982534626, 46.71231893996557, 43.71507504292549, 41.59276830001633, 41.13478378918785, 40.529028252215774, 39.75246639785499, 288.6225869834821, 163.38928000227168, 278.3552281004728, 48.973841093407096, 356.8134137616015, 258.4201296549841, 67.74597148571577, 188.83422754084123, 87.07678724937576, 94.19288075468711, 232.88584794406194, 107.17403847829443, 82.57992794058181, 79.2462733209743, 165.4646756968747, 137.46729059449498, 136.80264533137483, 141.6702071840106, 1546.9264565094381, 1147.9597163880735, 506.9154840853489, 689.2093861639345, 680.997757707409, 606.7911214150453, 508.17076466061746, 1571.689614914216, 361.17016007501115, 379.22584639838175, 1272.237683012077, 736.355177388409, 1336.6944588878732, 284.8071332949523, 911.8651984351023, 1058.6822713980785, 946.8819092358945, 325.7143507646611, 502.10181812313965, 675.3344868835486, 553.6279213433177, 686.1166677981685, 504.4053472476509, 465.77486191469245, 651.0350044935467, 552.7755094890388, 632.5830752573661, 492.46583674469355, 419.3824218162945, 526.1387814235427, 437.17330428862493, 425.52800578040143, 465.0691970238397, 416.78216745946395, 473.56935821094515, 439.7393851421843, 238.5098381183525, 148.1479625280251, 143.05617378195714, 79.00320724048801, 59.297985766234305, 58.791067968195335, 58.601205648541125, 56.36952064352683, 56.250215102624324, 50.77279664638365, 48.02588964738266, 44.42279602451373, 43.6577913573958, 43.6577913573958, 42.78992534259589, 41.784929108517225, 41.52896770006348, 41.3662285689313, 40.61110622946994, 40.27980803639491, 40.13180117526152, 38.60200773187601, 39.50167355671665, 37.71931214415884, 37.644990958749034, 36.14504822631876, 35.14927752519703, 34.46989334489561, 34.19542005620396, 34.11524853282146, 49.96517634169439, 182.94331589088785, 133.96636623341797, 109.80437310329405, 229.8517514561763, 62.98605220336872, 76.57805970783632, 57.6514744314342, 80.28979507988726, 81.4409615825133, 103.17128180301596, 235.06015775002413, 91.57188603289495, 92.14408192635891, 112.2455208846008, 69.65636795139197, 130.11726954765692, 58.17788930176053, 204.07542993153447, 149.66070667566586, 175.9258172483502, 120.07244601725169, 282.3152227994782, 269.50979384358186, 461.54432817532665, 613.0518320805874, 514.9573057227366, 228.73483558084982, 603.959944682166, 1123.1866592098365, 491.96034476111987, 277.30431710438404, 762.6106990892151, 568.287916349666, 430.80910936551004, 312.0920321881473, 520.687961105714, 292.31285441442805, 212.21044042977414, 431.64284942237464, 503.76202113586413, 435.4908879388974, 472.7424345468345, 284.99022598245, 323.9465197218883, 287.73840096010724, 319.7359791826254, 259.13611077449565, 392.9085766171431, 314.9541488833267, 324.95671862138863, 274.4648719892069, 268.3907859555084, 258.23060981526334, 258.7572618614534, 248.67631893591232, 123.78428043890007, 115.87102338905318, 99.14563848269073, 79.77779842771086, 73.35728080999706, 73.33011918373806, 63.65337784009791, 63.51676351474551, 57.10064439696277, 55.79056719781626, 259.4468581390964, 53.57617738211334, 476.65559722042383, 230.21867197179026, 48.08985787610755, 85.6302871250809, 46.65092596941157, 45.78857397517604, 44.43793810146296, 44.01545684797579, 43.299852919836816, 42.9699624610577, 42.66574276232104, 41.31524619419877, 40.73334895769765, 39.21636738881507, 39.21636738881507, 38.951912026382495, 38.951912026382495, 207.24192793023835, 171.29450553534434, 147.66964075057976, 256.9981385359605, 73.04266950697581, 129.70162626261222, 620.27788297513, 227.83700874496202, 341.6895593300669, 125.71679872937057, 345.4901715211819, 66.90708813749222, 413.00946919894545, 330.173053507845, 264.25748921465305, 333.81598362595935, 291.1320392544222, 510.58432155126525, 113.99297062064021, 342.94394986027476, 93.53041388200688, 170.20083216164755, 225.09281901977178, 104.28182968791647, 185.9002877067287, 669.0735370729938, 561.7101610142303, 308.93740409129975, 251.46470706472263, 329.39002567375456, 357.65720481299377, 348.51693226350733, 348.2095115001308, 240.37617172905556, 255.0968484094211, 437.0678174149224, 686.1244939648203, 334.71538794340125, 568.7094903978062, 372.87191246944496, 353.35518734132654, 323.2790747183055, 342.1922450364751, 261.3994838578232, 268.6556571834658, 268.1183999789471, 262.72709577771917, 1148.0973590999588, 325.11598740464177, 486.2104557284568, 220.70614691938673, 213.2017932370561, 197.31060776037995, 168.14672364655206, 154.36952518681554, 123.96794662356922, 115.27611744771805, 115.2018802674179, 114.75392334811355, 109.51009340287904, 104.71198463797529, 225.70376877174564, 89.43255057636114, 88.06746159095081, 83.15966853663902, 82.50276584068602, 81.07173320193006, 80.98259641832716, 78.5009740663044, 78.34872556538909, 77.68712781759152, 77.03226390265495, 75.45809073770715, 72.45031383418375, 67.8708496945237, 65.47860899275332, 64.7555018072411, 151.01052966010096, 152.33747268007096, 481.667817403605, 99.70140614594546, 205.35645742212066, 161.46997665399812, 158.06592566377714, 505.4069364109764, 466.52760600179084, 185.1096478625478, 103.48371223137428, 98.58005529416367, 132.8965512031025, 424.1098460436938, 318.5712554752919, 386.9544194324319, 170.41791505246516, 746.749678010422, 244.4973267057152, 287.61457486402463, 763.1728628990585, 265.37938423232515, 272.4113156231544, 334.19843211831204, 223.07922414424038, 221.25439270122192, 245.28328477232623, 212.77981347534995, 333.52379255983504, 275.3869138550218, 361.96260523176676, 377.5966381409727, 266.98409120382695, 310.9938676531564, 365.80982227206295, 296.1349760924797, 254.30327784400015, 225.84059599693103, 197.4603153394877, 182.91307010088505, 149.0028758874048, 119.23971853813413, 107.59841103456198, 105.20888825545342, 104.6645796080991, 100.48308258503783, 97.27760725358375, 95.4875643235779, 94.58488657828568, 91.32371583129763, 83.43432594860849, 80.10200007777858, 83.60315957449563, 76.10847508214445, 74.87970877202596, 74.57402315953824, 48.54989880810515, 48.03425177939542, 46.861935016923475, 45.311563549355355, 44.16919134979269, 42.79250478481154, 40.29243267571189, 47.274776364895686, 51.895569138634485, 34.38681720454724, 33.90458190711804, 33.779766144936225, 251.27345390738526, 575.0717930815997, 79.08902591265498, 1399.9119947020026, 384.63220859517276, 106.93128921365407, 806.6019763143069, 472.4259147780806, 363.97675075319745, 103.1759504080652, 545.0687389499308, 254.91701561911682, 1045.7149763324733, 266.22206297107596, 325.18658603267744, 116.95518566386964, 361.14787244464634, 319.7963439874134, 232.36302098698803, 914.0692603286108, 746.0804831291522, 236.9446126859723, 301.51818646628305, 332.65863736491815, 505.39296562071553, 597.7371049709318, 982.9185792525891, 477.73500485064454, 216.2539129628335, 238.11467624883957, 519.8764223186736, 449.67580900974866, 685.7686754582271, 486.4405588105401, 792.4924219964593, 433.81515992649, 661.3287619537309, 561.0689944413476, 430.0849282022102, 335.59956866931896, 426.3306010372602, 356.3735540072325, 80.40733218990067, 59.99295481772783, 58.80959228257518, 53.5274520002348, 50.818588581589125, 43.2379258623196, 41.76406949438089, 41.49896010557447, 40.20806612361532, 72.05255776083925, 38.74309299762808, 38.40414193373358, 78.50812220512879, 37.08584080805028, 33.747646324311376, 32.28184135210888, 32.083106724074014, 31.20190794848007, 29.06968251532826, 28.910613817347826, 28.7936956427227, 27.593315285260825, 27.338750641767444, 27.237779834716626, 27.149814286520854, 187.95728100749113, 26.881493533509698, 26.40675233124838, 26.23713013167896, 35.493212124053976, 262.6345324844047, 74.08257775203126, 218.3177940217779, 365.41985006272586, 47.73148468886036, 57.319987752340026, 99.7650766087482, 423.8141584458106, 52.97493974405273, 58.82280988112202, 97.65808019567793, 75.06462912495068, 343.71850589835753, 115.1428309199485, 645.0795426156027, 815.130764681479, 205.72667199407505, 594.1613076137002, 423.67356767915413, 276.58492625296185, 712.4097006560805, 116.83597946278417, 107.45489944215097, 789.363005965835, 498.92584379771773, 400.1500424895479, 211.85284284966974, 245.98475396591795, 130.00674068956283, 339.88115552593916, 305.3547391530304, 250.81977690755093, 373.0143082947549, 335.2805380914932, 484.45263030472563, 204.6325578015449, 304.9174857571809, 173.9954165174392, 207.72697318469207, 177.65296551949604, 327.2058856863548, 264.30051905924284, 282.94826959894385, 516.7882964851004, 285.56462734031356, 311.2100258558295, 280.94896662378517, 301.4551491711579, 254.65194356460677, 735.1717479597576, 552.6896508996911, 510.82361745709744, 487.5215094102386, 356.6097933904999, 345.2163057533319, 218.69026054561834, 195.49701595941255, 186.60480742538496, 151.11187304720661, 148.98609713339627, 148.86329901659298, 134.99856587209703, 131.93381555661026, 127.88628074666394, 142.2882723005091, 115.86607487359537, 111.9571208017552, 108.73057364541252, 104.91705615228372, 97.78918818556431, 93.85241474642773, 92.87435837902517, 118.60207884777837, 83.9734261176108, 83.83338865021776, 83.35394158314071, 78.8316545365049, 78.66290701590859, 77.82422218251078, 1029.189463283452, 346.48307754123374, 979.5320757910366, 129.35392301698047, 421.1335444367597, 114.99701515352353, 688.8269129207844, 148.54621483375186, 234.91429579486822, 210.48346395150298, 143.04911784498148, 197.34837737223737, 159.40116213979817, 247.5991947553054, 780.2798115099719, 232.24328691938373, 204.40970194513048, 271.5277296922074, 515.4274147504617, 179.35157749831725, 160.1548489003463, 442.5875874410658, 193.43217295063204, 208.24937397208492, 430.9131758040416, 274.44023931096046, 439.2305173406155, 289.4461492063241, 356.67289057904173, 409.48596991528416, 315.50575422747346, 279.9889960823286, 285.7159899250763, 300.73751595839565, 256.37806142664357, 225.49145488870505, 412.47701296026133, 342.7859782363765, 207.89178245440505, 198.96428723230423, 195.6191416114595, 187.8833479208602, 183.35594546436485, 136.0077080563084, 135.66667037543468, 115.23781996759872, 84.54369395307754, 83.4086271995957, 81.03086156466779, 80.41780462033718, 77.20730936983075, 74.32932886391391, 70.49798178926217, 70.06304486208576, 68.18426508539105, 66.33782704653939, 64.13072051980849, 55.90038946279824, 54.46489922442672, 50.782753630375794, 47.647765851047964, 46.56734006956636, 45.7738453503303, 45.257953887289, 43.5523747370171, 42.75494250137077, 571.8628947849078, 82.78788892554194, 91.24983545166529, 186.49358831201002, 106.1403669761017, 828.050817452875, 103.66841487993362, 1293.0607783606413, 561.6580278269322, 210.31499484362544, 141.08691052244646, 117.23002292692725, 759.6516621589159, 371.40313948792846, 284.2229860736815, 143.84362620999474, 166.28331515100928, 134.44762331011876, 212.59075241982987, 428.1097078831317, 312.0344760285319, 234.39862193373787, 201.7608923990757, 201.42884521368663, 249.40890204884965, 298.7281152285301, 358.29085583265356, 232.6488550993064, 274.3354983010324, 245.62113817110534, 292.8562128937969, 231.16557029151397, 224.3179119817571, 232.9770816580853, 222.7513081244285, 212.59305013932968, 204.1078926386081, 646.3508131058878, 489.0900579850775, 366.9990657497059, 258.98804578086475, 225.05764725047396, 197.64331753329614, 190.59878375909076, 188.33844757321262, 180.43961829658699, 124.17547749164079, 116.53033783606439, 96.19505240667974, 76.98114384574235, 74.06397099146176, 69.34627604194058, 67.28288972445179, 57.65522979682477, 57.56460747518367, 54.63612831301343, 54.45318821929353, 53.54379884007687, 50.34257028556254, 49.51432126442795, 49.27063248748103, 48.10751382755575, 45.47894761942062, 45.07567828811774, 44.82866140475606, 44.29127963035055, 43.72719699027989, 282.9394659011176, 475.09786576460056, 66.41620057848104, 280.9833457423153, 452.39784009606853, 205.7375102919367, 244.90823215297166, 547.0274265986002, 177.21175828081138, 297.92045274879627, 602.9870473190822, 77.26395687664942, 102.95221889909469, 177.12232574895114, 360.20983442269716, 255.1803218855642, 211.28762844174025, 127.5660743096632, 177.79770330810507, 183.36943597226067, 371.80301384839515, 202.83114469483212, 243.24292305638102, 244.81836336485844, 330.54626000437594, 236.1112437906719, 219.93708287121513, 198.26432169946546, 721.3138949159775, 373.91995172106704, 91.48873696498397, 63.010740596848095, 59.09721176165111, 57.30057588630842, 54.064165218866705, 51.60328002554719, 48.33489092298003, 47.93107166952446, 45.334036015270996, 45.193827927213036, 43.49300589106255, 43.13082655867577, 42.85862412290312, 41.803283237845974, 246.55841618957535, 40.57715104928803, 40.33631643485031, 35.5723700158384, 35.15789456687752, 33.92963507866232, 32.92043492922658, 32.284589001117865, 32.027156196761844, 31.237514382321457, 31.086249588637532, 31.04517103831162, 30.356109790073205, 1274.8980382193636, 331.7680080088413, 67.1588698766539, 78.54191902781386, 251.59801534056325, 168.92841931205575, 78.13742350317095, 310.3468620861204, 262.5797927452646, 305.9200828141733, 196.84301612374375, 555.805516878814, 124.08024146757785, 117.91239874096398, 64.24844161872727, 244.79215342600565, 218.3179354544675, 85.49790658022043, 398.783777589107, 501.17830008770267, 249.81539075370384, 235.1380211110992, 123.62280638387192, 132.13843943776777, 96.37704834219906, 176.20671245975498, 186.44274001979596, 137.75788532310915, 142.289637641106, 160.42977839245918, 100.99194262180018, 232.753423247155, 130.08700033681205, 265.821219637824, 373.7663396754465, 208.0896160728142, 327.04886948029525, 248.3622349841311, 256.5813592339483, 257.2919035824291, 202.12233043055346, 216.81364570424452, 181.42396739508214, 284.84662225983277, 221.65429097555324, 214.71142587951454, 188.63078106840146, 109.13200082875463, 106.73500159784128, 103.58687580251474, 96.0233837757073, 91.15451262627217, 83.8929472144333, 75.99756864475214, 75.82857752796286, 75.56088566257077, 74.04964274656253, 70.75683624485397, 67.18180710169143, 62.05384799451578, 61.816423554779526, 59.871831896906194, 58.88876761732783, 55.449754979219136, 55.28074577432689, 53.704397746320275, 52.98817519129388, 50.40491673461151, 48.941917803938985, 47.881710779828, 44.2693598508468, 41.880304311826194, 41.6148644152553, 215.83980997844694, 193.28343909353006, 179.89984669895674, 1273.2536933444876, 662.521726665736, 130.39946173014522, 130.5086174022714, 110.80741739679137, 87.54638225465334, 209.8507426113624, 161.111734131987, 323.7819874518084, 117.24098180654532, 72.6047530216584, 278.8311462623952, 124.33383345250729, 113.97501804966141, 153.7516970875164, 108.3794754510442, 143.3181295844153, 82.37837608747645, 102.53936964138066, 228.35151963310204, 234.53183854237852, 132.3027401608086, 111.353183698687, 156.01097350232797, 122.1913217718095, 151.4482133490178, 138.24961401300476, 126.92507479197221, 123.82174719836337, 119.26640316727567, 114.65877245983589, 433.062382525564, 148.8929048286461, 142.99666333765356, 124.20025821851944, 121.32544754405912, 111.2611009395051, 109.65389004617059, 89.0115345279981, 85.94031027466285, 78.33920815305368, 68.63746235371325, 67.5676060507521, 65.58200117082734, 62.94820337708316, 61.79548682063937, 58.956332502607744, 55.671526423340204, 52.03024711256764, 50.828801038752616, 49.44172109804138, 49.30854046652769, 48.730586309158106, 48.656272540545, 47.97405929734766, 47.526962211600626, 46.28926258129849, 45.79318505378593, 44.51196007805014, 44.30631248146532, 43.423409907714344, 183.61832171754924, 101.2591742872748, 151.90700865286502, 60.36483636810351, 60.79274275617519, 108.28510751229103, 294.77584106709116, 95.95218356988282, 121.4428901975629, 203.21075938513093, 172.6154476195179, 72.05877632196277, 57.139303649255304, 559.7917679359932, 480.39985165308417, 199.7642626446704, 148.2741654202285, 160.305759276021, 212.69772895842223, 116.7767804571407, 128.76480380110857, 115.42657636541442, 104.06236110262881, 88.04799489089788, 90.26041534930982, 108.61293521494383, 109.40765291956532, 105.30988693221137, 92.14292041410846, 545.5703113282473, 330.0586239436696, 161.1814893602536, 156.78239310121143, 142.36556780124167, 136.8196980736845, 120.59983664181236, 112.37240741649019, 102.97530845511649, 100.03063446610919, 98.61280342737103, 66.09274248246862, 64.67717539242706, 61.43423365207558, 60.976672073819735, 59.652523146553484, 848.7172358860797, 174.26110416127088, 50.27585535923951, 44.29878257898866, 42.194722584285365, 41.71115341391372, 40.351453216661305, 36.94687238685423, 36.9080557239465, 34.81821495333482, 34.80855786404581, 33.20641187163852, 32.81369594678709, 31.652050603563797, 79.68038908287413, 114.94948290011745, 87.05116408758819, 571.7146134197832, 50.73993916398613, 250.9375628588179, 149.0026436818569, 69.74857882083691, 72.25386701630381, 267.08902650606035, 80.43592311481807, 202.60795015565043, 129.07129300263608, 101.73244769711921, 165.35574855176318, 118.95597022621256, 138.3770636744341, 205.38669253999853, 153.97725367421558, 110.27213065552564, 123.66510334608031, 233.7984355438966, 219.85708226697528, 209.776407748865, 131.27482123099995, 113.86036522903278, 117.8228831621054, 115.23705146102398, 124.58608345845352, 93.64495545769309, 88.32066120456005, 80.61178886312287, 80.61178886312287, 68.88469281704276, 60.172729939556085, 53.69277160402647, 52.50396816486057, 51.75480134111384, 45.45159059325397, 325.68949915285225, 40.071549506067704, 39.627040223753056, 94.13696753080714, 38.77386007518481, 146.84475220445668, 497.72648097693883, 248.0833788005888, 32.87537441040599, 31.823243892594064, 30.632824934263226, 30.201611864227303, 29.654874487360264, 28.239744972373884, 28.182333664029496, 27.98262285849203, 27.638856698568066, 26.369946354546673, 26.103304100454455, 136.17632055370004, 45.22053871591665, 97.77928766700657, 50.949215366247266, 33.98812116549153, 78.38930446137618, 105.89954625236449, 53.91565450263682, 182.33606989331187, 239.8123384265031, 50.675791195337375, 247.9536934075826, 158.87407109035868, 74.04179552314231, 173.15663125196775, 82.1661989758527, 99.86335308123111, 67.18949428868221, 108.14423017201003, 67.91616460009776, 140.77237140402863, 128.28578552992158, 123.26053529708186, 155.0277255701651, 96.48009041823639, 164.26871712353102, 165.21010461850503, 98.61324803302465, 107.75907734838785, 84.79984769161464, 89.55606013285293, 56.75533778553688, 50.169894779461565, 49.46006351773584, 46.44073782110536, 41.4236062339204, 39.65695593297441, 38.20793293901256, 37.81574652862144, 33.364385155371025, 30.7987322383952, 30.501954198900037, 30.310578230936915, 30.260546129486038, 50.31061362848834, 29.530510355151087, 29.499520453090845, 28.87487578506889, 28.690328955525953, 27.008863055239924, 25.92576038597281, 25.55403946040415, 25.402451886261634, 24.66673832150605, 24.168318675979407, 23.92843477201243, 23.83316236983261, 23.669274012967293, 22.455277330936223, 21.423608118113723, 20.608905501457656, 35.74831369018567, 34.3738761161565, 56.14877257067356, 148.39574800598618, 32.72176410724945, 30.1916165695359, 31.713001237008452, 40.551546749492516, 29.840345777483037, 37.31833787629059, 64.4353245704291, 141.23679334133175, 49.79061223884063, 45.874726372351866, 80.47589174188218, 55.930165577738244, 48.43600416692941, 167.24178401402398, 64.67249787224857, 47.63867484332558, 58.495355762470446, 40.29854405746211, 71.12972676509412, 40.84980509355853, 108.40474325398836, 52.56500125856897, 56.0788013149143, 52.81199062447602, 48.012452843986765, 49.66352973621613, 41.63706395999297, 43.364932474226535, 41.756988367625986, 85.545604615513, 55.070227405848655, 44.9884063146464, 44.644201022326115, 39.64711961136778, 39.565544473562575, 33.745508429711414, 28.72897133761612, 28.580251266604524, 27.399195349472183, 27.292934416070263, 26.78156363670918, 26.779153217400914, 26.63020912171724, 31.671205830653783, 24.673401000916403, 24.155449496812917, 23.669242719560113, 22.389762424381946, 19.65894259928802, 19.6501216278248, 19.58198150809435, 19.463054564386265, 19.30600896109009, 19.242366567468363, 18.84455691010233, 18.35265473637852, 18.34100545343026, 17.06802295078416, 16.871414374989985, 47.88590264985263, 25.12232490293466, 44.489546451587735, 30.405380270055687, 85.12460194233634, 74.84396326282818, 32.316870784594414, 23.06453766119291, 29.207550505601212, 69.29614304455714, 36.35346580075212, 43.2059453948933, 37.01625140943993, 41.10496878127422, 54.03661203419698, 35.26163632560993, 61.353430151062355, 66.26340904624854, 84.10460037768041, 51.645066804554155, 55.238581946918195, 42.05961114785026, 63.919003777411874, 46.995124547487016, 55.37743416194126, 42.613662935409714, 64.5881482402534, 59.67205174825266, 44.01884045837629, 37.456451273747305, 44.12014699999178, 38.80862542093266, 37.83426026687987, 130.11031724913354, 77.97480607631049, 73.82999895596772, 61.34352256872522, 55.4866473910032, 42.3240112713434, 41.32465180385791, 39.2586651290587, 38.52952696497118, 35.40811915584964, 33.28067515267199, 33.22837362415384, 31.933941117025668, 30.747519659104025, 28.244451141188065, 28.213830077210876, 27.27348443510693, 26.64459249765212, 26.54293181732305, 26.41843250289804, 25.28961824213154, 23.80017893618417, 23.6811809271453, 22.78659276430039, 22.545370696229142, 22.4320148510358, 22.142910688609728, 83.5303654457244, 21.411865066217985, 21.19739827996069, 67.65632919034474, 50.09061022684739, 55.03763757529069, 30.509265400517403, 94.66211994885273, 65.41259087800148, 46.28373037604894, 60.72692640095458, 33.79902645775375, 54.51410972182638, 46.720771135448366, 41.98447195498608, 351.29865007531515, 299.7737838003535, 42.30364548575673, 39.67801250086487, 84.02752537813808, 55.61581851099795, 56.59476524007697, 41.01157040145584, 44.391531738255956, 57.53814912089524, 63.564774393121006, 41.34703656069583, 40.32521408167277, 132.0171082376945, 89.97625269423163, 79.08954287274324, 77.60186767079436, 62.18324000011865, 61.217124729646294, 59.15006471579624, 54.296764725658804, 52.22252277384592, 51.848089772368795, 49.40562104494575, 40.50728702614742, 39.45691553151042, 38.26455701880763, 38.13680145859736, 35.479163821232035, 32.90734354738475, 30.895435659753883, 30.545440761592314, 29.717988118687664, 29.527759106853097, 28.350011882786003, 28.23410251282544, 26.630120686705542, 25.17032994258228, 25.080564429762017, 21.327268317766983, 20.787195991614315, 20.611316916961187, 20.015137660609795, 26.77922517604211, 59.61743080971915, 46.578836746388816, 32.95583643854961, 34.453638138179215, 29.510415824348964, 116.31192632286411, 78.48172868197318, 77.44765720695916, 68.45940508586659, 63.91945518454372, 42.37345900437315, 32.831116747132306, 32.30784100682668, 32.24749581122271, 24.340713838087694, 23.991745591688808, 23.22957536221723, 20.286199210660907, 20.232200534757265, 19.415943988893297, 19.359348457892388, 19.08400766024554, 61.78783355436031, 18.23173491845313, 18.03579505529377, 17.924817926869167, 16.229231997864485, 15.62924386360301, 15.596862725484659, 15.101865200108922, 14.572633951514291, 76.05276579483757, 13.99642200769165, 13.71360480219727, 13.658975114774666, 73.3800706635573, 21.23955514385625, 31.370926429319844, 37.23142164200457, 26.39350217448763, 50.75383669553245, 80.94647046156, 59.678863619729384, 38.78368031571616, 28.40979431474385, 48.1909429618124, 61.1772732805258, 30.092003608535666, 36.02377885318928, 47.90491676611475, 34.50019614739496, 29.02751144572077, 45.41592688576508, 42.92958509649071, 29.512042000109965], \"Total\": [7442.0, 6323.0, 1709.0, 1404.0, 1311.0, 1553.0, 862.0, 1148.0, 1056.0, 1564.0, 5492.0, 1016.0, 941.0, 1569.0, 1492.0, 773.0, 1869.0, 2462.0, 722.0, 1365.0, 2229.0, 905.0, 718.0, 736.0, 1498.0, 1129.0, 647.0, 4609.0, 8242.0, 546.0, 284.94400037785766, 264.70336498946307, 250.22740106772332, 231.72103953545894, 179.53363369780305, 174.94175669362176, 105.86997816963505, 103.97543755470615, 102.85766861610833, 90.29796267923246, 78.34791608641196, 72.6386108416107, 72.03129303509468, 71.72867101162363, 71.30859541955749, 71.30473676038821, 64.75302030663903, 64.55413779321741, 62.47897757435703, 58.69895496900802, 56.14297310578509, 54.74819720378508, 54.72628901289649, 54.47012727150958, 54.395994690374515, 53.91418208566488, 52.21216292173514, 51.821915320645154, 51.48059835200588, 51.45639553547773, 427.1475030063986, 97.02207685397306, 76.7140119347727, 385.42709241601204, 519.8697599463445, 576.0094051510616, 165.97284617101772, 743.6996101795461, 220.43926943465536, 329.68223868029, 277.3995251189959, 227.11551854069995, 213.7720765513187, 582.0707591669626, 353.1331965632181, 484.3867247717255, 592.9886740047392, 403.01282082487177, 243.2856939789801, 94.97077190848458, 263.11197474205926, 1851.7845938922376, 636.0057776950614, 181.2601520328872, 1068.292257257062, 460.5757269452924, 972.4001585553846, 4193.927074284176, 5492.862143118164, 1039.2437737828898, 1255.2122161224042, 775.1610279691481, 1521.9852997505905, 8242.214925021051, 7442.353701640942, 1681.203364966113, 6323.609936665545, 1289.0609163052548, 1656.1758717417035, 2717.852958595653, 3020.3365311397993, 1491.0712351628472, 4609.807783395752, 3181.2968185656428, 962.4516934217047, 2629.0132415777503, 5266.547965476985, 3174.831756974755, 1582.8156704120113, 2076.703213299461, 2712.4174593418415, 3227.501460019724, 2463.4360002523345, 1562.000599143473, 4051.9228040758653, 2337.8726494980624, 3734.698782849722, 241.3039607674146, 132.44131767040795, 120.19571322851654, 111.19099154090073, 92.46149643282828, 92.44087645403475, 84.5709177324407, 80.82291361692243, 79.49429204806884, 79.05914595461192, 78.289904533904, 78.02162458152823, 76.02840715356199, 71.47045634090067, 61.6133947497357, 60.960621391396565, 54.69891037443141, 53.72389667136927, 51.24280067838685, 50.56507109290385, 50.18649834078825, 48.73124403715348, 48.48658281891659, 48.163860235822206, 47.58569704485165, 44.600584213801, 42.466143478012604, 42.00815804247543, 41.40240259368745, 40.62584067846752, 299.2513351090899, 168.58147628199706, 293.3882124521699, 50.143639657701655, 384.35802193321405, 276.1286081224779, 69.91923666005835, 208.46290746255627, 92.04165180555138, 102.85443791263069, 289.8217930893522, 122.05841208010622, 90.88205481593698, 87.24216909683037, 218.52883026411115, 175.04114028630144, 175.63583746453173, 192.3180645594572, 5266.547965476985, 3734.698782849722, 1181.33385410386, 1878.4017474766013, 1964.4550799847382, 1745.2497942185114, 1382.625023452496, 8242.214925021051, 844.0081069023278, 921.7579156891481, 6323.609936665545, 2712.4174593418415, 7442.353701640942, 602.1870540232035, 4193.927074284176, 5492.862143118164, 4609.807783395752, 769.9834370078614, 1721.9224047696102, 3020.3365311397993, 2076.703213299461, 3227.501460019724, 1817.62445098668, 1582.8156704120113, 3174.831756974755, 2337.8726494980624, 3181.2968185656428, 1837.4841463500854, 1295.8569394554136, 2629.0132415777503, 1537.8620331456082, 1408.5100409342242, 1969.0373019344784, 1345.499101239247, 4051.9228040758653, 2463.4360002523345, 239.38412189130764, 149.02224629182396, 143.93045756076162, 79.87749101145388, 60.172269525753556, 59.66535171568704, 59.47548939929426, 57.243804391018536, 57.12450268323941, 51.64708098688026, 48.90017339936496, 45.29707978168797, 44.5320751090947, 44.5320751090947, 43.6642090998719, 42.65921285927036, 42.403251447555185, 42.24133841878649, 41.48539006190337, 41.154091783886614, 41.00608492724382, 39.476291482573636, 40.40595569697556, 38.59359598998763, 38.51927471368154, 37.01933228413596, 36.023561278576786, 35.34417709238731, 35.069703808186254, 34.98953229554664, 51.33977633742573, 190.9647207787924, 141.49736622848167, 116.82127882863635, 266.4509852747758, 67.15086115037104, 83.2749738114067, 61.36731176393497, 91.3578362570256, 93.64922729532289, 125.02251660075146, 352.2770704043215, 111.9418531357104, 113.41744026054184, 145.89827800307708, 81.1926910131323, 187.30993828092772, 65.25886325779666, 371.306048367391, 248.10652060723834, 312.99160628918884, 181.70018454692462, 660.1664527490414, 618.1588032125863, 1410.714024426363, 2309.6228742523367, 1767.8123540462202, 519.4667122502563, 2462.1072624329354, 8242.214925021051, 2096.706154331616, 815.1275057960526, 5266.547965476985, 3174.831756974755, 2019.93736286389, 1159.158112661117, 3227.501460019724, 1052.9632840616327, 568.8560870606501, 2712.4174593418415, 4051.9228040758653, 3734.698782849722, 4609.807783395752, 1333.810767574747, 2229.1337191891816, 1616.1030422900008, 2337.8726494980624, 1181.743977525744, 7442.353701640942, 3020.3365311397993, 6323.609936665545, 2629.0132415777503, 2076.703213299461, 1295.8569394554136, 3181.2968185656428, 249.54974000608968, 124.65770150907743, 116.74444446329507, 100.01905955286809, 80.65121950195275, 74.23070188017442, 74.20354025391542, 64.52679891027528, 64.39018458492289, 57.974065484273304, 56.66404164403745, 263.6140835289061, 54.4495984801693, 485.09352388460815, 234.34356721517764, 48.96327894628493, 87.2052643824463, 47.52434716838696, 46.66199505180845, 45.31135919363884, 44.88887793024593, 44.1732743241265, 43.84338353123508, 43.53916383249842, 42.189315857015835, 41.60677002787503, 40.08978845899245, 40.08978845899245, 39.82533309655987, 39.82533309655987, 213.78954702063834, 176.9394865612328, 154.02648248698327, 272.1537650280199, 75.96372269877993, 137.77689727104524, 705.5179402050111, 249.95275170877986, 397.8879301225573, 138.1474261148713, 412.7518439634415, 70.39114699343885, 518.684488025623, 407.4213785601772, 319.6282871301814, 426.9512951778394, 366.7311436763713, 695.6401184554175, 130.0386785396219, 494.60925421138705, 103.43063022724071, 220.026727303291, 313.80864397538494, 118.54993463025617, 257.7870405440585, 1564.0058099848106, 1248.2895434277716, 540.9198929968861, 413.716026227116, 631.9008609182819, 721.4583886064974, 707.10112844224, 837.4527445214134, 432.9268465816382, 511.21093436792745, 1869.7548837620425, 5492.862143118164, 1011.5822505013314, 8242.214925021051, 2463.4360002523345, 2288.574493143594, 1817.62445098668, 3181.2968185656428, 633.5451791553538, 1721.9224047696102, 4193.927074284176, 1559.9273949143399, 1148.9730551878556, 325.9916809751755, 487.66555589726187, 221.5819091096759, 214.07748681077686, 198.18630396924866, 169.0224975735121, 155.2452187573491, 124.84364019410279, 116.15181101825162, 116.07757383795148, 115.62961691864712, 110.3857869734126, 105.58775196075123, 227.64860434897832, 90.31494954692734, 88.94315516467157, 84.03536210717259, 83.3784594112196, 81.94742677246363, 81.85828999776909, 79.37781739794124, 79.22441913592266, 78.56282140283339, 77.90795747318852, 76.33378430824072, 73.32600740471732, 68.74654326505727, 66.3543025632869, 65.63119537777467, 153.4966202277111, 157.44090100913445, 539.5385237496045, 102.901983136686, 226.5663139808751, 175.7613533919212, 173.9592811426852, 647.0091205880692, 595.6432041731051, 213.82545147604586, 109.6791603064412, 103.82888413867101, 150.6652368613846, 663.8179940921158, 568.5159631776811, 791.098605780185, 234.81518817059043, 2288.574493143594, 439.22330370097166, 689.1296181355759, 5492.862143118164, 677.4161019519722, 719.4170356940072, 1124.1753092687168, 477.6549426735695, 494.1729138340766, 747.9401567755198, 492.16656937518945, 2629.804295765441, 1315.5306879412237, 3734.698782849722, 4609.807783395752, 1266.0513065600937, 3020.3365311397993, 8242.214925021051, 4051.9228040758653, 3227.501460019724, 2717.852958595653, 198.33550259019302, 183.7883971359471, 149.87806431104266, 120.12876850132673, 108.47359829120624, 106.08407571402024, 105.53976922102241, 101.3582698357432, 98.15279451668304, 96.36275158834309, 95.46007382899104, 92.19890308526443, 84.31012808914333, 80.97718735826906, 84.56383579371, 76.98367488174304, 75.75489603163967, 75.44921048761879, 49.42508621290352, 48.90943904016826, 47.737122267628855, 46.186750800060736, 45.04437877894003, 43.66769203551692, 41.16761993217783, 48.3505290864526, 53.08291322989755, 35.26200448618764, 34.77976936134079, 34.65495827200434, 258.8445667447276, 606.5761809022649, 81.97564040303813, 1553.7482950765104, 417.7266634092914, 111.83297945594443, 905.808998470159, 531.1269308513603, 412.44888718845857, 111.25492973017582, 673.6870791609917, 299.08816902395876, 1492.169171127324, 323.8902834719466, 412.84496145549844, 129.2546589783452, 527.4526346643966, 454.43466613747614, 328.65741969425324, 2229.1337191891816, 1753.349480848948, 356.9133192847307, 567.5861563419267, 692.9125163937224, 1483.1660059173175, 1969.0373019344784, 4609.807783395752, 1365.4957438059116, 365.3639180922014, 434.7110212234945, 2096.706154331616, 1767.8123540462202, 5266.547965476985, 2462.1072624329354, 8242.214925021051, 2019.93736286389, 7442.353701640942, 6323.609936665545, 3227.501460019724, 1129.9423980149431, 4051.9228040758653, 2337.8726494980624, 81.28160059704832, 60.86722321845439, 59.68386068004031, 54.41345857138659, 51.692857005145726, 44.11219465020582, 42.63833789184602, 42.373228507530186, 41.08233452434188, 73.6275102852659, 39.61736141048625, 39.278410337721574, 80.30939333983734, 37.96010920551541, 34.621914721776506, 33.15610977148991, 32.957375121539144, 32.07617648623267, 29.943950916857926, 29.7848822736935, 29.66796404018783, 28.467583687216546, 28.21301905284463, 28.112048575292157, 28.02408269377029, 194.03017238119824, 27.755761930974828, 27.281020739143, 27.11139955251447, 36.68057436500543, 277.1770963297464, 77.7187141760196, 237.47057122969704, 404.1135310818842, 50.025916265883545, 60.4494131480864, 107.5474824511481, 499.94195824480283, 56.49921472519454, 63.72269528786161, 110.77259676211239, 85.4000934835998, 504.5795210205052, 145.20152762443834, 1129.9423980149431, 1498.7962632651513, 294.1719921550323, 1069.8012184556064, 716.2870178493471, 426.027119524912, 1365.4957438059116, 150.1967348610632, 135.588274552188, 1641.749253541368, 930.9210652848694, 707.3637510288514, 317.24822882022187, 388.2435801554134, 172.56323956888184, 638.7129405850992, 561.9957531053269, 430.74908489463246, 781.1027315433281, 707.7644793757265, 1410.714024426363, 367.1672355347442, 739.7374024689078, 292.8837677837219, 402.79295010564033, 308.96503236688466, 970.3595610973287, 691.8334319668419, 928.6828732963723, 4051.9228040758653, 1044.0678597537806, 1753.349480848948, 1569.4632891950682, 2462.1072624329354, 1709.9702570893892, 736.0476213796213, 553.5655241062343, 511.69949060817834, 488.3973825555305, 357.4856665504944, 346.0921788986238, 219.5661447112246, 196.37288910470429, 187.48068057821368, 151.98774619249835, 149.861970278688, 149.7391721618847, 135.87443903267288, 132.809688701902, 128.76215389195568, 143.34922120195444, 116.74194801888713, 112.83299394704696, 109.60644679070428, 105.79434839721587, 98.66622698245057, 94.73626505756341, 93.75023152431693, 119.73489370951214, 84.84929926290256, 84.70926179550952, 84.22981472843247, 79.70752769464653, 79.53878016120035, 78.70010398763468, 1056.5718471044377, 354.7099522870926, 1016.590374307402, 131.4571017788345, 440.5256876293044, 117.82870859036204, 786.4363652903162, 157.35122589412163, 269.4027056110146, 240.64081308500496, 153.42564546488174, 236.1629363423091, 179.21171574077934, 333.989579784616, 1869.7548837620425, 349.54579783652696, 283.6806485140376, 486.5227897094683, 1689.6625147917848, 236.72842598279792, 193.7305115284899, 2629.804295765441, 323.65416143197666, 397.5669445427706, 3174.831756974755, 1222.053051323129, 7442.353701640942, 1616.1030422900008, 4193.927074284176, 8242.214925021051, 5266.547965476985, 3181.2968185656428, 3734.698782849722, 6323.609936665545, 1878.4017474766013, 919.0338071817704, 413.35945203674095, 343.6684157950446, 208.77427280726025, 199.84672480285, 196.50157917012746, 188.76578547952815, 184.2383830230328, 136.89014561497635, 136.54910793410264, 116.12025752626671, 85.42613151174552, 84.29106475826369, 81.91329912333578, 81.30024217900517, 78.08978809448585, 75.2117664225819, 71.38041934793016, 70.94548246553197, 69.06670264405903, 67.22026460520738, 65.01315807847648, 56.78282702146623, 55.347354957499185, 51.66519118904379, 48.53020340971596, 47.44977762823436, 46.65628291348888, 46.14039144595699, 44.43481231104846, 43.637380060038765, 586.1452018517174, 84.55280651439513, 93.58550180720532, 194.90110263919706, 110.75396543777583, 941.4484214313211, 111.11089538806658, 1709.9702570893892, 749.2172556564416, 282.91787109761367, 172.67458552689735, 137.52130589462246, 1569.4632891950682, 625.1162540993154, 442.6881291164869, 182.03195322610938, 224.39966765206418, 170.29590372848418, 336.0376531032574, 941.5863465716704, 612.6654394750936, 428.59259270482215, 340.30447993628053, 351.77958495133686, 511.92039817103097, 726.4600199354273, 1159.158112661117, 579.454465874255, 881.5538891648742, 751.652840169754, 1266.0513065600937, 693.2832106716717, 661.7891023493769, 970.3595610973287, 1767.8123540462202, 1559.9273949143399, 914.4492579367445, 647.2241353344562, 489.9633802136459, 367.87238907708434, 259.86136800943314, 225.93096947904226, 198.51670042475246, 191.47210598765906, 189.21177432722993, 181.31294052515528, 125.04879972020909, 117.40366011244438, 97.06837463524803, 77.854466335475, 74.93729322003006, 70.21959925861721, 68.15621215223548, 58.528552025393076, 58.437929703751976, 55.50945055201123, 55.326510447861835, 54.44380575974608, 51.21589251413084, 50.387643492996254, 50.143954716049336, 48.980836056124055, 46.35226984798893, 45.94900051668605, 45.701983661086956, 45.164601880759456, 44.6005192188482, 292.6441379195035, 529.6213053584627, 68.61242679126066, 323.5781612399026, 574.7714664644238, 254.78478129627194, 326.34175939925257, 845.7712253239943, 237.2158538826969, 545.2758092658687, 1564.0058099848106, 90.15488275506002, 138.955760398579, 322.38751551051746, 1011.5822505013314, 600.2566519711605, 448.0083360076661, 200.0177652077091, 392.8062395233532, 455.0824948646362, 2462.1072624329354, 758.3052988233653, 1410.714024426363, 1641.749253541368, 8242.214925021051, 2309.6228742523367, 1559.9273949143399, 7442.353701640942, 722.1884617854771, 374.7945184670071, 92.36330371092394, 63.885307342788074, 59.97177850759109, 58.1751426322484, 54.93955260385588, 52.47784677148717, 49.20966120330842, 48.80563842135249, 46.20860276874794, 46.06839471692754, 44.36757264556911, 44.00539337415473, 43.733225925622705, 42.677849983785954, 251.8226853212679, 41.45171784030369, 41.21088318891936, 36.44693681308537, 36.0324613874213, 34.8042018305412, 33.79500167516656, 33.159155747057845, 32.90179217760513, 32.11208119322568, 31.96081634051641, 31.919737789152467, 31.230676536013185, 1311.970666445764, 356.65059018914917, 70.27382510884877, 83.60459213139737, 281.60629432093907, 187.56895970040844, 83.43089050068458, 364.8960342565888, 311.73076690379247, 368.85675350667356, 233.17838429299738, 774.48879357179, 145.4476128165554, 142.0328066363595, 70.12047274289478, 353.80008170690667, 323.2509129675119, 102.1582560819334, 712.4443938584001, 1016.0367131974854, 418.54112389706324, 403.6954591983312, 171.54084137573128, 211.33849392712358, 134.48595314708808, 366.5214341888347, 423.6385863474574, 252.40730246760663, 318.3714981232017, 423.4462134899597, 152.47053047691367, 1333.810767574747, 295.2608209201951, 2462.1072624329354, 7442.353701640942, 1222.053051323129, 6323.609936665545, 3174.831756974755, 5266.547965476985, 8242.214925021051, 2309.6228742523367, 4051.9228040758653, 2629.0132415777503, 285.7195629207441, 222.5272316364645, 215.58436884659736, 189.50372172931273, 110.00494148966591, 107.60794225875256, 104.45981646342602, 96.8963244443706, 92.02745328718345, 84.76590528528388, 76.87050995126775, 76.70151818887415, 76.43382632348205, 74.9225834142866, 71.62977690897118, 68.0547477657899, 62.92678865542707, 62.68936421832424, 60.74477260130984, 59.76170827823912, 56.32269564911161, 56.153686438641195, 54.57733842005814, 53.86111585220517, 51.2778573955228, 49.814858474532805, 48.75465144400072, 45.14230051175809, 42.7532605846158, 42.48780509577006, 221.2950296746117, 198.82472516198834, 185.07876895416413, 1404.2582623794158, 718.041536639239, 138.69336962782987, 142.22014413990377, 119.27796896862843, 93.41368597519565, 254.69897102712198, 190.94510162324377, 442.5766106314994, 144.99090834013205, 77.78455977000402, 480.25907790206537, 171.35760917134164, 158.5719385906429, 283.73247123210064, 154.90622469642813, 287.09094989163117, 94.0639859598922, 195.0819727049957, 6323.609936665545, 7442.353701640942, 719.0341930504846, 314.65897716660436, 2629.804295765441, 615.5297622722502, 4051.9228040758653, 1869.7548837620425, 1052.9632840616327, 1721.9224047696102, 691.8334319668419, 951.2260653872236, 433.93886681070114, 149.76938910971862, 143.87314761872608, 125.07674249959196, 122.20193182513164, 112.13758522464217, 110.53037432724311, 89.88801880907062, 86.81679456214724, 79.21569245444887, 69.51394666230912, 68.44409033182463, 66.45848628888172, 63.82468771068981, 62.671971104345324, 59.83281678368027, 56.54801070441273, 52.90673139364017, 51.70528771217882, 50.31820538317844, 50.18502474760022, 49.607070616080236, 49.532756821617525, 48.85054358630575, 48.40344650307, 47.16574687724042, 46.66966933892299, 45.388444359122666, 45.18279676253785, 44.299894198790305, 196.03167163238268, 108.2952245071352, 176.6872596134395, 63.99214488447514, 64.53828309470586, 133.05886157075147, 526.7022042856663, 121.72351580548894, 176.85145042950873, 393.158870390719, 343.6612432870885, 91.46924777122838, 63.85932960159031, 7442.353701640942, 6323.609936665545, 1333.810767574747, 660.1664527490414, 874.4965508796619, 2463.4360002523345, 435.1069063535985, 634.8356122423212, 489.0582334769171, 428.50102314695937, 241.66315745055365, 281.51275890616836, 1152.6742996287724, 2629.804295765441, 1878.4017474766013, 5266.547965476985, 546.4484513496238, 330.9367639650463, 162.0596293816302, 157.66053312258802, 143.24370782261826, 137.6978380950611, 121.47797666318895, 113.25054743786679, 103.85344847649309, 100.90877448748579, 99.49094344874763, 66.97088286994749, 65.55531543554766, 62.31237367345217, 61.85481209519633, 60.53066335760234, 862.1047086806273, 177.20204050419497, 51.1539953806161, 45.17692260036525, 43.07288155872481, 42.589293435290315, 41.229595302259945, 37.825012410864254, 37.78619576488761, 35.69635497471141, 35.686697885422404, 34.08455189301512, 33.69183596816369, 32.530190624940396, 83.14647058631896, 124.90589750819963, 96.0323607474329, 773.0501883717681, 55.240267010192035, 367.8367281841277, 199.02088917593622, 80.68790929076317, 86.5682606210449, 471.8933290629157, 101.20407719857948, 365.56597155928773, 201.08071602665058, 149.25244024151482, 365.3729697537563, 241.37274874214475, 433.45850869528437, 1248.2895434277716, 631.9008609182819, 270.4443212391806, 553.047774425585, 7442.353701640942, 6323.609936665545, 8242.214925021051, 775.1610279691481, 691.8334319668419, 1564.0058099848106, 5492.862143118164, 125.46289659595791, 94.52176861443306, 89.19747435246131, 81.48860200062727, 81.48860200062727, 69.76150595454716, 61.04954307706049, 54.569584741530875, 53.38092856684543, 52.631623326347466, 46.328403735956805, 332.0844321854418, 40.94836264357211, 40.50399441345699, 96.2535080037315, 39.65074395135124, 150.48695865859094, 510.5201241204774, 254.5612622902026, 33.75218757979506, 32.70005704082902, 31.509638077706533, 31.07842638057115, 30.531687640066533, 29.116558175968837, 29.059146960834507, 28.85943608086353, 28.515669839278402, 27.246759558976873, 26.980117497880155, 145.98427370947718, 47.385455939432966, 112.61522265250328, 55.660168754375334, 35.84627681822614, 94.45266866508777, 134.93473649803886, 61.411842776923194, 261.35465163130146, 366.3438493930093, 57.91047166552605, 419.2984463812179, 253.3738815805437, 98.3580150130978, 327.0143139461297, 122.15406225981229, 166.85693433561966, 89.4442145463817, 206.0355960365566, 94.06376385508234, 647.0091205880692, 595.6432041731051, 719.4170356940072, 1564.0058099848106, 338.97080974300223, 6323.609936665545, 7442.353701640942, 600.1283571182303, 1139.0972516083168, 308.3394657041375, 5492.862143118164, 57.633532597109614, 51.04808964465961, 50.33825832642418, 47.318993829853675, 42.301809691939354, 40.54076138862789, 39.08879192630304, 38.69394133345624, 34.242579955930296, 31.67692703895447, 31.380149002665235, 31.188773031496186, 31.138740936654248, 51.7722333378128, 30.40870533235199, 30.377715630892858, 29.75307058883409, 29.568523768623336, 27.887057855799195, 26.803955199221996, 26.432234260963423, 26.280646708956112, 25.544933125326754, 25.046513517553553, 24.806904811043925, 24.711357184853266, 24.547468813526564, 23.333472142293886, 22.301803277817125, 21.487100302016927, 40.85612022753143, 40.90663482059447, 78.8345169607176, 323.84650635951147, 38.961909101937096, 35.04891572534788, 37.80232112746152, 55.292562244920965, 34.593621356583085, 51.70954877033143, 150.72175923485077, 802.0565996175457, 99.85766188558405, 101.5851704000177, 486.7404919760344, 180.1614884951967, 130.7220204541398, 7442.353701640942, 377.5161489946942, 147.15414834233695, 324.97638656103624, 86.14003188314832, 813.3166697487587, 97.29154686288048, 6323.609936665545, 321.73805669085937, 455.2935404528506, 410.70107168671944, 242.52478322088803, 707.7644793757265, 121.80087435360338, 488.7858862232632, 1248.2895434277716, 86.42539771296367, 55.94997129995238, 45.86815019362069, 45.523944887664996, 40.52686348710351, 40.445288338901456, 34.625252362153454, 29.608715225377747, 29.45999514249714, 28.278939419855007, 28.172678281409144, 27.66130756942639, 27.65889714927617, 27.509956313896517, 32.79448431230657, 25.553144866255284, 25.035193372705532, 24.54898659541855, 23.269506292354254, 20.538686464626903, 20.529865553503804, 20.46172539002496, 20.342799261473274, 20.18575282642897, 20.122110464837615, 19.724300782807763, 19.232398611926442, 19.22074935969994, 17.947766816123043, 17.751158457814363, 51.952177860788645, 27.183001647917855, 50.96522115527142, 33.669189484300716, 109.94228029600659, 96.6624941326029, 38.375461820729676, 25.21253837460327, 34.533703057827445, 118.07996207154947, 49.59099182101582, 71.82856917881095, 61.54447173088017, 83.05971864962143, 185.11283535952114, 64.80781289264552, 291.11313343971875, 428.59259270482215, 1011.5822505013314, 300.9708795086508, 433.45850869528437, 158.01070525796507, 909.1750205620431, 294.82979394827555, 896.4349923221164, 278.76804219515776, 7442.353701640942, 6323.609936665545, 964.0055780552008, 138.7620906414954, 2463.4360002523345, 1521.9852997505905, 357.4565980384007, 130.99101197497578, 78.8555007810121, 74.71069364148605, 62.22421725344044, 56.367342076521524, 43.20470595279719, 42.20534650089735, 40.13956981892905, 39.41022166140701, 36.28881384136796, 34.16136983412578, 34.10906830967216, 32.81463579847946, 31.628221008596242, 29.12514586717231, 29.09452476833795, 28.154179159616792, 27.52528718548027, 27.423626528506595, 27.299127184351825, 26.17031292764986, 24.680873655785003, 24.56187562505042, 23.667287760917198, 23.426065390712864, 23.312709548179374, 23.023605370063514, 86.96447857002045, 22.292573816697523, 22.078092961414477, 70.61194601887146, 52.943236560027856, 61.531018310155865, 32.92217055895772, 126.74916797779316, 82.84800594757398, 55.539197941147414, 80.54654167140355, 38.43067275341769, 73.56302861850932, 64.54547582796367, 64.7387583007428, 7442.353701640942, 6323.609936665545, 73.96361544861796, 64.12424205780988, 511.21093436792745, 215.80011265560935, 268.91446019113306, 79.63076576041921, 112.15396348924075, 492.36956761687446, 1869.7548837620425, 180.1614884951967, 1248.2895434277716, 132.89897558637912, 90.85812004291625, 79.97141022142786, 78.48373501947898, 63.065107348803274, 62.098992078330916, 60.03193206448086, 55.178632074343426, 53.10439012253054, 52.72995712105342, 50.28748839363037, 41.38915437483204, 40.338782886650066, 39.14642436749225, 39.01866880728198, 36.36103116991666, 33.78921089606937, 31.7773030084385, 31.427308110276932, 30.599855467372283, 30.40962645960225, 29.23187923147062, 29.11596986151006, 27.51198803539016, 26.0521972912669, 25.962431778446636, 22.2091356664516, 21.669063340298933, 21.49318427210083, 20.897005009294414, 42.95879277568462, 333.4145904490153, 181.52835140911978, 103.1664309767027, 264.8704163215459, 1339.8332112461603, 117.1923300352193, 79.36214003858757, 78.32806091931435, 69.33980879822178, 64.80178561956944, 43.25386274344464, 33.71152050850086, 33.18824471918186, 33.127899523577895, 25.22111755044288, 24.872149304043994, 24.109979094990496, 21.16660294914125, 21.11260424711245, 20.29634777533309, 20.23975234657359, 19.964411381055623, 64.76275051754945, 19.112138630808317, 18.91619878432504, 18.805221648566263, 17.10963572501475, 16.509647575958194, 16.477266437839845, 15.982322232717669, 15.453037663869475, 80.70506111922887, 14.876825736974938, 14.594008514552455, 14.53937882712985, 95.46309016750999, 23.815340759538678, 37.5603656619742, 50.426035171890476, 32.89468133465353, 76.9872740200586, 161.35831473424122, 124.87789280648595, 68.01602294267013, 40.78345106970358, 215.7939239518047, 431.4467430387171, 85.32595584384774, 309.2716836189112, 1559.9273949143399, 360.10975878146326, 155.90285536414697, 7442.353701640942, 6323.609936665545, 583.8229199699359], \"Category\": [\"Default\", \"Default\", \"Default\", \"Default\", \"Default\", \"Default\", \"Default\", \"Default\", \"Default\", \"Default\", \"Default\", \"Default\", \"Default\", \"Default\", \"Default\", \"Default\", \"Default\", \"Default\", \"Default\", \"Default\", \"Default\", \"Default\", \"Default\", \"Default\", \"Default\", \"Default\", \"Default\", \"Default\", \"Default\", \"Default\", \"Topic1\", \"Topic1\", \"Topic1\", \"Topic1\", \"Topic1\", \"Topic1\", \"Topic1\", \"Topic1\", \"Topic1\", \"Topic1\", \"Topic1\", \"Topic1\", \"Topic1\", \"Topic1\", \"Topic1\", \"Topic1\", \"Topic1\", \"Topic1\", \"Topic1\", \"Topic1\", \"Topic1\", \"Topic1\", \"Topic1\", \"Topic1\", \"Topic1\", \"Topic1\", \"Topic1\", \"Topic1\", \"Topic1\", \"Topic1\", \"Topic1\", \"Topic1\", \"Topic1\", \"Topic1\", \"Topic1\", \"Topic1\", \"Topic1\", \"Topic1\", \"Topic1\", \"Topic1\", \"Topic1\", \"Topic1\", \"Topic1\", \"Topic1\", \"Topic1\", \"Topic1\", \"Topic1\", \"Topic1\", \"Topic1\", \"Topic1\", \"Topic1\", \"Topic1\", \"Topic1\", \"Topic1\", \"Topic1\", \"Topic1\", \"Topic1\", \"Topic1\", \"Topic1\", \"Topic1\", \"Topic1\", \"Topic1\", \"Topic1\", \"Topic1\", \"Topic1\", \"Topic1\", \"Topic1\", \"Topic1\", \"Topic1\", \"Topic1\", \"Topic1\", \"Topic1\", \"Topic1\", \"Topic1\", \"Topic1\", \"Topic1\", \"Topic1\", \"Topic1\", \"Topic1\", \"Topic1\", \"Topic1\", \"Topic1\", \"Topic1\", \"Topic1\", \"Topic1\", \"Topic1\", \"Topic1\", \"Topic2\", \"Topic2\", \"Topic2\", \"Topic2\", \"Topic2\", \"Topic2\", \"Topic2\", \"Topic2\", \"Topic2\", \"Topic2\", \"Topic2\", \"Topic2\", \"Topic2\", \"Topic2\", \"Topic2\", \"Topic2\", \"Topic2\", \"Topic2\", \"Topic2\", \"Topic2\", \"Topic2\", \"Topic2\", \"Topic2\", \"Topic2\", \"Topic2\", \"Topic2\", \"Topic2\", \"Topic2\", \"Topic2\", \"Topic2\", \"Topic2\", \"Topic2\", \"Topic2\", \"Topic2\", \"Topic2\", \"Topic2\", \"Topic2\", \"Topic2\", \"Topic2\", \"Topic2\", \"Topic2\", \"Topic2\", \"Topic2\", \"Topic2\", \"Topic2\", \"Topic2\", \"Topic2\", \"Topic2\", \"Topic2\", \"Topic2\", \"Topic2\", \"Topic2\", \"Topic2\", \"Topic2\", \"Topic2\", \"Topic2\", \"Topic2\", \"Topic2\", \"Topic2\", \"Topic2\", \"Topic2\", \"Topic2\", \"Topic2\", \"Topic2\", \"Topic2\", \"Topic2\", \"Topic2\", \"Topic2\", \"Topic2\", \"Topic2\", \"Topic2\", \"Topic2\", \"Topic2\", \"Topic2\", \"Topic2\", \"Topic2\", \"Topic2\", \"Topic2\", \"Topic2\", \"Topic2\", \"Topic2\", \"Topic2\", \"Topic2\", \"Topic2\", \"Topic3\", \"Topic3\", \"Topic3\", \"Topic3\", \"Topic3\", \"Topic3\", \"Topic3\", \"Topic3\", \"Topic3\", \"Topic3\", \"Topic3\", \"Topic3\", \"Topic3\", \"Topic3\", \"Topic3\", \"Topic3\", \"Topic3\", \"Topic3\", \"Topic3\", \"Topic3\", \"Topic3\", \"Topic3\", \"Topic3\", \"Topic3\", \"Topic3\", \"Topic3\", \"Topic3\", \"Topic3\", \"Topic3\", \"Topic3\", \"Topic3\", \"Topic3\", \"Topic3\", \"Topic3\", \"Topic3\", \"Topic3\", \"Topic3\", \"Topic3\", \"Topic3\", \"Topic3\", \"Topic3\", \"Topic3\", \"Topic3\", \"Topic3\", \"Topic3\", \"Topic3\", \"Topic3\", \"Topic3\", \"Topic3\", \"Topic3\", \"Topic3\", \"Topic3\", \"Topic3\", \"Topic3\", \"Topic3\", \"Topic3\", \"Topic3\", \"Topic3\", \"Topic3\", \"Topic3\", \"Topic3\", \"Topic3\", \"Topic3\", \"Topic3\", \"Topic3\", \"Topic3\", \"Topic3\", \"Topic3\", \"Topic3\", \"Topic3\", \"Topic3\", \"Topic3\", \"Topic3\", \"Topic3\", \"Topic3\", \"Topic3\", \"Topic3\", \"Topic3\", \"Topic3\", \"Topic3\", \"Topic3\", \"Topic3\", \"Topic3\", \"Topic3\", \"Topic3\", \"Topic4\", \"Topic4\", \"Topic4\", \"Topic4\", \"Topic4\", \"Topic4\", \"Topic4\", \"Topic4\", \"Topic4\", \"Topic4\", \"Topic4\", \"Topic4\", \"Topic4\", \"Topic4\", \"Topic4\", \"Topic4\", \"Topic4\", \"Topic4\", \"Topic4\", \"Topic4\", \"Topic4\", \"Topic4\", \"Topic4\", \"Topic4\", \"Topic4\", \"Topic4\", \"Topic4\", \"Topic4\", \"Topic4\", \"Topic4\", \"Topic4\", \"Topic4\", \"Topic4\", \"Topic4\", \"Topic4\", \"Topic4\", \"Topic4\", \"Topic4\", \"Topic4\", \"Topic4\", \"Topic4\", \"Topic4\", \"Topic4\", \"Topic4\", \"Topic4\", \"Topic4\", \"Topic4\", \"Topic4\", \"Topic4\", \"Topic4\", \"Topic4\", \"Topic4\", \"Topic4\", \"Topic4\", \"Topic4\", \"Topic4\", \"Topic4\", \"Topic4\", \"Topic4\", \"Topic4\", \"Topic4\", \"Topic4\", \"Topic4\", \"Topic4\", \"Topic4\", \"Topic4\", \"Topic4\", \"Topic4\", \"Topic4\", \"Topic4\", \"Topic4\", \"Topic4\", \"Topic4\", \"Topic4\", \"Topic4\", \"Topic4\", \"Topic4\", \"Topic5\", \"Topic5\", \"Topic5\", \"Topic5\", \"Topic5\", \"Topic5\", \"Topic5\", \"Topic5\", \"Topic5\", \"Topic5\", \"Topic5\", \"Topic5\", \"Topic5\", \"Topic5\", \"Topic5\", \"Topic5\", \"Topic5\", \"Topic5\", \"Topic5\", \"Topic5\", \"Topic5\", \"Topic5\", \"Topic5\", \"Topic5\", \"Topic5\", \"Topic5\", \"Topic5\", \"Topic5\", \"Topic5\", \"Topic5\", \"Topic5\", \"Topic5\", \"Topic5\", \"Topic5\", \"Topic5\", \"Topic5\", \"Topic5\", \"Topic5\", \"Topic5\", \"Topic5\", \"Topic5\", \"Topic5\", \"Topic5\", \"Topic5\", \"Topic5\", \"Topic5\", \"Topic5\", \"Topic5\", \"Topic5\", \"Topic5\", \"Topic5\", \"Topic5\", \"Topic5\", \"Topic5\", \"Topic5\", \"Topic5\", \"Topic5\", \"Topic5\", \"Topic5\", \"Topic5\", \"Topic5\", \"Topic5\", \"Topic5\", \"Topic5\", \"Topic5\", \"Topic5\", \"Topic5\", \"Topic5\", \"Topic6\", \"Topic6\", \"Topic6\", \"Topic6\", \"Topic6\", \"Topic6\", \"Topic6\", \"Topic6\", \"Topic6\", \"Topic6\", \"Topic6\", \"Topic6\", \"Topic6\", \"Topic6\", \"Topic6\", \"Topic6\", \"Topic6\", \"Topic6\", \"Topic6\", \"Topic6\", \"Topic6\", \"Topic6\", \"Topic6\", \"Topic6\", \"Topic6\", \"Topic6\", \"Topic6\", \"Topic6\", \"Topic6\", \"Topic6\", \"Topic6\", \"Topic6\", \"Topic6\", \"Topic6\", \"Topic6\", \"Topic6\", \"Topic6\", \"Topic6\", \"Topic6\", \"Topic6\", \"Topic6\", \"Topic6\", \"Topic6\", \"Topic6\", \"Topic6\", \"Topic6\", \"Topic6\", \"Topic6\", \"Topic6\", \"Topic6\", \"Topic6\", \"Topic6\", \"Topic6\", \"Topic6\", \"Topic6\", \"Topic6\", \"Topic6\", \"Topic6\", \"Topic6\", \"Topic6\", \"Topic6\", \"Topic6\", \"Topic6\", \"Topic6\", \"Topic6\", \"Topic6\", \"Topic6\", \"Topic6\", \"Topic6\", \"Topic6\", \"Topic6\", \"Topic6\", \"Topic7\", \"Topic7\", \"Topic7\", \"Topic7\", \"Topic7\", \"Topic7\", \"Topic7\", \"Topic7\", \"Topic7\", \"Topic7\", \"Topic7\", \"Topic7\", \"Topic7\", \"Topic7\", \"Topic7\", \"Topic7\", \"Topic7\", \"Topic7\", \"Topic7\", \"Topic7\", \"Topic7\", \"Topic7\", \"Topic7\", \"Topic7\", \"Topic7\", \"Topic7\", \"Topic7\", \"Topic7\", \"Topic7\", \"Topic7\", \"Topic7\", \"Topic7\", \"Topic7\", \"Topic7\", \"Topic7\", \"Topic7\", \"Topic7\", \"Topic7\", \"Topic7\", \"Topic7\", \"Topic7\", \"Topic7\", \"Topic7\", \"Topic7\", \"Topic7\", \"Topic7\", \"Topic7\", \"Topic7\", \"Topic7\", \"Topic7\", \"Topic7\", \"Topic7\", \"Topic7\", \"Topic7\", \"Topic7\", \"Topic7\", \"Topic7\", \"Topic7\", \"Topic7\", \"Topic7\", \"Topic7\", \"Topic7\", \"Topic7\", \"Topic7\", \"Topic7\", \"Topic7\", \"Topic7\", \"Topic7\", \"Topic7\", \"Topic7\", \"Topic7\", \"Topic7\", \"Topic7\", \"Topic7\", \"Topic7\", \"Topic7\", \"Topic7\", \"Topic7\", \"Topic7\", \"Topic8\", \"Topic8\", \"Topic8\", \"Topic8\", \"Topic8\", \"Topic8\", \"Topic8\", \"Topic8\", \"Topic8\", \"Topic8\", \"Topic8\", \"Topic8\", \"Topic8\", \"Topic8\", \"Topic8\", \"Topic8\", \"Topic8\", \"Topic8\", \"Topic8\", \"Topic8\", \"Topic8\", \"Topic8\", \"Topic8\", \"Topic8\", \"Topic8\", \"Topic8\", \"Topic8\", \"Topic8\", \"Topic8\", \"Topic8\", \"Topic8\", \"Topic8\", \"Topic8\", \"Topic8\", \"Topic8\", \"Topic8\", \"Topic8\", \"Topic8\", \"Topic8\", \"Topic8\", \"Topic8\", \"Topic8\", \"Topic8\", \"Topic8\", \"Topic8\", \"Topic8\", \"Topic8\", \"Topic8\", \"Topic8\", \"Topic8\", \"Topic8\", \"Topic8\", \"Topic8\", \"Topic8\", \"Topic8\", \"Topic8\", \"Topic8\", \"Topic8\", \"Topic8\", \"Topic8\", \"Topic8\", \"Topic8\", \"Topic8\", \"Topic8\", \"Topic8\", \"Topic8\", \"Topic9\", \"Topic9\", \"Topic9\", \"Topic9\", \"Topic9\", \"Topic9\", \"Topic9\", \"Topic9\", \"Topic9\", \"Topic9\", \"Topic9\", \"Topic9\", \"Topic9\", \"Topic9\", \"Topic9\", \"Topic9\", \"Topic9\", \"Topic9\", \"Topic9\", \"Topic9\", \"Topic9\", \"Topic9\", \"Topic9\", \"Topic9\", \"Topic9\", \"Topic9\", \"Topic9\", \"Topic9\", \"Topic9\", \"Topic9\", \"Topic9\", \"Topic9\", \"Topic9\", \"Topic9\", \"Topic9\", \"Topic9\", \"Topic9\", \"Topic9\", \"Topic9\", \"Topic9\", \"Topic9\", \"Topic9\", \"Topic9\", \"Topic9\", \"Topic9\", \"Topic9\", \"Topic9\", \"Topic9\", \"Topic9\", \"Topic9\", \"Topic9\", \"Topic9\", \"Topic9\", \"Topic9\", \"Topic9\", \"Topic9\", \"Topic9\", \"Topic9\", \"Topic9\", \"Topic9\", \"Topic9\", \"Topic9\", \"Topic9\", \"Topic9\", \"Topic9\", \"Topic9\", \"Topic9\", \"Topic10\", \"Topic10\", \"Topic10\", \"Topic10\", \"Topic10\", \"Topic10\", \"Topic10\", \"Topic10\", \"Topic10\", \"Topic10\", \"Topic10\", \"Topic10\", \"Topic10\", \"Topic10\", \"Topic10\", \"Topic10\", \"Topic10\", \"Topic10\", \"Topic10\", \"Topic10\", \"Topic10\", \"Topic10\", \"Topic10\", \"Topic10\", \"Topic10\", \"Topic10\", \"Topic10\", \"Topic10\", \"Topic10\", \"Topic10\", \"Topic10\", \"Topic10\", \"Topic10\", \"Topic10\", \"Topic10\", \"Topic10\", \"Topic10\", \"Topic10\", \"Topic10\", \"Topic10\", \"Topic10\", \"Topic10\", \"Topic10\", \"Topic10\", \"Topic10\", \"Topic10\", \"Topic10\", \"Topic10\", \"Topic10\", \"Topic10\", \"Topic10\", \"Topic10\", \"Topic10\", \"Topic10\", \"Topic10\", \"Topic10\", \"Topic10\", \"Topic10\", \"Topic11\", \"Topic11\", \"Topic11\", \"Topic11\", \"Topic11\", \"Topic11\", \"Topic11\", \"Topic11\", \"Topic11\", \"Topic11\", \"Topic11\", \"Topic11\", \"Topic11\", \"Topic11\", \"Topic11\", \"Topic11\", \"Topic11\", \"Topic11\", \"Topic11\", \"Topic11\", \"Topic11\", \"Topic11\", \"Topic11\", \"Topic11\", \"Topic11\", \"Topic11\", \"Topic11\", \"Topic11\", \"Topic11\", \"Topic11\", \"Topic11\", \"Topic11\", \"Topic11\", \"Topic11\", \"Topic11\", \"Topic11\", \"Topic11\", \"Topic11\", \"Topic11\", \"Topic11\", \"Topic11\", \"Topic11\", \"Topic11\", \"Topic11\", \"Topic11\", \"Topic11\", \"Topic11\", \"Topic11\", \"Topic11\", \"Topic11\", \"Topic11\", \"Topic11\", \"Topic11\", \"Topic11\", \"Topic11\", \"Topic11\", \"Topic11\", \"Topic11\", \"Topic11\", \"Topic11\", \"Topic11\", \"Topic11\", \"Topic11\", \"Topic11\", \"Topic11\", \"Topic11\", \"Topic11\", \"Topic11\", \"Topic11\", \"Topic11\", \"Topic11\", \"Topic11\", \"Topic12\", \"Topic12\", \"Topic12\", \"Topic12\", \"Topic12\", \"Topic12\", \"Topic12\", \"Topic12\", \"Topic12\", \"Topic12\", \"Topic12\", \"Topic12\", \"Topic12\", \"Topic12\", \"Topic12\", \"Topic12\", \"Topic12\", \"Topic12\", \"Topic12\", \"Topic12\", \"Topic12\", \"Topic12\", \"Topic12\", \"Topic12\", \"Topic12\", \"Topic12\", \"Topic12\", \"Topic12\", \"Topic12\", \"Topic12\", \"Topic12\", \"Topic12\", \"Topic12\", \"Topic12\", \"Topic12\", \"Topic12\", \"Topic12\", \"Topic12\", \"Topic12\", \"Topic12\", \"Topic12\", \"Topic12\", \"Topic12\", \"Topic12\", \"Topic12\", \"Topic12\", \"Topic12\", \"Topic12\", \"Topic12\", \"Topic12\", \"Topic12\", \"Topic12\", \"Topic12\", \"Topic12\", \"Topic12\", \"Topic12\", \"Topic12\", \"Topic12\", \"Topic12\", \"Topic12\", \"Topic12\", \"Topic12\", \"Topic12\", \"Topic12\", \"Topic13\", \"Topic13\", \"Topic13\", \"Topic13\", \"Topic13\", \"Topic13\", \"Topic13\", \"Topic13\", \"Topic13\", \"Topic13\", \"Topic13\", \"Topic13\", \"Topic13\", \"Topic13\", \"Topic13\", \"Topic13\", \"Topic13\", \"Topic13\", \"Topic13\", \"Topic13\", \"Topic13\", \"Topic13\", \"Topic13\", \"Topic13\", \"Topic13\", \"Topic13\", \"Topic13\", \"Topic13\", \"Topic13\", \"Topic13\", \"Topic13\", \"Topic13\", \"Topic13\", \"Topic13\", \"Topic13\", \"Topic13\", \"Topic13\", \"Topic13\", \"Topic13\", \"Topic13\", \"Topic13\", \"Topic13\", \"Topic13\", \"Topic13\", \"Topic13\", \"Topic13\", \"Topic13\", \"Topic13\", \"Topic13\", \"Topic13\", \"Topic13\", \"Topic13\", \"Topic13\", \"Topic13\", \"Topic13\", \"Topic13\", \"Topic13\", \"Topic13\", \"Topic13\", \"Topic14\", \"Topic14\", \"Topic14\", \"Topic14\", \"Topic14\", \"Topic14\", \"Topic14\", \"Topic14\", \"Topic14\", \"Topic14\", \"Topic14\", \"Topic14\", \"Topic14\", \"Topic14\", \"Topic14\", \"Topic14\", \"Topic14\", \"Topic14\", \"Topic14\", \"Topic14\", \"Topic14\", \"Topic14\", \"Topic14\", \"Topic14\", \"Topic14\", \"Topic14\", \"Topic14\", \"Topic14\", \"Topic14\", \"Topic14\", \"Topic14\", \"Topic14\", \"Topic14\", \"Topic14\", \"Topic14\", \"Topic14\", \"Topic14\", \"Topic14\", \"Topic14\", \"Topic14\", \"Topic14\", \"Topic14\", \"Topic14\", \"Topic14\", \"Topic14\", \"Topic14\", \"Topic14\", \"Topic14\", \"Topic14\", \"Topic14\", \"Topic14\", \"Topic14\", \"Topic14\", \"Topic14\", \"Topic14\", \"Topic14\", \"Topic14\", \"Topic14\", \"Topic15\", \"Topic15\", \"Topic15\", \"Topic15\", \"Topic15\", \"Topic15\", \"Topic15\", \"Topic15\", \"Topic15\", \"Topic15\", \"Topic15\", \"Topic15\", \"Topic15\", \"Topic15\", \"Topic15\", \"Topic15\", \"Topic15\", \"Topic15\", \"Topic15\", \"Topic15\", \"Topic15\", \"Topic15\", \"Topic15\", \"Topic15\", \"Topic15\", \"Topic15\", \"Topic15\", \"Topic15\", \"Topic15\", \"Topic15\", \"Topic15\", \"Topic15\", \"Topic15\", \"Topic15\", \"Topic15\", \"Topic15\", \"Topic15\", \"Topic15\", \"Topic15\", \"Topic15\", \"Topic15\", \"Topic15\", \"Topic15\", \"Topic15\", \"Topic15\", \"Topic15\", \"Topic15\", \"Topic15\", \"Topic15\", \"Topic15\", \"Topic15\", \"Topic15\", \"Topic15\", \"Topic15\", \"Topic15\", \"Topic15\", \"Topic15\", \"Topic15\", \"Topic15\", \"Topic15\", \"Topic15\", \"Topic16\", \"Topic16\", \"Topic16\", \"Topic16\", \"Topic16\", \"Topic16\", \"Topic16\", \"Topic16\", \"Topic16\", \"Topic16\", \"Topic16\", \"Topic16\", \"Topic16\", \"Topic16\", \"Topic16\", \"Topic16\", \"Topic16\", \"Topic16\", \"Topic16\", \"Topic16\", \"Topic16\", \"Topic16\", \"Topic16\", \"Topic16\", \"Topic16\", \"Topic16\", \"Topic16\", \"Topic16\", \"Topic16\", \"Topic16\", \"Topic16\", \"Topic16\", \"Topic16\", \"Topic16\", \"Topic16\", \"Topic16\", \"Topic16\", \"Topic16\", \"Topic16\", \"Topic16\", \"Topic16\", \"Topic16\", \"Topic16\", \"Topic16\", \"Topic16\", \"Topic16\", \"Topic16\", \"Topic16\", \"Topic16\", \"Topic16\", \"Topic16\", \"Topic16\", \"Topic16\", \"Topic16\", \"Topic16\", \"Topic16\", \"Topic16\", \"Topic16\", \"Topic16\", \"Topic16\", \"Topic16\", \"Topic16\", \"Topic16\", \"Topic17\", \"Topic17\", \"Topic17\", \"Topic17\", \"Topic17\", \"Topic17\", \"Topic17\", \"Topic17\", \"Topic17\", \"Topic17\", \"Topic17\", \"Topic17\", \"Topic17\", \"Topic17\", \"Topic17\", \"Topic17\", \"Topic17\", \"Topic17\", \"Topic17\", \"Topic17\", \"Topic17\", \"Topic17\", \"Topic17\", \"Topic17\", \"Topic17\", \"Topic17\", \"Topic17\", \"Topic17\", \"Topic17\", \"Topic17\", \"Topic17\", \"Topic17\", \"Topic17\", \"Topic17\", \"Topic17\", \"Topic17\", \"Topic17\", \"Topic17\", \"Topic17\", \"Topic17\", \"Topic17\", \"Topic17\", \"Topic17\", \"Topic17\", \"Topic17\", \"Topic17\", \"Topic17\", \"Topic17\", \"Topic17\", \"Topic17\", \"Topic17\", \"Topic17\", \"Topic17\", \"Topic17\", \"Topic17\", \"Topic17\", \"Topic17\", \"Topic17\", \"Topic17\", \"Topic17\", \"Topic17\", \"Topic17\", \"Topic17\", \"Topic18\", \"Topic18\", \"Topic18\", \"Topic18\", \"Topic18\", \"Topic18\", \"Topic18\", \"Topic18\", \"Topic18\", \"Topic18\", \"Topic18\", \"Topic18\", \"Topic18\", \"Topic18\", \"Topic18\", \"Topic18\", \"Topic18\", \"Topic18\", \"Topic18\", \"Topic18\", \"Topic18\", \"Topic18\", \"Topic18\", \"Topic18\", \"Topic18\", \"Topic18\", \"Topic18\", \"Topic18\", \"Topic18\", \"Topic18\", \"Topic18\", \"Topic18\", \"Topic18\", \"Topic18\", \"Topic18\", \"Topic18\", \"Topic18\", \"Topic18\", \"Topic18\", \"Topic18\", \"Topic18\", \"Topic18\", \"Topic18\", \"Topic18\", \"Topic18\", \"Topic18\", \"Topic18\", \"Topic18\", \"Topic18\", \"Topic18\", \"Topic18\", \"Topic18\", \"Topic18\", \"Topic18\", \"Topic18\", \"Topic19\", \"Topic19\", \"Topic19\", \"Topic19\", \"Topic19\", \"Topic19\", \"Topic19\", \"Topic19\", \"Topic19\", \"Topic19\", \"Topic19\", \"Topic19\", \"Topic19\", \"Topic19\", \"Topic19\", \"Topic19\", \"Topic19\", \"Topic19\", \"Topic19\", \"Topic19\", \"Topic19\", \"Topic19\", \"Topic19\", \"Topic19\", \"Topic19\", \"Topic19\", \"Topic19\", \"Topic19\", \"Topic19\", \"Topic19\", \"Topic19\", \"Topic19\", \"Topic19\", \"Topic19\", \"Topic19\", \"Topic19\", \"Topic20\", \"Topic20\", \"Topic20\", \"Topic20\", \"Topic20\", \"Topic20\", \"Topic20\", \"Topic20\", \"Topic20\", \"Topic20\", \"Topic20\", \"Topic20\", \"Topic20\", \"Topic20\", \"Topic20\", \"Topic20\", \"Topic20\", \"Topic20\", \"Topic20\", \"Topic20\", \"Topic20\", \"Topic20\", \"Topic20\", \"Topic20\", \"Topic20\", \"Topic20\", \"Topic20\", \"Topic20\", \"Topic20\", \"Topic20\", \"Topic20\", \"Topic20\", \"Topic20\", \"Topic20\", \"Topic20\", \"Topic20\", \"Topic20\", \"Topic20\", \"Topic20\", \"Topic20\", \"Topic20\", \"Topic20\", \"Topic20\", \"Topic20\", \"Topic20\", \"Topic20\", \"Topic20\", \"Topic20\", \"Topic20\", \"Topic20\"], \"logprob\": [30.0, 29.0, 28.0, 27.0, 26.0, 25.0, 24.0, 23.0, 22.0, 21.0, 20.0, 19.0, 18.0, 17.0, 16.0, 15.0, 14.0, 13.0, 12.0, 11.0, 10.0, 9.0, 8.0, 7.0, 6.0, 5.0, 4.0, 3.0, 2.0, 1.0, -6.5702, -6.6441, -6.7005, -6.7776, -7.0339, -7.0599, -7.5655, -7.5837, -7.5946, -7.7261, -7.8694, -7.946, -7.9545, -7.9588, -7.9647, -7.9648, -8.0624, -8.0655, -8.0986, -8.162, -8.2072, -8.2327, -8.2331, -8.2379, -8.2393, -8.2483, -8.2809, -8.2886, -8.2953, -8.2958, -6.1823, -7.6627, -7.8967, -6.3008, -6.0063, -5.9319, -7.1483, -5.6943, -6.8738, -6.4875, -6.6823, -6.8739, -6.9345, -5.9944, -6.4826, -6.1954, -6.019, -6.375, -6.8442, -7.7019, -6.779, -5.0299, -6.0495, -7.1278, -5.6314, -6.3726, -5.7929, -4.6398, -4.4381, -5.7588, -5.6246, -6.0027, -5.5268, -4.4363, -4.5366, -5.555, -4.7904, -5.7684, -5.6281, -5.3415, -5.305, -5.7415, -5.1789, -5.3926, -5.9669, -5.5057, -5.2306, -5.4651, -5.7907, -5.7168, -5.6596, -5.7593, -5.812, -5.8775, -5.7883, -5.8409, -5.839, -6.3683, -6.9713, -7.069, -7.1474, -7.3334, -7.3336, -7.4235, -7.4693, -7.4861, -7.4916, -7.5015, -7.505, -7.5312, -7.5937, -7.7441, -7.7549, -7.865, -7.8833, -7.9313, -7.9449, -7.9525, -7.9825, -7.9876, -7.9944, -8.0067, -8.073, -8.1228, -8.1339, -8.1487, -8.168, -6.1856, -6.7546, -6.2218, -7.9594, -5.9735, -6.2961, -7.635, -6.6099, -7.3839, -7.3054, -6.4002, -7.1763, -7.437, -7.4782, -6.742, -6.9273, -6.9322, -6.8972, -4.5067, -4.805, -5.6224, -5.3152, -5.3272, -5.4425, -5.6199, -4.4908, -5.9614, -5.9126, -4.7022, -5.249, -4.6528, -6.1989, -5.0352, -4.8859, -4.9975, -6.0647, -5.6319, -5.3355, -5.5342, -5.3197, -5.6273, -5.707, -5.3722, -5.5358, -5.4009, -5.6513, -5.8119, -5.5852, -5.7704, -5.7974, -5.7085, -5.8182, -5.6904, -5.7645, -6.0823, -6.5585, -6.5935, -7.1872, -7.4742, -7.4827, -7.486, -7.5248, -7.5269, -7.6294, -7.685, -7.763, -7.7804, -7.7804, -7.8004, -7.8242, -7.8303, -7.8343, -7.8527, -7.8609, -7.8646, -7.9034, -7.8804, -7.9266, -7.9285, -7.9692, -7.9971, -8.0166, -8.0246, -8.027, -7.6454, -6.3476, -6.6591, -6.858, -6.1193, -7.4138, -7.2184, -7.5023, -7.1711, -7.1569, -6.9203, -6.0969, -7.0396, -7.0334, -6.836, -7.3132, -6.6883, -7.4932, -6.2382, -6.5484, -6.3867, -6.7686, -5.9137, -5.9601, -5.4222, -5.1383, -5.3126, -6.1242, -5.1532, -4.5328, -5.3583, -5.9316, -4.92, -5.2141, -5.4911, -5.8134, -5.3016, -5.8789, -6.1992, -5.4891, -5.3346, -5.4803, -5.3982, -5.9043, -5.7762, -5.8947, -5.7892, -5.9994, -5.5832, -5.8043, -5.773, -5.9419, -5.9643, -6.0029, -6.0008, -6.015, -6.7126, -6.7787, -6.9346, -7.1519, -7.2358, -7.2362, -7.3777, -7.3799, -7.4863, -7.5096, -5.9726, -7.5501, -5.3644, -6.0921, -7.6581, -7.0811, -7.6885, -7.7071, -7.7371, -7.7466, -7.763, -7.7707, -7.7778, -7.8099, -7.8241, -7.8621, -7.8621, -7.8688, -7.8688, -6.1973, -6.3878, -6.5362, -5.9821, -7.2401, -6.6659, -5.101, -6.1025, -5.6973, -6.6971, -5.6862, -7.3279, -5.5077, -5.7315, -5.9542, -5.7206, -5.8574, -5.2956, -6.795, -5.6936, -6.9929, -6.3942, -6.1147, -6.8841, -6.306, -5.0253, -5.2002, -5.798, -6.0039, -5.7339, -5.6516, -5.6775, -5.6784, -6.049, -5.9895, -5.4511, -5.0001, -5.7179, -5.1878, -5.6099, -5.6637, -5.7526, -5.6958, -5.9651, -5.9377, -5.9397, -5.96, -4.3777, -5.6394, -5.2369, -6.0267, -6.0613, -6.1388, -6.2987, -6.3842, -6.6035, -6.6762, -6.6769, -6.6808, -6.7275, -6.7724, -6.0043, -6.9301, -6.9455, -7.0028, -7.0107, -7.0282, -7.0293, -7.0605, -7.0624, -7.0709, -7.0793, -7.1, -7.1407, -7.206, -7.2418, -7.2529, -6.4062, -6.3975, -5.2463, -6.8214, -6.0988, -6.3392, -6.3606, -5.1982, -5.2782, -6.2026, -6.7842, -6.8327, -6.534, -5.3736, -5.6597, -5.4653, -6.2853, -4.8078, -5.9244, -5.7619, -4.7861, -5.8424, -5.8163, -5.6118, -6.016, -6.0243, -5.9212, -6.0633, -5.6139, -5.8054, -5.532, -5.4897, -5.8364, -5.6838, -5.5215, -5.7328, -5.885, -6.0037, -5.9917, -6.0682, -6.2732, -6.4961, -6.5988, -6.6212, -6.6264, -6.6672, -6.6996, -6.7182, -6.7277, -6.7628, -6.8531, -6.8939, -6.8511, -6.945, -6.9613, -6.9654, -7.3946, -7.4053, -7.43, -7.4636, -7.4892, -7.5208, -7.581, -7.4212, -7.328, -7.7395, -7.7536, -7.7573, -5.7507, -4.9227, -6.9066, -4.033, -5.3249, -6.605, -4.5844, -5.1193, -5.3801, -6.6408, -4.9763, -5.7363, -4.3247, -5.6929, -5.4928, -6.5154, -5.3879, -5.5095, -5.8289, -4.4593, -4.6624, -5.8094, -5.5684, -5.4701, -5.0519, -4.884, -4.3867, -5.1081, -5.9007, -5.8044, -5.0236, -5.1687, -4.7467, -5.0901, -4.602, -5.2046, -4.7829, -4.9474, -5.2132, -5.4613, -5.222, -5.4012, -6.841, -7.1339, -7.1538, -7.2479, -7.2999, -7.4614, -7.4961, -7.5024, -7.534, -6.9507, -7.5712, -7.58, -6.8649, -7.6149, -7.7092, -7.7536, -7.7598, -7.7876, -7.8584, -7.8639, -7.868, -7.9105, -7.9198, -7.9235, -7.9267, -5.9919, -7.9367, -7.9545, -7.9609, -7.6588, -5.6574, -6.9229, -5.8422, -5.3271, -7.3625, -7.1795, -6.6253, -5.1788, -7.2583, -7.1536, -6.6466, -6.9098, -5.3883, -6.4819, -4.7587, -4.5248, -5.9016, -4.841, -5.1792, -5.6056, -4.6595, -6.4673, -6.551, -4.5569, -5.0157, -5.2363, -5.8722, -5.7228, -6.3605, -5.3995, -5.5066, -5.7034, -5.3065, -5.4131, -5.0451, -5.9069, -5.5081, -6.0691, -5.8919, -6.0483, -5.4375, -5.651, -5.5829, -4.9805, -5.5736, -5.4876, -5.5899, -5.5195, -5.6882, -4.5774, -4.8627, -4.9415, -4.9882, -5.3009, -5.3333, -5.7899, -5.902, -5.9485, -6.1595, -6.1737, -6.1745, -6.2722, -6.2952, -6.3264, -6.2197, -6.4251, -6.4594, -6.4886, -6.5243, -6.5947, -6.6358, -6.6463, -6.4017, -6.747, -6.7487, -6.7544, -6.8102, -6.8123, -6.8231, -4.241, -5.3297, -4.2904, -6.315, -5.1346, -6.4326, -4.6425, -6.1766, -5.7183, -5.8281, -6.2143, -5.8925, -6.1061, -5.6657, -4.5179, -5.7297, -5.8574, -5.5734, -4.9325, -5.9882, -6.1014, -5.0849, -5.9126, -5.8388, -5.1116, -5.5628, -5.0925, -5.5095, -5.3007, -5.1626, -5.4233, -5.5428, -5.5225, -5.4713, -5.6309, -5.7592, -4.9352, -5.1203, -5.6204, -5.6643, -5.6812, -5.7216, -5.7459, -6.0447, -6.0472, -6.2104, -6.5201, -6.5336, -6.5625, -6.5701, -6.6109, -6.6489, -6.7018, -6.708, -6.7352, -6.7626, -6.7965, -6.9338, -6.9598, -7.0298, -7.0935, -7.1165, -7.1337, -7.145, -7.1834, -7.2019, -4.6085, -6.5411, -6.4438, -5.729, -6.2926, -4.2383, -6.3162, -3.7926, -4.6265, -5.6088, -6.008, -6.1932, -4.3245, -5.0401, -5.3076, -5.9887, -5.8437, -6.0562, -5.598, -4.898, -5.2143, -5.5004, -5.6503, -5.6519, -5.4383, -5.2578, -5.076, -5.5078, -5.343, -5.4536, -5.2777, -5.5142, -5.5443, -5.5064, -5.5513, -5.598, -5.6387, -4.4756, -4.7544, -5.0416, -5.3901, -5.5306, -5.6605, -5.6968, -5.7087, -5.7515, -6.1252, -6.1888, -6.3805, -6.6034, -6.642, -6.7078, -6.738, -6.8924, -6.894, -6.9462, -6.9496, -6.9664, -7.0281, -7.0447, -7.0496, -7.0735, -7.1297, -7.1386, -7.1441, -7.1561, -7.169, -5.3017, -4.7834, -6.751, -5.3086, -4.8324, -5.6203, -5.446, -4.6424, -5.7696, -5.2501, -4.545, -6.5997, -6.3127, -5.7701, -5.0602, -5.405, -5.5937, -6.0983, -5.7663, -5.7354, -5.0286, -5.6345, -5.4529, -5.4464, -5.1462, -5.4826, -5.5536, -5.6573, -4.3591, -5.0162, -6.424, -6.7969, -6.861, -6.8919, -6.95, -6.9966, -7.0621, -7.0704, -7.1262, -7.1293, -7.1676, -7.176, -7.1823, -7.2072, -5.4326, -7.237, -7.243, -7.3686, -7.3804, -7.4159, -7.4461, -7.4656, -7.4736, -7.4986, -7.5034, -7.5048, -7.5272, -3.7896, -5.1358, -6.7332, -6.5766, -5.4124, -5.8107, -6.5817, -5.2025, -5.3697, -5.2169, -5.6578, -4.6198, -6.1193, -6.1703, -6.7775, -5.4398, -5.5543, -6.4917, -4.9518, -4.7232, -5.4195, -5.48, -6.123, -6.0564, -6.3719, -5.7686, -5.7121, -6.0147, -5.9823, -5.8624, -6.3252, -5.4902, -6.072, -5.3574, -5.0166, -5.6022, -5.1501, -5.4253, -5.3928, -5.39, -5.6313, -5.5612, -5.7394, -5.203, -5.4539, -5.4857, -5.6152, -6.1624, -6.1846, -6.2146, -6.2904, -6.3424, -6.4254, -6.5243, -6.5265, -6.53, -6.5503, -6.5957, -6.6476, -6.727, -6.7308, -6.7628, -6.7793, -6.8395, -6.8426, -6.8715, -6.8849, -6.9349, -6.9644, -6.9863, -7.0647, -7.1202, -7.1265, -5.4805, -5.5908, -5.6626, -3.7057, -4.3589, -5.9844, -5.9835, -6.1472, -6.3828, -5.5086, -5.7729, -5.0749, -6.0908, -6.57, -5.2244, -6.032, -6.119, -5.8196, -6.1693, -5.8899, -6.4437, -6.2247, -5.4241, -5.3974, -5.9699, -6.1423, -5.8051, -6.0494, -5.8347, -5.9259, -6.0114, -6.0361, -6.0736, -6.113, -4.6006, -5.6682, -5.7087, -5.8496, -5.873, -5.9596, -5.9741, -6.1827, -6.2178, -6.3104, -6.4426, -6.4583, -6.4882, -6.5292, -6.5476, -6.5947, -6.652, -6.7196, -6.743, -6.7707, -6.7734, -6.7852, -6.7867, -6.8008, -6.8102, -6.8366, -6.8473, -6.8757, -6.8803, -6.9005, -5.4586, -6.0538, -5.6482, -6.5711, -6.564, -5.9867, -4.9853, -6.1076, -5.872, -5.3572, -5.5204, -6.394, -6.626, -4.3439, -4.4969, -5.3743, -5.6724, -5.5944, -5.3116, -5.9112, -5.8135, -5.9228, -6.0265, -6.1936, -6.1688, -5.9837, -5.9764, -6.0146, -6.1481, -4.2104, -4.713, -5.4297, -5.4574, -5.5538, -5.5936, -5.7197, -5.7904, -5.8777, -5.9067, -5.921, -6.3212, -6.3428, -6.3943, -6.4017, -6.4237, -3.7685, -5.3517, -6.5947, -6.7213, -6.7699, -6.7815, -6.8146, -6.9027, -6.9038, -6.9621, -6.9624, -7.0095, -7.0214, -7.0574, -6.1342, -5.7677, -6.0457, -4.1636, -6.5855, -4.987, -5.5083, -6.2673, -6.232, -4.9246, -6.1248, -5.201, -5.6519, -5.8899, -5.4041, -5.7335, -5.5822, -5.1873, -5.4754, -5.8093, -5.6946, -5.0578, -5.1192, -5.1662, -5.6349, -5.7773, -5.743, -5.7652, -5.4162, -5.7017, -5.7602, -5.8516, -5.8516, -6.0088, -6.144, -6.2579, -6.2803, -6.2947, -6.4246, -4.4553, -6.5505, -6.5617, -5.6964, -6.5835, -5.2518, -4.0311, -4.7274, -6.7485, -6.781, -6.8191, -6.8333, -6.8516, -6.9005, -6.9025, -6.9096, -6.922, -6.969, -6.9791, -5.3272, -6.4296, -5.6585, -6.3104, -6.7152, -5.8795, -5.5787, -6.2538, -5.0353, -4.7613, -6.3158, -4.728, -5.1731, -5.9366, -5.087, -5.8325, -5.6374, -6.0337, -5.5577, -6.0229, -5.2941, -5.3869, -5.4269, -5.1976, -5.6719, -5.1397, -5.134, -5.65, -5.5613, -5.8009, -5.7463, -5.8049, -5.9282, -5.9425, -6.0055, -6.1198, -6.1634, -6.2006, -6.2109, -6.3361, -6.4162, -6.4258, -6.4321, -6.4338, -5.9254, -6.4582, -6.4593, -6.4807, -6.4871, -6.5475, -6.5884, -6.6028, -6.6088, -6.6382, -6.6586, -6.6686, -6.6726, -6.6795, -6.7321, -6.7791, -6.8179, -6.2671, -6.3063, -5.8156, -4.8438, -6.3556, -6.4361, -6.3869, -6.1411, -6.4478, -6.2242, -5.678, -4.8932, -5.9358, -6.0177, -5.4557, -5.8195, -5.9634, -4.7242, -5.6743, -5.98, -5.7747, -6.1473, -5.5791, -6.1337, -5.1578, -5.8816, -5.8169, -5.8769, -5.9722, -5.9384, -6.1146, -6.074, -6.1118, -5.3767, -5.8171, -6.0193, -6.027, -6.1457, -6.1478, -6.3069, -6.4678, -6.473, -6.5152, -6.5191, -6.538, -6.5381, -6.5437, -6.3703, -6.62, -6.6412, -6.6615, -6.7171, -6.8472, -6.8476, -6.8511, -6.8572, -6.8653, -6.8686, -6.8895, -6.9159, -6.9166, -6.9885, -7.0001, -5.9569, -6.602, -6.0305, -6.4111, -5.3816, -5.5103, -6.3501, -6.6874, -6.4513, -5.5873, -6.2324, -6.0597, -6.2144, -6.1096, -5.836, -6.2629, -5.7091, -5.6321, -5.3937, -5.8813, -5.8141, -6.0866, -5.6681, -5.9757, -5.8115, -6.0735, -5.6577, -5.7368, -6.0411, -6.2025, -6.0388, -6.1671, -6.1925, -4.8611, -5.3731, -5.4277, -5.6129, -5.7133, -5.9841, -6.008, -6.0593, -6.078, -6.1625, -6.2245, -6.226, -6.2658, -6.3036, -6.3885, -6.3896, -6.4235, -6.4468, -6.4507, -6.4554, -6.499, -6.5597, -6.5648, -6.6033, -6.6139, -6.6189, -6.6319, -5.3042, -6.6655, -6.6756, -5.515, -5.8156, -5.7214, -6.3114, -5.1791, -5.5487, -5.8946, -5.623, -6.209, -5.731, -5.8852, -5.9921, -3.8678, -4.0264, -5.9846, -6.0486, -5.2983, -5.711, -5.6935, -6.0156, -5.9364, -5.677, -5.5774, -6.0074, -6.0325, -4.7306, -5.114, -5.243, -5.262, -5.4835, -5.4992, -5.5335, -5.6191, -5.6581, -5.6653, -5.7135, -5.9121, -5.9384, -5.9691, -5.9724, -6.0446, -6.1199, -6.183, -6.1944, -6.2218, -6.2282, -6.2689, -6.273, -6.3315, -6.3879, -6.3915, -6.5536, -6.5792, -6.5877, -6.6171, -6.326, -5.5256, -5.7724, -6.1184, -6.074, -6.2288, -4.6009, -4.9943, -5.0076, -5.131, -5.1996, -5.6107, -5.8658, -5.8819, -5.8838, -6.1651, -6.1795, -6.2118, -6.3473, -6.3499, -6.3911, -6.394, -6.4084, -5.2335, -6.454, -6.4648, -6.471, -6.5704, -6.6081, -6.6101, -6.6424, -6.6781, -5.0258, -6.7184, -6.7388, -6.7428, -5.0615, -6.3013, -5.9113, -5.74, -6.0841, -5.4302, -4.9634, -5.2682, -5.6992, -6.0105, -5.482, -5.2434, -5.9529, -5.773, -5.488, -5.8162, -5.989, -5.5413, -5.5976, -5.9724], \"loglift\": [30.0, 29.0, 28.0, 27.0, 26.0, 25.0, 24.0, 23.0, 22.0, 21.0, 20.0, 19.0, 18.0, 17.0, 16.0, 15.0, 14.0, 13.0, 12.0, 11.0, 10.0, 9.0, 8.0, 7.0, 6.0, 5.0, 4.0, 3.0, 2.0, 1.0, 1.8378, 1.8376, 1.8374, 1.8371, 1.836, 1.8359, 1.8326, 1.8324, 1.8323, 1.8311, 1.8297, 1.8288, 1.8287, 1.8286, 1.8285, 1.8285, 1.8273, 1.8272, 1.8268, 1.8259, 1.8252, 1.8248, 1.8248, 1.8247, 1.8247, 1.8245, 1.824, 1.8239, 1.8238, 1.8237, 1.8208, 1.8226, 1.8235, 1.8051, 1.8003, 1.7722, 1.8002, 1.7544, 1.7908, 1.7747, 1.7525, 1.7609, 1.7608, 1.6993, 1.7109, 1.682, 1.6561, 1.6863, 1.7218, 1.8048, 1.7087, 1.5065, 1.5556, 1.7325, 1.455, 1.5552, 1.3876, 1.0791, 1.011, 1.3553, 1.3006, 1.4045, 1.2057, 0.6069, 0.6087, 1.078, 0.5178, 1.1302, 1.0199, 0.8111, 0.7422, 1.0115, 0.4454, 0.6026, 1.2238, 0.6802, 0.2605, 0.5322, 0.9026, 0.705, 0.495, 0.2215, 0.439, 0.829, -0.035, 0.4624, -0.0041, 2.2059, 2.2028, 2.2022, 2.2017, 2.2, 2.2, 2.1992, 2.1987, 2.1985, 2.1984, 2.1983, 2.1983, 2.198, 2.1972, 2.1953, 2.1951, 2.1934, 2.1932, 2.1923, 2.1921, 2.192, 2.1915, 2.1914, 2.1912, 2.191, 2.1895, 2.1888, 2.1885, 2.1882, 2.1878, 2.1734, 2.1783, 2.1569, 2.1859, 2.1352, 2.1433, 2.178, 2.1106, 2.1541, 2.1216, 1.9908, 2.0795, 2.1137, 2.1134, 1.9314, 1.9679, 1.9597, 1.9039, 0.9844, 1.0299, 1.3635, 1.2069, 1.1501, 1.1531, 1.2086, 0.5524, 1.3607, 1.3214, 0.606, 0.9057, 0.4926, 1.4608, 0.6836, 0.5631, 0.6268, 1.3492, 0.9771, 0.7116, 0.8875, 0.6611, 0.9276, 0.9863, 0.6251, 0.7675, 0.5943, 0.8928, 1.0814, 0.6007, 0.9517, 1.0126, 0.7664, 1.0376, 0.0629, 0.4864, 2.4999, 2.4976, 2.4974, 2.4925, 2.4889, 2.4888, 2.4887, 2.4881, 2.4881, 2.4865, 2.4855, 2.484, 2.4837, 2.4837, 2.4833, 2.4828, 2.4827, 2.4826, 2.4822, 2.4821, 2.482, 2.4811, 2.4809, 2.4806, 2.4806, 2.4796, 2.479, 2.4785, 2.4783, 2.4782, 2.4764, 2.4606, 2.4488, 2.4416, 2.3558, 2.4395, 2.4197, 2.4411, 2.3744, 2.3638, 2.3114, 2.099, 2.3027, 2.2958, 2.2413, 2.3503, 2.1392, 2.3887, 1.905, 1.998, 1.9274, 2.0893, 1.6541, 1.6734, 1.3863, 1.1771, 1.2701, 1.6833, 1.0983, 0.5104, 1.0538, 1.4253, 0.5711, 0.7831, 0.9584, 1.1914, 0.6792, 1.222, 1.5175, 0.6655, 0.4187, 0.3546, 0.2261, 0.9602, 0.5747, 0.7778, 0.514, 0.9861, -0.4378, 0.2428, -0.4648, 0.244, 0.4574, 0.8905, -0.0056, 2.5256, 2.5221, 2.5216, 2.5203, 2.5182, 2.5173, 2.5173, 2.5155, 2.5154, 2.5139, 2.5136, 2.5132, 2.5129, 2.5116, 2.5113, 2.5111, 2.5109, 2.5105, 2.5102, 2.5096, 2.5094, 2.5091, 2.509, 2.5088, 2.5082, 2.5079, 2.5071, 2.5071, 2.5069, 2.5069, 2.498, 2.4967, 2.487, 2.4718, 2.4899, 2.4687, 2.4003, 2.4365, 2.3768, 2.4348, 2.3512, 2.4783, 2.3013, 2.3189, 2.3389, 2.283, 2.2982, 2.2198, 2.3974, 2.1629, 2.4285, 2.2723, 2.1968, 2.4009, 2.2022, 1.68, 1.7306, 1.969, 2.0312, 1.8776, 1.8274, 1.8216, 1.6515, 1.9407, 1.834, 1.0756, 0.449, 1.4231, -0.1446, 0.641, 0.6609, 0.8023, 0.2994, 1.6438, 0.6713, -0.2209, 0.7478, 2.6359, 2.634, 2.6337, 2.6327, 2.6326, 2.6323, 2.6315, 2.631, 2.6297, 2.6291, 2.6291, 2.6291, 2.6287, 2.6284, 2.6281, 2.6269, 2.6268, 2.6262, 2.6261, 2.626, 2.6259, 2.6256, 2.6256, 2.6255, 2.6254, 2.6252, 2.6247, 2.6239, 2.6234, 2.6233, 2.6204, 2.6037, 2.5232, 2.6051, 2.5384, 2.5519, 2.5409, 2.3897, 2.3924, 2.4925, 2.5786, 2.5848, 2.5112, 2.1887, 2.0575, 1.9216, 2.3162, 1.5167, 2.0509, 1.7629, 0.663, 1.6996, 1.6656, 1.4236, 1.8753, 1.8331, 1.5218, 1.7981, 0.5717, 1.0729, 0.3028, 0.1346, 1.0802, 0.3633, -0.4782, 0.0206, 0.0958, 0.1489, 2.7786, 2.7783, 2.7772, 2.7756, 2.775, 2.7748, 2.7747, 2.7744, 2.7741, 2.7739, 2.7739, 2.7735, 2.7726, 2.7722, 2.7716, 2.7716, 2.7714, 2.7714, 2.7652, 2.765, 2.7646, 2.7639, 2.7634, 2.7628, 2.7616, 2.7606, 2.7604, 2.7579, 2.7576, 2.7575, 2.7534, 2.7297, 2.7472, 2.6788, 2.7005, 2.7382, 2.6671, 2.6659, 2.658, 2.7077, 2.5712, 2.6233, 2.4275, 2.587, 2.5444, 2.6831, 2.4043, 2.4317, 2.4364, 1.8916, 1.9286, 2.3734, 2.1505, 2.0493, 1.7065, 1.5909, 1.2377, 1.7329, 2.2586, 2.1811, 1.3885, 1.4141, 0.7445, 1.1614, 0.4412, 1.2449, 0.3624, 0.3609, 0.7676, 1.5691, 0.5313, 0.902, 2.8213, 2.8177, 2.8174, 2.8157, 2.8151, 2.8121, 2.8114, 2.8113, 2.8106, 2.8105, 2.8098, 2.8096, 2.8095, 2.8088, 2.8066, 2.8054, 2.8053, 2.8045, 2.8025, 2.8024, 2.8022, 2.801, 2.8007, 2.8006, 2.8005, 2.8003, 2.8001, 2.7996, 2.7994, 2.7992, 2.7783, 2.7842, 2.7481, 2.7315, 2.7852, 2.779, 2.757, 2.6669, 2.7677, 2.7521, 2.7061, 2.7031, 2.4482, 2.6002, 2.2716, 2.2231, 2.4745, 2.2441, 2.307, 2.4002, 2.1815, 2.581, 2.5996, 2.0999, 2.2084, 2.2624, 2.4284, 2.3758, 2.549, 2.2013, 2.2221, 2.2914, 2.0931, 2.085, 1.7633, 2.2475, 1.9459, 2.3114, 2.1699, 2.2787, 1.7451, 1.8699, 1.6436, 0.7728, 1.5357, 1.1033, 1.1118, 0.732, 0.9278, 2.8816, 2.8812, 2.881, 2.881, 2.8803, 2.8802, 2.8788, 2.8783, 2.8781, 2.877, 2.8769, 2.8769, 2.8763, 2.8761, 2.8759, 2.8753, 2.8752, 2.875, 2.8747, 2.8744, 2.8738, 2.8734, 2.8734, 2.8732, 2.8724, 2.8724, 2.8723, 2.8717, 2.8717, 2.8716, 2.8565, 2.8593, 2.8456, 2.8666, 2.8377, 2.8584, 2.7502, 2.8252, 2.7458, 2.7489, 2.8127, 2.7032, 2.7656, 2.5835, 2.0088, 2.4739, 2.555, 2.2995, 1.6955, 2.6052, 2.6924, 1.1007, 2.368, 2.2361, 0.8856, 1.3892, 0.0528, 1.1629, 0.4182, -0.1194, 0.0678, 0.4525, 0.3123, -0.1631, 0.8912, 1.4777, 3.1007, 3.1003, 3.0986, 3.0985, 3.0984, 3.0982, 3.0981, 3.0964, 3.0964, 3.0953, 3.0925, 3.0924, 3.0921, 3.092, 3.0915, 3.0911, 3.0904, 3.0904, 3.09, 3.0897, 3.0892, 3.0872, 3.0868, 3.0857, 3.0845, 3.0841, 3.0838, 3.0836, 3.0828, 3.0825, 3.0782, 3.0818, 3.0776, 3.0588, 3.0603, 2.9745, 3.0336, 2.8234, 2.8147, 2.8063, 2.9009, 2.9432, 2.3773, 2.5822, 2.6598, 2.8674, 2.8031, 2.8665, 2.645, 2.3147, 2.4282, 2.4994, 2.5801, 2.5453, 2.3838, 2.2142, 1.9288, 2.1903, 1.9355, 1.9844, 1.6389, 2.0046, 2.021, 1.6762, 1.0314, 1.1099, 1.6032, 3.112, 3.1116, 3.111, 3.11, 3.1095, 3.1089, 3.1088, 3.1087, 3.1085, 3.1063, 3.1059, 3.1043, 3.1021, 3.1016, 3.1008, 3.1004, 3.0983, 3.0983, 3.0975, 3.0974, 3.0967, 3.0961, 3.0959, 3.0958, 3.0953, 3.0943, 3.0942, 3.094, 3.0938, 3.0936, 3.0796, 3.0047, 3.0808, 2.9722, 2.8739, 2.8995, 2.8263, 2.6776, 2.8217, 2.5089, 2.1602, 2.959, 2.8134, 2.5144, 2.0808, 2.258, 2.3617, 2.6636, 2.3207, 2.2044, 1.2229, 1.7946, 1.3555, 1.2103, -0.1029, 0.8328, 1.1543, -0.512, 3.1188, 3.1177, 3.1105, 3.1063, 3.1054, 3.1049, 3.104, 3.1032, 3.1021, 3.102, 3.1009, 3.1009, 3.1001, 3.1, 3.0998, 3.0993, 3.0989, 3.0987, 3.0986, 3.0958, 3.0955, 3.0946, 3.0938, 3.0933, 3.0931, 3.0924, 3.0923, 3.0923, 3.0916, 3.0914, 3.0477, 3.0747, 3.0576, 3.0074, 3.0154, 3.0545, 2.9581, 2.9485, 2.933, 2.9507, 2.7883, 2.9612, 2.9339, 3.0326, 2.7517, 2.7276, 2.942, 2.5398, 2.4133, 2.604, 2.5796, 2.7925, 2.6504, 2.7869, 2.3877, 2.2993, 2.5145, 2.3147, 2.1495, 2.7081, 1.3742, 2.3004, 0.8941, 0.1287, 1.3497, 0.1581, 0.5719, 0.0984, -0.3468, 0.6841, 0.1921, 0.4465, 3.2022, 3.2013, 3.2012, 3.2007, 3.1973, 3.1971, 3.1969, 3.1962, 3.1957, 3.1949, 3.1939, 3.1938, 3.1938, 3.1936, 3.193, 3.1924, 3.1913, 3.1913, 3.1908, 3.1906, 3.1897, 3.1896, 3.1891, 3.1889, 3.1881, 3.1876, 3.1872, 3.1857, 3.1846, 3.1845, 3.1803, 3.177, 3.1769, 3.1073, 3.1248, 3.1436, 3.1193, 3.1316, 3.1404, 3.0116, 3.0354, 2.8927, 2.9928, 3.1364, 2.6616, 2.8845, 2.875, 2.5926, 2.8481, 2.5105, 3.0726, 2.5621, -0.1159, -0.2521, 1.5125, 2.1665, 0.3805, 1.5884, -0.0814, 0.6008, 1.0895, 0.5729, 1.4473, 1.0895, 3.3868, 3.3829, 3.3827, 3.3818, 3.3816, 3.3809, 3.3808, 3.379, 3.3786, 3.3777, 3.3761, 3.3759, 3.3755, 3.375, 3.3747, 3.374, 3.3732, 3.3721, 3.3717, 3.3712, 3.3712, 3.371, 3.3709, 3.3707, 3.3705, 3.37, 3.3698, 3.3693, 3.3692, 3.3688, 3.3234, 3.3216, 3.2377, 3.3304, 3.329, 3.1828, 2.8084, 3.1509, 3.0129, 2.7288, 2.7002, 3.1503, 3.2776, 0.8014, 0.8114, 1.4901, 1.8954, 1.6922, 0.9393, 2.0735, 1.7934, 1.9449, 1.9735, 2.3791, 2.2513, 1.0267, 0.2092, 0.5075, -0.657, 3.5464, 3.5454, 3.5426, 3.5425, 3.5419, 3.5416, 3.5408, 3.5403, 3.5395, 3.5393, 3.5392, 3.5348, 3.5346, 3.5338, 3.5337, 3.5334, 3.5324, 3.5313, 3.5307, 3.5284, 3.5274, 3.5272, 3.5265, 3.5245, 3.5245, 3.5231, 3.5231, 3.5219, 3.5216, 3.5207, 3.5055, 3.465, 3.4498, 3.2463, 3.4631, 3.1656, 3.2586, 3.4023, 3.3673, 2.9789, 3.3184, 2.9579, 3.1047, 3.1647, 2.7552, 2.8404, 2.4062, 1.7434, 2.1361, 2.6509, 2.0502, 0.0876, 0.189, -0.1229, 1.7723, 1.7437, 0.9622, -0.3162, 3.812, 3.8097, 3.8092, 3.8082, 3.8082, 3.8064, 3.8046, 3.8029, 3.8025, 3.8023, 3.8, 3.7996, 3.7974, 3.7972, 3.7968, 3.7967, 3.7946, 3.7937, 3.7933, 3.7927, 3.7919, 3.7908, 3.7904, 3.7899, 3.7885, 3.7884, 3.7882, 3.7878, 3.7864, 3.786, 3.7495, 3.7723, 3.6778, 3.7306, 3.7658, 3.6326, 3.5768, 3.6889, 3.459, 3.3953, 3.6856, 3.2937, 3.3523, 3.5351, 3.1833, 3.4225, 3.3057, 3.533, 3.1745, 3.4934, 2.2938, 2.2837, 2.0549, 1.5077, 2.5625, 0.1685, 0.0113, 2.0131, 1.461, 2.5282, -0.2973, 4.2013, 4.1993, 4.199, 4.1979, 4.1956, 4.1946, 4.1938, 4.1937, 4.1906, 4.1885, 4.1882, 4.1881, 4.188, 4.188, 4.1873, 4.1873, 4.1867, 4.1865, 4.1846, 4.1833, 4.1828, 4.1826, 4.1816, 4.1809, 4.1806, 4.1804, 4.1802, 4.1783, 4.1765, 4.1749, 4.0831, 4.0426, 3.8773, 3.4362, 4.0421, 4.0674, 4.041, 3.9066, 4.0688, 3.8905, 3.3669, 2.4799, 3.5207, 3.4216, 2.4169, 3.0469, 3.2238, 0.4211, 2.4523, 3.0888, 2.5018, 3.457, 1.78, 3.3488, 0.1505, 2.4049, 2.1224, 2.1655, 2.597, 1.5598, 3.1432, 1.7944, 0.819, 4.2243, 4.2187, 4.2152, 4.215, 4.2126, 4.2126, 4.2088, 4.2044, 4.2042, 4.2029, 4.2028, 4.2022, 4.2022, 4.202, 4.1997, 4.1995, 4.1988, 4.1981, 4.196, 4.1908, 4.1908, 4.1906, 4.1903, 4.19, 4.1898, 4.1889, 4.1877, 4.1877, 4.1843, 4.1837, 4.153, 4.1557, 4.0987, 4.1326, 3.9787, 3.9787, 4.0627, 4.1455, 4.067, 3.7016, 3.924, 3.7262, 3.7261, 3.5311, 3.0032, 3.6259, 2.6775, 2.3677, 1.7473, 2.4719, 2.1744, 2.911, 1.5796, 2.3982, 1.4503, 2.3563, -0.5124, -0.4286, 1.1481, 2.925, 0.2122, 0.5654, 1.9888, 4.3241, 4.3196, 4.319, 4.3166, 4.3151, 4.3102, 4.3097, 4.3086, 4.3082, 4.3063, 4.3047, 4.3047, 4.3036, 4.3026, 4.3001, 4.3001, 4.299, 4.2983, 4.2982, 4.298, 4.2966, 4.2945, 4.2943, 4.2929, 4.2925, 4.2923, 4.2918, 4.2905, 4.2905, 4.2901, 4.2881, 4.2754, 4.2193, 4.2547, 4.0389, 4.0945, 4.1485, 4.0484, 4.2024, 4.0311, 4.0076, 3.8978, 1.2775, 1.2818, 3.7721, 3.8508, 2.5252, 2.9749, 2.7723, 3.6673, 3.404, 2.184, 0.9493, 2.859, 0.8983, 4.44, 4.4369, 4.4356, 4.4354, 4.4326, 4.4324, 4.4319, 4.4306, 4.4299, 4.4298, 4.429, 4.4251, 4.4246, 4.4239, 4.4238, 4.4221, 4.4202, 4.4185, 4.4182, 4.4174, 4.4173, 4.4161, 4.4159, 4.4141, 4.4122, 4.4121, 4.4062, 4.4051, 4.4048, 4.4036, 3.9741, 2.7252, 3.0864, 3.3055, 2.4071, 0.6311, 4.6955, 4.6919, 4.6918, 4.6903, 4.6893, 4.6825, 4.6766, 4.6762, 4.6761, 4.6675, 4.667, 4.6659, 4.6606, 4.6605, 4.6587, 4.6586, 4.658, 4.656, 4.6559, 4.6554, 4.6551, 4.6502, 4.6483, 4.6481, 4.6464, 4.6444, 4.6437, 4.6421, 4.6408, 4.6406, 4.44, 4.5886, 4.523, 4.3997, 4.4829, 4.2864, 4.0132, 3.9647, 4.1413, 4.3415, 3.2039, 2.7497, 3.6608, 2.553, 1.2199, 2.3576, 3.0221, -0.396, -0.2894, 1.7183]}, \"token.table\": {\"Topic\": [1, 1, 5, 7, 3, 3, 4, 6, 7, 10, 11, 12, 18, 4, 14, 18, 11, 11, 4, 5, 6, 7, 8, 9, 11, 15, 17, 3, 7, 2, 4, 10, 2, 3, 5, 6, 7, 8, 11, 14, 12, 1, 5, 12, 17, 10, 1, 2, 4, 5, 8, 10, 11, 14, 7, 11, 20, 2, 4, 15, 3, 7, 9, 10, 20, 3, 14, 13, 18, 1, 2, 3, 4, 5, 6, 7, 8, 9, 10, 11, 12, 13, 14, 15, 20, 4, 10, 1, 2, 4, 8, 10, 12, 14, 15, 17, 18, 20, 2, 4, 8, 10, 16, 17, 15, 3, 11, 12, 1, 15, 15, 2, 4, 7, 19, 7, 9, 7, 7, 9, 10, 1, 2, 4, 5, 13, 14, 17, 1, 2, 3, 4, 5, 6, 7, 8, 10, 11, 12, 13, 17, 2, 5, 13, 1, 2, 3, 4, 5, 6, 8, 9, 10, 12, 19, 3, 6, 9, 16, 3, 4, 6, 7, 9, 10, 14, 17, 2, 3, 5, 6, 8, 14, 6, 4, 5, 7, 8, 10, 11, 12, 15, 16, 18, 20, 14, 14, 7, 9, 15, 7, 15, 17, 9, 1, 4, 9, 3, 19, 5, 15, 5, 15, 5, 15, 15, 2, 4, 5, 14, 15, 1, 2, 3, 4, 5, 6, 8, 9, 10, 11, 12, 13, 14, 15, 16, 17, 18, 20, 1, 4, 5, 6, 7, 11, 14, 11, 1, 12, 1, 1, 1, 3, 16, 1, 2, 4, 10, 14, 3, 6, 12, 12, 7, 2, 3, 4, 6, 7, 8, 9, 10, 11, 12, 12, 5, 5, 5, 5, 20, 5, 1, 2, 3, 4, 5, 6, 8, 9, 10, 11, 12, 13, 14, 15, 2, 8, 11, 12, 13, 13, 5, 10, 2, 3, 10, 18, 4, 8, 1, 3, 4, 6, 7, 8, 9, 10, 11, 12, 14, 17, 20, 4, 15, 18, 2, 3, 1, 3, 11, 3, 1, 5, 1, 5, 1, 2, 3, 4, 5, 6, 8, 10, 11, 12, 1, 2, 3, 4, 5, 6, 7, 8, 9, 11, 13, 7, 1, 2, 3, 4, 6, 8, 9, 10, 11, 12, 13, 14, 15, 18, 19, 1, 5, 1, 5, 1, 2, 3, 8, 12, 18, 13, 13, 1, 4, 6, 7, 8, 10, 11, 13, 16, 18, 17, 7, 6, 11, 17, 7, 11, 16, 17, 20, 3, 17, 13, 2, 14, 2, 20, 2, 3, 11, 14, 9, 4, 8, 15, 18, 2, 3, 5, 6, 8, 11, 13, 11, 4, 1, 2, 11, 13, 18, 18, 20, 4, 5, 10, 13, 16, 8, 1, 3, 4, 6, 8, 9, 10, 12, 15, 7, 7, 4, 17, 18, 13, 4, 10, 3, 19, 19, 3, 9, 17, 3, 6, 11, 12, 19, 11, 12, 2, 13, 8, 13, 16, 1, 2, 3, 4, 5, 6, 8, 11, 12, 13, 15, 13, 20, 10, 16, 11, 18, 6, 11, 14, 6, 8, 11, 14, 2, 11, 13, 16, 18, 1, 5, 1, 2, 3, 4, 6, 9, 11, 13, 15, 17, 10, 11, 12, 4, 7, 8, 12, 13, 14, 20, 6, 3, 4, 9, 2, 1, 2, 3, 4, 6, 7, 8, 9, 10, 11, 13, 15, 16, 4, 6, 8, 13, 1, 2, 4, 5, 9, 17, 20, 1, 2, 4, 5, 9, 14, 15, 17, 18, 20, 3, 6, 10, 11, 6, 15, 1, 5, 1, 5, 6, 13, 1, 5, 17, 1, 5, 2, 1, 5, 13, 19, 19, 9, 2, 2, 10, 3, 11, 12, 10, 11, 12, 2, 14, 4, 14, 1, 3, 5, 6, 10, 14, 17, 10, 12, 18, 20, 8, 20, 6, 7, 9, 3, 9, 4, 10, 10, 3, 5, 6, 13, 14, 20, 3, 18, 15, 11, 8, 1, 1, 3, 6, 7, 9, 10, 12, 17, 3, 13, 2, 3, 6, 7, 8, 9, 9, 7, 14, 18, 1, 2, 3, 4, 5, 6, 8, 10, 11, 12, 14, 15, 12, 19, 2, 3, 6, 7, 10, 3, 6, 7, 9, 10, 16, 9, 9, 16, 3, 9, 10, 12, 9, 15, 3, 11, 7, 16, 2, 3, 6, 7, 10, 11, 16, 4, 14, 1, 5, 10, 1, 1, 2, 5, 11, 11, 18, 6, 2, 4, 10, 12, 15, 6, 4, 15, 2, 3, 4, 5, 6, 7, 8, 9, 11, 12, 13, 15, 8, 9, 12, 14, 16, 1, 5, 9, 9, 1, 2, 3, 4, 6, 7, 9, 10, 11, 12, 13, 14, 17, 6, 11, 11, 2, 6, 9, 10, 17, 16, 15, 18, 3, 5, 6, 7, 10, 16, 19, 3, 18, 3, 7, 11, 13, 16, 18, 2, 3, 4, 6, 7, 10, 11, 12, 13, 18, 1, 2, 3, 4, 5, 6, 8, 10, 11, 12, 13, 14, 15, 18, 13, 1, 2, 4, 10, 14, 1, 2, 4, 5, 7, 11, 14, 15, 17, 18, 1, 2, 4, 5, 6, 7, 10, 11, 12, 13, 14, 15, 19, 20, 1, 4, 10, 15, 4, 5, 10, 4, 5, 10, 17, 11, 17, 10, 10, 10, 10, 10, 3, 16, 20, 2, 1, 2, 3, 4, 5, 6, 7, 8, 9, 10, 11, 12, 14, 6, 18, 2, 3, 13, 5, 15, 8, 16, 1, 2, 4, 13, 17, 17, 3, 7, 9, 10, 11, 12, 1, 4, 5, 6, 7, 8, 13, 16, 1, 2, 3, 4, 5, 6, 7, 8, 9, 10, 11, 13, 15, 16, 17, 18, 15, 14, 1, 3, 4, 13, 18, 1, 2, 3, 4, 5, 6, 8, 11, 14, 18, 2, 4, 6, 11, 16, 17, 10, 17, 9, 1, 1, 4, 5, 8, 12, 18, 4, 1, 3, 4, 9, 10, 2, 3, 7, 10, 11, 12, 13, 6, 20, 3, 13, 13, 8, 1, 3, 4, 6, 7, 10, 12, 18, 8, 6, 7, 18, 2, 1, 2, 3, 4, 5, 6, 7, 9, 11, 12, 14, 20, 3, 10, 12, 3, 7, 9, 10, 1, 10, 11, 14, 2, 4, 6, 7, 10, 11, 6, 7, 11, 3, 4, 6, 7, 9, 3, 4, 7, 9, 10, 4, 7, 8, 15, 17, 2, 2, 16, 4, 11, 20, 11, 13, 17, 4, 6, 11, 13, 18, 4, 6, 11, 13, 11, 1, 2, 11, 12, 13, 14, 2, 4, 20, 2, 1, 10, 1, 5, 12, 5, 9, 10, 1, 13, 16, 1, 4, 5, 7, 9, 12, 14, 17, 2, 17, 6, 11, 4, 3, 11, 9, 3, 6, 7, 9, 11, 13, 17, 20, 20, 10, 10, 10, 1, 2, 3, 4, 12, 4, 10, 2, 11, 12, 13, 1, 2, 3, 4, 5, 6, 8, 9, 10, 11, 12, 13, 15, 17, 9, 4, 9, 12, 19, 18, 2, 10, 10, 11, 13, 8, 6, 16, 1, 2, 3, 4, 5, 6, 8, 9, 10, 11, 12, 13, 14, 18, 20, 1, 2, 4, 5, 10, 14, 1, 2, 7, 8, 11, 1, 3, 7, 9, 10, 11, 1, 5, 9, 14, 7, 7, 9, 10, 9, 1, 2, 3, 4, 5, 6, 8, 10, 12, 13, 14, 17, 1, 5, 5, 16, 17, 1, 8, 20, 1, 2, 3, 4, 5, 6, 7, 12, 13, 5, 4, 10, 15, 14, 19, 4, 6, 7, 9, 10, 3, 6, 7, 9, 10, 17, 1, 2, 4, 5, 8, 11, 12, 15, 4, 17, 4, 15, 1, 2, 3, 4, 5, 6, 7, 8, 9, 10, 11, 12, 13, 14, 15, 16, 17, 18, 20, 4, 12, 11, 7, 11, 20, 8, 1, 2, 3, 4, 5, 6, 7, 8, 9, 10, 11, 12, 14, 17, 6, 9, 2, 5, 15, 2, 17, 3, 7, 11, 7, 9, 11, 3, 1, 2, 3, 4, 5, 7, 8, 10, 11, 13, 17, 18, 3, 2, 1, 6, 8, 9, 8, 4, 20, 6, 5, 17, 14, 14, 17, 5, 16, 1, 2, 3, 4, 6, 8, 11, 12, 13, 14, 15, 12, 16, 3, 10, 19, 16, 17, 8, 19, 19, 1, 3, 4, 8, 10, 12, 14, 1, 1, 2, 3, 4, 5, 6, 8, 10, 11, 12, 13, 14, 15, 17, 1, 2, 3, 4, 5, 6, 7, 8, 10, 11, 12, 13, 15, 16, 18, 2, 18, 2, 4, 10, 14, 15, 17, 3, 6, 7, 9, 20, 3, 15, 5, 15, 1, 5, 15, 1, 2, 3, 4, 5, 10, 12, 13, 14, 15, 12, 1, 2, 4, 5, 6, 7, 9, 10, 11, 17, 18, 19, 14, 4, 14, 4, 5, 7, 8, 9, 16, 18, 20, 14, 4, 4, 9, 1, 2, 3, 4, 5, 6, 8, 11, 12, 13, 7, 3, 6, 7, 10, 11, 13, 16, 18, 2, 4, 5, 5, 17, 20, 10, 13, 1, 2, 3, 4, 5, 6, 7, 8, 9, 10, 11, 12, 14, 17, 4, 1, 14, 12, 16, 14, 4, 1, 2, 3, 4, 5, 6, 7, 8, 10, 11, 12, 13, 11, 18, 8, 20, 2, 18, 5, 14, 5, 14, 4, 4, 20, 1, 20, 20, 16, 17, 18, 19, 1, 2, 3, 4, 5, 7, 12, 14, 20, 4, 9, 6, 6, 7, 3, 5, 6, 7, 9, 14, 3, 7, 10, 12, 9, 2, 17, 17, 1, 4, 6, 7, 9, 10, 11, 7, 2, 1, 2, 3, 6, 7, 9, 11, 12, 1, 2, 3, 4, 5, 6, 7, 9, 10, 11, 12, 14, 16, 17, 3, 10, 3, 9, 1, 2, 3, 5, 6, 11, 12, 13, 15, 16, 2, 4, 11, 2, 2, 4, 6, 7, 8, 10, 11, 7, 11, 11, 17, 9, 14, 1, 10, 7, 1, 1, 4, 7, 14, 15, 8, 18, 5, 14, 14, 14, 15, 13, 1, 1, 2, 4, 5, 7, 8, 12, 13, 16, 18, 5, 5, 11, 14, 5, 14, 3, 4, 1, 2, 3, 4, 5, 6, 7, 8, 10, 11, 12, 13, 16, 3, 7, 19, 5, 1, 5, 17, 11, 12, 11, 18, 5, 5, 3, 4, 8, 9, 15, 16, 3, 6, 9, 2, 9, 10, 10, 17, 2, 16, 5, 8, 20, 15, 1, 2, 3, 4, 5, 6, 8, 9, 10, 11, 12, 13, 14, 15, 18, 20, 5, 15, 17, 4, 5, 14, 15, 12, 17, 4, 15, 7, 1, 4, 5, 11, 12, 14, 15, 9, 3, 1, 2, 3, 4, 5, 6, 7, 9, 10, 11, 12, 13, 14, 15, 4, 1, 2, 3, 4, 5, 6, 7, 8, 9, 10, 11, 12, 13, 14, 15, 16, 18, 4, 12, 12, 12, 1, 4, 5, 10, 13, 14, 17, 6, 8, 4, 8, 10, 14, 14, 1, 2, 3, 4, 5, 6, 8, 9, 11, 12, 13, 14, 15, 19, 1, 18, 1, 2, 3, 4, 7, 8, 9, 11, 12, 1, 5, 17, 1, 4, 5, 7, 9, 10, 12, 6, 15, 1, 2, 4, 5, 11, 12, 13, 14, 1, 2, 3, 4, 5, 6, 7, 8, 9, 10, 11, 12, 13, 14, 17, 18, 16, 1, 3, 4, 5, 6, 7, 8, 9, 10, 11, 12, 13, 14, 4, 6, 1, 2, 3, 4, 5, 6, 7, 8, 9, 11, 13, 15, 16, 20, 7, 1, 2, 3, 4, 5, 6, 8, 9, 10, 11, 12, 13, 14, 1, 16, 1, 2, 3, 4, 6, 11, 13, 15, 18, 16, 1, 2, 3, 4, 5, 6, 7, 8, 9, 10, 11, 12, 13, 14, 16, 17, 1, 5, 14, 16, 12, 17, 1, 2, 3, 4, 6, 7, 9, 10, 11, 14, 12, 20, 2, 16, 18, 4, 16, 3, 6, 7, 8, 10, 11, 17, 7, 8, 1, 2, 3, 4, 5, 6, 8, 9, 10, 11, 12, 13, 14, 17, 17, 1, 4, 5, 11, 17, 20, 5, 6, 8, 9, 11, 12, 4, 3, 6, 7, 9, 11, 3, 6, 7, 9, 11, 1, 2, 3, 4, 5, 6, 7, 8, 9, 10, 11, 12, 13, 14, 15, 17, 20, 1, 12, 3, 6, 10, 15, 16, 1, 5, 16, 18, 1, 2, 3, 5, 6, 8, 10, 11, 12, 13, 14, 18, 19, 16, 1, 2, 3, 4, 5, 6, 8, 10, 12, 16, 3, 6, 8, 9, 11, 14, 1, 2, 3, 6, 7, 8, 11, 12, 13, 15, 16, 18, 6, 1, 2, 3, 4, 5, 6, 8, 9, 10, 11, 12, 14, 18, 1, 2, 4, 6, 8, 11, 12, 13, 16, 18, 18, 7, 11, 12, 13, 15, 4, 14, 4, 18, 11, 5, 8, 18, 5, 7, 12, 7, 12, 7, 10, 18, 9, 3, 6, 9, 10, 11, 12, 1, 3, 6, 7, 9, 11, 12, 13, 17, 3, 6, 7, 1, 2, 3, 4, 6, 8, 11, 12, 3, 6, 8, 5, 12, 1, 14, 1, 1, 5, 5, 16, 18, 9, 13, 13, 5, 10, 6, 9, 1, 15, 1, 2, 3, 4, 5, 6, 8, 9, 10, 11, 12, 13, 20, 1, 13, 20, 4, 5, 6, 7, 11, 17, 18, 1, 2, 3, 4, 5, 6, 7, 8, 9, 10, 11, 12, 13, 14, 15, 17, 1, 17, 1, 2, 3, 4, 5, 6, 7, 8, 9, 10, 11, 12, 14, 15, 16, 17, 7, 12, 4, 7, 8, 10, 12, 14, 15, 18, 4, 5, 14, 1, 2, 3, 4, 5, 6, 7, 8, 9, 10, 11, 12, 13, 14, 20, 1, 2, 3, 6, 10, 13, 16, 18, 3, 1, 12, 13, 14, 1, 2, 4, 6, 7, 8, 10, 11, 12, 14, 15, 16, 17, 18, 1, 2, 3, 4, 5, 6, 7, 8, 9, 10, 11, 12, 13, 15, 19, 16, 9, 13, 19, 19, 19, 6, 4, 12, 14, 15, 9, 17, 1, 2, 3, 4, 5, 6, 7, 8, 9, 10, 11, 14, 20, 9, 1, 12, 1, 12, 14, 15, 14, 11, 1, 2, 3, 6, 7, 11, 4, 5, 14, 20, 3, 2, 4, 6, 7, 9, 16, 17, 18, 9, 7, 10, 15, 1, 2, 3, 4, 5, 6, 7, 8, 9, 10, 11, 13, 15, 6, 17, 20, 12, 12, 10, 17, 1, 4, 5, 7, 8, 9, 10, 12, 14, 17, 3, 20, 18, 15, 10, 15, 12, 4, 12, 3, 9, 2, 16, 16, 17, 3, 4, 6, 7, 9, 18, 7, 1, 2, 3, 14, 14, 14, 18, 3, 5, 9, 12, 17, 18, 6, 15, 1, 2, 3, 4, 5, 6, 7, 8, 9, 10, 11, 12, 14, 17, 19, 20, 1, 4, 10, 20, 1, 5, 5, 13, 10, 7, 1, 2, 2, 4, 8, 13, 16, 17, 1, 2, 4, 5, 6, 7, 8, 10, 11, 12, 13, 16, 12, 1, 4, 5, 14, 11, 7, 8, 8, 3, 13, 1, 2, 3, 4, 5, 6, 7, 10, 11, 14, 15, 17, 20, 1, 2, 3, 4, 5, 15, 20, 1, 2, 4, 5, 8, 9, 12, 13, 14, 16, 1, 2, 3, 4, 5, 6, 9, 10, 11, 12, 17, 7, 8, 13, 18, 18, 5, 6, 7, 10, 11, 16, 10, 8, 8, 2, 8, 18, 18, 4, 7, 8, 10, 12, 15, 1, 2, 4, 6, 8, 10, 13, 1, 4, 5, 8, 14, 8, 8, 1, 2, 6, 8, 14, 8, 8, 1, 2, 3, 4, 5, 6, 7, 8, 9, 10, 11, 14, 15, 17, 20, 18, 19, 19, 1, 2, 3, 4, 5, 6, 7, 8, 9, 10, 11, 12, 13, 14, 20, 3, 1, 2, 3, 4, 5, 7, 8, 14, 20, 2, 4, 5, 10, 13, 1, 4, 10, 14, 15, 1, 4, 5, 10, 12, 14, 15, 17, 5, 10, 1, 2, 4, 5, 14, 15, 20, 3, 6, 11, 7, 1, 2, 3, 4, 5, 8, 11, 12, 13, 14, 15, 18, 4, 4, 10, 13, 2, 3, 4, 5, 6, 7, 11, 14, 15, 16, 3, 7, 11, 12, 16, 3, 6, 3, 10, 1, 2, 4, 6, 10, 1, 2, 3, 4, 5, 6, 7, 8, 9, 10, 11, 12, 13, 14, 18, 12, 1, 2, 3, 4, 5, 6, 9, 10, 11, 14, 2, 7, 3, 7, 9, 3, 3, 4, 6, 7, 9, 10, 12, 1, 3, 4, 7, 10, 12, 20, 12, 4, 14, 17, 5, 1, 4, 10, 14, 2, 4, 10, 11, 13, 14, 15, 18, 3, 16, 6, 10, 13, 1, 4, 5, 7, 9, 10, 14, 17, 11, 8, 3, 9, 11, 16, 13, 6, 1, 3, 4, 6, 8, 10, 11, 10, 8, 13, 1, 2, 3, 4, 5, 6, 8, 9, 10, 11, 12, 13, 14, 15, 17, 3, 1, 12, 13, 16, 3, 12, 13, 20, 15, 8, 13, 1, 3, 19, 1, 3, 7, 14, 17, 1, 2, 3, 4, 5, 6, 8, 10, 11, 12, 13, 15, 17, 18, 11, 13, 15, 1, 2, 3, 4, 5, 6, 8, 9, 10, 11, 13, 13, 17, 1, 5, 1, 5, 1, 5, 14, 15, 16, 2, 5, 15, 20, 4, 4, 1, 4, 6, 7, 9, 10, 11, 14, 7, 9, 10, 1, 2, 3, 4, 7, 10, 12, 14, 11, 2, 5, 17, 20, 1, 12, 13, 13, 19, 13, 13, 1, 2, 3, 4, 5, 6, 8, 9, 10, 11, 13, 14, 15, 17, 1, 4, 9, 10, 14, 15, 17, 17, 10, 19, 1, 2, 4, 5, 7, 8, 11, 13, 15, 18, 2, 11, 15, 6, 2, 12, 13, 14, 15, 12, 5, 18, 18, 11, 2, 3, 5, 6, 7, 8, 9, 11, 13, 3, 6, 7, 8, 9, 11, 13, 4, 5, 8, 12, 15, 1, 2, 8, 13, 16, 5, 1, 2, 3, 4, 5, 6, 8, 10, 11, 12, 13, 14, 15, 20, 4, 6, 7, 11, 12, 5, 3, 5, 6, 12, 12, 1, 2, 3, 4, 5, 6, 8, 9, 10, 11, 13, 14, 17, 18, 3, 10, 8, 8, 13, 1, 18, 1, 6, 7, 8, 11, 15, 16, 17, 1, 5, 5, 11, 5, 17, 11, 8, 1, 2, 3, 4, 5, 6, 8, 9, 10, 11, 12, 13, 14, 18, 2, 5, 10, 14, 17, 3, 4, 5, 7, 8, 9, 12, 14, 16, 17, 5, 10, 14, 4, 10, 14, 2, 3, 4, 6, 8, 10, 11, 12, 13, 14, 4, 1, 2, 3, 4, 6, 7, 8, 9, 10, 12, 15, 17, 16, 3, 6, 10, 3, 4, 6, 7, 8, 11, 12, 16, 18, 19, 6, 7, 9, 13, 1, 20, 1, 4, 5, 10, 14, 17, 2, 7, 9, 8, 14, 6, 7, 9, 11, 12, 17, 7, 12, 1, 2, 3, 4, 5, 6, 8, 9, 10, 11, 12, 13, 14, 7, 6, 6, 5, 5, 6, 7, 9, 10, 12, 14, 15, 18, 7, 9, 12, 14, 15, 2, 3, 4, 6, 9, 11, 12, 13, 19, 1, 2, 8, 17, 11, 14, 6, 11, 1, 4, 7, 8, 11, 13, 16, 18, 2, 4, 5, 14, 18, 2, 13, 3, 6, 7, 9, 10, 11, 3, 12, 2, 3, 5, 8, 11, 12, 14, 16, 17, 5, 14, 1, 1, 2, 3, 4, 5, 6, 8, 9, 10, 11, 12, 13, 1, 2, 3, 4, 5, 7, 9, 10, 14, 15, 3, 7, 9, 11, 12, 12, 1, 3, 6, 8, 10, 11, 13, 12, 12, 20, 17, 1, 5, 8, 16, 12, 1, 1, 4, 6, 7, 10, 13, 15, 18, 1, 2, 5, 6, 7, 8, 9, 10, 13, 14, 15, 1, 18, 1, 2, 3, 4, 5, 9, 10, 11, 13, 14, 16, 17, 18, 1, 3, 4, 5, 6, 10, 11, 12, 13, 14, 3, 4, 5, 8, 11, 12, 13, 16, 9, 9, 3, 15, 16, 14, 15, 4, 18, 10, 1, 2, 3, 4, 6, 7, 8, 10, 13, 14, 16, 18, 4, 1, 2, 3, 4, 5, 6, 8, 9, 10, 11, 12, 13, 14, 15, 18, 4, 2, 11, 15, 3, 9, 10, 20, 3, 18, 1, 2, 4, 5, 8, 10, 13, 14, 16, 1, 2, 3, 4, 5, 6, 7, 8, 9, 10, 11, 12, 14, 17, 1, 13, 7, 16, 5, 7, 6, 9, 6, 1, 2, 3, 4, 5, 6, 8, 9, 10, 11, 12, 13, 14, 2, 2, 15, 6, 6, 7, 2, 6, 13, 2, 5, 14, 14, 1, 2, 3, 4, 6, 7, 9, 10, 11, 12, 1, 3, 6, 7, 9, 10, 11, 12, 1, 2, 3, 4, 5, 6, 8, 9, 10, 11, 12, 13, 17, 18, 4, 12, 14, 15, 7, 9, 11, 14, 15, 11, 15, 4, 15, 16, 19, 19, 2, 4, 8, 12, 8, 2, 5, 15, 3, 7, 10, 11, 12, 18, 10, 12, 13, 18, 17, 14, 5, 14, 16, 1, 5, 1, 2, 3, 5, 6, 7, 8, 9, 11, 12, 13, 1, 18, 1, 2, 1, 3, 4, 5, 6, 18, 1, 2, 3, 4, 5, 6, 8, 10, 11, 12, 13, 1, 2, 3, 4, 5, 6, 8, 11, 12, 13, 1, 2, 3, 4, 5, 6, 8, 10, 11, 12, 13, 14, 18, 1, 2, 3, 4, 5, 6, 7, 8, 10, 11, 12, 14, 15, 20, 11, 1, 2, 3, 4, 5, 6, 7, 8, 9, 10, 11, 12, 13, 14, 16, 17, 13, 13, 5, 7, 8, 9, 12, 16, 17, 19, 19, 4, 15, 17, 1, 2, 4, 5, 6, 8, 10, 11, 12, 15, 16, 7, 8, 12, 13, 16, 18, 13, 15, 11, 13, 8, 1, 2, 3, 4, 14, 15, 2, 1, 2, 3, 4, 5, 6, 8, 9, 10, 11, 14, 1, 5, 11, 14, 2, 3, 6, 12, 6, 7, 11, 13, 18, 14, 15, 5, 15, 15, 5, 15, 1, 2, 3, 4, 5, 6, 8, 10, 12, 13, 18, 7, 3, 3, 6, 1, 11, 15, 16, 4, 1, 6, 8, 9, 11, 12, 14, 15, 16, 17, 18, 20, 6, 4, 5, 7, 14, 1, 2, 3, 4, 5, 6, 7, 8, 10, 12, 14, 15, 16, 18, 6, 7, 9, 11, 16, 3, 16, 6, 3, 11, 16, 1, 2, 3, 4, 5, 6, 7, 8, 9, 10, 11, 12, 13, 14, 15, 17, 1, 2, 3, 7, 9, 13, 14, 15, 2, 3, 4, 6, 7, 9, 10, 1, 2, 3, 4, 6, 7, 9, 10, 11, 12, 14, 3, 4, 13, 4, 11, 12, 13, 12, 1, 3, 6, 7, 9, 10, 11, 13, 18, 6, 8, 3, 6, 7, 10, 7, 5, 14, 15, 18, 3, 4, 5, 7, 11, 13, 14, 16, 18, 20, 3, 9, 12, 7, 3, 3, 3, 12, 11, 10, 6, 1, 4, 15, 18, 1, 2, 3, 4, 5, 6, 7, 8, 9, 10, 11, 12, 13, 14, 17, 16, 3, 4, 7, 8, 12, 13, 14, 18, 20, 1, 2, 4, 5, 11, 12, 14, 15, 4, 12, 15, 4, 14, 15, 15, 1, 2, 3, 4, 5, 6, 7, 8, 12, 16, 17, 1, 2, 8, 12, 13, 4, 1, 2, 3, 4, 5, 6, 7, 8, 9, 10, 11, 12, 13, 14, 15, 2, 4, 5, 6, 8, 11, 12, 13, 15, 13, 16, 1, 2, 3, 4, 5, 6, 7, 8, 10, 12, 13, 18, 9, 9, 9, 18, 3, 5, 6, 9, 13, 6, 9, 1, 16, 8, 3, 7, 11, 12, 10, 11, 12, 19, 19, 1, 4, 5, 13, 17, 19, 20, 1, 2, 4, 5, 13, 14, 15, 7, 1, 2, 3, 4, 5, 6, 7, 9, 10, 11, 12, 13, 14, 1, 2, 3, 4, 5, 6, 7, 8, 9, 10, 11, 12, 14, 15, 16, 17, 18, 1, 5, 1, 2, 3, 4, 5, 6, 8, 9, 10, 11, 12, 13, 14, 15, 17, 18, 20, 1, 2, 3, 4, 5, 6, 8, 10, 11, 12, 13, 14, 15, 16, 17, 18, 20, 1, 2, 3, 4, 5, 6, 8, 9, 10, 11, 12, 14, 7, 19, 19, 9, 6, 17, 9, 9, 15, 13, 20, 14, 1, 2, 3, 4, 5, 6, 7, 8, 9, 11, 12, 15, 18, 1, 2, 3, 4, 5, 8, 10, 11, 12, 13, 14, 15, 18, 13, 17, 15, 16, 14, 19], \"Freq\": [0.9817019623146126, 0.9526433313745405, 0.009072793632138481, 0.036291174528553925, 0.9920052881599339, 0.08835491470778518, 0.031649521686370814, 0.23077776229645383, 0.16747871892371222, 0.26770220426388647, 0.06989269372406888, 0.13451046716707596, 0.009231110491858154, 0.2962997984891727, 0.07797363118136123, 0.6237890494508899, 0.9852397688676147, 0.9768935419218405, 0.07358548263785793, 0.03444426846878456, 0.2176251507800479, 0.5323205126993977, 0.003131297133525869, 0.08924196830548728, 0.015656485667629345, 0.02035343136791815, 0.012525188534103476, 0.10833004146116007, 0.8846953385994739, 0.020366275265147313, 0.5244315880775433, 0.45314962464952774, 0.024222167965293005, 0.10173310545423063, 0.012111083982646502, 0.7872204588720227, 0.019377734372234404, 0.03875546874446881, 0.0024222167965293005, 0.012111083982646502, 0.9836422605727287, 0.020164952610934008, 0.18148457349840608, 0.040329905221868016, 0.7259382939936243, 0.9973971941723446, 0.7515654995027126, 0.08333257630469407, 0.03930781901164815, 0.0015723127604659259, 0.040880131772114074, 0.03773550625118222, 0.01572312760465926, 0.028301629688386665, 0.9747074171910994, 0.9764757616286568, 0.9361290124862469, 0.9055253992174088, 0.0573117341276841, 0.02292469365107364, 0.15014934064890081, 0.07660680645352082, 0.015321361290704164, 0.750746703244504, 0.0061285445162816655, 0.9865190942056575, 0.9915290555486134, 0.2358884640573659, 0.7573261214473326, 0.15326057035818416, 0.11698149814779274, 0.12438539043562773, 0.051580449605250385, 0.07305173723997184, 0.10513527048725677, 0.1275937437603562, 0.050840060376466885, 0.03331751529525743, 0.03233032965687943, 0.05355482088200638, 0.03726625784876942, 0.008144281516618482, 0.02270526968269395, 0.007897485107023983, 0.0024679640959449946, 0.9121723943477245, 0.0840158784267641, 0.04296852110885667, 0.03742419580448807, 0.49621711474098995, 0.09979785547863484, 0.08039271691334474, 0.03881027713058022, 0.09148136752208194, 0.030493789174027314, 0.03742419580448807, 0.031879870500119464, 0.013860813260921506, 0.10044192935285594, 0.3300234821593838, 0.07174423525203996, 0.3336106939219858, 0.010761635287805993, 0.15425010579188592, 0.9875569207246004, 0.8621465691866036, 0.024632759119617247, 0.11084741603827761, 0.9827957633879464, 0.9652998395940235, 0.9768400350503152, 0.02907922636848286, 0.3101784145971505, 0.3295645655094724, 0.31987149005331145, 0.9258867619059857, 0.06277198385803293, 0.984232586616966, 0.9032115282624408, 0.06433835543787249, 0.02969462558671038, 0.09458806131966477, 0.16149181200918375, 0.20993935561193885, 0.07382482834705542, 0.01153512942922741, 0.3183695722466765, 0.12688642372150152, 0.15790887597718248, 0.1525256188415967, 0.1453479426608157, 0.003140233329091697, 0.01390674760026323, 0.4100247518271159, 0.0004486047612988139, 0.045757685652479015, 0.016598376168056112, 0.04082303327819206, 0.0013458142838964416, 0.003588838090390511, 0.007626280942079836, 0.03449083004130529, 0.9082585244210394, 0.05173624506195794, 0.24162758864812459, 0.07550862145253893, 0.08305948359779282, 0.0566314660894042, 0.0641823282346581, 0.13969094968719703, 0.015101724290507787, 0.09061034574304672, 0.08305948359779282, 0.018877155363134734, 0.1283646564693162, 0.023080365567891895, 0.9479435858241314, 0.023080365567891895, 0.0032971950811274135, 0.13327667068405852, 0.011294633108818519, 0.07454457851820222, 0.07906243176172963, 0.6415351605808919, 0.029366046082928147, 0.011294633108818519, 0.020330339595873333, 0.022414405873202873, 0.22974766020032947, 0.016810804404902156, 0.6640267739936352, 0.044828811746405746, 0.019612605139052514, 0.984460608483976, 0.41196746275927276, 0.0031568387950902123, 0.1262735518036085, 0.15310668156187532, 0.03946048493862766, 0.028411549155811913, 0.1294303905986987, 0.06787203409443957, 0.018941032770541277, 0.006313677590180425, 0.014205774577905957, 0.9971693566051029, 0.9934614846049357, 0.948851847726695, 0.03247021532144584, 0.018039008511914353, 0.8782191791675611, 0.1170958905556748, 0.9884907845979103, 0.9838886057299396, 0.9598557916727096, 0.009617793503734566, 0.028853380511203695, 0.945128576319455, 0.04888596084410974, 0.298445042065049, 0.6963717648184478, 0.7805144996116955, 0.21792583058465162, 0.7840264049487603, 0.21489374696668376, 0.9713263650626107, 0.07010641810658878, 0.7169974579082944, 0.015933276842406544, 0.050986485895700935, 0.14339949158165888, 0.2663035855889583, 0.20115092688192096, 0.051394694368415345, 0.018502089972629525, 0.000474412563400757, 0.08871514935594156, 0.04759939386120929, 0.00031627504226717135, 0.02008346518396538, 0.05171096941068251, 0.036055354818457536, 0.07590601014412111, 0.03479025464938885, 0.02593455346590805, 0.017078852282427254, 0.00948825126801514, 0.0474412563400757, 0.006799913408744184, 0.22645333194139405, 0.08185060190652797, 0.04365365435014825, 0.08457895530341224, 0.049110361143916786, 0.4801901978516308, 0.030011887365726925, 0.983796069888638, 0.992720149845066, 0.9877393136986773, 0.9950948574677034, 0.9970276672575943, 0.9968883294460251, 0.1466754727274534, 0.831161012122236, 0.01989250923231173, 0.05470440038885726, 0.13427443731810418, 0.149193819242338, 0.6415334227420533, 0.6940368524654885, 0.13880737049309771, 0.1655010955879242, 0.9750797427890509, 0.9651313203069433, 0.005337616723551121, 0.10274912192835907, 0.02335207316553615, 0.08540186757681793, 0.5437697037117705, 0.006672020904438901, 0.121430780460788, 0.09073948430036906, 0.012009637627990021, 0.008673627175770571, 0.9885189386773331, 0.9939505238167043, 0.9932424255429342, 0.9825269463537296, 0.6328672145064937, 0.35159289694805207, 0.9854403999169141, 0.06388409729771868, 0.3668011919844015, 0.07825801918970539, 0.03194204864885934, 0.07186960945993352, 0.05749568756794682, 0.1362860742351332, 0.004791307297328902, 0.015438656846948682, 0.06920777207252858, 0.019165229189315607, 0.05589858513550385, 0.02129469909923956, 0.006920777207252858, 0.028162507625727824, 0.05632501525145565, 0.8307939749589708, 0.03520313453215978, 0.04928438834502369, 0.9825888613746321, 0.9954609450223463, 0.9742142777249724, 0.7826731463010327, 0.045703541389841326, 0.1313976814957938, 0.034277656042381, 0.019734433598114522, 0.9754448607068036, 0.3055356958073863, 0.1743181712756875, 0.05555194469225206, 0.03352272524532452, 0.2739285548617946, 0.011493505798396978, 0.08811687778771017, 0.009577921498664148, 0.012451297948263393, 0.020113635147194713, 0.013409090098129808, 0.0019155842997328296, 0.0019155842997328296, 0.01993528227788885, 0.9768288316165537, 0.9718054824169959, 0.09194153407634116, 0.8887681627379646, 0.08756774818410593, 0.8756774818410593, 0.032837905569039726, 0.9880518680570977, 0.9156468450731551, 0.08291290329402586, 0.9215422480714297, 0.0748460709093547, 0.7155259874017004, 0.08100294197000381, 0.025380921817267862, 0.046441686729468856, 0.03888141214560183, 0.0340212356274016, 0.02646096104353458, 0.005400196131333588, 0.02214080413846771, 0.004860176518200229, 0.20457377012341854, 0.11619790143010174, 0.12274426207405113, 0.008182950804936742, 0.010637836046417765, 0.07037337692245597, 0.01391101636839246, 0.22421285205526673, 0.04664281958813943, 0.17020537674268424, 0.010637836046417765, 0.9736483002859904, 0.22770825273526366, 0.25122160491988327, 0.17820645866238027, 0.008044041536843554, 0.058783380461549045, 0.1788252310882913, 0.0037126345554662553, 0.006187724259110426, 0.04640793194332819, 0.019800717629153364, 0.009900358814576682, 0.0006187724259110426, 0.0074252691109325105, 0.004331406981377298, 0.9823025778430564, 0.36003844747666597, 0.6387292959418677, 0.11283292917556277, 0.8827517400205793, 0.07133051522309743, 0.24965680328084097, 0.07133051522309743, 0.17832628805774356, 0.026748943208661533, 0.3923178337270358, 0.9978364076543742, 0.9913913452007637, 0.149744908716948, 0.5712490962165054, 0.025881836074534224, 0.04436886184205867, 0.11277085718189912, 0.018487025767524447, 0.016638323190772002, 0.02403313349778178, 0.016638323190772002, 0.020335728344276893, 0.9412579339187945, 0.9634570485335479, 0.27398723023081384, 0.7228599265664024, 0.9471930504873936, 0.3987071628922071, 0.16454581325710133, 0.08227290662855066, 0.2658047752614714, 0.08227290662855066, 0.9880518680570977, 0.9843857699136692, 0.975284036521789, 0.07241094615386245, 0.9232395634617463, 0.9865341626261668, 0.9539618391779889, 0.06875327691085874, 0.07562860460194462, 0.8525406336946484, 0.9912331481572026, 0.9866731124706732, 0.033244568522855046, 0.8726699237249449, 0.06233356598035321, 0.024933426392141283, 0.16961317303316947, 0.03140984685799435, 0.047114770286991514, 0.2764066523503502, 0.015704923428997174, 0.4460198253835197, 0.009422954057398304, 0.9841170540680123, 0.9801982590960018, 0.21635675582253422, 0.7800230407286102, 0.04648403794066987, 0.945175438126954, 0.9524114021822463, 0.9924345040164657, 0.9876271060758037, 0.10014254100459416, 0.11015679510505358, 0.05007127050229708, 0.23032784431056658, 0.5007127050229708, 0.9916271045163668, 0.05664943241880976, 0.1972962991137857, 0.025394573153259544, 0.0488357176024222, 0.019534287040968882, 0.48640374732012515, 0.0488357176024222, 0.0976714352048444, 0.017580858336871993, 0.9674525947784135, 0.959006190353187, 0.057745413638650864, 0.9239266182184138, 0.9552808966829975, 0.987078860229947, 0.8766622460352438, 0.11535029553095313, 0.9724648657541352, 0.982810280645766, 0.9878530312428131, 0.9470140934187047, 0.049470885477096514, 0.9547741377119311, 0.014204227961756096, 0.01775528495219512, 0.8948663615906342, 0.042612683885268295, 0.028408455923512193, 0.95341330710577, 0.028460098719575222, 0.9869058791455863, 0.9903089304542066, 0.9813087178586337, 0.0076070443244855325, 0.9721456746896702, 0.03047322223185677, 0.14656168787702542, 0.026119904770162947, 0.021766587308469122, 0.41791847632260715, 0.10447961908065179, 0.1422083704153316, 0.05659312700201972, 0.017413269846775298, 0.023217693129033733, 0.013059952385081473, 0.9952015513339993, 0.9706829379618536, 0.11562825293047295, 0.8672118969785472, 0.9650426640563461, 0.980916196007671, 0.890916298428212, 0.10598260799146016, 0.00331195649973313, 0.8212657605798147, 0.06174930530675298, 0.04631197898006474, 0.06792423583742828, 0.1733980365768983, 0.5821219799367301, 0.17587515138513973, 0.019816918465931237, 0.04706518135658669, 0.01302960284749602, 0.9837350149859496, 0.3204984210646337, 0.4732748704840446, 0.02989104445162387, 0.03653349877420695, 0.014945522225811934, 0.041515339516144265, 0.023248590129040788, 0.008303067903228854, 0.014945522225811934, 0.03487288519356118, 0.8540857427456231, 0.13310427159672047, 0.9823812131679414, 0.13017645830676472, 0.3031741200039126, 0.11818652135745744, 0.17984905423960915, 0.02911841830546053, 0.18670044678207046, 0.05138544406845976, 0.9897809760162055, 0.9381860324758008, 0.044675525355990515, 0.9974474547622174, 0.9835239991467177, 0.039287440527048564, 0.12239548779580514, 0.14052815265444293, 0.04986482836125395, 0.015110554048864832, 0.06799749321989175, 0.04079849593193505, 0.33847641069457224, 0.016621609453751317, 0.12995076482023757, 0.022665831073297248, 0.007555277024432416, 0.007555277024432416, 0.1762545322069292, 0.035250906441385836, 0.7191184914042711, 0.0634516315944945, 0.3007064821187958, 0.09700209100606318, 0.1907707789785909, 0.14226973347555932, 0.05496785157010246, 0.09700209100606318, 0.11640250920727581, 0.0861808894199869, 0.065330674237732, 0.19460200836771235, 0.37808390197155545, 0.015290157800320257, 0.04448045905547711, 0.17097176449449014, 0.008340086072901959, 0.018070186491287575, 0.018070186491287575, 0.2187352731575031, 0.10049999036966359, 0.6467469968494822, 0.033105879180595064, 0.9795995893215668, 0.9928639576516842, 0.0020505856686148104, 0.9965846349467979, 0.4854009313052669, 0.4891931260810893, 0.02148910372966025, 0.002528129850548265, 0.8778557298407476, 0.11893529243003677, 0.002831792676905637, 0.437982424641573, 0.5611100138982401, 0.9865256112043145, 0.09637866011608985, 0.8933560418452944, 0.009267178857316332, 0.9616715545860858, 0.9455568337007333, 0.9859336648248259, 0.9763582162530766, 0.995008771752212, 0.9923067747145163, 0.6604286082549885, 0.027517858677291188, 0.3082000171856613, 0.03211520848022844, 0.021410138986818962, 0.9420461154200344, 0.9902806946341611, 0.9750914840173379, 0.07205424387114454, 0.9206931161312912, 0.8675921132384947, 0.02577006276946024, 0.027488066954090923, 0.02577006276946024, 0.006872016738522731, 0.042950104615767065, 0.0017180041846306827, 0.9889935868478004, 0.015440974819761854, 0.030881949639523707, 0.9573404388252349, 0.9932261953212206, 0.9473014207963179, 0.1702997712796809, 0.03845478706315375, 0.7910699052991629, 0.06300012231520373, 0.9360018172544553, 0.7822906354245345, 0.21548125287142866, 0.9980337709866688, 0.6045790317516704, 0.17331265576881216, 0.10479369883695619, 0.004030526878344469, 0.11285475259364514, 0.9571809541193228, 0.924647543863326, 0.07205045796337606, 0.954241914298902, 0.979799918331494, 0.9926174612769924, 0.9867286997529591, 0.07157998867525031, 0.09911075355034657, 0.01927153541256739, 0.2753076487509627, 0.41158493488268927, 0.06332075921272143, 0.017894997168812578, 0.04129614731264441, 0.9882997348903052, 0.9926065676459744, 0.003235414572446354, 0.4367809672802578, 0.42707472356291876, 0.03397185301068672, 0.006470829144892708, 0.09382702260094426, 0.9860444224388566, 0.0772334862644814, 0.26259385329923673, 0.6487612846216437, 0.29493800757108246, 0.17179378791511507, 0.061572109827983716, 0.05473076429154108, 0.20904111361352495, 0.037247325698409904, 0.062332259332032895, 0.00912179404859018, 0.08057584742921325, 0.0015202990080983633, 0.006081196032393453, 0.009881943552639362, 0.979454840602463, 0.9865297109076161, 0.029508988903673764, 0.07588025718087539, 0.050586838120583594, 0.09695810639778522, 0.7461558622786081, 0.00817066369124899, 0.14434839187873214, 0.558328685568681, 0.20971370140872406, 0.029959100201246296, 0.049023982147493934, 0.9845554716929752, 0.9723728381290118, 0.010685415803615515, 0.8111627258440869, 0.026450958451437617, 0.08816986150479206, 0.06171890305335444, 0.06165047625548263, 0.9316071967495153, 0.7676581350578918, 0.22618498622241456, 0.9778953508143873, 0.013581879872422044, 0.005383969214649596, 0.20136044862789487, 0.24873937771681132, 0.3047326575491671, 0.12706167346573047, 0.10875617813592184, 0.0021535876858598383, 0.9609850255689545, 0.026328356864902862, 0.9246395902372793, 0.07044873068474508, 0.004403045667796568, 0.9856257811281608, 0.07914073921327024, 0.20067830300507808, 0.028264549719025082, 0.6924814681161146, 0.9834929232070034, 0.9590050502600943, 0.9775798006812679, 0.015643171150128993, 0.8259594367268109, 0.13453127189110936, 0.006257268460051598, 0.015643171150128993, 0.9642106424584576, 0.9814649607548676, 0.012801716879411316, 0.025764026200880443, 0.023782178031581946, 0.0455825078938654, 0.007927392677193983, 0.029727722539477433, 0.6817557702386825, 0.015854785354387967, 0.015854785354387967, 0.06936468592544735, 0.029727722539477433, 0.043600659724566906, 0.011891089015790973, 0.0704655821853033, 0.7868656677358868, 0.09982624142917967, 0.0234885273951011, 0.005872131848775275, 0.8779531993040601, 0.030405305603603817, 0.09121591681081144, 0.9962913399393083, 0.028658333448671774, 0.062093055805455516, 0.15045625060552684, 0.41554583500574077, 0.08358680589195934, 0.034628819583811726, 0.026270138994615794, 0.020299652859475843, 0.04179340294597967, 0.05373437521625958, 0.01910555563244785, 0.050152083535175605, 0.013135069497307897, 0.06729275279559087, 0.930883080339007, 0.9738446372248817, 0.01392203703112319, 0.06961018515561596, 0.1531424073423551, 0.1531424073423551, 0.5986475923382972, 0.9865595944357037, 0.9162746204572186, 0.07186467611429166, 0.07161415778354771, 0.0661053764155825, 0.12119319009523459, 0.41866738396535585, 0.04407025094372167, 0.016526344103895627, 0.2589127242943648, 0.9815916113013896, 0.9721163256124604, 0.08112096689173018, 0.05408064459448678, 0.06760080574310848, 0.17576209493208206, 0.02704032229724339, 0.5678467682421112, 0.1169724104553603, 0.2956802597621608, 0.10884932639596027, 0.0016246168118800041, 0.01624616811880004, 0.053612354792040136, 0.18195708293056048, 0.1982032510493605, 0.017870784930680048, 0.006498467247520017, 0.19798596775726784, 0.2125483159334675, 0.16142517871914952, 0.0371804634285949, 0.07869864759052587, 0.13322999395246507, 0.04461655611431388, 0.05577069514289235, 0.013942673785723088, 0.017350882933344285, 0.0034082091476211993, 0.023857464033348395, 0.011773813419055052, 0.008055767076195562, 0.9892443535186999, 0.15899760735582558, 0.06285951918718685, 0.21446188899157867, 0.15160236980439182, 0.40673806532885615, 0.13018766791852973, 0.13380399202737778, 0.3959874899188613, 0.0036163241088480484, 0.010848972326544144, 0.005424486163272072, 0.224212094748579, 0.08317545450350511, 0.0036163241088480484, 0.009040810272120121, 0.08697879706147589, 0.2849305420979383, 0.047988301827021185, 0.026993419777699416, 0.017995613185132944, 0.05098757069121001, 0.02999268864188824, 0.11997075456755296, 0.023994150913510592, 0.047988301827021185, 0.0629846461479653, 0.017995613185132944, 0.17995613185132944, 0.9830448896126461, 0.03769905760996496, 0.8595385135072011, 0.055291951161281945, 0.04775213963928895, 0.9120691101058186, 0.06514779357898705, 0.021715931192995683, 0.7726334072390544, 0.09089804791047698, 0.07726334072390544, 0.05453882874628619, 0.9711859227908498, 0.995077862246275, 0.9799751058760986, 0.9975343354311386, 0.9890248257332713, 0.9935956716671647, 0.9918483700110066, 0.9803148801228978, 0.9890075695769274, 0.9691303176755658, 0.9900444578288988, 0.07483491793155413, 0.015948425132954157, 0.339824135525254, 0.08832973919789995, 0.013494821266345824, 0.03803085993242914, 0.09201014499781245, 0.028216444465995815, 0.13126780686354575, 0.04784527539886247, 0.013494821266345824, 0.09323694693111662, 0.02085563286617082, 0.9869965580376189, 0.980325710672194, 0.09826530195693987, 0.8218552527307699, 0.08039888341931445, 0.010389231735442126, 0.9765877831315599, 0.2531986117406958, 0.741510220097752, 0.1890738690919187, 0.3835498487293208, 0.11884643200063462, 0.016206331636450175, 0.2917139694561031, 0.9442349515574697, 0.3274937315434023, 0.3430886711407072, 0.02977215741303657, 0.17225319646114018, 0.09853166381933533, 0.028354435631463403, 0.1877059457935204, 0.030771466523527934, 0.033848613175880726, 0.10462298617999498, 0.0492343464376447, 0.30463751858292654, 0.10770013283234778, 0.17847450583646202, 0.12049427196699797, 0.06762433630800906, 0.009836267099346773, 0.08852640389412095, 0.14139633955310985, 0.06762433630800906, 0.08237873695702921, 0.06270620275833567, 0.015983934036438507, 0.08729687050670261, 0.022131600973530237, 0.02459066774836693, 0.052869935658988905, 0.08729687050670261, 0.023361134360948586, 0.04672226872189717, 0.9879991669185079, 0.9781887074641834, 0.2009273657889758, 0.07534776217086593, 0.06278980180905494, 0.13813756397992086, 0.5148763748342505, 0.08879310289636101, 0.10017683403692013, 0.05236516324657188, 0.08879310289636101, 0.5555260796592842, 0.015937223596782745, 0.07057913307146645, 0.018213969824894566, 0.0045534924562236415, 0.0022767462281118207, 0.9899645883329449, 0.08530196054590135, 0.010662745068237669, 0.901001958266083, 0.9878856852262573, 0.9761777504822381, 0.9909693302311022, 0.9783531589105594, 0.9890747746256137, 0.9883708852023722, 0.04350810425245314, 0.6066963426314299, 0.0024171169029140634, 0.29972249596134387, 0.04350810425245314, 0.9613685757213497, 0.9919254847481013, 0.8878450535552757, 0.024662362598757658, 0.049324725197515316, 0.036993543898136486, 0.9826316402899787, 0.006389947716847392, 0.5623153990825704, 0.1661386406380322, 0.0702894248853213, 0.03194973858423696, 0.15016377134591372, 0.009584921575271087, 0.9847097017407319, 0.964196819408919, 0.20772008585355878, 0.7871497990240123, 0.9828617007750139, 0.997421530027003, 0.006356087526913456, 0.06673891903259128, 0.07627305032296147, 0.01589021881728364, 0.27648980742073537, 0.1811484945170335, 0.3527628577436968, 0.019068262580740368, 0.9932476694120566, 0.9956339763899522, 0.26338019484604874, 0.7281687739861348, 0.9892887766859906, 0.40364072850932614, 0.1658565676893667, 0.219167607303806, 0.02284758840618827, 0.030463451208251027, 0.06854276521856481, 0.002538620934020919, 0.031309658186258, 0.036386900054299835, 0.005923448846048811, 0.002538620934020919, 0.010154483736083676, 0.05517587338119792, 0.13104269928034507, 0.8069471482000197, 0.9847882484633428, 0.3922910990388772, 0.571380513817495, 0.03126958035817137, 0.8992599761828837, 0.02206772947688058, 0.03310159421532087, 0.04413545895376116, 0.9343472295545818, 0.061565515125689495, 0.2104614054494915, 0.014202916932174271, 0.056811667728697085, 0.7178928922080814, 0.04288562179689274, 0.11150261667192113, 0.844846749398787, 0.31175252869435705, 0.021218758497521684, 0.15506015825112, 0.0016322121921170526, 0.5092502039405205, 0.020660939654570692, 0.013773959769713795, 0.7920026867585432, 0.03443489942428449, 0.13773959769713795, 0.06886442389859077, 0.11677011008891479, 0.7425381359500223, 0.026946948482057257, 0.04491158080342876, 0.9945961899536683, 0.9966678248286066, 0.9512703502642618, 0.0980789976101714, 0.1961579952203428, 0.6865529832711998, 0.9718205083457235, 0.02591521355588596, 0.0015244243268168211, 0.022750858013317662, 0.684421645233973, 0.11565019490103146, 0.17063143509988246, 0.0056877145033294154, 0.06601609039862369, 0.7041716309186526, 0.16724076234318, 0.0638155540520029, 0.997880122499505, 0.10301486906909983, 0.1562984220358756, 0.23799986991826513, 0.04262684237342062, 0.31970131780065464, 0.138537237713617, 0.9657433939088264, 0.03341672643283136, 0.9515835272564503, 0.9760008986479232, 0.9863338476516382, 0.9925060708691763, 0.27068723108344794, 0.14783687236096005, 0.5809364420944767, 0.9895149288142657, 0.9570763410683771, 0.03611608834220291, 0.17404909178329145, 0.09669393987960635, 0.715535155109087, 0.08146259003431508, 0.7215257974467907, 0.023275025724090022, 0.05430839335621005, 0.042670880494165044, 0.038791709540150036, 0.007758341908030008, 0.023275025724090022, 0.03966280527339943, 0.9122445212881869, 0.9258016723376095, 0.06291856025595405, 0.9858129715398273, 0.8238515973000411, 0.16796974313884333, 0.990214602280646, 0.007681447980786094, 0.32134057386288495, 0.4775300161388688, 0.12418340902270851, 0.06145158384628875, 0.005120965320524063, 0.0012802413301310157, 0.9351455669279718, 0.9410609660637705, 0.9762594684102133, 0.9927587048042326, 0.9981086376919125, 0.08198171830111631, 0.08198171830111631, 0.03153143011581396, 0.08198171830111631, 0.7189166066405583, 0.18839429794742746, 0.8085255286910429, 0.04021643707254295, 0.6743987139857203, 0.04949715332005286, 0.23511147827025108, 0.25564322816185786, 0.4291758830399402, 0.13205411785844315, 0.0016930015110056813, 0.014390512843548291, 0.01269751133254261, 0.022009019643073856, 0.0042325037775142035, 0.005925505288519884, 0.020316018132068177, 0.03555303173111931, 0.05163654608567328, 0.010158009066034089, 0.0042325037775142035, 0.9957631289495222, 0.011942433338848443, 0.9758674099744727, 0.011942433338848443, 0.957858363408111, 0.9771240749840225, 0.9845950097766414, 0.9966852787082924, 0.9793466559443131, 0.9908943144415217, 0.9916649219793798, 0.9940809168772122, 0.9872222924762413, 0.9820658917251154, 0.33340655573237843, 0.22348502990998553, 0.10429301395799324, 0.027149292522398245, 0.10296865822519334, 0.03211562652039792, 0.06390016410759586, 0.0013243557327999142, 0.049663339979996786, 0.033108893319997855, 0.00231762253239985, 0.009932667995999357, 0.008608312263199443, 0.0046352450647997, 0.00231762253239985, 0.9170369201018536, 0.0282372072172125, 0.021514062641685712, 0.005378515660421428, 0.001344628915105357, 0.02689257830210714, 0.16595496770377138, 0.016934180377935853, 0.1625681316281842, 0.20998383668640458, 0.4402886898263322, 0.8526245226778922, 0.049547187758521585, 0.006193398469815198, 0.05367612007173171, 0.026838060035865856, 0.008257864626420263, 0.9372661422008036, 0.012132895044670597, 0.018199342567005897, 0.033365461372844143, 0.97277098957491, 0.03888054139996242, 0.7422648812720098, 0.21561027503615524, 0.9756563803539697, 0.49105514874682854, 0.09619405757441823, 0.05197582143133889, 0.08300616258437703, 0.12101833049684875, 0.007757585288259535, 0.01086061940356335, 0.05895764819077247, 0.012412136461215256, 0.012412136461215256, 0.05120006290251293, 0.004654551172955721, 0.5668812498869913, 0.43278030905350945, 0.07699828034994433, 0.8469810838493875, 0.051332186899962884, 0.9912083830594833, 0.9974361060738034, 0.9418098281782251, 0.0040894925452561615, 0.10223731363140405, 0.2883092244405594, 0.0020447462726280808, 0.0040894925452561615, 0.3210251648026087, 0.03885017917993354, 0.0020447462726280808, 0.2351458213522293, 0.9969579561901428, 0.7934968300832349, 0.1963291125979138, 0.005453586461053161, 0.9701768767496841, 0.969123568942888, 0.0011696109869210722, 0.06549821526758004, 0.1491254008324367, 0.7561535030444732, 0.028070663686105734, 0.9931403108108964, 0.2474547351375223, 0.21771768542142522, 0.4545520456603414, 0.05310187449303054, 0.02655093724651527, 0.04292884973781838, 0.08824263557218222, 0.11209199653763688, 0.10016731605490956, 0.011924680482727327, 0.03338910535163652, 0.019079488772363724, 0.5914641519432755, 0.9088216884445035, 0.08701484251064395, 0.9824968246493546, 0.011380272100185575, 0.12928718709125017, 0.1376528286089193, 0.05970025992154788, 0.07529077365902216, 0.12700564849552223, 0.023956155255143417, 0.021294360226794148, 0.16845359965124657, 0.04296897688620962, 0.04791231051028683, 0.02623769385087136, 0.059320003488926555, 0.04144795115572432, 0.015590513737474287, 0.01216820584388237, 0.007605128652426481, 0.0038025643262132405, 0.9436912493819539, 0.9788938470360172, 0.021612419526037718, 0.9725588786716972, 0.9828984300139725, 0.015884192462235557, 0.9808488845430456, 0.9387466642207474, 0.9924915800394799, 0.10485980668436796, 0.0223105971668868, 0.0725094407923821, 0.02342612702523114, 0.10932192611774531, 0.0725094407923821, 0.1729071280433727, 0.02565718674191982, 0.17179159818502837, 0.03011930617529718, 0.08031814980079248, 0.02342612702523114, 0.02900377631695284, 0.0613541422089387, 0.179528445980669, 0.8165648672023977, 0.9288215143901231, 0.023415668430003103, 0.04422959592333919, 0.989818312900438, 0.9583753355042931, 0.19913226338467552, 0.7891537845244548, 0.9768085099667047, 0.9664493526310852, 0.9959786779832525, 0.9891025543972878, 0.9846193137809283, 0.03815251576313943, 0.04832651996664328, 0.020348008407007696, 0.033065513661387505, 0.11700104834029426, 0.02289150945788366, 0.04578301891576732, 0.010174004203503848, 0.1144575472894183, 0.5163307133278203, 0.020348008407007696, 0.012717505254379811, 0.98793474602892, 0.9864733828832583, 0.006625200187932018, 0.015143314715273184, 0.9739044276260067, 0.003785828678818296, 0.9985766934785311, 0.9861789951445992, 0.011467197617960456, 0.9941414755049117, 0.447476912205611, 0.5400583423171167, 0.9917821845204663, 0.9774407576176662, 0.9339914215239606, 0.9949668373502103, 0.9634300905431341, 0.13270014717164455, 0.4277210100800329, 0.10900369231956517, 0.01658751839645557, 0.15995107025153585, 0.08649206021008975, 0.03554468227811908, 0.0011848227426039693, 0.011848227426039692, 0.009478581940831754, 0.009478581940831754, 0.9840122908970533, 0.9794685824297197, 0.23278121552941225, 0.11639060776470612, 0.6285092819294131, 0.9428515338753698, 0.935920701479107, 0.99110415422393, 0.9938364933911603, 0.9755390503645924, 0.20701108771030458, 0.030897177270194715, 0.08033266090250625, 0.596315521314758, 0.03398689499721418, 0.030897177270194715, 0.018538306362116827, 0.9906185770635211, 0.1309401399561961, 0.27728500226018, 0.09022765946561413, 0.1777044756548376, 0.08692664753394533, 0.05006534763031028, 0.09022765946561413, 0.015954891003065914, 0.020906408900569128, 0.00110033731055627, 0.03521079393780064, 0.007702361173893889, 0.010453204450284564, 0.00440134924222508, 0.2702505410294793, 0.20505023567621333, 0.1789071180707975, 0.011654160860245613, 0.007559455693132289, 0.05827080430122806, 0.015118911386264578, 0.13575522515583402, 0.0009449319616415361, 0.07811437549570031, 0.005984569090396396, 0.027718004208151726, 0.004409682487660502, 0.00031497732054717873, 0.00031497732054717873, 0.9668915209126502, 0.023727399286200004, 0.009590757210899158, 0.42774777160610244, 0.38554843987814613, 0.07544729005907337, 0.09910449117929129, 0.002557535256239775, 0.01116870723696768, 0.31551597944433696, 0.591941483559287, 0.07538877384953184, 0.00558435361848384, 0.9719568156200088, 0.9963104901248324, 0.3439391713789323, 0.6551222311979663, 0.026639382574921492, 0.09767773610804548, 0.8702198307807688, 0.033892437240632636, 0.027113949792506108, 0.02033546234437958, 0.006778487448126527, 0.054227899585012215, 0.006778487448126527, 0.732076644397665, 0.09715832008981355, 0.013556974896253054, 0.004518991632084351, 0.9890034900350331, 0.3080895035889442, 0.1431526986372872, 0.04460555102466195, 0.04979224300427381, 0.13070463788621875, 0.25311056860505854, 0.007261368771456597, 0.006224030375534226, 0.006224030375534226, 0.04564288942058432, 0.0041493535836894845, 0.966811520059691, 0.9807575952354249, 0.9833155391978942, 0.016491665227637637, 0.059712678817505256, 0.07298216299917308, 0.07298216299917308, 0.29856339408752625, 0.04644319463583742, 0.42462349381337067, 0.01990422627250175, 0.9659531832745646, 0.9794657682407862, 0.9936232985927727, 0.9898113463831418, 0.9844161073170218, 0.18306425110826433, 0.13975872934071792, 0.05314768580562513, 0.0108263804418866, 0.015747462460925964, 0.038384439748507033, 0.05216346940181725, 0.4930924183077442, 0.002952649211423618, 0.009842164038078726, 0.9844168973271693, 0.37267773839852936, 0.3849831354211223, 0.1300856256674112, 0.0896536068788915, 0.021094966324445057, 0.9914417785273887, 0.028323819307649278, 0.9630098564600754, 0.20243520372024892, 0.7962451346329791, 0.9940141980273636, 0.9903826926488006, 0.08397948281294051, 0.8817845695358754, 0.9865356002717919, 0.9901643795054601, 0.061355235784087275, 0.17867184047014426, 0.101809237399969, 0.031014734572175986, 0.032363201292705375, 0.3404878469336711, 0.05191596874038154, 0.02022700080794086, 0.05663560226223441, 0.0289920344913819, 0.03573436809402885, 0.01887853408741147, 0.04180246833641111, 0.9586504742625976, 0.9728163080703909, 0.011286551747989907, 0.9819300020751219, 0.9305993467175347, 0.06707022318684935, 0.9739485885132925, 0.9918359670838811, 0.018994014608803157, 0.20133655485331345, 0.2773126132885261, 0.09212097085269531, 0.012346109495722051, 0.02564191972188426, 0.009497007304401579, 0.053183240904648835, 0.05223354017420868, 0.09971857669621657, 0.12061199276590004, 0.03703832848716616, 0.03449684341618303, 0.9659116156531248, 0.9991863540433996, 0.9649347029328829, 0.037776307795847903, 0.9444076948961976, 0.15017051176421206, 0.8317136036171746, 0.9973738419710615, 0.9855029106928026, 0.9834205813901495, 0.9939403095760925, 0.9898258697061405, 0.21998030823380116, 0.764693452431785, 0.9828363998510465, 0.8811409355443627, 0.09790454839381807, 0.9818123366597544, 0.9766431095861674, 0.6463173223666504, 0.04515190874816919, 0.005160218142647908, 0.05160218142647907, 0.04902207235515512, 0.021930927106253606, 0.01161049082095779, 0.16899714417171896, 0.9448847341283652, 0.9734392720014943, 0.9806610922079125, 0.9814056538366478, 0.019989638864085647, 0.9595026654761111, 0.25305226588109275, 0.019791797331482112, 0.011309598475132637, 0.5654799237566318, 0.13995628112976638, 0.008482198856349477, 0.2584726802256404, 0.6682464415589727, 0.012608423425640995, 0.056737905415384475, 0.9840069089075735, 0.9758354037628284, 0.9814628453757699, 0.9454433507782939, 0.032501520005375296, 0.09053994858640262, 0.02321537143241093, 0.5827058229535143, 0.044109205721580766, 0.011607685716205464, 0.21590295432142162, 0.9604422789639905, 0.9866031191986316, 0.018149769624585674, 0.023821572632268695, 0.07146471789680608, 0.27905270797800474, 0.24048444752576018, 0.31081480482102963, 0.0499118664676106, 0.005671803007683023, 0.031673533511790766, 0.003654638482129704, 0.04872851309506272, 0.03715549123498532, 0.001827319241064852, 0.08222936584791835, 0.4805849604000561, 0.09380238770799573, 0.1492310713536296, 0.020709618065401655, 0.009745702619012545, 0.01644587316958367, 0.004872851309506272, 0.018882298824336806, 0.9845469989930415, 0.9874922994979551, 0.5494120036475975, 0.44707055198775086, 0.08107946851016591, 0.08756582599097919, 0.20756343938602473, 0.035674966144473, 0.016215893702033184, 0.13621350709707872, 0.071349932288946, 0.06810675354853936, 0.2756701929345641, 0.022702251182846456, 0.8039423037044215, 0.17942059996836876, 0.017251980766189303, 0.9849943490751853, 0.9932492427923398, 0.018002089745772124, 0.10201184189270869, 0.8480984502452644, 0.010001160969873402, 0.014001625357822763, 0.008000928775898721, 0.9380661352159617, 0.053098083125431794, 0.13029159162585238, 0.8338661864054552, 0.9950116960208255, 0.9791935719123603, 0.9687190927399509, 0.031588666067607095, 0.9865966587012833, 0.9973428181032339, 0.10787684714256113, 0.21575369428512226, 0.04794526539669383, 0.023972632698346916, 0.5993158174586729, 0.9938623262881491, 0.9674846495482357, 0.015079374777914526, 0.9847991681884178, 0.9991793345767268, 0.9889576918950181, 0.9828083385368553, 0.9863594664417137, 0.9923337802097194, 0.16162216100523033, 0.03418930328956796, 0.10256790986870387, 0.2144601751800172, 0.03729742177043777, 0.09635167290696424, 0.09635167290696424, 0.0217568293660887, 0.16473027948610017, 0.0652704880982661, 0.9991531087840032, 0.38356126025224646, 0.04873982865083795, 0.5658058369466841, 0.2600089916844273, 0.7399260857885195, 0.05144150770267174, 0.9443191056847597, 0.08602884139710602, 0.0972499946228155, 0.03865063888855488, 0.04239102329712471, 0.2655672930084577, 0.02493589605713218, 0.07106730376282672, 0.1259262750885175, 0.017455127239992527, 0.04239102329712471, 0.002493589605713218, 0.009974358422852872, 0.17579806720278188, 0.8631981591766832, 0.13510927708852433, 0.9625689611618411, 0.9919790202409041, 0.19100931819369205, 0.027287045456241717, 0.7731329545935154, 0.944924172057911, 0.04784426187634992, 0.9861422386521865, 0.9660034173171352, 0.9944335214090957, 0.9945548819115254, 0.07649820562181582, 0.05354874393527108, 0.3595415664225344, 0.03059928224872633, 0.10709748787054216, 0.36719138698471593, 0.04701671868379717, 0.3585024799639534, 0.5935860733829392, 0.0037762831286523558, 0.09629521978063507, 0.8968672430549345, 0.05940148933292739, 0.8910223399939108, 0.9771927274224897, 0.9618845848698281, 0.10601985434636726, 0.8872187811090735, 0.9710348534060353, 0.9825857107430641, 0.24773267208958574, 0.20543155907954264, 0.10260731514743787, 0.04555504478004641, 0.08199908060408355, 0.21324099532755061, 0.036227107039370245, 0.00282007420066954, 0.011497225587345047, 0.03687789339337091, 0.00282007420066954, 0.0039047181240039783, 0.005206290832005305, 0.0023862166313357645, 0.0017354302773351015, 0.9629022096787662, 0.3117922001557493, 0.6275311370223309, 0.059201050662484045, 0.9807637216084332, 0.048850512610367616, 0.06513401681382348, 0.8793092269866171, 0.036787695963539674, 0.9196923990884919, 0.9518242401454982, 0.04261899582741036, 0.9709511113063899, 0.08480001535091566, 0.07659356225243996, 0.11215485901250137, 0.0547096873231714, 0.09847743718170851, 0.5553033263301896, 0.01914839056310999, 0.9871249641444305, 0.9713650463133755, 0.10986960114489754, 0.18497034116799205, 0.21139467562056233, 0.05423942335001271, 0.015298298893593328, 0.029205843342314533, 0.09039903891668784, 0.002781508889744241, 0.005563017779488482, 0.009735281114104844, 0.18357958672311991, 0.06953772224360603, 0.011126035558976965, 0.02225207111795393, 0.9917428504025967, 0.03018354230713621, 0.18346859049435735, 0.0372855522617565, 0.11540766176257963, 0.09350979773583375, 0.04438756221637678, 0.023081532352515925, 0.3047945938857872, 0.014795854072125593, 0.006510175791735261, 0.03373454728444635, 0.04024472307618161, 0.013020351583470521, 0.012428517420585499, 0.025448869004056022, 0.008877512443275356, 0.011836683257700474, 0.9854165553473986, 0.9974815762932421, 0.9888353610745139, 0.9845214472537557, 0.3279999868828247, 0.5543661750132249, 0.057746476563877595, 0.009239436250220416, 0.013859154375330623, 0.03695774500088166, 0.9776370974302864, 0.9845587200775044, 0.9942482387153655, 0.03178021258043137, 0.9556763925972577, 0.011350075921582633, 0.9913175395867414, 0.9949321056545614, 0.034305452628512714, 0.23899465331197192, 0.035448967716129806, 0.01829624140187345, 0.18639295928158575, 0.06174981473132289, 0.14065235577690213, 0.0011435150876170906, 0.010291635788553815, 0.002287030175234181, 0.18296241401873448, 0.04002302806659817, 0.028587877190427262, 0.017152726314256357, 0.14404241142404087, 0.828243865688235, 0.16170429792531632, 0.15207904209642845, 0.4408367169630647, 0.08277720012843573, 0.02887576748666363, 0.03657597214977393, 0.032725869818218775, 0.04427617681288423, 0.019250511657775752, 0.031035822393373793, 0.18621493436024275, 0.7758955598343448, 0.023795603207224816, 0.044191834527703235, 0.010198115660239208, 0.7002706086697589, 0.19716356943129135, 0.0033993718867464024, 0.020396231320478415, 0.103608204655183, 0.8806697395690556, 0.6795893118836894, 0.15538818976954882, 0.011232881188160156, 0.11326488531394824, 0.0018721468646933591, 0.02340183580866699, 0.004680367161733398, 0.009360734323466796, 0.20582742378988728, 0.2937407976042026, 0.14487668298125828, 0.013291438805620026, 0.03854517253629808, 0.13025610029507625, 0.008544496375041446, 0.06000135232251326, 0.010063517952826591, 0.015569971172297746, 0.04879856818634781, 0.007974863283372016, 0.017468748144529176, 0.004367187036132294, 0.00018987769722314323, 0.0007595107888925729, 0.9416278916282977, 0.06383943587308878, 0.2691608647622122, 0.030194327777812262, 0.036233193333374714, 0.018979291746053423, 0.05693787523816026, 0.08626950793660647, 0.30884483841305116, 0.02243007206351768, 0.027606242539714068, 0.010352340952392776, 0.05952596047625846, 0.007764255714294581, 0.9792761784425309, 0.9933324240981044, 0.02804259285038841, 0.0158908026152201, 0.03832487689553083, 0.053280926415737985, 0.055150432605763876, 0.001869506190025894, 0.5552433384376906, 0.05982419808082861, 0.10749660592648891, 0.02804259285038841, 0.014956049520207152, 0.01682555571023305, 0.0158908026152201, 0.007478024760103576, 0.9885419496619626, 0.20512834214886902, 0.309922169116226, 0.13452257220632352, 0.054254960061113904, 0.05797105321598472, 0.03270161976286318, 0.07357864446644215, 0.002229655892922489, 0.012634716726560772, 0.06540323952572635, 0.03121518250091485, 0.017837247143379913, 0.001486437261948326, 0.9917825791156669, 0.9807726698474333, 0.056544630964086455, 0.06785355715690375, 0.07350802025331239, 0.016963389289225937, 0.02261785238563458, 0.01130892619281729, 0.6841900346654461, 0.028272315482043228, 0.033926778578451874, 0.9692256737614842, 0.17323270186853748, 0.3024472581803155, 0.12424476568440189, 0.07667676967951659, 0.04543808573600983, 0.0007099700896251536, 0.008519641075501844, 0.04543808573600983, 0.04259820537750922, 0.04259820537750922, 0.041178265198258915, 0.06531724824551413, 0.012069491523627612, 0.009229611165126998, 0.008519641075501844, 0.002129910268875461, 0.9914159213931035, 0.992758117917336, 0.0043927350350324605, 0.9786302807048795, 0.9973418900446069, 0.986999648090922, 0.9767838975843206, 0.10394897645187998, 0.11980559997843794, 0.01585662352655796, 0.532077811668945, 0.12861483527097015, 0.06342649410623184, 0.007047388234025761, 0.010571082351038642, 0.019380317643570844, 0.9765157609402797, 0.9385369523643603, 0.30835155743058557, 0.42141379515513366, 0.26723801643984085, 0.9792761784425309, 0.9786676628725846, 0.026364051417444006, 0.35005601604272873, 0.5214223502561147, 0.03441973379499634, 0.04101074664935734, 0.021970042847870005, 0.004394008569574, 0.968921470783672, 0.02576918805275723, 0.3134255799736835, 0.20007506682786105, 0.10422161275823941, 0.09281048727376064, 0.009128900387583013, 0.04640524363688032, 0.04184079344308882, 0.044123018539984564, 0.03689597239981468, 0.06884712375635522, 0.012552238032926644, 0.02092039672154441, 0.006085933591722009, 0.0019018542474131279, 0.9576839754092956, 0.17617209504080739, 0.10410169252411346, 0.10410169252411346, 0.07207040251669393, 0.06406258001483905, 0.4804693501112929, 0.9876794473039556, 0.07439642483254107, 0.21426170351771828, 0.6338575395732499, 0.03571028391961971, 0.04463785489952464, 0.9876165781554129, 0.10696996376903603, 0.12677921631885752, 0.13866476784875043, 0.08319886070925024, 0.546735370375073, 0.01957746810395776, 0.03915493620791552, 0.01957746810395776, 0.06852113836385217, 0.8320423944182048, 0.3572673042995406, 0.15232612150361466, 0.08057831065046282, 0.0816821231251267, 0.0831538730913452, 0.03752962413857173, 0.07395543580247958, 0.035321999189243974, 0.011406062238193368, 0.027227374375042232, 0.01692512461151274, 0.0011038124746638742, 0.00036793749155462473, 0.029434999324369982, 0.00036793749155462473, 0.010302249763529493, 0.001471749966218499, 0.9916615977432915, 0.9955981498054133, 0.12797143469670977, 0.1771912172723674, 0.16734726075723586, 0.06890769560592065, 0.45282199969604997, 0.9898412865964636, 0.9048123544848968, 0.03530975041892281, 0.05296462562838421, 0.14645927927732288, 0.4111708655267065, 0.03688604070688132, 0.08896045111659613, 0.08570580046598895, 0.09221510176720331, 0.021697671004047837, 0.05424417751011959, 0.01844302035344066, 0.02278255455425023, 0.01627325325303588, 0.004339534200809568, 0.9743974408991671, 0.9866612917442744, 0.614870173986238, 0.13471334015347938, 0.10007276697115611, 0.04811190719767121, 0.0279049061746493, 0.036565049470230114, 0.022131477310928755, 0.007697905151627393, 0.0057734288637205445, 0.0009622381439534241, 0.10390580755560554, 0.8089809302543574, 0.010390580755560553, 0.0222655301904869, 0.04601542906033959, 0.007421843396828966, 0.2569426506874101, 0.08211569248772901, 0.09271126571195211, 0.058275652733227046, 0.06887122595745014, 0.058275652733227046, 0.05032897281505972, 0.0741690125695617, 0.02384003975450197, 0.04768007950900394, 0.17217806489362536, 0.013244466530278873, 0.9957102997347329, 0.36363622415475655, 0.18053770283739676, 0.15364910879778446, 0.03969268643942765, 0.010883478539843066, 0.06209984813910455, 0.0550575973192061, 0.0006402046199907686, 0.040332891059418424, 0.021766957079686133, 0.048015346499307644, 0.016005115499769216, 0.008322660059879992, 0.15169158645791028, 0.049008051009478706, 0.01866973371789665, 0.09568238530422032, 0.2987157394863464, 0.028004600576844976, 0.02100345043263373, 0.24270653833265643, 0.07001150144211243, 0.023337167147370812, 0.9724129029919728, 0.028965937852700033, 0.44690304115594337, 0.02482794673088574, 0.36414321871965755, 0.13241571589805728, 0.9682419130623683, 0.028064982987315024, 0.09751179429139537, 0.8938581143377908, 0.965368759921413, 0.9883457672022657, 0.9320475697964842, 0.06517815173401988, 0.06808239587968308, 0.0837937180057638, 0.8431742874329983, 0.05142408740021584, 0.9384895950539391, 0.14953163574932354, 0.09515649547684225, 0.7476581787466178, 0.9905209750031215, 0.16792764948664388, 0.5474901449016609, 0.1357223468453697, 0.029904923881183158, 0.09891628668391352, 0.0184030300807281, 0.056677800474815354, 0.3211742026906203, 0.056677800474815354, 0.06848567557373522, 0.03306205027697562, 0.37785200316543566, 0.030700475257191648, 0.03306205027697562, 0.021254175178055758, 0.2768840578273158, 0.7059022133619479, 0.015213409770731635, 0.05194916939439517, 0.42338573056432066, 0.035065689341216746, 0.31818866254067046, 0.02207839699261795, 0.05974154480355445, 0.03896187704579638, 0.04935171092467542, 0.076605117180768, 0.921655316081115, 0.9930087645450271, 0.022594271581028783, 0.9760725323004433, 0.9809257857085576, 0.018728893283218282, 0.9966870670145508, 0.9911304410126617, 0.9819162742981693, 0.9795898304861965, 0.24457754235855256, 0.7495118233568546, 0.9967112109568499, 0.9939311286839989, 0.9846533885297042, 0.014574619303909719, 0.9619248740580415, 0.8825335970264819, 0.11637805675074486, 0.9906644761834407, 0.9777144050880618, 0.2602844180819085, 0.2713446624763239, 0.1592675192795814, 0.033918082809540485, 0.01474699252588717, 0.0888506299684702, 0.06193736860872611, 0.0003686748131471792, 0.00921687032867948, 0.04829640052228048, 0.036130131688423564, 0.012903618460151272, 0.002212048878883075, 0.09120015389355947, 0.09120015389355947, 0.7904013337441821, 0.07621953667758237, 0.025406512225860788, 0.0931572114948229, 0.03387534963448105, 0.11009488631206342, 0.5843497811947982, 0.07621953667758237, 0.44017064397475686, 0.10747650840535902, 0.030190030450943546, 0.02837862862388693, 0.05675725724777386, 0.04588884628543419, 0.024755824969773705, 0.009057009135283064, 0.0954004962249816, 0.06279526333796258, 0.05917245968384935, 0.011472211571358547, 0.0030190030450943546, 0.015698815834490645, 0.009057009135283064, 0.0018114018270566127, 0.9946167415291761, 0.974190500560128, 0.07345673869464603, 0.056869733182951764, 0.03554358323934485, 0.018166720322331815, 0.2108919272201128, 0.001579714810637549, 0.17850777360204304, 0.056869733182951764, 0.23142821975840094, 0.04186244248189505, 0.019746435132969364, 0.02290586475424446, 0.015007290701056716, 0.0007898574053187745, 0.02922472399679466, 0.007898574053187744, 0.07659724012266061, 0.9233449127513452, 0.49356447891527905, 0.1810207830978674, 0.05798321958603565, 0.09616729102074205, 0.09475306615278996, 0.01697069841542507, 0.048083645510371024, 0.012728023811568802, 0.030147589154302025, 0.21605772227249784, 0.7486651306651669, 0.12734259373846965, 0.09538771066552033, 0.23465376823718004, 0.041493654139501346, 0.03195488307294931, 0.24800804773035287, 0.01430815659982805, 0.02623162043301809, 0.03433957583958732, 0.06724833601919183, 0.052940179419363784, 0.02003141923975927, 0.004292446979948415, 0.00047693855332760167, 0.9592977821028309, 0.1954782839911973, 0.23281683261872935, 0.04832047469445326, 0.041731319054300546, 0.2613698403927245, 0.07028432682829565, 0.1229975719495174, 0.02635662256061087, 0.9706131844952522, 0.04668599216974804, 0.7236328786310946, 0.029178745106092523, 0.19841546672142915, 0.13519477795470403, 0.11851490275250028, 0.10446869205590764, 0.08691092868516687, 0.18347862722424116, 0.06496372447174088, 0.0158019870336667, 0.02721453322464821, 0.048283849269537146, 0.05794061912344458, 0.09481192220200022, 0.030726085898796367, 0.00790099351683335, 0.023702980550500054, 0.0903122380824277, 0.15342199481472657, 0.06528595524030918, 0.08595984106640708, 0.05766926046227311, 0.03590727538217005, 0.034819176128164896, 0.24482233215115942, 0.06310975673229888, 0.02176198508010306, 0.03373107687415974, 0.051140664938242195, 0.03917157314418551, 0.02176198508010306, 0.9596119559704236, 0.9734146875375367, 0.9752843135868775, 0.9738219666048089, 0.9932356469836382, 0.9792034119969683, 0.9813903657296026, 0.9948856319754498, 0.2717976945598468, 0.10677766571993982, 0.09221707493994803, 0.5241812680797047, 0.9543301576098577, 0.04104645839182184, 0.04872021624068816, 0.042950716949027724, 0.11154365297210185, 0.1685975904118551, 0.030129607412004523, 0.02436010812034408, 0.12949320632393432, 0.034616995749962645, 0.1365448165692971, 0.1410322049072552, 0.06602871411566949, 0.0352580512268138, 0.030770662888855684, 0.9846832548388574, 0.9651630809556079, 0.03372881734522286, 0.983043754902702, 0.9894216457458109, 0.8675401384828461, 0.12393430549754943, 0.9950654458413037, 0.9605939841042492, 0.11468407107303799, 0.011946257403441457, 0.011946257403441457, 0.11946257403441457, 0.1433550888412975, 0.5973128701720729, 0.8772674596942143, 0.06748211228417034, 0.016870528071042584, 0.03374105614208517, 0.9782718076785671, 0.22202303241442436, 0.07770806134504853, 0.04440460648288488, 0.04440460648288488, 0.061056333913966705, 0.3108322453801941, 0.00555057581036061, 0.22757360822478498, 0.9959431976637991, 0.9521516250565166, 0.03860074155634527, 0.9940040448770553, 0.09375677789315888, 0.09664160182833301, 0.07067818641176593, 0.06346612657383063, 0.10673848560144242, 0.03750271115726355, 0.030290651319328257, 0.027405827384154136, 0.33319716451261083, 0.038945123124850614, 0.07212059837935299, 0.010096883773109418, 0.018751355578631775, 0.9858581083885536, 0.9632787600035443, 0.9806776392747114, 0.9976307095873739, 0.99085392042506, 0.11582887573052655, 0.8397593490463175, 0.10305271921444295, 0.22328089163129305, 0.05496145024770291, 0.1408387162597387, 0.027480725123851454, 0.02404563448337002, 0.05839654088818434, 0.1408387162597387, 0.013740362561925727, 0.20954052906936735, 0.23797230853258294, 0.7337479513087974, 0.9644845420684773, 0.9865750195153562, 0.021103521748913372, 0.9496584787011019, 0.9912078895656549, 0.11694167419920175, 0.8717470258485949, 0.24959382420544524, 0.7501161989489852, 0.9888248729668423, 0.9637124317872813, 0.8559465929014051, 0.11412621238685401, 0.09074801672111887, 0.24911220276385573, 0.09074801672111887, 0.5427087274498286, 0.016014355891962154, 0.00889686438442342, 0.9747871385900172, 0.03408453228716633, 0.947549997583224, 0.017042266143583167, 0.9960653224862792, 0.9958104091778351, 0.9909940984606994, 0.9714409049841181, 0.03611859092197483, 0.1083557727659245, 0.27690919706847367, 0.024079060614649886, 0.4936207426003227, 0.060197651536624715, 0.9720679564015152, 0.9702199281214154, 0.25824109829177183, 0.07165070935263033, 0.10896878714045864, 0.09105610980230106, 0.10374425625016268, 0.005224530890295963, 0.08657794046776165, 0.031347185341775774, 0.051498947347203054, 0.06045528601628185, 0.0373180777878283, 0.020151762005427284, 0.030600823786019207, 0.011941784892105057, 0.02239084667269698, 0.008956338669078792, 0.03896747921245226, 0.15586991684980905, 0.12989159737484088, 0.6624471466116885, 0.019435971387872814, 0.9717985693936407, 0.093956514066671, 0.8925868836333746, 0.976023963247928, 0.9924015384751887, 0.04345858555918208, 0.9452242359122102, 0.9066361123930301, 0.0911433128860718, 0.5664983963882251, 0.024630365060357613, 0.34482511084500655, 0.06568097349428696, 0.11129707529552457, 0.03844808055663576, 0.07487257792608017, 0.44721188436928966, 0.012141499123148134, 0.0870140770492283, 0.09915557617237644, 0.004047166374382712, 0.026306581433487627, 0.028330164620678982, 0.012141499123148134, 0.05463674605416661, 0.9852719537222541, 0.11689969137197069, 0.02446737726390084, 0.17399023832107266, 0.6823679659154568, 0.9725913964583686, 0.9774853427999638, 0.9919975501700778, 0.9936445465278076, 0.9739037363813161, 0.019478074727626322, 0.4360204093235111, 0.19279566324576128, 0.007100123575622936, 0.12488935315070088, 0.13890754585128975, 0.022756806332124794, 0.0049154701677389554, 0.028036385401177748, 0.0016384900559129852, 0.020936261825554813, 0.01638490055912985, 0.0047334157170819575, 0.0009102722532849918, 0.07055675775986893, 0.0641425070544263, 0.03848550423265578, 0.46182605079186934, 0.0064142507054426295, 0.16677051834150838, 0.18601327045783628, 0.07024842443972835, 0.011391636395631627, 0.16138151560478137, 0.03987072738471069, 0.07784284870348278, 0.01708745459344744, 0.020884666725324647, 0.5600887894518882, 0.03037769705501767, 0.00949303032969302, 0.5059531878863461, 0.25297659394317307, 0.006599389407213211, 0.03299694703606605, 0.06489399583759657, 0.00439959293814214, 0.012098880579890886, 0.026397557628852843, 0.013198778814426422, 0.009899084110819816, 0.07039348701027424, 0.041294476212764886, 0.8258895242552977, 0.05161809526595611, 0.07742714289893417, 0.9904873906686444, 0.004997862148046859, 0.0633062538752602, 0.2532250155010408, 0.42481828258398296, 0.22823570476080654, 0.023323356690885342, 0.996561775739719, 0.9911234520112452, 0.9935643595741903, 0.5466422292632334, 0.24171255035449093, 0.21196331338778437, 0.9757422999533083, 0.10022171061260529, 0.02598340645511989, 0.8723000738504535, 0.9830358507944523, 0.9909644652209377, 0.9895622306046726, 0.02924585003328204, 0.006357793485496095, 0.016530263062289847, 0.03051740873038126, 0.876103942301362, 0.026702732639083602, 0.01271558697099219, 0.02964055286750741, 0.050812376344298416, 0.07198419982108942, 0.8341698449855657, 0.012703094086074604, 0.9986414376968432, 0.9986330050722799, 0.08026074570943437, 0.01267274932254227, 0.0675879963868921, 0.7561407095783554, 0.08026074570943437, 0.9944670518161919, 0.9950636019205076, 0.15969434676789468, 0.0627370648016729, 0.015399097724046988, 0.0119770760075921, 0.0017110108582274431, 0.4254713667458908, 0.1773747923029116, 0.01711010858227443, 0.029657521542609012, 0.010836402102107139, 0.06787009737635524, 0.009695728196622178, 0.001140673905484962, 0.007984717338394735, 0.001140673905484962, 0.9623803867891644, 0.9738927841871461, 0.9861566904107728, 0.4663326378815585, 0.1308586483851312, 0.13561714469004507, 0.04936939916348132, 0.04044721859176783, 0.022602857448340844, 0.023197669486455078, 0.05769676769708058, 0.007137744457370794, 0.022008045410226613, 0.017844361143426985, 0.0017844361143426984, 0.013680676876627353, 0.0005948120381142328, 0.01070661668605619, 0.9805181101694722, 0.10661802584490031, 0.04867344658136753, 0.1877404368138462, 0.06721571194569802, 0.018542265364330488, 0.03013118121703704, 0.38938757265094026, 0.009271132682165244, 0.14138477340301997, 0.11322068789288486, 0.6934767133439198, 0.05256674795026797, 0.11726428388905932, 0.022239777978959527, 0.03284315204840527, 0.23263899367620403, 0.27642986307407774, 0.45159334066557255, 0.005473858674734213, 0.02797542430291278, 0.4615945009980609, 0.036368051593786616, 0.06993856075728194, 0.011190169721165112, 0.23779110657475863, 0.04476067888466045, 0.10630661235106856, 0.9391027403220468, 0.045587511666118775, 0.12496190092784674, 0.06664634716151827, 0.2888008376999125, 0.008330793395189783, 0.2610315263826132, 0.15550814337687593, 0.09719258961054747, 0.12370934002754244, 0.8525913974871169, 0.023404469734940463, 0.9835748726567715, 0.08696885856673768, 0.012745436169263281, 0.21367348872000208, 0.1327024824682118, 0.035237382350316135, 0.06672610700379013, 0.1746874486728438, 0.060728254688842694, 0.14994630787368568, 0.00899677847242114, 0.050232013137684696, 0.007497315393684283, 0.9710589305424556, 0.8787870083358035, 0.11906146564549595, 0.9877624175638492, 0.008421709893042563, 0.054741114304776656, 0.012632564839563844, 0.022457893048113502, 0.21896445721910662, 0.026668747994634784, 0.5600437078873304, 0.019650656417099312, 0.04351216778071991, 0.03228322125666316, 0.16396611149579082, 0.0590278001384847, 0.662423090442995, 0.07214508905814797, 0.0393518667589898, 0.02704325645321888, 0.9696939099654198, 0.9983953743954578, 0.9976285551648142, 0.008928405296305812, 0.14955078871312236, 0.3571362118522325, 0.008928405296305812, 0.47097337938013156, 0.17903210835719138, 0.3233381612140655, 0.1990960515351525, 0.006945211100063459, 0.023150703666878197, 0.05556168880050767, 0.010031971588980552, 0.11189506772324462, 0.009260281466751279, 0.03472605550031729, 0.03395436537808802, 0.006945211100063459, 0.003858450611146366, 0.0007716901222292733, 0.0023150703666878197, 0.9907496548552241, 0.14778795694429323, 0.23615601367387062, 0.1218869747994171, 0.028948156514861562, 0.019298771009907706, 0.3037017122085476, 0.06856142332467212, 0.0015235871849927137, 0.06145134979470612, 0.010665110294948996, 0.012451843531782124, 0.9836956390107878, 0.21441414806790735, 0.7533470067250799, 0.028974884874041533, 0.975464984549759, 0.02676074062333791, 0.10704296249335164, 0.10576864151128794, 0.17904209797995127, 0.48424197318420986, 0.03568098749778388, 0.06180456763008994, 0.02438251711745809, 0.21944265405712282, 0.013932866924261766, 0.19854335367073017, 0.04528181750385074, 0.49809999254235815, 0.9710115429255004, 0.9746955627247983, 0.14821537249499808, 0.7904819866399898, 0.04940512416499936, 0.9928360337271047, 0.02499777954627047, 0.08499245045731961, 0.639943156384524, 0.24497823955345063, 0.0682408559312908, 0.2326392815839459, 0.5490287045381124, 0.006203714175571891, 0.031018570877859454, 0.018611142526715672, 0.08375014137022052, 0.006203714175571891, 0.9715863384338544, 0.9681910562101578, 0.991399383481651, 0.0468807539646607, 0.9376150792932141, 0.0405305648450047, 0.3311643712945506, 0.002965651086219856, 0.1413627017764798, 0.020759557603538994, 0.3558781303463827, 0.02372520868975885, 0.08303823041415598, 0.9713463541577061, 0.9905878721164895, 0.025369597951574674, 0.1395327887336607, 0.11416319078208603, 0.7103487426440909, 0.9892779644152802, 0.9906036787406651, 0.0510961442348227, 0.6670885497324074, 0.05677349359424744, 0.08799891507108354, 0.04825746955511032, 0.017032048078274232, 0.0709668669928093, 0.9846399739168289, 0.9759930442741573, 0.01697379207433317, 0.5295714749229707, 0.0821295711729173, 0.06504662036895051, 0.047963669564983706, 0.006570365693833385, 0.12023769219715094, 0.001314073138766677, 0.01576887766520012, 0.030880718761016907, 0.023653316497800184, 0.018397023942733477, 0.01642591423458346, 0.009198511971366738, 0.005913329124450046, 0.0256244262059502, 0.9874711024414984, 0.9880925483362173, 0.1358332233603473, 0.8602770812821997, 0.983647456484533, 0.0735120899999466, 0.2793459419997971, 0.058809671999957285, 0.5733943019995835, 0.9785915651475795, 0.9469262101603136, 0.05084167571330543, 0.9791585902967582, 0.010306932529439561, 0.9707144551254531, 0.41798159520274397, 0.014413158455267033, 0.2522302729671731, 0.03603289613816758, 0.2666434314224401, 0.2764125306465234, 0.346661019098126, 0.09570083933986445, 0.006108564213182837, 0.04021471440345368, 0.07584800564702023, 0.06515801827395026, 0.007635705266478547, 0.048359466687697465, 0.004581423159887128, 0.01730759860401804, 0.0030542821065914186, 0.0020361880710609457, 0.010689987373069965, 0.1427939467969754, 0.8116708554775444, 0.037577354420256684, 0.6355408260300082, 0.13986011705514742, 0.030851496409223696, 0.023652813913738167, 0.006170299281844739, 0.028794729981942116, 0.034965029263786855, 0.03599341247742765, 0.0030851496409223696, 0.05553269353660265, 0.005141916068203949, 0.9738026153130828, 0.981942301658518, 0.9340125268595337, 0.06423506225613894, 0.9579880303803856, 0.036150491712467384, 0.856052170483973, 0.019850485112671838, 0.08436456172885531, 0.037219659586259696, 0.9582171979018111, 0.12200327546669203, 0.02033387924444867, 0.7523535320446008, 0.10166939622224334, 0.9718100226833126, 0.9837805548118452, 0.036059836441843594, 0.002575702602988828, 0.02833272863287711, 0.6336228403352517, 0.19575339782715093, 0.05151405205977656, 0.02833272863287711, 0.020605620823910625, 0.7789783187246299, 0.1131848839172539, 0.10652694956918014, 0.05203564664062867, 0.08961694699219382, 0.017345215546876222, 0.07949890458984936, 0.3815947420312769, 0.04191760423828421, 0.17200672083985588, 0.16477954769532413, 0.9699376783659186, 0.9842419357042161, 0.9900835724544095, 0.9810729190090287, 0.9515653861131841, 0.030607299065692678, 0.025506082554743896, 0.9386238380145754, 0.7886725861041143, 0.20538348596461312, 0.9860809363749121, 0.9948628413703753, 0.24599786636954493, 0.17861231221551116, 0.03003934341806324, 0.1514145283099674, 0.03815808488240466, 0.05723712732360699, 0.06210837220221184, 0.007712804391124346, 0.04546495220031193, 0.030851217564497383, 0.08646459659523609, 0.04343526683422658, 0.004465307805387779, 0.017861231221551116, 0.02848548105131919, 0.5206512925491118, 0.014242740525659594, 0.1218545578306432, 0.2437091156612864, 0.030068007776392475, 0.03956316812683221, 0.9760926858657497, 0.995879407408427, 0.9629298292756373, 0.005819684468548685, 0.04655747574838948, 0.04364763351411514, 0.05237716021693817, 0.09020510926250462, 0.05237716021693817, 0.11057400490242501, 0.5034027065294613, 0.07274605585685856, 0.02327873787419474, 0.9725506634262968, 0.014302215638622013, 0.9944799105848154, 0.9940461870347537, 0.1484769256049808, 0.6971959984929533, 0.02582207401825753, 0.07101070355020822, 0.04518862953195068, 0.9876861772212905, 0.9952402647197119, 0.9555410478241406, 0.9716098148517863, 0.969176302330218, 0.14431836290164315, 0.08947738499901876, 0.010102285403115021, 0.48058014846247177, 0.0057727345160657265, 0.04185232524147652, 0.18039795362705396, 0.03463640709639436, 0.012988652661147885, 0.1151025217820545, 0.1192133261314136, 0.1377119457035295, 0.5590693915128362, 0.03494183696955226, 0.03083103262019317, 0.0020554021746795447, 0.34516246425084796, 0.20355735071203854, 0.047201704512936475, 0.11800426128234119, 0.28321022707761884, 0.14270749575571565, 0.15629868582768855, 0.0815471404318375, 0.2854149915114313, 0.32618856172735, 0.9965051028398654, 0.19357027762355844, 0.14026198446312022, 0.01573031601455554, 0.1542444875871696, 0.32640405730202743, 0.027528053025472194, 0.059425638277209814, 0.0021847661131327136, 0.005243438671518513, 0.016604222459808624, 0.009176017675157399, 0.013545549901422826, 0.03320844491961725, 0.003058672558385799, 0.057550639164341125, 0.057550639164341125, 0.00822151988062016, 0.8495570543307499, 0.024664559641860484, 0.9845449275706021, 0.9899530727593718, 0.0851033153229927, 0.9051898084354678, 0.9972893728347569, 0.9908645786629474, 0.23661789918961545, 0.17879773585380718, 0.028465311180705617, 0.03291301605269087, 0.2971066854486149, 0.10229721205566082, 0.024017606308720366, 0.0044477048719852525, 0.018680360462338064, 0.03469209800148497, 0.024907147283117416, 0.009784950718367557, 0.006226786820779354, 0.0008895409743970505, 0.25187872672285355, 0.741243110070112, 0.9935011458670666, 0.9939033913126671, 0.989855451030417, 0.20519504127543586, 0.7845692754649018, 0.08246579889439296, 0.09895895867327155, 0.028863029613037536, 0.25564397657261817, 0.07421921900495367, 0.2061644972359824, 0.1979179173465431, 0.05772605922607507, 0.07396392750237857, 0.9160147944525346, 0.989140642865796, 0.9983543606020251, 0.9893959781061804, 0.9774346795676356, 0.9706173929015688, 0.9989783971696081, 0.07547665461789078, 0.04077474444874559, 0.12492687660892267, 0.16309897779498236, 0.10670837377012145, 0.02515888487263026, 0.19086050593029852, 0.013013216313429445, 0.044244935465660114, 0.06766872482983312, 0.041642292202974225, 0.09456270521092063, 0.010410573050743556, 0.0008675477542286296, 0.0092713302668649, 0.0710801987126309, 0.8684146016630123, 0.046356651334324504, 0.9794413495910145, 0.025665399232823086, 0.020998963008673436, 0.055997234689795825, 0.10966125126751683, 0.025665399232823086, 0.5459730382255092, 0.04199792601734687, 0.006999654336224478, 0.01166609056037413, 0.15399239539693851, 0.010251358599997647, 0.9670448279331114, 0.020502717199995295, 0.10960878136058179, 0.7863995107140154, 0.10090967172878958, 0.007081507909526158, 0.08497809491431389, 0.20536372937625857, 0.134548650280997, 0.023605026365087194, 0.08025708964129646, 0.4390534903906218, 0.016523518455561034, 0.007081507909526158, 0.9681805441826162, 0.9947239400284503, 0.03007773810707761, 0.07519434526769403, 0.0021484098647912577, 0.0010742049323956288, 0.19872791249319136, 0.5360282612654188, 0.03437455783666012, 0.07734275513248529, 0.00859363945916503, 0.015038869053538805, 0.0064452295943737735, 0.013964664121143175, 0.9746893152898073, 0.03558096285993787, 0.5911913829035831, 0.3694946143147394, 0.14840267987534544, 0.02766829624794576, 0.02012239727123328, 0.09558138703835808, 0.5231823290520653, 0.04276009420137072, 0.11067318499178304, 0.00503059931780832, 0.00251529965890416, 0.022637696930137438, 0.13917411270220767, 0.2623512009558857, 0.5934896070404487, 0.0031994048897059234, 0.49579099863406983, 0.5019883861169957, 0.08638709513174905, 0.22593547957534368, 0.44854837856869706, 0.06312903105781661, 0.0033225805819903486, 0.1727741902634981, 0.9937820435237041, 0.9298218584095965, 0.06508753008867176, 0.9899904976201273, 0.9837015825989687, 0.12510795898447946, 0.006415792768434844, 0.022455274689521958, 0.8436767490491821, 0.38996191412522774, 0.6011912842763928, 0.02514777775211988, 0.9707042212318273, 0.09136223438243568, 0.29456444533647363, 0.06458364844275626, 0.05828280469224345, 0.07088449219326906, 0.018902531251538415, 0.009451265625769208, 0.006300843750512805, 0.006300843750512805, 0.05828280469224345, 0.04883153906647424, 0.20320221095403798, 0.06930928125564086, 0.9850290155900262, 0.9900350198972699, 0.993266447142585, 0.9884386025311781, 0.019419673333373272, 0.12946448888915515, 0.5761169755567405, 0.05178579555566206, 0.03560273444451767, 0.14241093777807068, 0.006473224444457758, 0.03236612222228879, 0.006473224444457758, 0.9180084878354723, 0.008422096218674058, 0.021055240546685144, 0.008422096218674058, 0.03789943298403326, 0.0828365347527001, 0.2088170980224315, 0.0362409839543063, 0.0793850124713376, 0.4021023457787318, 0.06212740106452508, 0.012080327984768765, 0.11217447414428139, 0.005177283422043756, 0.07702290638319158, 0.913271604257843, 0.11772734158692863, 0.8633338383041432, 0.9349055191896817, 0.047943872778958035, 0.9637009190973292, 0.024397491622717194, 0.04631823936784441, 0.08028494823759698, 0.018527295747137764, 0.23159119683922205, 0.13277895285448732, 0.006175765249045922, 0.4570066284293982, 0.027790943620706648, 0.9139129230364172, 0.038889911618570944, 0.019444955809285472, 0.029167433713928208, 0.9891510322990924, 0.9757468237111592, 0.985650866003362, 0.11947511681760495, 0.297360290746039, 0.570825558128557, 0.0044250043265779615, 0.0008850008653155922, 0.007080006922524738, 0.050471050049355766, 0.9373195009166071, 0.08043967610492272, 0.08043967610492272, 0.014195236959692246, 0.09463491306461498, 0.6245904262264589, 0.04258571087907674, 0.009463491306461498, 0.014195236959692246, 0.03785396522584599, 0.5054423112624489, 0.49301340196911, 0.9841396190094558, 0.32118214857493865, 0.2667689809752864, 0.12905069837793637, 0.037077999160825006, 0.06259921936243182, 0.11556778959218184, 0.01444597369902273, 0.02022436317863182, 0.005778389479609091, 0.007222986849511365, 0.005296857022975001, 0.01444597369902273, 0.10909291579538373, 0.029268831067054173, 0.1490049581595485, 0.007982408472832957, 0.0864760917890237, 0.21153382453007336, 0.3272787473861512, 0.01330401412138826, 0.02394722541849887, 0.04257284518844243, 0.025636309904276837, 0.007121197195632455, 0.04343930289335798, 0.0156666338303914, 0.9065284030040115, 0.9943503960210417, 0.985682708283576, 0.42716499577599826, 0.1454178709024675, 0.007573847442836849, 0.009088616931404218, 0.18631664709378648, 0.2241858843079707, 0.9845014815216154, 0.13311904481968231, 0.8253380778820303, 0.9737721073080957, 0.11224108184655764, 0.8651916725672151, 0.01870684697442627, 0.9700060982326469, 0.9872542418852428, 0.9796417424557925, 0.055607014529925364, 0.1853567150997512, 0.15291928995729476, 0.3058385799145895, 0.00463391787749378, 0.01853567150997512, 0.0231695893874689, 0.2594994011396517, 0.0499893058612622, 0.3049347657536994, 0.22328556618030446, 0.036658824298258945, 0.02332834273525569, 0.12997219523928172, 0.018329412149129472, 0.0016663101953754064, 0.014996791758378659, 0.03165989371213272, 0.16496470934216526, 0.060749335965511686, 0.9416147074654311, 0.12577210217501458, 0.06328659918360606, 0.0408559058020748, 0.45021606001502035, 0.0024032885765926356, 0.027237270534716536, 0.042458098186469895, 0.012016442882963177, 0.0024032885765926356, 0.16422471940049677, 0.03364604007229689, 0.0024032885765926356, 0.032043847687901805, 0.023000398590475223, 0.008625149471428208, 0.7345752299833024, 0.05175089682856925, 0.008625149471428208, 0.01006267438333291, 0.007187624559523507, 0.02156287367857052, 0.015812774030951715, 0.1164395178642808, 0.045817808386709666, 0.14450231875808434, 0.052866701984665004, 0.07048893597955333, 0.09868451037137467, 0.5427648070425607, 0.007048893597955333, 0.035244467989776665, 0.9888504170493654, 0.9862136659527309, 0.41792415457699317, 0.10448103864424829, 0.4643601717522146, 0.02789690000640589, 0.9484946002178002, 0.9977970724149973, 0.9511691085231572, 0.9708262431931886, 0.016435862912333777, 0.2670827723254239, 0.05136207160104306, 0.12121448897846161, 0.036980691552751, 0.043144140144876164, 0.13148690329867022, 0.06779793451337683, 0.016435862912333777, 0.0184903457763755, 0.16435862912333776, 0.06163448592125167, 0.9728163080703909, 0.1850356100624673, 0.2677574122080409, 0.10394647506450369, 0.01795933862371006, 0.11972892415806707, 0.0674835754345469, 0.09142936026616032, 0.003265334295220011, 0.008707558120586696, 0.06639513066947356, 0.020680450536393405, 0.008163335738050028, 0.01795933862371006, 0.005442223825366685, 0.015782449093563387, 0.9803265024929868, 0.9876917418210853, 0.23478321215633635, 0.7490702483083111, 0.08021402254440649, 0.7397515412428598, 0.15597171050301262, 0.013369003757401082, 0.9582921874453528, 0.03665598531211732, 0.3823482598506807, 0.07031692135184933, 0.0021974037922452916, 0.01538182654571704, 0.08350134410532108, 0.40212489398088835, 0.004394807584490583, 0.01538182654571704, 0.021974037922452914, 0.21214955156475138, 0.0317130772957618, 0.038274403632815965, 0.01421620706361736, 0.03608729485379791, 0.0317130772957618, 0.15309761453126386, 0.0317130772957618, 0.22308509545984165, 0.029525968516743745, 0.025151750958707635, 0.07982947043415901, 0.06561326337054166, 0.025151750958707635, 0.9776571203676576, 0.970656945748963, 0.9429371937881982, 0.033085515571515726, 0.9907167784239201, 0.96847607319826, 0.011826928534060544, 0.9816350683270252, 0.976814448167541, 0.21913539234120105, 0.28416073131485126, 0.08778420761442772, 0.04291672372260911, 0.029911655927879078, 0.10794206269625928, 0.05722229829681215, 0.05592179151733914, 0.04291672372260911, 0.04681824406102812, 0.0052020271178920136, 0.018207094912622047, 0.0026010135589460068, 0.9934174711484046, 0.9900519478074626, 0.9835881023531449, 0.9951804580644341, 0.9882551024414582, 0.9570049894138386, 0.8766294610630894, 0.0655423896121936, 0.0491567922091452, 0.9952307196670298, 0.036080906126803466, 0.9621574967147591, 0.9804922666416576, 0.12834534255333135, 0.008123122946413376, 0.245318312981684, 0.016246245892826753, 0.19739188759784507, 0.12225300034352132, 0.009341591388375384, 0.1510900868032888, 0.10803753518729792, 0.013809309008902742, 0.062184228952697096, 0.2568479021959228, 0.047314087246617356, 0.4123084745776655, 0.005407324256756269, 0.09733183662161284, 0.0702952153378315, 0.047314087246617356, 0.23435040723390668, 0.3478012156258713, 0.09396935644586968, 0.07047701733440226, 0.06474717852672728, 0.050422581507539824, 0.06703911404979727, 0.009167742092279968, 0.004010887165372486, 0.018908468065327436, 0.008021774330744972, 0.021200403588397428, 0.000572983880767498, 0.00859475821151247, 0.20465958755286356, 0.08186383502114543, 0.03274553400845817, 0.6712834471733925, 0.12742073868290893, 0.024399715918003835, 0.8295903412121304, 0.016266477278669225, 0.9616521235366898, 0.9832341221095899, 0.9819162642089473, 0.9435544171404445, 0.036290554505401716, 0.014516221802160686, 0.9831109880950122, 0.990597672730693, 0.0029510411231700724, 0.006885762620730169, 0.9640067669022236, 0.025575689734140625, 0.9968442543194722, 0.21262172786124786, 0.06378651835837436, 0.7229138747282426, 0.09719851696952497, 0.14488080831306552, 0.5465124161682725, 0.05135015990842828, 0.1577183482901726, 0.9420177397493078, 0.977186587644967, 0.9886756318929117, 0.10408352790660619, 0.8847099872061526, 0.9830210583154814, 0.9861803461001426, 0.08330525187275324, 0.9059446141161915, 0.9674725719637263, 0.03852492524775389, 0.9534918998819086, 0.01139281009750162, 0.030827603793239677, 0.08578115838118867, 0.00938231419794251, 0.7009929036462762, 0.04289057919059434, 0.02278562019500324, 0.014073471296913765, 0.07505851358354008, 0.005361322398824292, 0.001340330599706073, 0.9913690807226095, 0.9801373270907175, 0.9816488403416429, 0.9872225905480174, 0.7512336837522882, 0.07164945538677893, 0.04776630359118595, 0.10204619403571544, 0.013027173706687078, 0.010855978088905899, 0.30304673566064383, 0.36741704466731995, 0.14537564168923486, 0.016635023675882595, 0.010125666585319841, 0.0672633566024818, 0.030376999755959522, 0.0014465237979028344, 0.037609618745473694, 0.002893047595805669, 0.017358285574834015, 0.3910752285127886, 0.2944120460209362, 0.10929889262150634, 0.015162852155584695, 0.09729496799833513, 0.05117462602509835, 0.008844997090757738, 0.007581426077792348, 0.022744278233377043, 0.0025271420259307827, 0.46686553326256713, 0.21745728617745722, 0.03958104112440559, 0.0639019218153054, 0.01621392046059988, 0.058417801659514275, 0.08512308241814937, 0.0054841201557911355, 0.03028188086023801, 0.009299160264167577, 0.004530360128697025, 0.0004768800135470553, 0.002622840074508804, 0.0031538244263510217, 0.08620453432026126, 0.1366657251418776, 0.0767430610412082, 0.19869093886011438, 0.01051274808783674, 0.05466629005675105, 0.1860756411547103, 0.0241793206020245, 0.0525637404391837, 0.1208966030101225, 0.012615297705404087, 0.02102549617567348, 0.017871671749322457, 0.977152951102916, 0.15797793458186385, 0.3073875744067453, 0.11647525685273014, 0.060245822510032826, 0.09692883443836393, 0.06345893304390125, 0.004551906589646925, 0.07657913439053061, 0.03775404877295391, 0.009907090812760954, 0.020617459258989012, 0.030256790860594265, 0.006961739490048238, 0.004551906589646925, 0.002409832900401313, 0.004016388167335522, 0.9935116336608226, 0.9905917447624429, 0.08140289920702695, 0.061052174405270214, 0.061052174405270214, 0.5766038693831076, 0.010175362400878369, 0.027134299735675653, 0.15941401094709445, 0.020350724801756738, 0.9770539224966769, 0.96087372515637, 0.03895434020904203, 0.9364879413983994, 0.06417625737189332, 0.3569804316311566, 0.05882823592423555, 0.3275663136690388, 0.10562342359124109, 0.022729091152545552, 0.014707058981058887, 0.03075112332403222, 0.010696042895315554, 0.006685026809572221, 0.9712133502206309, 0.9736545029177789, 0.6637184638921051, 0.24889442395953942, 0.02860855447810798, 0.017165132686864787, 0.03719112082154037, 0.9763868852598925, 0.98382596218815, 0.9127148961853662, 0.07130585126448173, 0.9853992943900263, 0.059488718190127896, 0.7550491154900848, 0.009152110490788908, 0.14185771260722804, 0.004576055245394454, 0.02745633147236672, 0.98902317376067, 0.5823716425085487, 0.04859736004517301, 0.08683790565448948, 0.009560136402329117, 0.054174106279865, 0.0693109889168861, 0.0270870531399325, 0.03585051150873419, 0.021510306905240514, 0.003983390167637132, 0.060547530548084406, 0.8313818148844777, 0.12141884517582636, 0.021922847045635314, 0.02360921989529957, 0.021356289397807832, 0.8649297206112172, 0.0640688681934235, 0.042712578795615665, 0.19332874096942784, 0.04461432483909873, 0.7138291974255797, 0.02974288322606582, 0.01487144161303291, 0.018067694292424687, 0.9816780565550747, 0.02350543971341691, 0.9754757481068017, 0.9636726008344046, 0.023569964832905077, 0.9742252130934098, 0.16317828782588986, 0.12180914443341073, 0.17696800229004955, 0.004596571488053236, 0.06894857232079853, 0.10572114422522441, 0.018386285952212943, 0.036772571904425885, 0.016088000208186324, 0.2688994320511143, 0.020684571696239558, 0.9820369633865069, 0.9890145396363531, 0.9904900819208656, 0.9716374195520304, 0.02964396050870219, 0.1259868321619843, 0.7855649534806081, 0.05187693089022883, 0.9831982546654842, 0.25566039934780943, 0.07548068933125802, 0.009739443784678455, 0.056001801761901115, 0.2167026242090956, 0.10469902068529338, 0.031653192300204976, 0.06574124554657956, 0.12904763014698953, 0.0024348609461696136, 0.051132079869561885, 0.9516934728177981, 0.9879325598955954, 0.80997222376061, 0.029453535409476726, 0.06627045467132263, 0.0932695287966763, 0.009890295718392436, 0.015541893271759543, 0.007064496941708884, 0.1822640210960892, 0.0014128993883417767, 0.06781917064040528, 0.47332129509449516, 0.0240192896018102, 0.0028257987766835534, 0.045212780426936855, 0.01271609449507599, 0.07488366758211416, 0.07064496941708884, 0.011303195106734214, 0.23088785435695666, 0.516394340927387, 0.20109587314960742, 0.04965330201224875, 0.9721254886653672, 0.019315373039347553, 0.9657686519673777, 0.9743053845636793, 0.9717191905513815, 0.9754182172010748, 0.977330570660053, 0.12512865334932835, 0.10824277971395185, 0.26541129585860995, 0.04589493859871559, 0.021215584823934562, 0.10564495300081701, 0.016019931397664874, 0.013855075803385837, 0.04459602524214816, 0.10218118404997055, 0.0874601660088731, 0.017751815873088102, 0.015153989159953259, 0.013855075803385837, 0.0008659422377116148, 0.016452902516520682, 0.1604732155545979, 0.09218674085051369, 0.04438620855765474, 0.5940923299255326, 0.027314589881633683, 0.013657294940816841, 0.020485942411225262, 0.04438620855765474, 0.021125415701320684, 0.02581995252383639, 0.0046945368225157075, 0.05633444187018849, 0.6501933499184255, 0.08919619962779844, 0.15022517832050264, 0.05600141880070355, 0.06052678597651798, 0.2913205119430538, 0.03280891202465461, 0.2545519036395616, 0.02715220305488657, 0.1261446100258272, 0.09333569800117258, 0.031677570230701, 0.01923281049721132, 0.00791939255767525, 0.9935353671729361, 0.9889667675701235, 0.9931011626282192, 0.10764705579308624, 0.14865545799997623, 0.5279831784137087, 0.21529411158617248, 0.9943241579762602, 0.03606910407562774, 0.04637456238294995, 0.3050415658967374, 0.3369884866494363, 0.24011717856060752, 0.020610916614644422, 0.007213820815125548, 0.0020610916614644424, 0.0051527291536611055, 0.9567839515726366, 0.035767624357855576, 0.05083530589706841, 0.8886764586450477, 0.04330414946787309, 0.01506231285839064, 0.9530435187381028, 0.026800231832239035, 0.6834059117220954, 0.28810249219656964, 0.9751746201456484, 0.09731506622350558, 0.1529236754940802, 0.013902152317643654, 0.03243835540783519, 0.10194911699605347, 0.08341291390586193, 0.13902152317643654, 0.03243835540783519, 0.11585126931369712, 0.22243443708229846, 0.08725920628760725, 0.8507772613041706, 0.05090120366777089, 0.9857522132175818, 0.9888486081694863, 0.9619689237954607, 0.9416092778898406, 0.051360506066718575, 0.9877373285064409, 0.9908222735598169, 0.9865993190497001, 0.09528582015943231, 0.07411119345733623, 0.8258104413817466, 0.9895909831481937, 0.2519384450331191, 0.23653983039612025, 0.13687657455110033, 0.05817254418421764, 0.0337914043423029, 0.15227518918809912, 0.00042773929547218855, 0.013687657455110034, 0.04191845095627448, 0.009410264500388147, 0.05860028347968983, 0.0008554785909443771, 0.0021386964773609427, 0.0025664357728331314, 0.00042773929547218855, 0.9546471615037512, 0.02347367631100666, 0.4988156216088916, 0.10563154339952997, 0.08020172739593943, 0.029342095388758326, 0.05868419077751665, 0.009780698462919443, 0.16431573417704665, 0.02542981600359055, 0.009173910352114439, 0.25686948985920427, 0.009173910352114439, 0.07950722305165847, 0.036695641408457755, 0.05810143223005811, 0.021405790821600355, 0.5290288303052659, 0.9664321024285478, 0.01695494916541312, 0.011303299443608746, 0.8358533221490769, 0.04360973854690836, 0.11871539937769499, 0.9890841525834704, 0.03478005498758385, 0.2393686137380771, 0.051147139687623314, 0.15753319023787982, 0.0695601099751677, 0.1309366776003157, 0.08592719467520717, 0.08592719467520717, 0.036825940575088784, 0.0879730802627121, 0.01636708470003946, 0.10399439098877154, 0.7383601760202779, 0.010399439098877155, 0.046797475944947195, 0.09879467143933296, 0.9882810751797596, 0.2898189174362246, 0.19897546066933858, 0.08141334014748608, 0.10750332946115923, 0.055323350833812936, 0.062238769688039555, 0.011630477163926584, 0.08801442178106604, 0.012887826046513241, 0.010058791060693262, 0.04463588533182635, 0.009430116619399933, 0.02137493100397318, 0.0006286744412933289, 0.005658069971639959, 0.27604894460164164, 0.010333382953002629, 0.3911923546493852, 0.016238173211861273, 0.14614355890675146, 0.041333531812010514, 0.02361916103543458, 0.07233368067101839, 0.022142963470719916, 0.932635769117829, 0.05540410509610865, 0.0304649210401076, 0.018278952624064558, 0.02437193683208608, 0.34526910512121944, 0.08530177891230127, 0.06905382102424389, 0.002030994736007173, 0.0304649210401076, 0.04874387366417216, 0.17060355782460254, 0.056867852608200854, 0.11779769468841605, 0.9853937138489565, 0.9980550560821881, 0.990352609009558, 0.9845524978957018, 0.9694977803623036, 0.032927985531984304, 0.055234040247199474, 0.8794958716284839, 0.031865792450307386, 0.9010468455130698, 0.09847154811678548, 0.13226701035476224, 0.8465088662704784, 0.992228265943184, 0.0392620353339988, 0.01177861060019964, 0.1177861060019964, 0.8245027420139748, 0.991612876552548, 0.0773448801259768, 0.9211072087729966, 0.978639701093796, 0.9803967875596049, 0.1660880639955324, 0.021293341537888765, 0.723973612288218, 0.021293341537888765, 0.03406934646062203, 0.004258668307577753, 0.021293341537888765, 0.196794781341224, 0.06699396811616136, 0.09002314465609183, 0.4668642153094995, 0.07536821413068154, 0.020935615036300426, 0.0837424601452017, 0.9675920727332318, 0.05792258817081143, 0.20099633160127728, 0.21337295300529682, 0.08960673896510145, 0.041585447917505645, 0.21485814757377916, 0.03316934536277236, 0.03514960478741549, 0.01930752939027048, 0.06039791245161534, 0.010396361979376411, 0.009406232267054847, 0.0133667511163411, 0.43659885902694723, 0.06907785327154464, 0.028838327093945824, 0.04493413756498535, 0.11870660222391653, 0.03956886740797218, 0.06035928926639823, 0.068407194501918, 0.002011976308879941, 0.0046946113873865295, 0.000670658769626647, 0.02011976308879941, 0.07444312342855783, 0.02011976308879941, 0.000670658769626647, 0.008718564005146411, 0.001341317539253294, 0.025406358667675096, 0.9654416293716537, 0.29118386523921785, 0.1907254317316877, 0.13624978360985068, 0.0690348413837979, 0.04440553944898072, 0.09609067552894189, 0.04962258370118338, 0.00012132661051634078, 0.0401591080809088, 0.03118093890269958, 0.011283374778019693, 0.005581024083751676, 0.025478588208431564, 0.007279596630980447, 0.001091939494647067, 0.00012132661051634078, 0.0004853064420653631, 0.2917087909328097, 0.17964746820689387, 0.05280587509746394, 0.006180840342196797, 0.00013436609439558254, 0.08881598839548006, 0.05898671543966074, 0.026604486690325346, 0.050252919303947874, 0.0315760321829619, 0.07524501286152623, 0.031441666088566314, 0.02217040557527112, 0.022439137764062287, 0.008733796135712867, 0.04716249913284948, 0.006046474247801215, 0.5392478433435481, 0.20884165031224117, 0.05195065928165203, 0.005195065928165203, 0.025975329640826016, 0.07688697573684501, 0.03013138238335818, 0.0072730922994312846, 0.0010390131856330407, 0.05091164609601899, 0.0010390131856330407, 0.0020780263712660814, 0.9541835319075932, 0.986403286314643, 0.9905553841251511, 0.993497372575817, 0.9811005897954451, 0.9757738434079163, 0.9932783657633492, 0.9818467747430907, 0.9940040448770553, 0.049563186552707486, 0.9417005445014421, 0.9861633432311884, 0.004278635702185514, 0.09252549705976174, 0.002674147313865946, 0.2337204752318837, 0.010161759792690595, 0.002674147313865946, 0.0010696589255463785, 0.4171669809630876, 0.07006265962328778, 0.05294811681454573, 0.07380646586270011, 0.004813465164958703, 0.03422908561748411, 0.10511507341947701, 0.29153462351700254, 0.04587895469689881, 0.15622074447425038, 0.09001567060783944, 0.11614925239721217, 0.022649104217456372, 0.03426402945717759, 0.07201253648627155, 0.013357164025679399, 0.038329253291080015, 0.012195671501707278, 0.0023229850479442433, 0.9901208323329849, 0.9889903532107307, 0.9635520284796381, 0.9776975452057652, 0.9789387950404576, 0.9570749488314019], \"Term\": [\"abortion\", \"absolute\", \"absolute\", \"absolute\", \"accelerators\", \"access\", \"access\", \"access\", \"access\", \"access\", \"access\", \"access\", \"access\", \"acquired\", \"acquired\", \"acquired\", \"adaptec\", \"adcom\", \"address\", \"address\", \"address\", \"address\", \"address\", \"address\", \"address\", \"address\", \"address\", \"addresses\", \"addresses\", \"administration\", \"administration\", \"administration\", \"advance\", \"advance\", \"advance\", \"advance\", \"advance\", \"advance\", \"advance\", \"advance\", \"aerospace\", \"african\", \"african\", \"african\", \"african\", \"agencies\", \"agree\", \"agree\", \"agree\", \"agree\", \"agree\", \"agree\", \"agree\", \"agree\", \"agrep\", \"alarm\", \"albany\", \"alcohol\", \"alcohol\", \"alcohol\", \"algorithm\", \"algorithm\", \"algorithm\", \"algorithm\", \"algorithm\", \"allocated\", \"allocation\", \"alomar\", \"alomar\", \"also\", \"also\", \"also\", \"also\", \"also\", \"also\", \"also\", \"also\", \"also\", \"also\", \"also\", \"also\", \"also\", \"also\", \"also\", \"also\", \"amendment\", \"amendment\", \"american\", \"american\", \"american\", \"american\", \"american\", \"american\", \"american\", \"american\", \"american\", \"american\", \"american\", \"americans\", \"americans\", \"americans\", \"americans\", \"americans\", \"americans\", \"amps\", \"analog\", \"analog\", \"analog\", \"analogy\", \"anatolia\", \"ankara\", \"annual\", \"annual\", \"annual\", \"annual\", \"anon\", \"anon\", \"anonymity\", \"anonymous\", \"anonymous\", \"anonymous\", \"anti\", \"anti\", \"anti\", \"anti\", \"anti\", \"anti\", \"anti\", \"anyone\", \"anyone\", \"anyone\", \"anyone\", \"anyone\", \"anyone\", \"anyone\", \"anyone\", \"anyone\", \"anyone\", \"anyone\", \"anyone\", \"anyone\", \"apartment\", \"apartment\", \"apartment\", \"appears\", \"appears\", \"appears\", \"appears\", \"appears\", \"appears\", \"appears\", \"appears\", \"appears\", \"appears\", \"appears\", \"apple\", \"apple\", \"apple\", \"apple\", \"application\", \"application\", \"application\", \"application\", \"application\", \"application\", \"application\", \"application\", \"appreciated\", \"appreciated\", \"appreciated\", \"appreciated\", \"appreciated\", \"appreciated\", \"apps\", \"april\", \"april\", \"april\", \"april\", \"april\", \"april\", \"april\", \"april\", \"april\", \"april\", \"april\", \"arab\", \"arabs\", \"archive\", \"archive\", \"archive\", \"archives\", \"archives\", \"arens\", \"args\", \"argument\", \"argument\", \"argument\", \"argv\", \"argv\", \"armenia\", \"armenia\", \"armenian\", \"armenian\", \"armenians\", \"armenians\", \"armored\", \"arms\", \"arms\", \"arms\", \"arms\", \"arms\", \"article\", \"article\", \"article\", \"article\", \"article\", \"article\", \"article\", \"article\", \"article\", \"article\", \"article\", \"article\", \"article\", \"article\", \"article\", \"article\", \"article\", \"article\", \"asking\", \"asking\", \"asking\", \"asking\", \"asking\", \"asking\", \"asking\", \"aspi\", \"assert\", \"astros\", \"atheism\", \"atheist\", \"atheists\", \"atoms\", \"atoms\", \"attacks\", \"attacks\", \"attacks\", \"attacks\", \"attacks\", \"audio\", \"audio\", \"audio\", \"aurora\", \"autoexec\", \"available\", \"available\", \"available\", \"available\", \"available\", \"available\", \"available\", \"available\", \"available\", \"available\", \"aviation\", \"azerbaijan\", \"azerbaijani\", \"azerbaijanis\", \"azeri\", \"azeri\", \"azeris\", \"back\", \"back\", \"back\", \"back\", \"back\", \"back\", \"back\", \"back\", \"back\", \"back\", \"back\", \"back\", \"back\", \"back\", \"backup\", \"backup\", \"backup\", \"backup\", \"backup\", \"baerga\", \"baku\", \"balloon\", \"banks\", \"banks\", \"banks\", \"banks\", \"baseball\", \"baseball\", \"based\", \"based\", \"based\", \"based\", \"based\", \"based\", \"based\", \"based\", \"based\", \"based\", \"based\", \"based\", \"based\", \"batf\", \"batf\", \"bats\", \"batteries\", \"batteries\", \"beast\", \"beast\", \"beast\", \"beauchaine\", \"belief\", \"belief\", \"beliefs\", \"beliefs\", \"believe\", \"believe\", \"believe\", \"believe\", \"believe\", \"believe\", \"believe\", \"believe\", \"believe\", \"believe\", \"best\", \"best\", \"best\", \"best\", \"best\", \"best\", \"best\", \"best\", \"best\", \"best\", \"best\", \"bethesda\", \"better\", \"better\", \"better\", \"better\", \"better\", \"better\", \"better\", \"better\", \"better\", \"better\", \"better\", \"better\", \"better\", \"better\", \"bhjn\", \"bible\", \"bible\", \"biblical\", \"biblical\", \"biggest\", \"biggest\", \"biggest\", \"biggest\", \"biggest\", \"biggest\", \"bike\", \"bikes\", \"bill\", \"bill\", \"bill\", \"bill\", \"bill\", \"bill\", \"bill\", \"bill\", \"bill\", \"bill\", \"bimacs\", \"bindings\", \"bios\", \"bios\", \"bissda\", \"bitnet\", \"bitnet\", \"bitnet\", \"bitnet\", \"bitnet\", \"bobbe\", \"bolshevik\", \"bolt\", \"bombing\", \"bombing\", \"bone\", \"bony\", \"boot\", \"boot\", \"boot\", \"borders\", \"borland\", \"boston\", \"boston\", \"boston\", \"boston\", \"bought\", \"bought\", \"bought\", \"bought\", \"bought\", \"bought\", \"bought\", \"boyle\", \"brady\", \"brain\", \"brain\", \"brake\", \"brake\", \"brandeis\", \"braves\", \"breaker\", \"bruce\", \"bruce\", \"bruce\", \"bruce\", \"bruce\", \"bruins\", \"build\", \"build\", \"build\", \"build\", \"build\", \"build\", \"build\", \"build\", \"build\", \"builder\", \"bulletin\", \"bullock\", \"bullock\", \"bullpen\", \"burst\", \"bush\", \"bush\", \"buzz\", \"bxlt\", \"bxom\", \"byte\", \"byte\", \"cabinet\", \"cable\", \"cable\", \"cable\", \"cable\", \"cable\", \"cables\", \"cables\", \"cadre\", \"cage\", \"calgary\", \"calgary\", \"callison\", \"came\", \"came\", \"came\", \"came\", \"came\", \"came\", \"came\", \"came\", \"came\", \"came\", \"came\", \"candida\", \"cannibalism\", \"cape\", \"cape\", \"carbs\", \"carcinogenic\", \"card\", \"card\", \"card\", \"cards\", \"cards\", \"cards\", \"cards\", \"cars\", \"cars\", \"cars\", \"cars\", \"cars\", \"catholic\", \"catholic\", \"cause\", \"cause\", \"cause\", \"cause\", \"cause\", \"cause\", \"cause\", \"cause\", \"cause\", \"cause\", \"cellular\", \"cellular\", \"centaur\", \"center\", \"center\", \"center\", \"center\", \"center\", \"center\", \"center\", \"centris\", \"channels\", \"channels\", \"char\", \"chastity\", \"check\", \"check\", \"check\", \"check\", \"check\", \"check\", \"check\", \"check\", \"check\", \"check\", \"check\", \"check\", \"check\", \"chicago\", \"chicago\", \"chicago\", \"chicago\", \"child\", \"child\", \"child\", \"child\", \"child\", \"child\", \"child\", \"children\", \"children\", \"children\", \"children\", \"children\", \"children\", \"children\", \"children\", \"children\", \"children\", \"chip\", \"chip\", \"chip\", \"chip\", \"chipset\", \"chopin\", \"christ\", \"christ\", \"christian\", \"christian\", \"christian\", \"christian\", \"christianity\", \"christianity\", \"christianity\", \"christians\", \"christians\", \"chronic\", \"church\", \"church\", \"church\", \"chzd\", \"chzv\", \"cica\", \"cigarettes\", \"cipher\", \"ciphers\", \"circuit\", \"circuit\", \"circuit\", \"circuits\", \"circuits\", \"circuits\", \"circular\", \"citizenship\", \"civilians\", \"civilians\", \"claim\", \"claim\", \"claim\", \"claim\", \"claim\", \"claim\", \"claim\", \"classified\", \"clayton\", \"clayton\", \"clayton\", \"clemens\", \"clement\", \"client\", \"client\", \"client\", \"clients\", \"clients\", \"clinton\", \"clinton\", \"clipper\", \"clock\", \"clock\", \"clock\", \"clock\", \"clock\", \"clockwise\", \"clone\", \"clone\", \"clones\", \"cmos\", \"coach\", \"cobb\", \"code\", \"code\", \"code\", \"code\", \"code\", \"code\", \"code\", \"code\", \"coding\", \"coli\", \"color\", \"color\", \"color\", \"color\", \"color\", \"color\", \"colormap\", \"colostate\", \"colostate\", \"colostate\", \"come\", \"come\", \"come\", \"come\", \"come\", \"come\", \"come\", \"come\", \"come\", \"come\", \"come\", \"come\", \"comet\", \"comics\", \"communications\", \"communications\", \"communications\", \"communications\", \"communications\", \"comp\", \"comp\", \"comp\", \"comp\", \"comp\", \"comp\", \"compass\", \"compile\", \"compile\", \"components\", \"components\", \"components\", \"components\", \"compound\", \"compound\", \"compression\", \"compression\", \"compuserve\", \"compuserve\", \"computer\", \"computer\", \"computer\", \"computer\", \"computer\", \"computer\", \"computer\", \"concealed\", \"concealed\", \"conclusion\", \"conclusion\", \"conclusion\", \"conclusions\", \"condition\", \"condition\", \"condition\", \"condition\", \"conductor\", \"confess\", \"configure\", \"congress\", \"congress\", \"congress\", \"congress\", \"congress\", \"conner\", \"constitution\", \"constitution\", \"contact\", \"contact\", \"contact\", \"contact\", \"contact\", \"contact\", \"contact\", \"contact\", \"contact\", \"contact\", \"contact\", \"contact\", \"contest\", \"contest\", \"contest\", \"contest\", \"contest\", \"context\", \"context\", \"context\", \"contrib\", \"control\", \"control\", \"control\", \"control\", \"control\", \"control\", \"control\", \"control\", \"control\", \"control\", \"control\", \"control\", \"control\", \"controller\", \"controller\", \"controllers\", \"convenient\", \"convenient\", \"convenient\", \"convenient\", \"convenient\", \"convertible\", \"cooper\", \"cooper\", \"copies\", \"copies\", \"copies\", \"copies\", \"copies\", \"copies\", \"copies\", \"coprocessor\", \"corn\", \"cornell\", \"cornell\", \"cornell\", \"cornell\", \"cornell\", \"cornell\", \"cost\", \"cost\", \"cost\", \"cost\", \"cost\", \"cost\", \"cost\", \"cost\", \"cost\", \"cost\", \"could\", \"could\", \"could\", \"could\", \"could\", \"could\", \"could\", \"could\", \"could\", \"could\", \"could\", \"could\", \"could\", \"could\", \"countersteering\", \"countries\", \"countries\", \"countries\", \"countries\", \"countries\", \"country\", \"country\", \"country\", \"country\", \"country\", \"country\", \"country\", \"country\", \"country\", \"country\", \"cover\", \"cover\", \"cover\", \"cover\", \"cover\", \"cover\", \"cover\", \"cover\", \"cover\", \"cover\", \"cover\", \"cover\", \"cover\", \"cramer\", \"crime\", \"crime\", \"crime\", \"crime\", \"crimes\", \"crimes\", \"crimes\", \"criminal\", \"criminal\", \"criminal\", \"criminal\", \"cruiser\", \"crypt\", \"cryptanalysis\", \"crypto\", \"cryptographic\", \"cryptography\", \"cryptology\", \"crystal\", \"ctrl\", \"cunyvm\", \"cure\", \"current\", \"current\", \"current\", \"current\", \"current\", \"current\", \"current\", \"current\", \"current\", \"current\", \"current\", \"current\", \"current\", \"cursor\", \"cview\", \"cycle\", \"cycle\", \"cycle\", \"cyprus\", \"cyprus\", \"dallas\", \"dallas\", \"dangerous\", \"dangerous\", \"dangerous\", \"dangerous\", \"dangerous\", \"darken\", \"data\", \"data\", \"data\", \"data\", \"data\", \"data\", \"dave\", \"dave\", \"dave\", \"dave\", \"dave\", \"dave\", \"dave\", \"dave\", \"david\", \"david\", \"david\", \"david\", \"david\", \"david\", \"david\", \"david\", \"david\", \"david\", \"david\", \"david\", \"david\", \"david\", \"david\", \"david\", \"davidians\", \"davidsson\", \"davis\", \"davis\", \"davis\", \"davis\", \"davis\", \"dead\", \"dead\", \"dead\", \"dead\", \"dead\", \"dead\", \"dead\", \"dead\", \"dead\", \"dead\", \"deaf\", \"dealer\", \"dealer\", \"dealer\", \"dealership\", \"debugger\", \"decrypt\", \"defamation\", \"defaults\", \"defending\", \"defense\", \"defense\", \"defense\", \"defense\", \"defense\", \"defensively\", \"deficit\", \"definition\", \"definition\", \"definition\", \"definition\", \"denning\", \"design\", \"design\", \"design\", \"design\", \"design\", \"design\", \"design\", \"deskjet\", \"desy\", \"detector\", \"detector\", \"detectors\", \"detroit\", \"development\", \"development\", \"development\", \"development\", \"development\", \"development\", \"development\", \"development\", \"devils\", \"diamond\", \"diego\", \"diego\", \"diet\", \"different\", \"different\", \"different\", \"different\", \"different\", \"different\", \"different\", \"different\", \"different\", \"different\", \"different\", \"different\", \"digex\", \"digex\", \"digex\", \"digit\", \"directory\", \"directory\", \"directory\", \"disagree\", \"disagree\", \"disagree\", \"disagree\", \"disease\", \"disease\", \"disk\", \"disk\", \"disk\", \"disk\", \"disks\", \"disks\", \"disks\", \"display\", \"display\", \"display\", \"display\", \"display\", \"distributed\", \"distributed\", \"distributed\", \"distributed\", \"distributed\", \"division\", \"division\", \"division\", \"division\", \"division\", \"doctor\", \"doctors\", \"dortmund\", \"dramatically\", \"dramatically\", \"dramatically\", \"drive\", \"drive\", \"drive\", \"driver\", \"driver\", \"driver\", \"driver\", \"driver\", \"drivers\", \"drivers\", \"drivers\", \"drivers\", \"drives\", \"driving\", \"driving\", \"driving\", \"driving\", \"driving\", \"driving\", \"drugs\", \"drugs\", \"dscomsa\", \"dseg\", \"dwyer\", \"dyer\", \"earth\", \"earth\", \"earth\", \"easter\", \"echo\", \"echo\", \"eddie\", \"eddie\", \"eddie\", \"education\", \"education\", \"education\", \"education\", \"education\", \"education\", \"education\", \"education\", \"ehrlich\", \"ehrlich\", \"eisa\", \"eisa\", \"election\", \"electronics\", \"electronics\", \"emacs\", \"email\", \"email\", \"email\", \"email\", \"email\", \"email\", \"email\", \"emergence\", \"enclave\", \"encrypt\", \"encrypted\", \"encryption\", \"energy\", \"energy\", \"energy\", \"energy\", \"energy\", \"enforcement\", \"enforcement\", \"engine\", \"engine\", \"engine\", \"engine\", \"enough\", \"enough\", \"enough\", \"enough\", \"enough\", \"enough\", \"enough\", \"enough\", \"enough\", \"enough\", \"enough\", \"enough\", \"enough\", \"enough\", \"entries\", \"entry\", \"entry\", \"entry\", \"eqtm\", \"erich\", \"erzurum\", \"escrow\", \"escrowed\", \"esdi\", \"eskimo\", \"espn\", \"ethernet\", \"evans\", \"even\", \"even\", \"even\", \"even\", \"even\", \"even\", \"even\", \"even\", \"even\", \"even\", \"even\", \"even\", \"even\", \"even\", \"even\", \"evidence\", \"evidence\", \"evidence\", \"evidence\", \"evidence\", \"evidence\", \"excellent\", \"excellent\", \"excellent\", \"excellent\", \"excellent\", \"exist\", \"exist\", \"exist\", \"exist\", \"exist\", \"exist\", \"existence\", \"existence\", \"existence\", \"existence\", \"expn\", \"export\", \"export\", \"export\", \"extensions\", \"fact\", \"fact\", \"fact\", \"fact\", \"fact\", \"fact\", \"fact\", \"fact\", \"fact\", \"fact\", \"fact\", \"fact\", \"faith\", \"faith\", \"fake\", \"fake\", \"fake\", \"fallacy\", \"fans\", \"farid\", \"fast\", \"fast\", \"fast\", \"fast\", \"fast\", \"fast\", \"fast\", \"fast\", \"fast\", \"father\", \"federal\", \"federal\", \"federal\", \"fighters\", \"fijh\", \"file\", \"file\", \"file\", \"file\", \"file\", \"filename\", \"files\", \"files\", \"files\", \"files\", \"files\", \"fire\", \"fire\", \"fire\", \"fire\", \"fire\", \"fire\", \"fire\", \"fire\", \"firearm\", \"firearm\", \"firearms\", \"firearms\", \"first\", \"first\", \"first\", \"first\", \"first\", \"first\", \"first\", \"first\", \"first\", \"first\", \"first\", \"first\", \"first\", \"first\", \"first\", \"first\", \"first\", \"fischer\", \"flaws\", \"flight\", \"flight\", \"floppies\", \"floppy\", \"floppy\", \"floptical\", \"flyers\", \"following\", \"following\", \"following\", \"following\", \"following\", \"following\", \"following\", \"following\", \"following\", \"following\", \"following\", \"following\", \"following\", \"following\", \"font\", \"font\", \"food\", \"food\", \"food\", \"foods\", \"forged\", \"formats\", \"formats\", \"formatted\", \"forwarded\", \"fprintf\", \"freeware\", \"frequencies\", \"front\", \"front\", \"front\", \"front\", \"front\", \"front\", \"front\", \"front\", \"front\", \"front\", \"front\", \"front\", \"fuse\", \"gainey\", \"game\", \"game\", \"game\", \"game\", \"games\", \"gang\", \"gang\", \"gateway\", \"gathered\", \"gathered\", \"gaza\", \"gazans\", \"gender\", \"genocide\", \"geoffrey\", \"getting\", \"getting\", \"getting\", \"getting\", \"getting\", \"getting\", \"getting\", \"getting\", \"getting\", \"getting\", \"getting\", \"gfci\", \"ghetto\", \"ghost\", \"ghost\", \"ghost\", \"ghostscript\", \"gideon\", \"gilmour\", \"gizw\", \"gizwt\", \"goal\", \"goal\", \"goal\", \"goal\", \"goal\", \"goal\", \"goal\", \"gods\", \"going\", \"going\", \"going\", \"going\", \"going\", \"going\", \"going\", \"going\", \"going\", \"going\", \"going\", \"going\", \"going\", \"going\", \"good\", \"good\", \"good\", \"good\", \"good\", \"good\", \"good\", \"good\", \"good\", \"good\", \"good\", \"good\", \"good\", \"good\", \"good\", \"gordon\", \"gordon\", \"government\", \"government\", \"government\", \"government\", \"government\", \"government\", \"graphics\", \"graphics\", \"graphics\", \"graphics\", \"graphics\", \"grayscale\", \"greece\", \"greek\", \"greek\", \"greeks\", \"greeks\", \"greeks\", \"ground\", \"ground\", \"ground\", \"ground\", \"ground\", \"ground\", \"ground\", \"ground\", \"ground\", \"ground\", \"grounding\", \"group\", \"group\", \"group\", \"group\", \"group\", \"group\", \"group\", \"group\", \"group\", \"group\", \"group\", \"gtoal\", \"gulf\", \"guns\", \"guns\", \"hall\", \"hall\", \"hall\", \"hall\", \"hall\", \"hall\", \"hall\", \"hallam\", \"hamas\", \"handgun\", \"handguns\", \"handler\", \"hard\", \"hard\", \"hard\", \"hard\", \"hard\", \"hard\", \"hard\", \"hard\", \"hard\", \"hard\", \"harddisk\", \"hardware\", \"hardware\", \"hardware\", \"hardware\", \"hardware\", \"harley\", \"hawks\", \"hawks\", \"health\", \"health\", \"heaven\", \"hebrew\", \"helicopter\", \"helicopter\", \"hellman\", \"helmet\", \"help\", \"help\", \"help\", \"help\", \"help\", \"help\", \"help\", \"help\", \"help\", \"help\", \"help\", \"help\", \"help\", \"hemisphere\", \"hendricks\", \"henrik\", \"henrik\", \"henry\", \"henry\", \"hernlem\", \"hicnet\", \"high\", \"high\", \"high\", \"high\", \"high\", \"high\", \"high\", \"high\", \"high\", \"high\", \"high\", \"high\", \"hitter\", \"hitter\", \"hockey\", \"hojali\", \"holland\", \"holland\", \"holocaust\", \"holocaust\", \"holy\", \"homeland\", \"homicide\", \"homicides\", \"homosexual\", \"homosexuality\", \"homosexuality\", \"homosexuals\", \"hong\", \"hong\", \"hrudey\", \"hulk\", \"human\", \"human\", \"human\", \"human\", \"human\", \"human\", \"human\", \"human\", \"humankind\", \"hunting\", \"icon\", \"icons\", \"ieee\", \"ieee\", \"image\", \"image\", \"image\", \"image\", \"image\", \"image\", \"images\", \"images\", \"images\", \"images\", \"imake\", \"immune\", \"implicated\", \"improper\", \"includes\", \"includes\", \"includes\", \"includes\", \"includes\", \"includes\", \"includes\", \"incorporate\", \"infection\", \"info\", \"info\", \"info\", \"info\", \"info\", \"info\", \"info\", \"info\", \"information\", \"information\", \"information\", \"information\", \"information\", \"information\", \"information\", \"information\", \"information\", \"information\", \"information\", \"information\", \"information\", \"information\", \"init\", \"initiative\", \"input\", \"input\", \"inside\", \"inside\", \"inside\", \"inside\", \"inside\", \"inside\", \"inside\", \"inside\", \"inside\", \"inside\", \"insurance\", \"insurance\", \"insurance\", \"intake\", \"intellect\", \"internet\", \"internet\", \"internet\", \"internet\", \"internet\", \"internet\", \"interviews\", \"interviews\", \"invalid\", \"invalid\", \"ioccc\", \"ireland\", \"irrelevant\", \"irrelevant\", \"isbn\", \"islam\", \"island\", \"island\", \"island\", \"island\", \"island\", \"islanders\", \"isles\", \"israel\", \"israel\", \"israeli\", \"israelis\", \"istanbul\", \"jacket\", \"jaeger\", \"james\", \"james\", \"james\", \"james\", \"james\", \"james\", \"james\", \"james\", \"james\", \"james\", \"jesus\", \"jewish\", \"jewish\", \"jewish\", \"jews\", \"jews\", \"jobs\", \"jobs\", \"john\", \"john\", \"john\", \"john\", \"john\", \"john\", \"john\", \"john\", \"john\", \"john\", \"john\", \"john\", \"john\", \"jpeg\", \"jpeg\", \"jpwu\", \"judas\", \"judges\", \"judges\", \"judges\", \"jumper\", \"jumper\", \"jumpers\", \"kaldis\", \"karabakh\", \"karina\", \"kevin\", \"kevin\", \"kevin\", \"kevin\", \"kevin\", \"kevin\", \"keyboard\", \"keyboard\", \"keyboard\", \"keys\", \"keys\", \"keys\", \"keywords\", \"keywords\", \"kidney\", \"kingman\", \"kings\", \"kings\", \"kinsey\", \"kitchen\", \"know\", \"know\", \"know\", \"know\", \"know\", \"know\", \"know\", \"know\", \"know\", \"know\", \"know\", \"know\", \"know\", \"know\", \"know\", \"kolodny\", \"koresh\", \"koresh\", \"koresh\", \"kratz\", \"kurds\", \"kurds\", \"kurds\", \"labels\", \"labels\", \"labor\", \"labor\", \"laboratories\", \"land\", \"land\", \"land\", \"land\", \"land\", \"land\", \"land\", \"landon\", \"laptop\", \"large\", \"large\", \"large\", \"large\", \"large\", \"large\", \"large\", \"large\", \"large\", \"large\", \"large\", \"large\", \"large\", \"large\", \"larson\", \"last\", \"last\", \"last\", \"last\", \"last\", \"last\", \"last\", \"last\", \"last\", \"last\", \"last\", \"last\", \"last\", \"last\", \"last\", \"last\", \"last\", \"laughter\", \"launch\", \"launched\", \"launches\", \"laws\", \"laws\", \"laws\", \"laws\", \"laws\", \"laws\", \"lawsuit\", \"lciii\", \"leafs\", \"league\", \"league\", \"league\", \"lebanese\", \"lebanon\", \"left\", \"left\", \"left\", \"left\", \"left\", \"left\", \"left\", \"left\", \"left\", \"left\", \"left\", \"left\", \"left\", \"left\", \"leland\", \"leland\", \"level\", \"level\", \"level\", \"level\", \"level\", \"level\", \"level\", \"level\", \"level\", \"liar\", \"liar\", \"liar\", \"library\", \"library\", \"library\", \"library\", \"library\", \"library\", \"library\", \"libxmu\", \"libxmu\", \"life\", \"life\", \"life\", \"life\", \"life\", \"life\", \"life\", \"life\", \"like\", \"like\", \"like\", \"like\", \"like\", \"like\", \"like\", \"like\", \"like\", \"like\", \"like\", \"like\", \"like\", \"like\", \"like\", \"like\", \"lincoln\", \"line\", \"line\", \"line\", \"line\", \"line\", \"line\", \"line\", \"line\", \"line\", \"line\", \"line\", \"line\", \"line\", \"linknet\", \"linux\", \"list\", \"list\", \"list\", \"list\", \"list\", \"list\", \"list\", \"list\", \"list\", \"list\", \"list\", \"list\", \"list\", \"list\", \"listserv\", \"little\", \"little\", \"little\", \"little\", \"little\", \"little\", \"little\", \"little\", \"little\", \"little\", \"little\", \"little\", \"little\", \"livesey\", \"lmsc\", \"lock\", \"lock\", \"lock\", \"lock\", \"lock\", \"lock\", \"lock\", \"lock\", \"lock\", \"lockheed\", \"long\", \"long\", \"long\", \"long\", \"long\", \"long\", \"long\", \"long\", \"long\", \"long\", \"long\", \"long\", \"long\", \"long\", \"long\", \"long\", \"lopez\", \"lord\", \"lord\", \"louisville\", \"lunar\", \"lunatic\", \"lyme\", \"machine\", \"machine\", \"machine\", \"machine\", \"machine\", \"machine\", \"machine\", \"machine\", \"machine\", \"magellan\", \"magi\", \"magnus\", \"magnus\", \"magnus\", \"magpie\", \"mahan\", \"mail\", \"mail\", \"mail\", \"mail\", \"mail\", \"mail\", \"mail\", \"mailing\", \"mailing\", \"make\", \"make\", \"make\", \"make\", \"make\", \"make\", \"make\", \"make\", \"make\", \"make\", \"make\", \"make\", \"make\", \"make\", \"maker\", \"male\", \"male\", \"male\", \"male\", \"male\", \"male\", \"mamma\", \"manager\", \"manager\", \"manager\", \"manager\", \"manager\", \"manes\", \"manual\", \"manual\", \"manual\", \"manual\", \"manual\", \"manuals\", \"manuals\", \"manuals\", \"manuals\", \"manuals\", \"many\", \"many\", \"many\", \"many\", \"many\", \"many\", \"many\", \"many\", \"many\", \"many\", \"many\", \"many\", \"many\", \"many\", \"many\", \"many\", \"many\", \"marriage\", \"mars\", \"martin\", \"martin\", \"martin\", \"martin\", \"martin\", \"mathew\", \"matthew\", \"matthew\", \"matthew\", \"maybe\", \"maybe\", \"maybe\", \"maybe\", \"maybe\", \"maybe\", \"maybe\", \"maybe\", \"maybe\", \"maybe\", \"maybe\", \"maybe\", \"mbxn\", \"mchp\", \"mean\", \"mean\", \"mean\", \"mean\", \"mean\", \"mean\", \"mean\", \"mean\", \"mean\", \"mean\", \"memory\", \"memory\", \"memory\", \"memory\", \"memory\", \"memory\", \"michael\", \"michael\", \"michael\", \"michael\", \"michael\", \"michael\", \"michael\", \"michael\", \"michael\", \"michael\", \"michael\", \"michael\", \"microsoft\", \"might\", \"might\", \"might\", \"might\", \"might\", \"might\", \"might\", \"might\", \"might\", \"might\", \"might\", \"might\", \"might\", \"mike\", \"mike\", \"mike\", \"mike\", \"mike\", \"mike\", \"mike\", \"mike\", \"mike\", \"mike\", \"mikey\", \"miles\", \"miles\", \"miles\", \"miles\", \"miles\", \"militia\", \"militia\", \"milwaukee\", \"milwaukee\", \"mime\", \"ministry\", \"minnesota\", \"minnesota\", \"mission\", \"mission\", \"mission\", \"missions\", \"missions\", \"mitre\", \"mitre\", \"mitre\", \"mkentry\", \"mode\", \"mode\", \"mode\", \"mode\", \"mode\", \"mode\", \"model\", \"model\", \"model\", \"model\", \"model\", \"model\", \"model\", \"model\", \"model\", \"modem\", \"modem\", \"modem\", \"money\", \"money\", \"money\", \"money\", \"money\", \"money\", \"money\", \"money\", \"monitor\", \"monitor\", \"montreal\", \"moon\", \"moon\", \"moral\", \"moral\", \"morality\", \"morals\", \"mormon\", \"mormons\", \"morris\", \"morris\", \"motif\", \"motorcycle\", \"motorcycles\", \"motto\", \"motto\", \"mouse\", \"mouse\", \"mozumder\", \"msstate\", \"much\", \"much\", \"much\", \"much\", \"much\", \"much\", \"much\", \"much\", \"much\", \"much\", \"much\", \"much\", \"much\", \"murdoch\", \"murdoch\", \"murdoch\", \"music\", \"music\", \"music\", \"music\", \"music\", \"music\", \"music\", \"must\", \"must\", \"must\", \"must\", \"must\", \"must\", \"must\", \"must\", \"must\", \"must\", \"must\", \"must\", \"must\", \"must\", \"must\", \"must\", \"myers\", \"nambla\", \"name\", \"name\", \"name\", \"name\", \"name\", \"name\", \"name\", \"name\", \"name\", \"name\", \"name\", \"name\", \"name\", \"name\", \"name\", \"name\", \"nasa\", \"nasa\", \"national\", \"national\", \"national\", \"national\", \"national\", \"national\", \"national\", \"national\", \"nazi\", \"nazi\", \"nazi\", \"need\", \"need\", \"need\", \"need\", \"need\", \"need\", \"need\", \"need\", \"need\", \"need\", \"need\", \"need\", \"need\", \"need\", \"nestorius\", \"netcom\", \"netcom\", \"netcom\", \"netcom\", \"netcom\", \"netcom\", \"netcom\", \"netcom\", \"networking\", \"neutral\", \"neutral\", \"neutral\", \"neutral\", \"news\", \"news\", \"news\", \"news\", \"news\", \"news\", \"news\", \"news\", \"news\", \"news\", \"news\", \"news\", \"news\", \"news\", \"next\", \"next\", \"next\", \"next\", \"next\", \"next\", \"next\", \"next\", \"next\", \"next\", \"next\", \"next\", \"next\", \"next\", \"nkjz\", \"nolan\", \"noll\", \"noring\", \"nrhj\", \"nriz\", \"nrizwt\", \"nubus\", \"nuclear\", \"nuclear\", \"nuclear\", \"nuclear\", \"null\", \"null\", \"number\", \"number\", \"number\", \"number\", \"number\", \"number\", \"number\", \"number\", \"number\", \"number\", \"number\", \"number\", \"number\", \"obfuscated\", \"objective\", \"objective\", \"objectively\", \"observatory\", \"occupation\", \"occupation\", \"occupied\", \"odometer\", \"offer\", \"offer\", \"offer\", \"offer\", \"offer\", \"offer\", \"officer\", \"officer\", \"officer\", \"officer\", \"offset\", \"ohio\", \"ohio\", \"ohio\", \"ohio\", \"ohio\", \"ohio\", \"ohio\", \"ohio\", \"oname\", \"online\", \"online\", \"onur\", \"open\", \"open\", \"open\", \"open\", \"open\", \"open\", \"open\", \"open\", \"open\", \"open\", \"open\", \"open\", \"open\", \"openwindows\", \"oppression\", \"optilink\", \"orbit\", \"orbital\", \"organisation\", \"organisation\", \"organization\", \"organization\", \"organization\", \"organization\", \"organization\", \"organization\", \"organization\", \"organization\", \"organization\", \"organization\", \"orientation\", \"orientation\", \"orioles\", \"ottoman\", \"outbreak\", \"outbreak\", \"outlet\", \"outlets\", \"outlets\", \"output\", \"output\", \"outs\", \"ozzie\", \"pace\", \"pace\", \"package\", \"package\", \"package\", \"package\", \"package\", \"package\", \"packaging\", \"pain\", \"pain\", \"pain\", \"palestine\", \"palestinian\", \"palestinians\", \"palmer\", \"parent\", \"parent\", \"parent\", \"parent\", \"parent\", \"parent\", \"parity\", \"parse\", \"part\", \"part\", \"part\", \"part\", \"part\", \"part\", \"part\", \"part\", \"part\", \"part\", \"part\", \"part\", \"part\", \"part\", \"part\", \"part\", \"partners\", \"partners\", \"partners\", \"partners\", \"passages\", \"passages\", \"passenger\", \"passenger\", \"patent\", \"patents\", \"patient\", \"patient\", \"patients\", \"patients\", \"patrick\", \"patrick\", \"patrick\", \"patrick\", \"paul\", \"paul\", \"paul\", \"paul\", \"paul\", \"paul\", \"paul\", \"paul\", \"paul\", \"paul\", \"paul\", \"paul\", \"payload\", \"peace\", \"peace\", \"peace\", \"peace\", \"pedal\", \"penet\", \"penguins\", \"pens\", \"pentium\", \"pentium\", \"people\", \"people\", \"people\", \"people\", \"people\", \"people\", \"people\", \"people\", \"people\", \"people\", \"people\", \"people\", \"people\", \"percent\", \"percent\", \"percent\", \"percent\", \"percent\", \"percent\", \"percent\", \"period\", \"period\", \"period\", \"period\", \"period\", \"period\", \"period\", \"period\", \"period\", \"period\", \"person\", \"person\", \"person\", \"person\", \"person\", \"person\", \"person\", \"person\", \"person\", \"person\", \"person\", \"philadelphia\", \"philadelphia\", \"philadelphia\", \"philadelphia\", \"phillies\", \"phone\", \"phone\", \"phone\", \"phone\", \"phone\", \"phone\", \"phones\", \"pitcher\", \"pitching\", \"pitt\", \"pitt\", \"pitt\", \"pittsburg\", \"pittsburgh\", \"pittsburgh\", \"pittsburgh\", \"plaintext\", \"planetary\", \"plants\", \"play\", \"play\", \"play\", \"play\", \"play\", \"play\", \"play\", \"played\", \"played\", \"played\", \"played\", \"played\", \"player\", \"players\", \"playing\", \"playing\", \"playing\", \"playing\", \"playing\", \"playoff\", \"playoffs\", \"please\", \"please\", \"please\", \"please\", \"please\", \"please\", \"please\", \"please\", \"please\", \"please\", \"please\", \"please\", \"please\", \"please\", \"please\", \"plymouth\", \"pmfq\", \"pnei\", \"point\", \"point\", \"point\", \"point\", \"point\", \"point\", \"point\", \"point\", \"point\", \"point\", \"point\", \"point\", \"point\", \"point\", \"point\", \"pointer\", \"points\", \"points\", \"points\", \"points\", \"points\", \"points\", \"points\", \"points\", \"points\", \"police\", \"police\", \"police\", \"police\", \"police\", \"policy\", \"policy\", \"policy\", \"policy\", \"policy\", \"political\", \"political\", \"political\", \"political\", \"political\", \"political\", \"political\", \"political\", \"pope\", \"pope\", \"population\", \"population\", \"population\", \"population\", \"population\", \"population\", \"population\", \"port\", \"port\", \"port\", \"ported\", \"power\", \"power\", \"power\", \"power\", \"power\", \"power\", \"power\", \"power\", \"power\", \"power\", \"power\", \"power\", \"practicing\", \"president\", \"president\", \"prevalence\", \"price\", \"price\", \"price\", \"price\", \"price\", \"price\", \"price\", \"price\", \"price\", \"price\", \"prices\", \"prices\", \"prices\", \"prices\", \"prices\", \"printer\", \"printer\", \"printf\", \"privacy\", \"private\", \"private\", \"private\", \"private\", \"private\", \"probably\", \"probably\", \"probably\", \"probably\", \"probably\", \"probably\", \"probably\", \"probably\", \"probably\", \"probably\", \"probably\", \"probably\", \"probably\", \"probably\", \"probably\", \"probe\", \"problem\", \"problem\", \"problem\", \"problem\", \"problem\", \"problem\", \"problem\", \"problem\", \"problem\", \"problem\", \"proceedings\", \"proceedings\", \"processing\", \"processing\", \"processing\", \"processors\", \"program\", \"program\", \"program\", \"program\", \"program\", \"program\", \"program\", \"project\", \"project\", \"project\", \"project\", \"project\", \"project\", \"promiscuous\", \"prong\", \"propaganda\", \"propaganda\", \"propaganda\", \"prophecy\", \"proposal\", \"proposal\", \"proposal\", \"proposal\", \"protect\", \"protect\", \"protect\", \"protect\", \"protect\", \"protect\", \"protect\", \"protect\", \"prototype\", \"providence\", \"pseudo\", \"psuvm\", \"psuvm\", \"public\", \"public\", \"public\", \"public\", \"public\", \"public\", \"public\", \"public\", \"publisher\", \"puck\", \"purdue\", \"purdue\", \"purdue\", \"purdue\", \"quack\", \"quadra\", \"quality\", \"quality\", \"quality\", \"quality\", \"quality\", \"quality\", \"quality\", \"quantity\", \"quebec\", \"quebec\", \"question\", \"question\", \"question\", \"question\", \"question\", \"question\", \"question\", \"question\", \"question\", \"question\", \"question\", \"question\", \"question\", \"question\", \"question\", \"quicktime\", \"quran\", \"radar\", \"radar\", \"radiosity\", \"radius\", \"radius\", \"radius\", \"radius\", \"raid\", \"rangers\", \"rangers\", \"rational\", \"rational\", \"rchz\", \"readers\", \"readers\", \"readers\", \"readers\", \"readers\", \"really\", \"really\", \"really\", \"really\", \"really\", \"really\", \"really\", \"really\", \"really\", \"really\", \"really\", \"really\", \"really\", \"really\", \"rear\", \"rear\", \"rear\", \"reason\", \"reason\", \"reason\", \"reason\", \"reason\", \"reason\", \"reason\", \"reason\", \"reason\", \"reason\", \"reason\", \"recchi\", \"rectangle\", \"religion\", \"religion\", \"religions\", \"religions\", \"religious\", \"religious\", \"religious\", \"religious\", \"representing\", \"republic\", \"republic\", \"republic\", \"republic\", \"republican\", \"republicans\", \"request\", \"request\", \"request\", \"request\", \"request\", \"request\", \"request\", \"request\", \"requests\", \"requests\", \"requests\", \"research\", \"research\", \"research\", \"research\", \"research\", \"research\", \"research\", \"research\", \"resistor\", \"restaurant\", \"resurrection\", \"retail\", \"retard\", \"ride\", \"ride\", \"ride\", \"rider\", \"rider\", \"riders\", \"riding\", \"right\", \"right\", \"right\", \"right\", \"right\", \"right\", \"right\", \"right\", \"right\", \"right\", \"right\", \"right\", \"right\", \"right\", \"rights\", \"rights\", \"rights\", \"rights\", \"rights\", \"rights\", \"rights\", \"riley\", \"ripem\", \"rlhz\", \"road\", \"road\", \"road\", \"road\", \"road\", \"road\", \"road\", \"road\", \"road\", \"road\", \"roads\", \"roads\", \"roby\", \"rockefeller\", \"rocket\", \"rocket\", \"rocket\", \"rocket\", \"rocket\", \"rockets\", \"romans\", \"romulus\", \"rows\", \"rtsg\", \"running\", \"running\", \"running\", \"running\", \"running\", \"running\", \"running\", \"running\", \"running\", \"runs\", \"runs\", \"runs\", \"runs\", \"runs\", \"runs\", \"runs\", \"russian\", \"russian\", \"russian\", \"russian\", \"russian\", \"ryan\", \"ryan\", \"ryan\", \"ryan\", \"ryan\", \"sabbath\", \"said\", \"said\", \"said\", \"said\", \"said\", \"said\", \"said\", \"said\", \"said\", \"said\", \"said\", \"said\", \"said\", \"said\", \"sale\", \"sale\", \"sale\", \"sale\", \"sale\", \"salvation\", \"sampling\", \"sandvik\", \"sandvik\", \"satellite\", \"satellites\", \"says\", \"says\", \"says\", \"says\", \"says\", \"says\", \"says\", \"says\", \"says\", \"says\", \"says\", \"says\", \"says\", \"says\", \"scheme\", \"scheme\", \"score\", \"scored\", \"scorer\", \"scores\", \"scores\", \"scott\", \"scott\", \"scott\", \"scott\", \"scott\", \"scott\", \"scott\", \"scott\", \"scripture\", \"scripture\", \"scriptures\", \"scsi\", \"sdpa\", \"sdsu\", \"seagate\", \"season\", \"second\", \"second\", \"second\", \"second\", \"second\", \"second\", \"second\", \"second\", \"second\", \"second\", \"second\", \"second\", \"second\", \"second\", \"secret\", \"secret\", \"secret\", \"secret\", \"sect\", \"section\", \"section\", \"section\", \"section\", \"section\", \"section\", \"section\", \"section\", \"section\", \"section\", \"secure\", \"secure\", \"secure\", \"security\", \"security\", \"security\", \"sell\", \"sell\", \"sell\", \"sell\", \"sell\", \"sell\", \"sell\", \"sell\", \"sell\", \"semitism\", \"senate\", \"send\", \"send\", \"send\", \"send\", \"send\", \"send\", \"send\", \"send\", \"send\", \"send\", \"send\", \"send\", \"sentra\", \"serial\", \"serial\", \"serial\", \"series\", \"series\", \"series\", \"series\", \"series\", \"series\", \"series\", \"series\", \"series\", \"series\", \"server\", \"server\", \"server\", \"server\", \"sexual\", \"sexual\", \"shall\", \"shall\", \"shall\", \"shall\", \"shall\", \"shall\", \"shameful\", \"shareware\", \"shareware\", \"sharks\", \"shelling\", \"shipping\", \"shipping\", \"shipping\", \"shipping\", \"ships\", \"ships\", \"shuttle\", \"shuttle\", \"side\", \"side\", \"side\", \"side\", \"side\", \"side\", \"side\", \"side\", \"side\", \"side\", \"side\", \"side\", \"side\", \"siggraph\", \"simm\", \"simms\", \"sins\", \"site\", \"site\", \"site\", \"site\", \"site\", \"site\", \"site\", \"site\", \"site\", \"sites\", \"sites\", \"sites\", \"sites\", \"sites\", \"size\", \"size\", \"size\", \"size\", \"size\", \"size\", \"size\", \"size\", \"size\", \"skepticism\", \"skepticism\", \"skip\", \"skip\", \"sleeve\", \"sleeve\", \"slots\", \"slots\", \"smith\", \"smith\", \"smith\", \"smith\", \"smith\", \"smith\", \"smith\", \"smith\", \"smoke\", \"smoke\", \"smoke\", \"smoke\", \"smokeless\", \"smoking\", \"soderstrom\", \"software\", \"software\", \"software\", \"software\", \"software\", \"software\", \"solar\", \"solar\", \"sold\", \"sold\", \"sold\", \"sold\", \"sold\", \"sold\", \"sold\", \"sold\", \"sold\", \"soldiers\", \"soldiers\", \"solntze\", \"something\", \"something\", \"something\", \"something\", \"something\", \"something\", \"something\", \"something\", \"something\", \"something\", \"something\", \"something\", \"source\", \"source\", \"source\", \"source\", \"source\", \"source\", \"source\", \"source\", \"source\", \"source\", \"space\", \"space\", \"space\", \"space\", \"space\", \"spacecraft\", \"species\", \"speed\", \"speed\", \"speed\", \"speed\", \"speed\", \"speed\", \"spencer\", \"sphere\", \"sphere\", \"spied\", \"spirit\", \"spirit\", \"spirit\", \"springfield\", \"ssto\", \"stalin\", \"stanford\", \"stanford\", \"stanford\", \"stanford\", \"stanford\", \"stanford\", \"stanford\", \"stanford\", \"started\", \"started\", \"started\", \"started\", \"started\", \"started\", \"started\", \"started\", \"started\", \"started\", \"started\", \"starters\", \"starters\", \"state\", \"state\", \"state\", \"state\", \"state\", \"state\", \"state\", \"state\", \"state\", \"state\", \"state\", \"state\", \"state\", \"states\", \"states\", \"states\", \"states\", \"states\", \"states\", \"states\", \"states\", \"states\", \"states\", \"station\", \"station\", \"station\", \"station\", \"station\", \"station\", \"station\", \"station\", \"stderr\", \"stdin\", \"stealth\", \"stealth\", \"stealth\", \"steam\", \"steam\", \"stephanopoulos\", \"stephenson\", \"sternlight\", \"steve\", \"steve\", \"steve\", \"steve\", \"steve\", \"steve\", \"steve\", \"steve\", \"steve\", \"steve\", \"steve\", \"steve\", \"steveh\", \"still\", \"still\", \"still\", \"still\", \"still\", \"still\", \"still\", \"still\", \"still\", \"still\", \"still\", \"still\", \"still\", \"still\", \"still\", \"stimulus\", \"stomach\", \"stratus\", \"stratus\", \"stream\", \"stream\", \"stream\", \"stream\", \"string\", \"string\", \"strong\", \"strong\", \"strong\", \"strong\", \"strong\", \"strong\", \"strong\", \"strong\", \"strong\", \"subject\", \"subject\", \"subject\", \"subject\", \"subject\", \"subject\", \"subject\", \"subject\", \"subject\", \"subject\", \"subject\", \"subject\", \"subject\", \"subject\", \"subjective\", \"suck\", \"suite\", \"suite\", \"sumgait\", \"summaries\", \"sunos\", \"sunos\", \"sunview\", \"sure\", \"sure\", \"sure\", \"sure\", \"sure\", \"sure\", \"sure\", \"sure\", \"sure\", \"sure\", \"sure\", \"sure\", \"sure\", \"surgery\", \"surrender\", \"survivors\", \"svga\", \"swap\", \"symposium\", \"symptoms\", \"symptoms\", \"symptoms\", \"syndrome\", \"syria\", \"syria\", \"syrian\", \"system\", \"system\", \"system\", \"system\", \"system\", \"system\", \"system\", \"system\", \"system\", \"system\", \"systems\", \"systems\", \"systems\", \"systems\", \"systems\", \"systems\", \"systems\", \"systems\", \"take\", \"take\", \"take\", \"take\", \"take\", \"take\", \"take\", \"take\", \"take\", \"take\", \"take\", \"take\", \"take\", \"take\", \"tanks\", \"tanks\", \"tanks\", \"tanks\", \"tape\", \"tape\", \"tape\", \"tape\", \"targa\", \"taurus\", \"tavares\", \"taxes\", \"taxes\", \"taxes\", \"tbxn\", \"tbxom\", \"team\", \"team\", \"team\", \"team\", \"teams\", \"tear\", \"tear\", \"tear\", \"technology\", \"technology\", \"technology\", \"technology\", \"technology\", \"teens\", \"telecommunications\", \"telescope\", \"tempest\", \"tempest\", \"terminals\", \"territories\", \"territory\", \"territory\", \"tesla\", \"testament\", \"testament\", \"thanks\", \"thanks\", \"thanks\", \"thanks\", \"thanks\", \"thanks\", \"thanks\", \"thanks\", \"thanks\", \"thanks\", \"thanks\", \"theists\", \"theodore\", \"theories\", \"therapy\", \"therefore\", \"therefore\", \"therefore\", \"therefore\", \"therefore\", \"therefore\", \"thing\", \"thing\", \"thing\", \"thing\", \"thing\", \"thing\", \"thing\", \"thing\", \"thing\", \"thing\", \"thing\", \"things\", \"things\", \"things\", \"things\", \"things\", \"things\", \"things\", \"things\", \"things\", \"things\", \"think\", \"think\", \"think\", \"think\", \"think\", \"think\", \"think\", \"think\", \"think\", \"think\", \"think\", \"think\", \"think\", \"three\", \"three\", \"three\", \"three\", \"three\", \"three\", \"three\", \"three\", \"three\", \"three\", \"three\", \"three\", \"three\", \"three\", \"tigers\", \"time\", \"time\", \"time\", \"time\", \"time\", \"time\", \"time\", \"time\", \"time\", \"time\", \"time\", \"time\", \"time\", \"time\", \"time\", \"time\", \"tire\", \"tires\", \"title\", \"title\", \"title\", \"title\", \"title\", \"title\", \"title\", \"title\", \"toal\", \"tobacco\", \"tobacco\", \"tokyo\", \"told\", \"told\", \"told\", \"told\", \"told\", \"told\", \"told\", \"told\", \"told\", \"told\", \"tomb\", \"toolkits\", \"toronto\", \"toronto\", \"toronto\", \"toronto\", \"toronto\", \"torque\", \"towers\", \"toyota\", \"toyota\", \"traded\", \"treatment\", \"treatment\", \"treatment\", \"treatment\", \"treatment\", \"treatment\", \"treatments\", \"true\", \"true\", \"true\", \"true\", \"true\", \"true\", \"true\", \"true\", \"true\", \"true\", \"true\", \"truth\", \"truth\", \"truth\", \"truth\", \"tube\", \"tube\", \"tube\", \"tube\", \"turbo\", \"turbo\", \"turbo\", \"turbo\", \"turbo\", \"turkey\", \"turkey\", \"turkish\", \"turkish\", \"turkiye\", \"turks\", \"turks\", \"turn\", \"turn\", \"turn\", \"turn\", \"turn\", \"turn\", \"turn\", \"turn\", \"turn\", \"turn\", \"turn\", \"tutorial\", \"typing\", \"uart\", \"ucsu\", \"udel\", \"udel\", \"udel\", \"udel\", \"uicvm\", \"uiuc\", \"uiuc\", \"uiuc\", \"uiuc\", \"uiuc\", \"uiuc\", \"uiuc\", \"uiuc\", \"uiuc\", \"uiuc\", \"uiuc\", \"unconventional\", \"undefined\", \"united\", \"united\", \"united\", \"united\", \"university\", \"university\", \"university\", \"university\", \"university\", \"university\", \"university\", \"university\", \"university\", \"university\", \"university\", \"university\", \"university\", \"university\", \"unix\", \"unix\", \"unix\", \"unix\", \"unto\", \"uoknor\", \"uoknor\", \"upgraded\", \"upgrades\", \"uranium\", \"urbana\", \"used\", \"used\", \"used\", \"used\", \"used\", \"used\", \"used\", \"used\", \"used\", \"used\", \"used\", \"used\", \"used\", \"used\", \"used\", \"used\", \"usenet\", \"usenet\", \"usenet\", \"usenet\", \"usenet\", \"usenet\", \"usenet\", \"usenet\", \"users\", \"users\", \"users\", \"users\", \"users\", \"users\", \"users\", \"using\", \"using\", \"using\", \"using\", \"using\", \"using\", \"using\", \"using\", \"using\", \"using\", \"using\", \"uuencode\", \"uvic\", \"valve\", \"vehicle\", \"vehicle\", \"vehicle\", \"vehicle\", \"venus\", \"version\", \"version\", \"version\", \"version\", \"version\", \"version\", \"version\", \"version\", \"version\", \"vesa\", \"vesa\", \"video\", \"video\", \"video\", \"video\", \"viewers\", \"villages\", \"villages\", \"villages\", \"viola\", \"virginia\", \"virginia\", \"virginia\", \"virginia\", \"virginia\", \"virginia\", \"virginia\", \"virginia\", \"virginia\", \"virginia\", \"visual\", \"visual\", \"visual\", \"visualization\", \"vitamin\", \"volt\", \"voltage\", \"voltage\", \"volts\", \"vpic\", \"vram\", \"waco\", \"waco\", \"waco\", \"wagon\", \"want\", \"want\", \"want\", \"want\", \"want\", \"want\", \"want\", \"want\", \"want\", \"want\", \"want\", \"want\", \"want\", \"want\", \"want\", \"warsaw\", \"washington\", \"washington\", \"washington\", \"washington\", \"washington\", \"washington\", \"washington\", \"washington\", \"washington\", \"water\", \"water\", \"water\", \"water\", \"water\", \"water\", \"water\", \"water\", \"weapon\", \"weapon\", \"weapon\", \"weapons\", \"weapons\", \"weapons\", \"weaver\", \"week\", \"week\", \"week\", \"week\", \"week\", \"week\", \"week\", \"week\", \"week\", \"week\", \"week\", \"weight\", \"weight\", \"weight\", \"weight\", \"weight\", \"welfare\", \"well\", \"well\", \"well\", \"well\", \"well\", \"well\", \"well\", \"well\", \"well\", \"well\", \"well\", \"well\", \"well\", \"well\", \"well\", \"went\", \"went\", \"went\", \"went\", \"went\", \"went\", \"went\", \"went\", \"went\", \"wheel\", \"wheel\", \"white\", \"white\", \"white\", \"white\", \"white\", \"white\", \"white\", \"white\", \"white\", \"white\", \"white\", \"white\", \"whitespace\", \"widget\", \"widgets\", \"willie\", \"winbench\", \"window\", \"window\", \"window\", \"window\", \"windows\", \"windows\", \"winfield\", \"winfield\", \"winnipeg\", \"wire\", \"wire\", \"wire\", \"wire\", \"wiretap\", \"wiring\", \"wiring\", \"wmbxn\", \"wolverine\", \"woman\", \"woman\", \"woman\", \"woman\", \"woman\", \"woman\", \"woman\", \"women\", \"women\", \"women\", \"women\", \"women\", \"women\", \"women\", \"wordperfect\", \"work\", \"work\", \"work\", \"work\", \"work\", \"work\", \"work\", \"work\", \"work\", \"work\", \"work\", \"work\", \"work\", \"world\", \"world\", \"world\", \"world\", \"world\", \"world\", \"world\", \"world\", \"world\", \"world\", \"world\", \"world\", \"world\", \"world\", \"world\", \"world\", \"world\", \"worship\", \"worship\", \"would\", \"would\", \"would\", \"would\", \"would\", \"would\", \"would\", \"would\", \"would\", \"would\", \"would\", \"would\", \"would\", \"would\", \"would\", \"would\", \"would\", \"writes\", \"writes\", \"writes\", \"writes\", \"writes\", \"writes\", \"writes\", \"writes\", \"writes\", \"writes\", \"writes\", \"writes\", \"writes\", \"writes\", \"writes\", \"writes\", \"writes\", \"wrong\", \"wrong\", \"wrong\", \"wrong\", \"wrong\", \"wrong\", \"wrong\", \"wrong\", \"wrong\", \"wrong\", \"wrong\", \"wrong\", \"wuarchive\", \"wwhj\", \"wwiz\", \"xlib\", \"xputimage\", \"xsun\", \"xterm\", \"xvoid\", \"yalcin\", \"yankees\", \"yankees\", \"yassin\", \"year\", \"year\", \"year\", \"year\", \"year\", \"year\", \"year\", \"year\", \"year\", \"year\", \"year\", \"year\", \"year\", \"years\", \"years\", \"years\", \"years\", \"years\", \"years\", \"years\", \"years\", \"years\", \"years\", \"years\", \"years\", \"years\", \"yeast\", \"yigal\", \"yorn\", \"yount\", \"zionist\", \"zrck\"]}, \"R\": 30, \"lambda.step\": 0.01, \"plot.opts\": {\"xlab\": \"PC1\", \"ylab\": \"PC2\"}, \"topic.order\": [19, 12, 2, 1, 10, 14, 5, 13, 16, 17, 18, 9, 15, 7, 8, 6, 20, 11, 4, 3]};\n",
              "\n",
              "function LDAvis_load_lib(url, callback){\n",
              "  var s = document.createElement('script');\n",
              "  s.src = url;\n",
              "  s.async = true;\n",
              "  s.onreadystatechange = s.onload = callback;\n",
              "  s.onerror = function(){console.warn(\"failed to load library \" + url);};\n",
              "  document.getElementsByTagName(\"head\")[0].appendChild(s);\n",
              "}\n",
              "\n",
              "if(typeof(LDAvis) !== \"undefined\"){\n",
              "   // already loaded: just create the visualization\n",
              "   !function(LDAvis){\n",
              "       new LDAvis(\"#\" + \"ldavis_el621406706846865444390200299\", ldavis_el621406706846865444390200299_data);\n",
              "   }(LDAvis);\n",
              "}else if(typeof define === \"function\" && define.amd){\n",
              "   // require.js is available: use it to load d3/LDAvis\n",
              "   require.config({paths: {d3: \"https://d3js.org/d3.v5\"}});\n",
              "   require([\"d3\"], function(d3){\n",
              "      window.d3 = d3;\n",
              "      LDAvis_load_lib(\"https://cdn.jsdelivr.net/gh/bmabey/pyLDAvis@3.2.2/pyLDAvis/js/ldavis.v3.0.0.js\", function(){\n",
              "        new LDAvis(\"#\" + \"ldavis_el621406706846865444390200299\", ldavis_el621406706846865444390200299_data);\n",
              "      });\n",
              "    });\n",
              "}else{\n",
              "    // require.js not available: dynamically load d3 & LDAvis\n",
              "    LDAvis_load_lib(\"https://d3js.org/d3.v5.js\", function(){\n",
              "         LDAvis_load_lib(\"https://cdn.jsdelivr.net/gh/bmabey/pyLDAvis@3.2.2/pyLDAvis/js/ldavis.v3.0.0.js\", function(){\n",
              "                 new LDAvis(\"#\" + \"ldavis_el621406706846865444390200299\", ldavis_el621406706846865444390200299_data);\n",
              "            })\n",
              "         });\n",
              "}\n",
              "</script>"
            ],
            "text/plain": [
              "<IPython.core.display.HTML object>"
            ]
          },
          "metadata": {
            "tags": []
          },
          "execution_count": 123
        }
      ]
    },
    {
      "cell_type": "code",
      "metadata": {
        "colab": {
          "base_uri": "https://localhost:8080/"
        },
        "id": "3PibswK1qiVA",
        "outputId": "f6f6fc4e-14cd-4262-e59b-b7e139567d24"
      },
      "source": [
        "for i,topic_list in enumerate(ldamodel[corpus]):\n",
        "  if i==5:\n",
        "    break\n",
        "  print(i,topic_list)"
      ],
      "execution_count": null,
      "outputs": [
        {
          "output_type": "stream",
          "text": [
            "0 [(6, 0.26067126), (9, 0.11920204), (11, 0.47745645), (18, 0.129767)]\n",
            "1 [(1, 0.034134515), (6, 0.044855535), (7, 0.14990851), (11, 0.25653347), (17, 0.035405792), (18, 0.47377756)]\n",
            "2 [(6, 0.51913553), (11, 0.34204835), (18, 0.12510644)]\n",
            "3 [(8, 0.035031598), (9, 0.080692686), (11, 0.06660855), (14, 0.10093034), (16, 0.4430262), (17, 0.07132838), (18, 0.19268075)]\n",
            "4 [(9, 0.24132627), (12, 0.72534037)]\n"
          ],
          "name": "stdout"
        }
      ]
    },
    {
      "cell_type": "code",
      "metadata": {
        "id": "62SjOCHlsBbe"
      },
      "source": [
        "def topictable(ldamodel, corpus):\n",
        "  t_t=pd.DataFrame()\n",
        "\n",
        "  for i,topic_list in enumerate(ldamodel[corpus]):\n",
        "    doc=topic_list[0] if ldamodel.per_word_topics else topic_list \n",
        "    doc=sorted(doc, key=lambda x:(x[1]), reverse=True)\n",
        "    for j,(t_n,p_t) in enumerate(doc):\n",
        "      if j==0:\n",
        "        t_t=t_t.append(pd.Series([int(t_n), round(p_t,4), topic_list]), ignore_index=True)\n",
        "      else:\n",
        "        break \n",
        "  return t_t"
      ],
      "execution_count": null,
      "outputs": []
    },
    {
      "cell_type": "code",
      "metadata": {
        "colab": {
          "base_uri": "https://localhost:8080/",
          "height": 409
        },
        "id": "-s2sd3aRt2zh",
        "outputId": "dca63ed2-8980-4e44-ba39-ce47cefe1ea0"
      },
      "source": [
        "tt=topictable(ldamodel, corpus)\n",
        "tt=tt.reset_index()\n",
        "tt.columns=['num','high prop topic','highest topic prop','each topic prop']\n",
        "tt[:3]"
      ],
      "execution_count": null,
      "outputs": [
        {
          "output_type": "error",
          "ename": "KeyboardInterrupt",
          "evalue": "ignored",
          "traceback": [
            "\u001b[0;31m---------------------------------------------------------------------------\u001b[0m",
            "\u001b[0;31mKeyboardInterrupt\u001b[0m                         Traceback (most recent call last)",
            "\u001b[0;32m<ipython-input-144-e29a40de6e21>\u001b[0m in \u001b[0;36m<module>\u001b[0;34m()\u001b[0m\n\u001b[0;32m----> 1\u001b[0;31m \u001b[0mtt\u001b[0m\u001b[0;34m=\u001b[0m\u001b[0mtopictable\u001b[0m\u001b[0;34m(\u001b[0m\u001b[0mldamodel\u001b[0m\u001b[0;34m,\u001b[0m \u001b[0mcorpus\u001b[0m\u001b[0;34m)\u001b[0m\u001b[0;34m\u001b[0m\u001b[0;34m\u001b[0m\u001b[0m\n\u001b[0m\u001b[1;32m      2\u001b[0m \u001b[0mtt\u001b[0m\u001b[0;34m=\u001b[0m\u001b[0mtt\u001b[0m\u001b[0;34m.\u001b[0m\u001b[0mreset_index\u001b[0m\u001b[0;34m(\u001b[0m\u001b[0;34m)\u001b[0m\u001b[0;34m\u001b[0m\u001b[0;34m\u001b[0m\u001b[0m\n\u001b[1;32m      3\u001b[0m \u001b[0mtt\u001b[0m\u001b[0;34m.\u001b[0m\u001b[0mcolumns\u001b[0m\u001b[0;34m=\u001b[0m\u001b[0;34m[\u001b[0m\u001b[0;34m'num'\u001b[0m\u001b[0;34m,\u001b[0m\u001b[0;34m'high prop topic'\u001b[0m\u001b[0;34m,\u001b[0m\u001b[0;34m'highest topic prop'\u001b[0m\u001b[0;34m,\u001b[0m\u001b[0;34m'each topic prop'\u001b[0m\u001b[0;34m]\u001b[0m\u001b[0;34m\u001b[0m\u001b[0;34m\u001b[0m\u001b[0m\n\u001b[1;32m      4\u001b[0m \u001b[0mtt\u001b[0m\u001b[0;34m[\u001b[0m\u001b[0;34m:\u001b[0m\u001b[0;36m3\u001b[0m\u001b[0;34m]\u001b[0m\u001b[0;34m\u001b[0m\u001b[0;34m\u001b[0m\u001b[0m\n",
            "\u001b[0;32m<ipython-input-142-a26ef5cfa6dc>\u001b[0m in \u001b[0;36mtopictable\u001b[0;34m(ldamodel, corpus)\u001b[0m\n\u001b[1;32m      7\u001b[0m     \u001b[0;32mfor\u001b[0m \u001b[0mj\u001b[0m\u001b[0;34m,\u001b[0m\u001b[0;34m(\u001b[0m\u001b[0mt_n\u001b[0m\u001b[0;34m,\u001b[0m\u001b[0mp_t\u001b[0m\u001b[0;34m)\u001b[0m \u001b[0;32min\u001b[0m \u001b[0menumerate\u001b[0m\u001b[0;34m(\u001b[0m\u001b[0mdoc\u001b[0m\u001b[0;34m)\u001b[0m\u001b[0;34m:\u001b[0m\u001b[0;34m\u001b[0m\u001b[0;34m\u001b[0m\u001b[0m\n\u001b[1;32m      8\u001b[0m       \u001b[0;32mif\u001b[0m \u001b[0mj\u001b[0m\u001b[0;34m==\u001b[0m\u001b[0;36m0\u001b[0m\u001b[0;34m:\u001b[0m\u001b[0;34m\u001b[0m\u001b[0;34m\u001b[0m\u001b[0m\n\u001b[0;32m----> 9\u001b[0;31m         \u001b[0mt_t\u001b[0m\u001b[0;34m=\u001b[0m\u001b[0mt_t\u001b[0m\u001b[0;34m.\u001b[0m\u001b[0mappend\u001b[0m\u001b[0;34m(\u001b[0m\u001b[0mpd\u001b[0m\u001b[0;34m.\u001b[0m\u001b[0mSeries\u001b[0m\u001b[0;34m(\u001b[0m\u001b[0;34m[\u001b[0m\u001b[0mint\u001b[0m\u001b[0;34m(\u001b[0m\u001b[0mt_n\u001b[0m\u001b[0;34m)\u001b[0m\u001b[0;34m,\u001b[0m \u001b[0mround\u001b[0m\u001b[0;34m(\u001b[0m\u001b[0mp_t\u001b[0m\u001b[0;34m,\u001b[0m\u001b[0;36m4\u001b[0m\u001b[0;34m)\u001b[0m\u001b[0;34m,\u001b[0m \u001b[0mtopic_list\u001b[0m\u001b[0;34m]\u001b[0m\u001b[0;34m)\u001b[0m\u001b[0;34m,\u001b[0m \u001b[0mignore_index\u001b[0m\u001b[0;34m=\u001b[0m\u001b[0;32mTrue\u001b[0m\u001b[0;34m)\u001b[0m\u001b[0;34m\u001b[0m\u001b[0;34m\u001b[0m\u001b[0m\n\u001b[0m\u001b[1;32m     10\u001b[0m       \u001b[0;32melse\u001b[0m\u001b[0;34m:\u001b[0m\u001b[0;34m\u001b[0m\u001b[0;34m\u001b[0m\u001b[0m\n\u001b[1;32m     11\u001b[0m         \u001b[0;32mbreak\u001b[0m\u001b[0;34m\u001b[0m\u001b[0;34m\u001b[0m\u001b[0m\n",
            "\u001b[0;32m/usr/local/lib/python3.7/dist-packages/pandas/core/frame.py\u001b[0m in \u001b[0;36mappend\u001b[0;34m(self, other, ignore_index, verify_integrity, sort)\u001b[0m\n\u001b[1;32m   7749\u001b[0m             \u001b[0mignore_index\u001b[0m\u001b[0;34m=\u001b[0m\u001b[0mignore_index\u001b[0m\u001b[0;34m,\u001b[0m\u001b[0;34m\u001b[0m\u001b[0;34m\u001b[0m\u001b[0m\n\u001b[1;32m   7750\u001b[0m             \u001b[0mverify_integrity\u001b[0m\u001b[0;34m=\u001b[0m\u001b[0mverify_integrity\u001b[0m\u001b[0;34m,\u001b[0m\u001b[0;34m\u001b[0m\u001b[0;34m\u001b[0m\u001b[0m\n\u001b[0;32m-> 7751\u001b[0;31m             \u001b[0msort\u001b[0m\u001b[0;34m=\u001b[0m\u001b[0msort\u001b[0m\u001b[0;34m,\u001b[0m\u001b[0;34m\u001b[0m\u001b[0;34m\u001b[0m\u001b[0m\n\u001b[0m\u001b[1;32m   7752\u001b[0m         )\n\u001b[1;32m   7753\u001b[0m \u001b[0;34m\u001b[0m\u001b[0m\n",
            "\u001b[0;32m/usr/local/lib/python3.7/dist-packages/pandas/core/reshape/concat.py\u001b[0m in \u001b[0;36mconcat\u001b[0;34m(objs, axis, join, ignore_index, keys, levels, names, verify_integrity, sort, copy)\u001b[0m\n\u001b[1;32m    285\u001b[0m     )\n\u001b[1;32m    286\u001b[0m \u001b[0;34m\u001b[0m\u001b[0m\n\u001b[0;32m--> 287\u001b[0;31m     \u001b[0;32mreturn\u001b[0m \u001b[0mop\u001b[0m\u001b[0;34m.\u001b[0m\u001b[0mget_result\u001b[0m\u001b[0;34m(\u001b[0m\u001b[0;34m)\u001b[0m\u001b[0;34m\u001b[0m\u001b[0;34m\u001b[0m\u001b[0m\n\u001b[0m\u001b[1;32m    288\u001b[0m \u001b[0;34m\u001b[0m\u001b[0m\n\u001b[1;32m    289\u001b[0m \u001b[0;34m\u001b[0m\u001b[0m\n",
            "\u001b[0;32m/usr/local/lib/python3.7/dist-packages/pandas/core/reshape/concat.py\u001b[0m in \u001b[0;36mget_result\u001b[0;34m(self)\u001b[0m\n\u001b[1;32m    501\u001b[0m \u001b[0;34m\u001b[0m\u001b[0m\n\u001b[1;32m    502\u001b[0m             new_data = concatenate_block_managers(\n\u001b[0;32m--> 503\u001b[0;31m                 \u001b[0mmgrs_indexers\u001b[0m\u001b[0;34m,\u001b[0m \u001b[0mself\u001b[0m\u001b[0;34m.\u001b[0m\u001b[0mnew_axes\u001b[0m\u001b[0;34m,\u001b[0m \u001b[0mconcat_axis\u001b[0m\u001b[0;34m=\u001b[0m\u001b[0mself\u001b[0m\u001b[0;34m.\u001b[0m\u001b[0mbm_axis\u001b[0m\u001b[0;34m,\u001b[0m \u001b[0mcopy\u001b[0m\u001b[0;34m=\u001b[0m\u001b[0mself\u001b[0m\u001b[0;34m.\u001b[0m\u001b[0mcopy\u001b[0m\u001b[0;34m,\u001b[0m\u001b[0;34m\u001b[0m\u001b[0;34m\u001b[0m\u001b[0m\n\u001b[0m\u001b[1;32m    504\u001b[0m             )\n\u001b[1;32m    505\u001b[0m             \u001b[0;32mif\u001b[0m \u001b[0;32mnot\u001b[0m \u001b[0mself\u001b[0m\u001b[0;34m.\u001b[0m\u001b[0mcopy\u001b[0m\u001b[0;34m:\u001b[0m\u001b[0;34m\u001b[0m\u001b[0;34m\u001b[0m\u001b[0m\n",
            "\u001b[0;32m/usr/local/lib/python3.7/dist-packages/pandas/core/internals/concat.py\u001b[0m in \u001b[0;36mconcatenate_block_managers\u001b[0;34m(mgrs_indexers, axes, concat_axis, copy)\u001b[0m\n\u001b[1;32m     62\u001b[0m                 \u001b[0mvalues\u001b[0m \u001b[0;34m=\u001b[0m \u001b[0mvalues\u001b[0m\u001b[0;34m.\u001b[0m\u001b[0mview\u001b[0m\u001b[0;34m(\u001b[0m\u001b[0;34m)\u001b[0m\u001b[0;34m\u001b[0m\u001b[0;34m\u001b[0m\u001b[0m\n\u001b[1;32m     63\u001b[0m             \u001b[0mb\u001b[0m \u001b[0;34m=\u001b[0m \u001b[0mb\u001b[0m\u001b[0;34m.\u001b[0m\u001b[0mmake_block_same_class\u001b[0m\u001b[0;34m(\u001b[0m\u001b[0mvalues\u001b[0m\u001b[0;34m,\u001b[0m \u001b[0mplacement\u001b[0m\u001b[0;34m=\u001b[0m\u001b[0mplacement\u001b[0m\u001b[0;34m)\u001b[0m\u001b[0;34m\u001b[0m\u001b[0;34m\u001b[0m\u001b[0m\n\u001b[0;32m---> 64\u001b[0;31m         \u001b[0;32melif\u001b[0m \u001b[0m_is_uniform_join_units\u001b[0m\u001b[0;34m(\u001b[0m\u001b[0mjoin_units\u001b[0m\u001b[0;34m)\u001b[0m\u001b[0;34m:\u001b[0m\u001b[0;34m\u001b[0m\u001b[0;34m\u001b[0m\u001b[0m\n\u001b[0m\u001b[1;32m     65\u001b[0m             \u001b[0mblk\u001b[0m \u001b[0;34m=\u001b[0m \u001b[0mjoin_units\u001b[0m\u001b[0;34m[\u001b[0m\u001b[0;36m0\u001b[0m\u001b[0;34m]\u001b[0m\u001b[0;34m.\u001b[0m\u001b[0mblock\u001b[0m\u001b[0;34m\u001b[0m\u001b[0;34m\u001b[0m\u001b[0m\n\u001b[1;32m     66\u001b[0m             \u001b[0mvals\u001b[0m \u001b[0;34m=\u001b[0m \u001b[0;34m[\u001b[0m\u001b[0mju\u001b[0m\u001b[0;34m.\u001b[0m\u001b[0mblock\u001b[0m\u001b[0;34m.\u001b[0m\u001b[0mvalues\u001b[0m \u001b[0;32mfor\u001b[0m \u001b[0mju\u001b[0m \u001b[0;32min\u001b[0m \u001b[0mjoin_units\u001b[0m\u001b[0;34m]\u001b[0m\u001b[0;34m\u001b[0m\u001b[0;34m\u001b[0m\u001b[0m\n",
            "\u001b[0;32m/usr/local/lib/python3.7/dist-packages/pandas/core/internals/concat.py\u001b[0m in \u001b[0;36m_is_uniform_join_units\u001b[0;34m(join_units)\u001b[0m\n\u001b[1;32m    478\u001b[0m         \u001b[0;31m# no blocks that would get missing values (can lead to type upcasts)\u001b[0m\u001b[0;34m\u001b[0m\u001b[0;34m\u001b[0m\u001b[0;34m\u001b[0m\u001b[0m\n\u001b[1;32m    479\u001b[0m         \u001b[0;31m# unless we're an extension dtype.\u001b[0m\u001b[0;34m\u001b[0m\u001b[0;34m\u001b[0m\u001b[0;34m\u001b[0m\u001b[0m\n\u001b[0;32m--> 480\u001b[0;31m         \u001b[0mall\u001b[0m\u001b[0;34m(\u001b[0m\u001b[0;32mnot\u001b[0m \u001b[0mju\u001b[0m\u001b[0;34m.\u001b[0m\u001b[0mis_na\u001b[0m \u001b[0;32mor\u001b[0m \u001b[0mju\u001b[0m\u001b[0;34m.\u001b[0m\u001b[0mblock\u001b[0m\u001b[0;34m.\u001b[0m\u001b[0mis_extension\u001b[0m \u001b[0;32mfor\u001b[0m \u001b[0mju\u001b[0m \u001b[0;32min\u001b[0m \u001b[0mjoin_units\u001b[0m\u001b[0;34m)\u001b[0m\u001b[0;34m\u001b[0m\u001b[0;34m\u001b[0m\u001b[0m\n\u001b[0m\u001b[1;32m    481\u001b[0m         \u001b[0;32mand\u001b[0m\u001b[0;34m\u001b[0m\u001b[0;34m\u001b[0m\u001b[0m\n\u001b[1;32m    482\u001b[0m         \u001b[0;31m# no blocks with indexers (as then the dimensions do not fit)\u001b[0m\u001b[0;34m\u001b[0m\u001b[0;34m\u001b[0m\u001b[0;34m\u001b[0m\u001b[0m\n",
            "\u001b[0;32m/usr/local/lib/python3.7/dist-packages/pandas/core/internals/concat.py\u001b[0m in \u001b[0;36m<genexpr>\u001b[0;34m(.0)\u001b[0m\n\u001b[1;32m    478\u001b[0m         \u001b[0;31m# no blocks that would get missing values (can lead to type upcasts)\u001b[0m\u001b[0;34m\u001b[0m\u001b[0;34m\u001b[0m\u001b[0;34m\u001b[0m\u001b[0m\n\u001b[1;32m    479\u001b[0m         \u001b[0;31m# unless we're an extension dtype.\u001b[0m\u001b[0;34m\u001b[0m\u001b[0;34m\u001b[0m\u001b[0;34m\u001b[0m\u001b[0m\n\u001b[0;32m--> 480\u001b[0;31m         \u001b[0mall\u001b[0m\u001b[0;34m(\u001b[0m\u001b[0;32mnot\u001b[0m \u001b[0mju\u001b[0m\u001b[0;34m.\u001b[0m\u001b[0mis_na\u001b[0m \u001b[0;32mor\u001b[0m \u001b[0mju\u001b[0m\u001b[0;34m.\u001b[0m\u001b[0mblock\u001b[0m\u001b[0;34m.\u001b[0m\u001b[0mis_extension\u001b[0m \u001b[0;32mfor\u001b[0m \u001b[0mju\u001b[0m \u001b[0;32min\u001b[0m \u001b[0mjoin_units\u001b[0m\u001b[0;34m)\u001b[0m\u001b[0;34m\u001b[0m\u001b[0;34m\u001b[0m\u001b[0m\n\u001b[0m\u001b[1;32m    481\u001b[0m         \u001b[0;32mand\u001b[0m\u001b[0;34m\u001b[0m\u001b[0;34m\u001b[0m\u001b[0m\n\u001b[1;32m    482\u001b[0m         \u001b[0;31m# no blocks with indexers (as then the dimensions do not fit)\u001b[0m\u001b[0;34m\u001b[0m\u001b[0;34m\u001b[0m\u001b[0;34m\u001b[0m\u001b[0m\n",
            "\u001b[0;32mpandas/_libs/properties.pyx\u001b[0m in \u001b[0;36mpandas._libs.properties.CachedProperty.__get__\u001b[0;34m()\u001b[0m\n",
            "\u001b[0;32m/usr/local/lib/python3.7/dist-packages/pandas/core/internals/concat.py\u001b[0m in \u001b[0;36mis_na\u001b[0;34m(self)\u001b[0m\n\u001b[1;32m    226\u001b[0m         \u001b[0mchunk_len\u001b[0m \u001b[0;34m=\u001b[0m \u001b[0mmax\u001b[0m\u001b[0;34m(\u001b[0m\u001b[0mtotal_len\u001b[0m \u001b[0;34m//\u001b[0m \u001b[0;36m40\u001b[0m\u001b[0;34m,\u001b[0m \u001b[0;36m1000\u001b[0m\u001b[0;34m)\u001b[0m\u001b[0;34m\u001b[0m\u001b[0;34m\u001b[0m\u001b[0m\n\u001b[1;32m    227\u001b[0m         \u001b[0;32mfor\u001b[0m \u001b[0mi\u001b[0m \u001b[0;32min\u001b[0m \u001b[0mrange\u001b[0m\u001b[0;34m(\u001b[0m\u001b[0;36m0\u001b[0m\u001b[0;34m,\u001b[0m \u001b[0mtotal_len\u001b[0m\u001b[0;34m,\u001b[0m \u001b[0mchunk_len\u001b[0m\u001b[0;34m)\u001b[0m\u001b[0;34m:\u001b[0m\u001b[0;34m\u001b[0m\u001b[0;34m\u001b[0m\u001b[0m\n\u001b[0;32m--> 228\u001b[0;31m             \u001b[0;32mif\u001b[0m \u001b[0;32mnot\u001b[0m \u001b[0misna\u001b[0m\u001b[0;34m(\u001b[0m\u001b[0mvalues_flat\u001b[0m\u001b[0;34m[\u001b[0m\u001b[0mi\u001b[0m \u001b[0;34m:\u001b[0m \u001b[0mi\u001b[0m \u001b[0;34m+\u001b[0m \u001b[0mchunk_len\u001b[0m\u001b[0;34m]\u001b[0m\u001b[0;34m)\u001b[0m\u001b[0;34m.\u001b[0m\u001b[0mall\u001b[0m\u001b[0;34m(\u001b[0m\u001b[0;34m)\u001b[0m\u001b[0;34m:\u001b[0m\u001b[0;34m\u001b[0m\u001b[0;34m\u001b[0m\u001b[0m\n\u001b[0m\u001b[1;32m    229\u001b[0m                 \u001b[0;32mreturn\u001b[0m \u001b[0;32mFalse\u001b[0m\u001b[0;34m\u001b[0m\u001b[0;34m\u001b[0m\u001b[0m\n\u001b[1;32m    230\u001b[0m \u001b[0;34m\u001b[0m\u001b[0m\n",
            "\u001b[0;32m/usr/local/lib/python3.7/dist-packages/pandas/core/dtypes/missing.py\u001b[0m in \u001b[0;36misna\u001b[0;34m(obj)\u001b[0m\n\u001b[1;32m    122\u001b[0m     \u001b[0mName\u001b[0m\u001b[0;34m:\u001b[0m \u001b[0;36m1\u001b[0m\u001b[0;34m,\u001b[0m \u001b[0mdtype\u001b[0m\u001b[0;34m:\u001b[0m \u001b[0mbool\u001b[0m\u001b[0;34m\u001b[0m\u001b[0;34m\u001b[0m\u001b[0m\n\u001b[1;32m    123\u001b[0m     \"\"\"\n\u001b[0;32m--> 124\u001b[0;31m     \u001b[0;32mreturn\u001b[0m \u001b[0m_isna\u001b[0m\u001b[0;34m(\u001b[0m\u001b[0mobj\u001b[0m\u001b[0;34m)\u001b[0m\u001b[0;34m\u001b[0m\u001b[0;34m\u001b[0m\u001b[0m\n\u001b[0m\u001b[1;32m    125\u001b[0m \u001b[0;34m\u001b[0m\u001b[0m\n\u001b[1;32m    126\u001b[0m \u001b[0;34m\u001b[0m\u001b[0m\n",
            "\u001b[0;32m/usr/local/lib/python3.7/dist-packages/pandas/core/dtypes/missing.py\u001b[0m in \u001b[0;36m_isna\u001b[0;34m(obj, inf_as_na)\u001b[0m\n\u001b[1;32m    155\u001b[0m         \u001b[0;32mreturn\u001b[0m \u001b[0;32mFalse\u001b[0m\u001b[0;34m\u001b[0m\u001b[0;34m\u001b[0m\u001b[0m\n\u001b[1;32m    156\u001b[0m     \u001b[0;32melif\u001b[0m \u001b[0misinstance\u001b[0m\u001b[0;34m(\u001b[0m\u001b[0mobj\u001b[0m\u001b[0;34m,\u001b[0m \u001b[0;34m(\u001b[0m\u001b[0mABCSeries\u001b[0m\u001b[0;34m,\u001b[0m \u001b[0mnp\u001b[0m\u001b[0;34m.\u001b[0m\u001b[0mndarray\u001b[0m\u001b[0;34m,\u001b[0m \u001b[0mABCIndexClass\u001b[0m\u001b[0;34m,\u001b[0m \u001b[0mABCExtensionArray\u001b[0m\u001b[0;34m)\u001b[0m\u001b[0;34m)\u001b[0m\u001b[0;34m:\u001b[0m\u001b[0;34m\u001b[0m\u001b[0;34m\u001b[0m\u001b[0m\n\u001b[0;32m--> 157\u001b[0;31m         \u001b[0;32mreturn\u001b[0m \u001b[0m_isna_ndarraylike\u001b[0m\u001b[0;34m(\u001b[0m\u001b[0mobj\u001b[0m\u001b[0;34m,\u001b[0m \u001b[0minf_as_na\u001b[0m\u001b[0;34m=\u001b[0m\u001b[0minf_as_na\u001b[0m\u001b[0;34m)\u001b[0m\u001b[0;34m\u001b[0m\u001b[0;34m\u001b[0m\u001b[0m\n\u001b[0m\u001b[1;32m    158\u001b[0m     \u001b[0;32melif\u001b[0m \u001b[0misinstance\u001b[0m\u001b[0;34m(\u001b[0m\u001b[0mobj\u001b[0m\u001b[0;34m,\u001b[0m \u001b[0mABCDataFrame\u001b[0m\u001b[0;34m)\u001b[0m\u001b[0;34m:\u001b[0m\u001b[0;34m\u001b[0m\u001b[0;34m\u001b[0m\u001b[0m\n\u001b[1;32m    159\u001b[0m         \u001b[0;32mreturn\u001b[0m \u001b[0mobj\u001b[0m\u001b[0;34m.\u001b[0m\u001b[0misna\u001b[0m\u001b[0;34m(\u001b[0m\u001b[0;34m)\u001b[0m\u001b[0;34m\u001b[0m\u001b[0;34m\u001b[0m\u001b[0m\n",
            "\u001b[0;32m/usr/local/lib/python3.7/dist-packages/pandas/core/dtypes/missing.py\u001b[0m in \u001b[0;36m_isna_ndarraylike\u001b[0;34m(obj, inf_as_na)\u001b[0m\n\u001b[1;32m    216\u001b[0m             \u001b[0mresult\u001b[0m \u001b[0;34m=\u001b[0m \u001b[0mvalues\u001b[0m\u001b[0;34m.\u001b[0m\u001b[0misna\u001b[0m\u001b[0;34m(\u001b[0m\u001b[0;34m)\u001b[0m\u001b[0;34m\u001b[0m\u001b[0;34m\u001b[0m\u001b[0m\n\u001b[1;32m    217\u001b[0m     \u001b[0;32melif\u001b[0m \u001b[0mis_string_dtype\u001b[0m\u001b[0;34m(\u001b[0m\u001b[0mdtype\u001b[0m\u001b[0;34m)\u001b[0m\u001b[0;34m:\u001b[0m\u001b[0;34m\u001b[0m\u001b[0;34m\u001b[0m\u001b[0m\n\u001b[0;32m--> 218\u001b[0;31m         \u001b[0mresult\u001b[0m \u001b[0;34m=\u001b[0m \u001b[0m_isna_string_dtype\u001b[0m\u001b[0;34m(\u001b[0m\u001b[0mvalues\u001b[0m\u001b[0;34m,\u001b[0m \u001b[0mdtype\u001b[0m\u001b[0;34m,\u001b[0m \u001b[0minf_as_na\u001b[0m\u001b[0;34m=\u001b[0m\u001b[0minf_as_na\u001b[0m\u001b[0;34m)\u001b[0m\u001b[0;34m\u001b[0m\u001b[0;34m\u001b[0m\u001b[0m\n\u001b[0m\u001b[1;32m    219\u001b[0m     \u001b[0;32melif\u001b[0m \u001b[0mneeds_i8_conversion\u001b[0m\u001b[0;34m(\u001b[0m\u001b[0mdtype\u001b[0m\u001b[0;34m)\u001b[0m\u001b[0;34m:\u001b[0m\u001b[0;34m\u001b[0m\u001b[0;34m\u001b[0m\u001b[0m\n\u001b[1;32m    220\u001b[0m         \u001b[0;31m# this is the NaT pattern\u001b[0m\u001b[0;34m\u001b[0m\u001b[0;34m\u001b[0m\u001b[0;34m\u001b[0m\u001b[0m\n",
            "\u001b[0;32m/usr/local/lib/python3.7/dist-packages/pandas/core/dtypes/missing.py\u001b[0m in \u001b[0;36m_isna_string_dtype\u001b[0;34m(values, dtype, inf_as_na)\u001b[0m\n\u001b[1;32m    246\u001b[0m             \u001b[0mvec\u001b[0m \u001b[0;34m=\u001b[0m \u001b[0mlibmissing\u001b[0m\u001b[0;34m.\u001b[0m\u001b[0misnaobj_old\u001b[0m\u001b[0;34m(\u001b[0m\u001b[0mvalues\u001b[0m\u001b[0;34m.\u001b[0m\u001b[0mravel\u001b[0m\u001b[0;34m(\u001b[0m\u001b[0;34m)\u001b[0m\u001b[0;34m)\u001b[0m\u001b[0;34m\u001b[0m\u001b[0;34m\u001b[0m\u001b[0m\n\u001b[1;32m    247\u001b[0m         \u001b[0;32melse\u001b[0m\u001b[0;34m:\u001b[0m\u001b[0;34m\u001b[0m\u001b[0;34m\u001b[0m\u001b[0m\n\u001b[0;32m--> 248\u001b[0;31m             \u001b[0mvec\u001b[0m \u001b[0;34m=\u001b[0m \u001b[0mlibmissing\u001b[0m\u001b[0;34m.\u001b[0m\u001b[0misnaobj\u001b[0m\u001b[0;34m(\u001b[0m\u001b[0mvalues\u001b[0m\u001b[0;34m.\u001b[0m\u001b[0mravel\u001b[0m\u001b[0;34m(\u001b[0m\u001b[0;34m)\u001b[0m\u001b[0;34m)\u001b[0m\u001b[0;34m\u001b[0m\u001b[0;34m\u001b[0m\u001b[0m\n\u001b[0m\u001b[1;32m    249\u001b[0m \u001b[0;34m\u001b[0m\u001b[0m\n\u001b[1;32m    250\u001b[0m         \u001b[0mresult\u001b[0m\u001b[0;34m[\u001b[0m\u001b[0;34m...\u001b[0m\u001b[0;34m]\u001b[0m \u001b[0;34m=\u001b[0m \u001b[0mvec\u001b[0m\u001b[0;34m.\u001b[0m\u001b[0mreshape\u001b[0m\u001b[0;34m(\u001b[0m\u001b[0mshape\u001b[0m\u001b[0;34m)\u001b[0m\u001b[0;34m\u001b[0m\u001b[0;34m\u001b[0m\u001b[0m\n",
            "\u001b[0;31mKeyboardInterrupt\u001b[0m: "
          ]
        }
      ]
    },
    {
      "cell_type": "code",
      "metadata": {
        "id": "E8xwrgeKwx5j"
      },
      "source": [
        "import pandas as pd"
      ],
      "execution_count": 1,
      "outputs": []
    },
    {
      "cell_type": "code",
      "metadata": {
        "colab": {
          "base_uri": "https://localhost:8080/",
          "height": 111
        },
        "id": "OQResfAYMh68",
        "outputId": "1e1b65e3-4f6c-4528-9820-c1d59e58a869"
      },
      "source": [
        "df=pd.DataFrame([[1,2],[3,4]],columns=list('ab'))\n",
        "df"
      ],
      "execution_count": 4,
      "outputs": [
        {
          "output_type": "execute_result",
          "data": {
            "text/html": [
              "<div>\n",
              "<style scoped>\n",
              "    .dataframe tbody tr th:only-of-type {\n",
              "        vertical-align: middle;\n",
              "    }\n",
              "\n",
              "    .dataframe tbody tr th {\n",
              "        vertical-align: top;\n",
              "    }\n",
              "\n",
              "    .dataframe thead th {\n",
              "        text-align: right;\n",
              "    }\n",
              "</style>\n",
              "<table border=\"1\" class=\"dataframe\">\n",
              "  <thead>\n",
              "    <tr style=\"text-align: right;\">\n",
              "      <th></th>\n",
              "      <th>a</th>\n",
              "      <th>b</th>\n",
              "    </tr>\n",
              "  </thead>\n",
              "  <tbody>\n",
              "    <tr>\n",
              "      <th>0</th>\n",
              "      <td>1</td>\n",
              "      <td>2</td>\n",
              "    </tr>\n",
              "    <tr>\n",
              "      <th>1</th>\n",
              "      <td>3</td>\n",
              "      <td>4</td>\n",
              "    </tr>\n",
              "  </tbody>\n",
              "</table>\n",
              "</div>"
            ],
            "text/plain": [
              "   a  b\n",
              "0  1  2\n",
              "1  3  4"
            ]
          },
          "metadata": {
            "tags": []
          },
          "execution_count": 4
        }
      ]
    },
    {
      "cell_type": "code",
      "metadata": {
        "colab": {
          "base_uri": "https://localhost:8080/",
          "height": 111
        },
        "id": "mnQiPAowT1Ri",
        "outputId": "d56e8ccf-a585-47c5-e108-4d2336e4f20a"
      },
      "source": [
        "import numpy as np\n",
        "df.apply(np.sqrt)"
      ],
      "execution_count": 20,
      "outputs": [
        {
          "output_type": "execute_result",
          "data": {
            "text/html": [
              "<div>\n",
              "<style scoped>\n",
              "    .dataframe tbody tr th:only-of-type {\n",
              "        vertical-align: middle;\n",
              "    }\n",
              "\n",
              "    .dataframe tbody tr th {\n",
              "        vertical-align: top;\n",
              "    }\n",
              "\n",
              "    .dataframe thead th {\n",
              "        text-align: right;\n",
              "    }\n",
              "</style>\n",
              "<table border=\"1\" class=\"dataframe\">\n",
              "  <thead>\n",
              "    <tr style=\"text-align: right;\">\n",
              "      <th></th>\n",
              "      <th>a</th>\n",
              "      <th>b</th>\n",
              "    </tr>\n",
              "  </thead>\n",
              "  <tbody>\n",
              "    <tr>\n",
              "      <th>0</th>\n",
              "      <td>1.000000</td>\n",
              "      <td>1.414214</td>\n",
              "    </tr>\n",
              "    <tr>\n",
              "      <th>1</th>\n",
              "      <td>1.732051</td>\n",
              "      <td>2.000000</td>\n",
              "    </tr>\n",
              "  </tbody>\n",
              "</table>\n",
              "</div>"
            ],
            "text/plain": [
              "          a         b\n",
              "0  1.000000  1.414214\n",
              "1  1.732051  2.000000"
            ]
          },
          "metadata": {
            "tags": []
          },
          "execution_count": 20
        }
      ]
    },
    {
      "cell_type": "code",
      "metadata": {
        "colab": {
          "base_uri": "https://localhost:8080/"
        },
        "id": "sNC9V_ORT82u",
        "outputId": "07e733c2-86ba-4351-95a1-6f0cb33af97b"
      },
      "source": [
        "df.apply(np.sum, axis='index')"
      ],
      "execution_count": 47,
      "outputs": [
        {
          "output_type": "execute_result",
          "data": {
            "text/plain": [
              "a    4\n",
              "b    6\n",
              "dtype: int64"
            ]
          },
          "metadata": {
            "tags": []
          },
          "execution_count": 47
        }
      ]
    },
    {
      "cell_type": "code",
      "metadata": {
        "colab": {
          "base_uri": "https://localhost:8080/"
        },
        "id": "SUUv2dZZUGuf",
        "outputId": "878f193e-0e74-43e3-a69b-2fc0e65d03a1"
      },
      "source": [
        "df.apply(np.sum, axis=1)"
      ],
      "execution_count": 22,
      "outputs": [
        {
          "output_type": "execute_result",
          "data": {
            "text/plain": [
              "0    3\n",
              "1    7\n",
              "dtype: int64"
            ]
          },
          "metadata": {
            "tags": []
          },
          "execution_count": 22
        }
      ]
    },
    {
      "cell_type": "code",
      "metadata": {
        "colab": {
          "base_uri": "https://localhost:8080/",
          "height": 111
        },
        "id": "46Zre1-zMrtl",
        "outputId": "e21f9cdb-657d-4b21-cf50-caa3e8ad1ab7"
      },
      "source": [
        "df2=pd.DataFrame([[5,6],[7,8]],columns=list('ab'))\n",
        "df2"
      ],
      "execution_count": 7,
      "outputs": [
        {
          "output_type": "execute_result",
          "data": {
            "text/html": [
              "<div>\n",
              "<style scoped>\n",
              "    .dataframe tbody tr th:only-of-type {\n",
              "        vertical-align: middle;\n",
              "    }\n",
              "\n",
              "    .dataframe tbody tr th {\n",
              "        vertical-align: top;\n",
              "    }\n",
              "\n",
              "    .dataframe thead th {\n",
              "        text-align: right;\n",
              "    }\n",
              "</style>\n",
              "<table border=\"1\" class=\"dataframe\">\n",
              "  <thead>\n",
              "    <tr style=\"text-align: right;\">\n",
              "      <th></th>\n",
              "      <th>a</th>\n",
              "      <th>b</th>\n",
              "    </tr>\n",
              "  </thead>\n",
              "  <tbody>\n",
              "    <tr>\n",
              "      <th>0</th>\n",
              "      <td>5</td>\n",
              "      <td>6</td>\n",
              "    </tr>\n",
              "    <tr>\n",
              "      <th>1</th>\n",
              "      <td>7</td>\n",
              "      <td>8</td>\n",
              "    </tr>\n",
              "  </tbody>\n",
              "</table>\n",
              "</div>"
            ],
            "text/plain": [
              "   a  b\n",
              "0  5  6\n",
              "1  7  8"
            ]
          },
          "metadata": {
            "tags": []
          },
          "execution_count": 7
        }
      ]
    },
    {
      "cell_type": "code",
      "metadata": {
        "id": "Cj5RPrGDT8AG"
      },
      "source": [
        ""
      ],
      "execution_count": null,
      "outputs": []
    },
    {
      "cell_type": "code",
      "metadata": {
        "colab": {
          "base_uri": "https://localhost:8080/",
          "height": 173
        },
        "id": "C1JZlv0YM6XO",
        "outputId": "3a68c515-67a3-4424-996e-ecbcc0126144"
      },
      "source": [
        "df.append(df2)"
      ],
      "execution_count": 8,
      "outputs": [
        {
          "output_type": "execute_result",
          "data": {
            "text/html": [
              "<div>\n",
              "<style scoped>\n",
              "    .dataframe tbody tr th:only-of-type {\n",
              "        vertical-align: middle;\n",
              "    }\n",
              "\n",
              "    .dataframe tbody tr th {\n",
              "        vertical-align: top;\n",
              "    }\n",
              "\n",
              "    .dataframe thead th {\n",
              "        text-align: right;\n",
              "    }\n",
              "</style>\n",
              "<table border=\"1\" class=\"dataframe\">\n",
              "  <thead>\n",
              "    <tr style=\"text-align: right;\">\n",
              "      <th></th>\n",
              "      <th>a</th>\n",
              "      <th>b</th>\n",
              "    </tr>\n",
              "  </thead>\n",
              "  <tbody>\n",
              "    <tr>\n",
              "      <th>0</th>\n",
              "      <td>1</td>\n",
              "      <td>2</td>\n",
              "    </tr>\n",
              "    <tr>\n",
              "      <th>1</th>\n",
              "      <td>3</td>\n",
              "      <td>4</td>\n",
              "    </tr>\n",
              "    <tr>\n",
              "      <th>0</th>\n",
              "      <td>5</td>\n",
              "      <td>6</td>\n",
              "    </tr>\n",
              "    <tr>\n",
              "      <th>1</th>\n",
              "      <td>7</td>\n",
              "      <td>8</td>\n",
              "    </tr>\n",
              "  </tbody>\n",
              "</table>\n",
              "</div>"
            ],
            "text/plain": [
              "   a  b\n",
              "0  1  2\n",
              "1  3  4\n",
              "0  5  6\n",
              "1  7  8"
            ]
          },
          "metadata": {
            "tags": []
          },
          "execution_count": 8
        }
      ]
    },
    {
      "cell_type": "code",
      "metadata": {
        "colab": {
          "base_uri": "https://localhost:8080/",
          "height": 173
        },
        "id": "Wv-qDtoXM8XB",
        "outputId": "87fd5ce9-cc82-4ae2-a2da-8c8b9ad12c4a"
      },
      "source": [
        "df.append(df2, ignore_index=False)"
      ],
      "execution_count": 9,
      "outputs": [
        {
          "output_type": "execute_result",
          "data": {
            "text/html": [
              "<div>\n",
              "<style scoped>\n",
              "    .dataframe tbody tr th:only-of-type {\n",
              "        vertical-align: middle;\n",
              "    }\n",
              "\n",
              "    .dataframe tbody tr th {\n",
              "        vertical-align: top;\n",
              "    }\n",
              "\n",
              "    .dataframe thead th {\n",
              "        text-align: right;\n",
              "    }\n",
              "</style>\n",
              "<table border=\"1\" class=\"dataframe\">\n",
              "  <thead>\n",
              "    <tr style=\"text-align: right;\">\n",
              "      <th></th>\n",
              "      <th>a</th>\n",
              "      <th>b</th>\n",
              "    </tr>\n",
              "  </thead>\n",
              "  <tbody>\n",
              "    <tr>\n",
              "      <th>0</th>\n",
              "      <td>1</td>\n",
              "      <td>2</td>\n",
              "    </tr>\n",
              "    <tr>\n",
              "      <th>1</th>\n",
              "      <td>3</td>\n",
              "      <td>4</td>\n",
              "    </tr>\n",
              "    <tr>\n",
              "      <th>0</th>\n",
              "      <td>5</td>\n",
              "      <td>6</td>\n",
              "    </tr>\n",
              "    <tr>\n",
              "      <th>1</th>\n",
              "      <td>7</td>\n",
              "      <td>8</td>\n",
              "    </tr>\n",
              "  </tbody>\n",
              "</table>\n",
              "</div>"
            ],
            "text/plain": [
              "   a  b\n",
              "0  1  2\n",
              "1  3  4\n",
              "0  5  6\n",
              "1  7  8"
            ]
          },
          "metadata": {
            "tags": []
          },
          "execution_count": 9
        }
      ]
    },
    {
      "cell_type": "code",
      "metadata": {
        "colab": {
          "base_uri": "https://localhost:8080/",
          "height": 173
        },
        "id": "ku7Tm0WWNJHj",
        "outputId": "edfae053-d335-453e-e5ef-8941461139ed"
      },
      "source": [
        "df.append(df2, ignore_index=True)"
      ],
      "execution_count": 10,
      "outputs": [
        {
          "output_type": "execute_result",
          "data": {
            "text/html": [
              "<div>\n",
              "<style scoped>\n",
              "    .dataframe tbody tr th:only-of-type {\n",
              "        vertical-align: middle;\n",
              "    }\n",
              "\n",
              "    .dataframe tbody tr th {\n",
              "        vertical-align: top;\n",
              "    }\n",
              "\n",
              "    .dataframe thead th {\n",
              "        text-align: right;\n",
              "    }\n",
              "</style>\n",
              "<table border=\"1\" class=\"dataframe\">\n",
              "  <thead>\n",
              "    <tr style=\"text-align: right;\">\n",
              "      <th></th>\n",
              "      <th>a</th>\n",
              "      <th>b</th>\n",
              "    </tr>\n",
              "  </thead>\n",
              "  <tbody>\n",
              "    <tr>\n",
              "      <th>0</th>\n",
              "      <td>1</td>\n",
              "      <td>2</td>\n",
              "    </tr>\n",
              "    <tr>\n",
              "      <th>1</th>\n",
              "      <td>3</td>\n",
              "      <td>4</td>\n",
              "    </tr>\n",
              "    <tr>\n",
              "      <th>2</th>\n",
              "      <td>5</td>\n",
              "      <td>6</td>\n",
              "    </tr>\n",
              "    <tr>\n",
              "      <th>3</th>\n",
              "      <td>7</td>\n",
              "      <td>8</td>\n",
              "    </tr>\n",
              "  </tbody>\n",
              "</table>\n",
              "</div>"
            ],
            "text/plain": [
              "   a  b\n",
              "0  1  2\n",
              "1  3  4\n",
              "2  5  6\n",
              "3  7  8"
            ]
          },
          "metadata": {
            "tags": []
          },
          "execution_count": 10
        }
      ]
    },
    {
      "cell_type": "code",
      "metadata": {
        "id": "plvvQ_NaTzHM"
      },
      "source": [
        ""
      ],
      "execution_count": null,
      "outputs": []
    },
    {
      "cell_type": "code",
      "metadata": {
        "id": "y4-y_TzuNNCu"
      },
      "source": [
        "import urllib.request"
      ],
      "execution_count": 11,
      "outputs": []
    },
    {
      "cell_type": "code",
      "metadata": {
        "colab": {
          "base_uri": "https://localhost:8080/"
        },
        "id": "KtPXNkuGOOmc",
        "outputId": "dfee3df3-3059-4a98-aa3f-7ffdbb9bab08"
      },
      "source": [
        "urllib.request.urlretrieve(\"https://raw.githubusercontent.com/franciscadias/data/master/abcnews-date-text.csv\", filename=\"abcnews-date-text.csv\")"
      ],
      "execution_count": 13,
      "outputs": [
        {
          "output_type": "execute_result",
          "data": {
            "text/plain": [
              "('abcnews-date-text.csv', <http.client.HTTPMessage at 0x7fac23398a10>)"
            ]
          },
          "metadata": {
            "tags": []
          },
          "execution_count": 13
        }
      ]
    },
    {
      "cell_type": "code",
      "metadata": {
        "id": "qQBhvlElObcN"
      },
      "source": [
        "data=pd.read_csv(\"abcnews-date-text.csv\", error_bad_lines=False)"
      ],
      "execution_count": 14,
      "outputs": []
    },
    {
      "cell_type": "code",
      "metadata": {
        "colab": {
          "base_uri": "https://localhost:8080/"
        },
        "id": "Cof5ETJUOrYS",
        "outputId": "a9783569-27e4-45d8-c233-53c47507c27a"
      },
      "source": [
        "len(data)"
      ],
      "execution_count": 15,
      "outputs": [
        {
          "output_type": "execute_result",
          "data": {
            "text/plain": [
              "1082168"
            ]
          },
          "metadata": {
            "tags": []
          },
          "execution_count": 15
        }
      ]
    },
    {
      "cell_type": "code",
      "metadata": {
        "colab": {
          "base_uri": "https://localhost:8080/",
          "height": 204
        },
        "id": "imUaOnu3PBF2",
        "outputId": "7e4a6336-be55-431f-e5eb-c5111dd32fe2"
      },
      "source": [
        "data.head(5)"
      ],
      "execution_count": 16,
      "outputs": [
        {
          "output_type": "execute_result",
          "data": {
            "text/html": [
              "<div>\n",
              "<style scoped>\n",
              "    .dataframe tbody tr th:only-of-type {\n",
              "        vertical-align: middle;\n",
              "    }\n",
              "\n",
              "    .dataframe tbody tr th {\n",
              "        vertical-align: top;\n",
              "    }\n",
              "\n",
              "    .dataframe thead th {\n",
              "        text-align: right;\n",
              "    }\n",
              "</style>\n",
              "<table border=\"1\" class=\"dataframe\">\n",
              "  <thead>\n",
              "    <tr style=\"text-align: right;\">\n",
              "      <th></th>\n",
              "      <th>publish_date</th>\n",
              "      <th>headline_text</th>\n",
              "    </tr>\n",
              "  </thead>\n",
              "  <tbody>\n",
              "    <tr>\n",
              "      <th>0</th>\n",
              "      <td>20030219</td>\n",
              "      <td>aba decides against community broadcasting lic...</td>\n",
              "    </tr>\n",
              "    <tr>\n",
              "      <th>1</th>\n",
              "      <td>20030219</td>\n",
              "      <td>act fire witnesses must be aware of defamation</td>\n",
              "    </tr>\n",
              "    <tr>\n",
              "      <th>2</th>\n",
              "      <td>20030219</td>\n",
              "      <td>a g calls for infrastructure protection summit</td>\n",
              "    </tr>\n",
              "    <tr>\n",
              "      <th>3</th>\n",
              "      <td>20030219</td>\n",
              "      <td>air nz staff in aust strike for pay rise</td>\n",
              "    </tr>\n",
              "    <tr>\n",
              "      <th>4</th>\n",
              "      <td>20030219</td>\n",
              "      <td>air nz strike to affect australian travellers</td>\n",
              "    </tr>\n",
              "  </tbody>\n",
              "</table>\n",
              "</div>"
            ],
            "text/plain": [
              "   publish_date                                      headline_text\n",
              "0      20030219  aba decides against community broadcasting lic...\n",
              "1      20030219     act fire witnesses must be aware of defamation\n",
              "2      20030219     a g calls for infrastructure protection summit\n",
              "3      20030219           air nz staff in aust strike for pay rise\n",
              "4      20030219      air nz strike to affect australian travellers"
            ]
          },
          "metadata": {
            "tags": []
          },
          "execution_count": 16
        }
      ]
    },
    {
      "cell_type": "code",
      "metadata": {
        "colab": {
          "base_uri": "https://localhost:8080/",
          "height": 204
        },
        "id": "xnoLA5vhPDW5",
        "outputId": "2eef12da-c5e3-4976-d813-de92f330bd23"
      },
      "source": [
        "text=data[['headline_text']]\n",
        "text.head(5)"
      ],
      "execution_count": 17,
      "outputs": [
        {
          "output_type": "execute_result",
          "data": {
            "text/html": [
              "<div>\n",
              "<style scoped>\n",
              "    .dataframe tbody tr th:only-of-type {\n",
              "        vertical-align: middle;\n",
              "    }\n",
              "\n",
              "    .dataframe tbody tr th {\n",
              "        vertical-align: top;\n",
              "    }\n",
              "\n",
              "    .dataframe thead th {\n",
              "        text-align: right;\n",
              "    }\n",
              "</style>\n",
              "<table border=\"1\" class=\"dataframe\">\n",
              "  <thead>\n",
              "    <tr style=\"text-align: right;\">\n",
              "      <th></th>\n",
              "      <th>headline_text</th>\n",
              "    </tr>\n",
              "  </thead>\n",
              "  <tbody>\n",
              "    <tr>\n",
              "      <th>0</th>\n",
              "      <td>aba decides against community broadcasting lic...</td>\n",
              "    </tr>\n",
              "    <tr>\n",
              "      <th>1</th>\n",
              "      <td>act fire witnesses must be aware of defamation</td>\n",
              "    </tr>\n",
              "    <tr>\n",
              "      <th>2</th>\n",
              "      <td>a g calls for infrastructure protection summit</td>\n",
              "    </tr>\n",
              "    <tr>\n",
              "      <th>3</th>\n",
              "      <td>air nz staff in aust strike for pay rise</td>\n",
              "    </tr>\n",
              "    <tr>\n",
              "      <th>4</th>\n",
              "      <td>air nz strike to affect australian travellers</td>\n",
              "    </tr>\n",
              "  </tbody>\n",
              "</table>\n",
              "</div>"
            ],
            "text/plain": [
              "                                       headline_text\n",
              "0  aba decides against community broadcasting lic...\n",
              "1     act fire witnesses must be aware of defamation\n",
              "2     a g calls for infrastructure protection summit\n",
              "3           air nz staff in aust strike for pay rise\n",
              "4      air nz strike to affect australian travellers"
            ]
          },
          "metadata": {
            "tags": []
          },
          "execution_count": 17
        }
      ]
    },
    {
      "cell_type": "code",
      "metadata": {
        "id": "-AtKNw7pPNyK"
      },
      "source": [
        "import nltk"
      ],
      "execution_count": 18,
      "outputs": []
    },
    {
      "cell_type": "code",
      "metadata": {
        "colab": {
          "base_uri": "https://localhost:8080/"
        },
        "id": "dAFZGfsKPRGj",
        "outputId": "91cd887b-3e61-4133-83bc-bc5262070209"
      },
      "source": [
        "text['headline_text']=text.apply(lambda row:nltk.word_tokenize(row['headline_text']),axis=1)"
      ],
      "execution_count": 27,
      "outputs": [
        {
          "output_type": "stream",
          "text": [
            "/usr/local/lib/python3.7/dist-packages/ipykernel_launcher.py:1: SettingWithCopyWarning: \n",
            "A value is trying to be set on a copy of a slice from a DataFrame.\n",
            "Try using .loc[row_indexer,col_indexer] = value instead\n",
            "\n",
            "See the caveats in the documentation: https://pandas.pydata.org/pandas-docs/stable/user_guide/indexing.html#returning-a-view-versus-a-copy\n",
            "  \"\"\"Entry point for launching an IPython kernel.\n"
          ],
          "name": "stderr"
        }
      ]
    },
    {
      "cell_type": "code",
      "metadata": {
        "colab": {
          "base_uri": "https://localhost:8080/",
          "height": 204
        },
        "id": "A38nKlUkTwX8",
        "outputId": "806b937d-7afa-4290-d3ba-eee015dc8616"
      },
      "source": [
        "text=text[:1000]\n",
        "text.head()"
      ],
      "execution_count": 31,
      "outputs": [
        {
          "output_type": "execute_result",
          "data": {
            "text/html": [
              "<div>\n",
              "<style scoped>\n",
              "    .dataframe tbody tr th:only-of-type {\n",
              "        vertical-align: middle;\n",
              "    }\n",
              "\n",
              "    .dataframe tbody tr th {\n",
              "        vertical-align: top;\n",
              "    }\n",
              "\n",
              "    .dataframe thead th {\n",
              "        text-align: right;\n",
              "    }\n",
              "</style>\n",
              "<table border=\"1\" class=\"dataframe\">\n",
              "  <thead>\n",
              "    <tr style=\"text-align: right;\">\n",
              "      <th></th>\n",
              "      <th>headline_text</th>\n",
              "    </tr>\n",
              "  </thead>\n",
              "  <tbody>\n",
              "    <tr>\n",
              "      <th>0</th>\n",
              "      <td>[aba, decides, against, community, broadcastin...</td>\n",
              "    </tr>\n",
              "    <tr>\n",
              "      <th>1</th>\n",
              "      <td>[act, fire, witnesses, must, be, aware, of, de...</td>\n",
              "    </tr>\n",
              "    <tr>\n",
              "      <th>2</th>\n",
              "      <td>[a, g, calls, for, infrastructure, protection,...</td>\n",
              "    </tr>\n",
              "    <tr>\n",
              "      <th>3</th>\n",
              "      <td>[air, nz, staff, in, aust, strike, for, pay, r...</td>\n",
              "    </tr>\n",
              "    <tr>\n",
              "      <th>4</th>\n",
              "      <td>[air, nz, strike, to, affect, australian, trav...</td>\n",
              "    </tr>\n",
              "  </tbody>\n",
              "</table>\n",
              "</div>"
            ],
            "text/plain": [
              "                                       headline_text\n",
              "0  [aba, decides, against, community, broadcastin...\n",
              "1  [act, fire, witnesses, must, be, aware, of, de...\n",
              "2  [a, g, calls, for, infrastructure, protection,...\n",
              "3  [air, nz, staff, in, aust, strike, for, pay, r...\n",
              "4  [air, nz, strike, to, affect, australian, trav..."
            ]
          },
          "metadata": {
            "tags": []
          },
          "execution_count": 31
        }
      ]
    },
    {
      "cell_type": "code",
      "metadata": {
        "colab": {
          "base_uri": "https://localhost:8080/",
          "height": 326
        },
        "id": "6_ubpHY7WDbB",
        "outputId": "508be2dd-eff2-44d7-c2ba-030eed84ba28"
      },
      "source": [
        "from nltk.corpus import stopwords\n",
        "stop=stopwords.words('english')\n",
        "text['headline_text']=text.apply(lambda x:[word for word in x if word not in (stop)])\n",
        "text.head()"
      ],
      "execution_count": 32,
      "outputs": [
        {
          "output_type": "stream",
          "text": [
            "/usr/local/lib/python3.7/dist-packages/ipykernel_launcher.py:3: SettingWithCopyWarning: \n",
            "A value is trying to be set on a copy of a slice from a DataFrame.\n",
            "Try using .loc[row_indexer,col_indexer] = value instead\n",
            "\n",
            "See the caveats in the documentation: https://pandas.pydata.org/pandas-docs/stable/user_guide/indexing.html#returning-a-view-versus-a-copy\n",
            "  This is separate from the ipykernel package so we can avoid doing imports until\n"
          ],
          "name": "stderr"
        },
        {
          "output_type": "execute_result",
          "data": {
            "text/html": [
              "<div>\n",
              "<style scoped>\n",
              "    .dataframe tbody tr th:only-of-type {\n",
              "        vertical-align: middle;\n",
              "    }\n",
              "\n",
              "    .dataframe tbody tr th {\n",
              "        vertical-align: top;\n",
              "    }\n",
              "\n",
              "    .dataframe thead th {\n",
              "        text-align: right;\n",
              "    }\n",
              "</style>\n",
              "<table border=\"1\" class=\"dataframe\">\n",
              "  <thead>\n",
              "    <tr style=\"text-align: right;\">\n",
              "      <th></th>\n",
              "      <th>headline_text</th>\n",
              "    </tr>\n",
              "  </thead>\n",
              "  <tbody>\n",
              "    <tr>\n",
              "      <th>0</th>\n",
              "      <td>[aba, decides, against, community, broadcastin...</td>\n",
              "    </tr>\n",
              "    <tr>\n",
              "      <th>1</th>\n",
              "      <td>[act, fire, witnesses, must, be, aware, of, de...</td>\n",
              "    </tr>\n",
              "    <tr>\n",
              "      <th>2</th>\n",
              "      <td>[a, g, calls, for, infrastructure, protection,...</td>\n",
              "    </tr>\n",
              "    <tr>\n",
              "      <th>3</th>\n",
              "      <td>[air, nz, staff, in, aust, strike, for, pay, r...</td>\n",
              "    </tr>\n",
              "    <tr>\n",
              "      <th>4</th>\n",
              "      <td>[air, nz, strike, to, affect, australian, trav...</td>\n",
              "    </tr>\n",
              "  </tbody>\n",
              "</table>\n",
              "</div>"
            ],
            "text/plain": [
              "                                       headline_text\n",
              "0  [aba, decides, against, community, broadcastin...\n",
              "1  [act, fire, witnesses, must, be, aware, of, de...\n",
              "2  [a, g, calls, for, infrastructure, protection,...\n",
              "3  [air, nz, staff, in, aust, strike, for, pay, r...\n",
              "4  [air, nz, strike, to, affect, australian, trav..."
            ]
          },
          "metadata": {
            "tags": []
          },
          "execution_count": 32
        }
      ]
    },
    {
      "cell_type": "code",
      "metadata": {
        "id": "AiWWqSQJWt_u"
      },
      "source": [
        "from nltk.stem import WordNetLemmatizer"
      ],
      "execution_count": 33,
      "outputs": []
    },
    {
      "cell_type": "code",
      "metadata": {
        "colab": {
          "base_uri": "https://localhost:8080/",
          "height": 326
        },
        "id": "Vp2aD7vcXZvS",
        "outputId": "12328756-1a93-42e8-dcbd-0502a0e472e9"
      },
      "source": [
        "text['headline_text']=text['headline_text'].apply(lambda x:[WordNetLemmatizer().lemmatize(word, pos='v') for word in x])\n",
        "text.head()"
      ],
      "execution_count": 34,
      "outputs": [
        {
          "output_type": "stream",
          "text": [
            "/usr/local/lib/python3.7/dist-packages/ipykernel_launcher.py:1: SettingWithCopyWarning: \n",
            "A value is trying to be set on a copy of a slice from a DataFrame.\n",
            "Try using .loc[row_indexer,col_indexer] = value instead\n",
            "\n",
            "See the caveats in the documentation: https://pandas.pydata.org/pandas-docs/stable/user_guide/indexing.html#returning-a-view-versus-a-copy\n",
            "  \"\"\"Entry point for launching an IPython kernel.\n"
          ],
          "name": "stderr"
        },
        {
          "output_type": "execute_result",
          "data": {
            "text/html": [
              "<div>\n",
              "<style scoped>\n",
              "    .dataframe tbody tr th:only-of-type {\n",
              "        vertical-align: middle;\n",
              "    }\n",
              "\n",
              "    .dataframe tbody tr th {\n",
              "        vertical-align: top;\n",
              "    }\n",
              "\n",
              "    .dataframe thead th {\n",
              "        text-align: right;\n",
              "    }\n",
              "</style>\n",
              "<table border=\"1\" class=\"dataframe\">\n",
              "  <thead>\n",
              "    <tr style=\"text-align: right;\">\n",
              "      <th></th>\n",
              "      <th>headline_text</th>\n",
              "    </tr>\n",
              "  </thead>\n",
              "  <tbody>\n",
              "    <tr>\n",
              "      <th>0</th>\n",
              "      <td>[aba, decide, against, community, broadcast, l...</td>\n",
              "    </tr>\n",
              "    <tr>\n",
              "      <th>1</th>\n",
              "      <td>[act, fire, witness, must, be, aware, of, defa...</td>\n",
              "    </tr>\n",
              "    <tr>\n",
              "      <th>2</th>\n",
              "      <td>[a, g, call, for, infrastructure, protection, ...</td>\n",
              "    </tr>\n",
              "    <tr>\n",
              "      <th>3</th>\n",
              "      <td>[air, nz, staff, in, aust, strike, for, pay, r...</td>\n",
              "    </tr>\n",
              "    <tr>\n",
              "      <th>4</th>\n",
              "      <td>[air, nz, strike, to, affect, australian, trav...</td>\n",
              "    </tr>\n",
              "  </tbody>\n",
              "</table>\n",
              "</div>"
            ],
            "text/plain": [
              "                                       headline_text\n",
              "0  [aba, decide, against, community, broadcast, l...\n",
              "1  [act, fire, witness, must, be, aware, of, defa...\n",
              "2  [a, g, call, for, infrastructure, protection, ...\n",
              "3  [air, nz, staff, in, aust, strike, for, pay, r...\n",
              "4  [air, nz, strike, to, affect, australian, trav..."
            ]
          },
          "metadata": {
            "tags": []
          },
          "execution_count": 34
        }
      ]
    },
    {
      "cell_type": "code",
      "metadata": {
        "colab": {
          "base_uri": "https://localhost:8080/"
        },
        "id": "8E3ZQoiPX6Wj",
        "outputId": "e5a727dd-f498-4768-c3a7-d46ac592ccdb"
      },
      "source": [
        "morethan3=text['headline_text'].apply(lambda x:[word for word in x if len(word)>3])\n",
        "morethan3.head()"
      ],
      "execution_count": 36,
      "outputs": [
        {
          "output_type": "execute_result",
          "data": {
            "text/plain": [
              "0    [decide, against, community, broadcast, licence]\n",
              "1            [fire, witness, must, aware, defamation]\n",
              "2          [call, infrastructure, protection, summit]\n",
              "3                         [staff, aust, strike, rise]\n",
              "4            [strike, affect, australian, travellers]\n",
              "Name: headline_text, dtype: object"
            ]
          },
          "metadata": {
            "tags": []
          },
          "execution_count": 36
        }
      ]
    },
    {
      "cell_type": "code",
      "metadata": {
        "colab": {
          "base_uri": "https://localhost:8080/"
        },
        "id": "3KY_nth2ag7t",
        "outputId": "aa068c7b-003a-4019-d1e5-77539e91c41a"
      },
      "source": [
        "detoken=[]\n",
        "for i in range(len(text)):\n",
        "  t=' '.join(morethan3[i])\n",
        "  detoken.append(t)\n",
        "\n",
        "text['headline_text']=detoken\n",
        "\n",
        "text['headline_text'].head()"
      ],
      "execution_count": 37,
      "outputs": [
        {
          "output_type": "stream",
          "text": [
            "/usr/local/lib/python3.7/dist-packages/ipykernel_launcher.py:6: SettingWithCopyWarning: \n",
            "A value is trying to be set on a copy of a slice from a DataFrame.\n",
            "Try using .loc[row_indexer,col_indexer] = value instead\n",
            "\n",
            "See the caveats in the documentation: https://pandas.pydata.org/pandas-docs/stable/user_guide/indexing.html#returning-a-view-versus-a-copy\n",
            "  \n"
          ],
          "name": "stderr"
        },
        {
          "output_type": "execute_result",
          "data": {
            "text/plain": [
              "0    decide against community broadcast licence\n",
              "1            fire witness must aware defamation\n",
              "2         call infrastructure protection summit\n",
              "3                        staff aust strike rise\n",
              "4           strike affect australian travellers\n",
              "Name: headline_text, dtype: object"
            ]
          },
          "metadata": {
            "tags": []
          },
          "execution_count": 37
        }
      ]
    },
    {
      "cell_type": "code",
      "metadata": {
        "colab": {
          "base_uri": "https://localhost:8080/"
        },
        "id": "LQLUZDVLfZX9",
        "outputId": "8e553597-57a3-45b3-c2c4-6eb4f7bf3cd6"
      },
      "source": [
        "from sklearn.feature_extraction.text import TfidfVectorizer\n",
        "tv=TfidfVectorizer(stop_words='english', max_features=100)\n",
        "X=tv.fit_transform(text['headline_text'])\n",
        "X.shape"
      ],
      "execution_count": 39,
      "outputs": [
        {
          "output_type": "execute_result",
          "data": {
            "text/plain": [
              "(1000, 100)"
            ]
          },
          "metadata": {
            "tags": []
          },
          "execution_count": 39
        }
      ]
    },
    {
      "cell_type": "code",
      "metadata": {
        "colab": {
          "base_uri": "https://localhost:8080/"
        },
        "id": "5SSMKeLPgPGo",
        "outputId": "80c532cd-cd1d-44cf-c04a-01ca9be31904"
      },
      "source": [
        "from sklearn.decomposition import LatentDirichletAllocation\n",
        "lda_model=LatentDirichletAllocation(n_components=10, learning_method='online', random_state=77,max_iter=1)\n",
        "X_model=lda_model.fit_transform(X)\n",
        "print(lda_model.components_)\n",
        "print(lda_model.components_.shape)"
      ],
      "execution_count": 42,
      "outputs": [
        {
          "output_type": "stream",
          "text": [
            "[[ 0.3358331   5.56782497  0.34221003  0.28275237  5.48240831  0.3119301\n",
            "   0.35470864  0.33817633  0.3269963   0.64531787  0.32726252  0.38266315\n",
            "   0.3339254   0.37787722  5.86197994  0.3166976   0.30001315  0.29192143\n",
            "   0.30729948  0.86554199  0.37724812  0.32544583  0.32788734  0.41306404\n",
            "   1.17124429  0.33186005  0.30963476  0.35352857  0.3411747   0.35191888\n",
            "   0.35887841  0.32973723  0.30547822  0.38109213  4.65113158  5.21188014\n",
            "   0.35056566  0.38182056  0.32118926  0.36187565  0.33497484  0.3276451\n",
            "   0.43254153  0.3781348   0.355314    0.46670688  0.31272088  0.30679167\n",
            "   0.59645106  0.32662297  0.32467345  2.11803598  0.61077155  0.31695809\n",
            "   7.38241514  0.35053162  0.32671108  0.32794021  0.31685418  0.33745974\n",
            "   0.31690301  0.3634485   0.28359515  0.32965119  0.32929919  0.35210313\n",
            "   0.34845615  0.42237662  0.63727769  0.30215572  2.54588593  0.29180226\n",
            "   2.02653441  0.28096116  0.35539201  0.67040165  7.47929839  0.64788199\n",
            "   0.29274375  1.06165963  0.30099996  0.98808562  0.55185119  0.40093483\n",
            "   0.33422713  0.33776111  1.00678438  0.38007091  0.32645047  0.33594019\n",
            "   0.33297674  0.53842532  0.31306573  0.34655125  0.34612588  0.37496595\n",
            "   0.35183385  0.33189506  0.32977628  0.31978438]\n",
            " [ 0.31670022  0.34069306  0.31578189  1.82308262  0.36951834  0.60845106\n",
            "   0.32111172  0.32217183  0.31914648  0.3484784   0.32030057  0.29243189\n",
            "   0.30375121  0.29414429  0.3205676   0.34763295  0.3347158   0.41102303\n",
            "   5.59912919  0.32937991  0.58161162  1.11105031  0.31118966  0.3592106\n",
            "   0.3817893   0.33587317  0.34021862  0.31733611  0.30112768  0.31768419\n",
            "   0.3196321   0.36695047  0.3745782   2.39399483  0.34647893  0.28727157\n",
            "   0.29373849  4.33473902  0.3073109   0.31607959  0.29846235  0.377436\n",
            "   0.68854964  0.31050056  4.74818914  0.32703814  0.32468354  0.41553441\n",
            "   0.62083374  0.36215391  6.48386048  5.65046927  0.31488814  0.30664719\n",
            "   0.31694527  0.31900832  0.43786406  0.31618553  4.16216937  0.40792942\n",
            "   0.43950389  0.32833334  0.34161435  6.14350923  0.31057544  0.31577135\n",
            "   0.33749508  5.17900804 12.90552929  0.3012856   0.37200562  0.37617218\n",
            "   1.31978207  0.36582104  0.37317955  6.89018552  0.3062929   0.30413134\n",
            "   0.77458261  0.59118574  0.36899776  0.29257358  0.45079226  0.3180037\n",
            "   0.28335101  4.00133918  0.34105297  0.40520615  0.37071861  0.34564702\n",
            "   0.33439303  0.30308322  0.33607104  0.3297762   0.3393127   0.29872207\n",
            "   0.336075    0.355724    0.30401554  0.32882889]\n",
            " [ 0.33265252  0.34901866  0.37761509  0.32171693  0.33945476  0.34865103\n",
            "   4.6028654   0.75192829  0.34604665  0.30396511  5.13712784  0.3359728\n",
            "   0.33427701 12.03297692  1.11168322  0.32643087  0.3732479   0.31561222\n",
            "   0.69158686  0.34865634  0.30827796  1.05701477  0.34637674  0.35897148\n",
            "   0.65353937  0.39388732  6.10695985  2.73811672  0.3035424   0.30807826\n",
            "   0.310101    0.32252376  0.32610204  0.3285929   0.31020887  0.35805649\n",
            "   0.33938152  0.30276944  0.42646244  0.33492321  0.32993734  2.95971538\n",
            "   5.22264471  0.32410046  0.34301594  5.84542478  0.29528306  0.30308139\n",
            "   1.41161315  7.27352637  0.31939901  0.3112256   0.27791436  0.37385247\n",
            "   0.33724557  4.59962475  0.29311861  0.27218426  0.32964605  0.36774128\n",
            "   0.3383872   0.35746294  0.35976213  0.28489353  0.34799851  0.40277339\n",
            "   0.28609013  0.30554696  0.63518145  2.9985318   0.34234489  0.37117983\n",
            "   1.13985652  7.2556482   0.99922595  0.66290904  0.30366578  0.34295597\n",
            "   0.34136374  0.50815625  0.34476378  0.33909265  0.34329568  0.35108413\n",
            "   0.29543683  0.33859125  0.29918235  7.39050537  3.27442254  0.29743396\n",
            "   0.3656497   0.30435392  0.31885863  0.32561805  0.35370635  0.32231793\n",
            "   0.33008866  0.33735483  0.35182638  0.34603832]\n",
            " [ 4.83113955  0.32952543  0.31633988  0.35083294  0.40116509  0.31387824\n",
            "   0.29282302  0.34556933  0.32304112  0.34561322  0.31383054  0.32986419\n",
            "   2.56763813  0.39199281  0.31362474  0.357905    0.31992507  0.32936269\n",
            "   0.7609828   0.35462668  0.28954393  1.64874332 11.27050161  0.30484132\n",
            "   0.32620171  0.32225983  0.36424987  0.64485897  7.00632339  0.31264175\n",
            "   0.37142366  7.35621473  0.36033296  0.37928363  0.40397267  0.30935078\n",
            "   0.36666401  0.32834476  0.3552239   0.3468846   0.36455224  0.30369037\n",
            "   0.31762551  0.32347038  0.26743678  0.31926509  0.34893553  0.31265795\n",
            "   0.31172613  0.35306996  0.35265997  0.40078877  0.31499542  3.57623917\n",
            "   0.77739392  0.3256346   0.3118291   0.28339364  0.34817711  0.3500155\n",
            "   0.33346875  8.1402928   0.31823246  0.38596173  0.33264747  0.37158036\n",
            "   0.31208776  0.29827376  0.30988306  6.19150709  0.27175271  0.37740608\n",
            "   0.32776198  0.3398777   0.31683299  0.44633663  1.23603443  0.30833657\n",
            "   0.27334384  2.47458591  0.48415543  0.3220029   0.4499053   3.08363838\n",
            "   0.2993838   0.32203446  0.46843546  0.33672826  0.31565732  1.78259415\n",
            "   0.3376019   0.30004761  0.29858214  0.30715559  0.32233223  0.33912872\n",
            "   0.37658702  0.35590414  5.74381131  0.30216644]\n",
            " [ 0.33822167  0.61469246  0.33040646  0.30235784  0.3214532   0.38991641\n",
            "   0.98961506  0.33364701  0.31184871  0.36747122  0.33755646  0.35512283\n",
            "   0.33462973  0.32245569  0.36258766  0.29360492  1.26798726  5.43045492\n",
            "   0.29559274  0.33528955  0.28463394  0.32669471  0.31301766  5.93590056\n",
            "   6.07947466  0.33952066  0.3867339   0.84470552  0.33940937  0.38385588\n",
            "   6.16850652  0.36782813  0.31512432  0.47932883  0.34028297  0.31181002\n",
            "   1.55253604  0.76656039  0.37923392  0.41385752  0.33736123  0.37551803\n",
            "   0.68921163  4.11097347  0.306771    0.3245869   4.18227606  0.3526609\n",
            "  12.43986566  0.35603858  0.36624058  1.98902628  0.33121309  0.34024512\n",
            "   0.32125972  0.32791758  0.31788911  0.34734439  0.31207891  0.35237407\n",
            "   0.32824279  0.31223108  5.79298403  0.37351622  0.30985879  0.28256669\n",
            "   1.32740128  0.32409659  0.34275019  0.31207452  1.99974078  2.43162945\n",
            "   0.34521839  0.30845002  0.30232951  2.14831156  0.34661978  0.3338369\n",
            "   0.42738461  2.12011893  0.31815018  0.30291849  4.99425862  0.32286183\n",
            "   0.41936521  0.27911138  0.3361888   0.30730157  0.34115618  0.32317192\n",
            "   0.33947928  0.31674937  0.35105094  6.94565951  0.31592798  8.92460262\n",
            "   0.32377467  0.38727961  0.33176137  0.35221294]\n",
            " [ 0.33327648  0.31275659  0.31846771  3.50677189  0.35415203  0.32492987\n",
            "   0.38268546  0.34952681  0.64823823  0.33757174  0.30090597  3.14859229\n",
            "   6.98087052  0.35100454  0.32160763  6.1136991   0.33979464  0.29617123\n",
            "   0.32274862  7.26575695  0.33384432  0.34968392  0.39319831  0.31599269\n",
            "   0.34461755  0.32436019  0.67600543  1.31860899  0.32843429  0.33420648\n",
            "   0.32058205  0.35161483  0.331441    0.34489677  0.30481147  0.62041985\n",
            "   0.32860011  0.36422249  0.36518512  3.66952922  0.37219392  0.31130168\n",
            "   0.28624223  0.35412755  0.31990769  0.35501587  0.3166426   0.38696934\n",
            "   0.34667502  0.32090697  0.34390829  1.14372939  0.29755375  0.30660979\n",
            "   0.32865071  0.33894829  0.35786754  0.30310996  0.35293731  0.63798879\n",
            "   5.68595347  0.6746267   0.31123654  0.61497851  0.33980208  0.37912082\n",
            "   0.34887098  0.32015064  0.36772666  0.3374527   0.33493133  0.32568776\n",
            "   0.2990073   0.3125016   0.295692    0.3602797   1.10992817  0.34887279\n",
            "   0.33013309  0.29401279  4.55134629  0.30568341  0.38163926  0.34651085\n",
            "   0.29990351  0.32166017  0.78486677  0.32306945  1.0922078   3.16842095\n",
            "   0.36431002  5.90939397  0.35212504  0.34984559  7.55009166  0.3635956\n",
            "   0.32142235  0.73529701  0.34980884  0.38350799]\n",
            " [ 0.31628146  0.35090869  6.27840951  0.35481251  0.34399843  0.31348244\n",
            "   0.3514415   0.39891797  0.32309236  4.18644371  0.31158943  0.34087346\n",
            "   0.33547029  0.32107906  0.28371585  0.34956687  0.33644356  0.37265926\n",
            "   0.35521141  0.32914295  0.33209568  0.3219296   0.88095229  0.34055894\n",
            "   0.32221181  0.38646591  0.36225979  0.57227128  0.33681501  0.2855519\n",
            "   0.28914058  0.29754126  0.33335296  0.33250731  0.33904098  1.5618443\n",
            "   0.94501286  0.3608237   0.35396572  0.32495988  1.23802325  1.07305306\n",
            "   0.34812026  0.34652818  0.35672644  0.400807    0.36115131  0.31503071\n",
            "   0.35315157  0.34847106  0.34890615  0.34134621  0.32799846  1.51717574\n",
            "   0.32951412  0.31410454  5.48246815  0.34036997  0.31469335  0.34475207\n",
            "   0.37022606  0.3733341   0.40289544  0.34531147  0.30066126  0.34599505\n",
            "   0.43364115  0.29443034  0.77961676  0.32499871  0.29791986  0.34139506\n",
            "   0.65691643  0.31378109  0.3491353   0.3085357   0.3277622   4.30180217\n",
            "   6.67868237  0.30686636  0.29893392  5.10313363  0.37055942  0.30901261\n",
            "   0.33025411  0.31770164  0.31856068  0.29914983  0.34669103  0.28727765\n",
            "   5.01330254  0.3466973   0.32747828  0.29942933  0.56618186  0.3490026\n",
            "   0.31937148  4.71392879  1.02868101  5.44473534]\n",
            " [ 0.27145782  0.32172583  0.34621985  0.36441667  0.28091466  0.36003851\n",
            "   0.34230202  0.32123017  6.42391955  0.34996044  0.33286351  0.30706265\n",
            "   0.34280905  0.26576869  0.3405059   0.32497911  0.31101343  0.4148693\n",
            "   0.38411979  0.64460803  0.29406921  0.33125938  0.35994955  0.28469877\n",
            "   1.14963503  0.35409129  0.32646421  0.37106123  1.15852649  0.35393644\n",
            "   0.3266357   0.36060861  0.34188399  0.36318026  0.8544275   0.81408784\n",
            "   0.33679109  0.31045071  3.98150075  0.33937813  0.96142786  0.33420501\n",
            "   0.33857565  0.31308706  0.34446671  0.3148487   0.31735094  0.3750758\n",
            "   0.33012875  0.3816212   0.30870886  0.2850507   3.61528481  0.34187173\n",
            "   0.33358898  0.35833407  1.16887093  0.34895534  1.84325568  3.1610933\n",
            "   0.58596557  0.31116168  0.35259843  0.44113736  4.6336449   0.31830383\n",
            "   0.34319261  0.31903312  0.35921412  0.31720449  0.33568302  0.65264637\n",
            "   0.34881243  0.31935451  4.16887327  1.14631855  0.3260307   0.33364461\n",
            "   0.31446082  0.30705485  0.33383255  0.33502736  0.33854989  1.43787285\n",
            "   4.93758469  0.31946069  1.50417357  0.31449696  0.31994366  0.31380704\n",
            "   0.34641115  0.37558891  0.65523338  0.29752231  0.3075643   0.31371802\n",
            "   0.32207485  0.30091863  0.35100908  0.34188251]\n",
            " [ 0.34442448  0.33284277  0.35420647  0.92055715  0.32369195  4.53130432\n",
            "   0.34308682  2.33503355  0.34832518  0.31303684  0.31952126  0.35152059\n",
            "   0.68707808  0.31758233  0.31625391  0.30778015  0.34029256  0.34974355\n",
            "   0.34294203  0.34213121  4.43954043  9.84304328  0.30219941  0.33690891\n",
            "   0.33869776  3.6835102   0.96566162  0.30655474  0.35022525  0.34443568\n",
            "   0.30426949  0.29935205  0.33463418  0.34986495  0.39067632  0.36518956\n",
            "   7.73661325  0.33573254  0.58727517  0.31368139  0.38761547  0.30806584\n",
            "   0.31180973  0.31107526  0.34592652  0.34575452  0.31986319  0.30178758\n",
            "   0.99061812  0.34660465  0.30401037  0.28519853  0.30668911  0.3303814\n",
            "   0.29522394  0.31718306  0.30560109  0.27927658  0.30595314  0.37708462\n",
            "   0.34057184  0.33950996  0.27137839  0.32865418  0.56643908  0.34135185\n",
            "   2.65546802  0.32272778  0.302335    0.33194404  0.43955511  0.86256932\n",
            "   0.39199639  0.32970855  0.28920892  0.29680303  0.31884827  0.35047902\n",
            "   0.35931776  0.32645077  0.32575187  0.30116254  0.32641101  0.34712126\n",
            "   0.36731655  0.32919605  0.3393271   0.33723052  0.32450807  0.26802269\n",
            "   0.31610163  0.31873681  0.66452259  0.36142158  0.56981668  0.34390938\n",
            "   0.68327056  0.34882493  0.27788727  0.31920275]\n",
            " [ 0.35196459  0.33706483  0.35204242  0.32159256  0.33651999  0.32780309\n",
            "   0.43956502  1.51360149  0.99742228  0.29072949  0.33250114  1.80191916\n",
            "   0.31111989  0.2891739   0.32106695  0.32895778  4.74819882  0.33835383\n",
            "   0.40605576  0.34534274  0.35429605  1.13157245  0.36639164  0.34702286\n",
            "   1.30881139  0.63157933  0.3482667   0.31619641  0.38523373  5.39096808\n",
            "   0.30397816  0.3037155   3.9332654   3.15476101  0.32168769  1.02280146\n",
            "   0.31316386  0.33846188  0.36047694  0.33159456  1.77049875  0.30614069\n",
            "   0.30229012  0.30243097  0.36461036  0.33793925  0.31799548  4.73768074\n",
            "   0.80001647  0.34745006  0.32506602  0.3026953   0.30263076  0.32772645\n",
            "   0.32163649  0.31275268  0.3637727   5.58631589  0.59027142  0.31242339\n",
            "   0.31806481  0.37525251  0.40990924  0.38699874  0.2881912  16.21355694\n",
            "   0.36624358  0.38895975  0.36949428  0.32283009  0.29659309  0.67397592\n",
            "   1.27663324  0.34008725  0.33471158  3.09099196  0.37742395  0.31716155\n",
            "   0.32885587  0.33077353  0.29674635  0.34630249  0.35236268  0.3172861\n",
            "   0.33757537  0.33420929  0.31953226  0.31791832  0.33351401  0.35315782\n",
            "   0.31224159  0.35186223  5.52041969  0.34164136  0.3301022   2.10463378\n",
            "   4.24379588  0.31422134  0.43917225  0.32427649]]\n",
            "(10, 100)\n"
          ],
          "name": "stdout"
        }
      ]
    },
    {
      "cell_type": "code",
      "metadata": {
        "colab": {
          "base_uri": "https://localhost:8080/"
        },
        "id": "2GxipKh-hQQs",
        "outputId": "06d802f6-4e0c-4587-8006-07aabe7330e1"
      },
      "source": [
        "terms=tv.get_feature_names()\n",
        "\n",
        "def get_topics(components, feature_names,n=5):\n",
        "  for idx,topic in enumerate(components):\n",
        "    print('topic %d:'%(idx+1), [(feature_names[i], topic[i].round(2)) for i in topic.argsort()[:-n-1:-1]])\n",
        "get_topics(lda_model.components_,terms)"
      ],
      "execution_count": 46,
      "outputs": [
        {
          "output_type": "stream",
          "text": [
            "topic 1: [('record', 7.48), ('lead', 7.38), ('club', 5.86), ('action', 5.57), ('attack', 5.48)]\n",
            "topic 2: [('police', 12.91), ('rain', 6.89), ('jail', 6.48), ('offer', 6.14), ('kill', 5.65)]\n",
            "topic 3: [('claim', 12.03), ('talk', 7.39), ('iraqi', 7.27), ('race', 7.26), ('defend', 6.11)]\n",
            "topic 4: [('court', 11.27), ('murder', 8.14), ('face', 7.36), ('drought', 7.01), ('price', 6.19)]\n",
            "topic 5: [('iraq', 12.44), ('water', 8.92), ('warn', 6.95), ('expect', 6.17), ('death', 6.08)]\n",
            "topic 6: [('warne', 7.55), ('continue', 7.27), ('charge', 6.98), ('coast', 6.11), ('turkey', 5.91)]\n",
            "topic 7: [('report', 6.68), ('anti', 6.28), ('make', 5.48), ('zimbabwe', 5.44), ('seek', 5.1)]\n",
            "topic 8: [('break', 6.42), ('stay', 4.94), ('patterson', 4.63), ('raid', 4.17), ('health', 3.98)]\n",
            "topic 9: [('council', 9.84), ('govt', 7.74), ('aust', 4.53), ('cost', 4.44), ('decision', 3.68)]\n",
            "topic 10: [('plan', 16.21), ('match', 5.59), ('urge', 5.52), ('england', 5.39), ('community', 4.75)]\n"
          ],
          "name": "stdout"
        }
      ]
    },
    {
      "cell_type": "code",
      "metadata": {
        "id": "sIF9vJgukD32"
      },
      "source": [
        ""
      ],
      "execution_count": null,
      "outputs": []
    }
  ]
}